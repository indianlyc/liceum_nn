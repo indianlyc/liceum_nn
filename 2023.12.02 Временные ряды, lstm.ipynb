{
 "cells": [
  {
   "cell_type": "markdown",
   "id": "649f6ea2",
   "metadata": {},
   "source": [
    "https://www.dmitrymakarov.ru/intro/time-series-20/    \n",
    "\n",
    "https://habr.com/ru/companies/wunderfund/articles/331310/  \n",
    "https://sysblok.ru/knowhow/mama-myla-lstm-kak-ustroeny-rekurrentnye-nejroseti-s-dolgoj-kratkosrochnoj-pamjatju/  \n",
    "https://www.kaggle.com/code/drvaibhavkumar/lstm-for-time-series-prediction-in-pytorch  "
   ]
  },
  {
   "cell_type": "code",
   "execution_count": null,
   "id": "1086c4a0",
   "metadata": {},
   "outputs": [],
   "source": []
  }
 ],
 "metadata": {
  "kernelspec": {
   "display_name": "Python 3",
   "language": "python",
   "name": "python3"
  },
  "language_info": {
   "codemirror_mode": {
    "name": "ipython",
    "version": 3
   },
   "file_extension": ".py",
   "mimetype": "text/x-python",
   "name": "python",
   "nbconvert_exporter": "python",
   "pygments_lexer": "ipython3",
   "version": "3.10.12"
  }
 },
 "nbformat": 4,
 "nbformat_minor": 5
}
