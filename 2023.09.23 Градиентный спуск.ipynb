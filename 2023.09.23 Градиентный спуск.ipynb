{
 "cells": [
  {
   "cell_type": "markdown",
   "id": "063f6d94",
   "metadata": {},
   "source": [
    "![Полносвязные слои!](2023.09.23/1.png \"Полносвязные слои\")"
   ]
  },
  {
   "cell_type": "markdown",
   "id": "383464cc",
   "metadata": {},
   "source": [
    "![Полносвязные слои!](2023.09.23/2.jpg \"Полносвязные слои\")"
   ]
  },
  {
   "cell_type": "markdown",
   "id": "8caa1122",
   "metadata": {},
   "source": [
    "![Полносвязные слои!](2023.09.23/3.png \"Полносвязные слои\")"
   ]
  },
  {
   "cell_type": "markdown",
   "id": "da5c680c",
   "metadata": {},
   "source": [
    "![Полносвязные слои!](2023.09.23/4.png \"Полносвязные слои\")"
   ]
  },
  {
   "cell_type": "markdown",
   "id": "bb0c9e39",
   "metadata": {},
   "source": [
    "![Полносвязные слои!](2023.09.23/5.png \"Полносвязные слои\")"
   ]
  },
  {
   "cell_type": "markdown",
   "id": "44e40487",
   "metadata": {},
   "source": [
    "![Полносвязные слои!](2023.09.23/6.png \"Полносвязные слои\")"
   ]
  },
  {
   "cell_type": "markdown",
   "id": "65885dfd",
   "metadata": {},
   "source": [
    "![Полносвязные слои!](2023.09.23/7.png \"Полносвязные слои\")"
   ]
  },
  {
   "cell_type": "markdown",
   "id": "8890fa04",
   "metadata": {},
   "source": [
    "![Полносвязные слои!](2023.09.23/8.png \"Полносвязные слои\")"
   ]
  },
  {
   "cell_type": "markdown",
   "id": "39284fcc",
   "metadata": {},
   "source": [
    "![Полносвязные слои!](2023.09.23/9.png \"Полносвязные слои\")"
   ]
  },
  {
   "cell_type": "markdown",
   "id": "4781df74",
   "metadata": {},
   "source": [
    "![Полносвязные слои!](2023.09.23/10.png \"Полносвязные слои\")"
   ]
  },
  {
   "cell_type": "markdown",
   "id": "8e6c0c35",
   "metadata": {},
   "source": [
    "![Полносвязные слои!](2023.09.23/11.png \"Полносвязные слои\")"
   ]
  },
  {
   "cell_type": "code",
   "execution_count": null,
   "id": "c14b11cc",
   "metadata": {},
   "outputs": [],
   "source": []
  },
  {
   "cell_type": "code",
   "execution_count": null,
   "id": "dcc25cb2",
   "metadata": {},
   "outputs": [],
   "source": []
  }
 ],
 "metadata": {
  "kernelspec": {
   "display_name": "Python 3",
   "language": "python",
   "name": "python3"
  },
  "language_info": {
   "codemirror_mode": {
    "name": "ipython",
    "version": 3
   },
   "file_extension": ".py",
   "mimetype": "text/x-python",
   "name": "python",
   "nbconvert_exporter": "python",
   "pygments_lexer": "ipython3",
   "version": "3.10.12"
  }
 },
 "nbformat": 4,
 "nbformat_minor": 5
}
