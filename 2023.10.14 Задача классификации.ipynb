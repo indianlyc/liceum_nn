{
 "cells": [
  {
   "cell_type": "code",
   "execution_count": 2,
   "id": "29798ba0",
   "metadata": {},
   "outputs": [],
   "source": [
    "import numpy as np\n",
    "import pandas as pd\n",
    "import random\n"
   ]
  },
  {
   "cell_type": "markdown",
   "id": "25e98448",
   "metadata": {},
   "source": [
    "# Задача регрессии"
   ]
  },
  {
   "cell_type": "code",
   "execution_count": 3,
   "id": "5d8140af",
   "metadata": {},
   "outputs": [],
   "source": [
    "def f(x):\n",
    "    return x * x"
   ]
  },
  {
   "cell_type": "code",
   "execution_count": 4,
   "id": "6d68470c",
   "metadata": {},
   "outputs": [
    {
     "data": {
      "text/html": [
       "<div>\n",
       "<style scoped>\n",
       "    .dataframe tbody tr th:only-of-type {\n",
       "        vertical-align: middle;\n",
       "    }\n",
       "\n",
       "    .dataframe tbody tr th {\n",
       "        vertical-align: top;\n",
       "    }\n",
       "\n",
       "    .dataframe thead th {\n",
       "        text-align: right;\n",
       "    }\n",
       "</style>\n",
       "<table border=\"1\" class=\"dataframe\">\n",
       "  <thead>\n",
       "    <tr style=\"text-align: right;\">\n",
       "      <th></th>\n",
       "      <th>x</th>\n",
       "      <th>y</th>\n",
       "    </tr>\n",
       "  </thead>\n",
       "  <tbody>\n",
       "    <tr>\n",
       "      <th>0</th>\n",
       "      <td>0</td>\n",
       "      <td>0</td>\n",
       "    </tr>\n",
       "    <tr>\n",
       "      <th>1</th>\n",
       "      <td>1</td>\n",
       "      <td>1</td>\n",
       "    </tr>\n",
       "    <tr>\n",
       "      <th>2</th>\n",
       "      <td>4</td>\n",
       "      <td>2</td>\n",
       "    </tr>\n",
       "    <tr>\n",
       "      <th>3</th>\n",
       "      <td>9</td>\n",
       "      <td>3</td>\n",
       "    </tr>\n",
       "    <tr>\n",
       "      <th>4</th>\n",
       "      <td>16</td>\n",
       "      <td>4</td>\n",
       "    </tr>\n",
       "    <tr>\n",
       "      <th>5</th>\n",
       "      <td>25</td>\n",
       "      <td>5</td>\n",
       "    </tr>\n",
       "    <tr>\n",
       "      <th>6</th>\n",
       "      <td>36</td>\n",
       "      <td>6</td>\n",
       "    </tr>\n",
       "    <tr>\n",
       "      <th>7</th>\n",
       "      <td>49</td>\n",
       "      <td>7</td>\n",
       "    </tr>\n",
       "    <tr>\n",
       "      <th>8</th>\n",
       "      <td>64</td>\n",
       "      <td>8</td>\n",
       "    </tr>\n",
       "    <tr>\n",
       "      <th>9</th>\n",
       "      <td>81</td>\n",
       "      <td>9</td>\n",
       "    </tr>\n",
       "  </tbody>\n",
       "</table>\n",
       "</div>"
      ],
      "text/plain": [
       "    x  y\n",
       "0   0  0\n",
       "1   1  1\n",
       "2   4  2\n",
       "3   9  3\n",
       "4  16  4\n",
       "5  25  5\n",
       "6  36  6\n",
       "7  49  7\n",
       "8  64  8\n",
       "9  81  9"
      ]
     },
     "execution_count": 4,
     "metadata": {},
     "output_type": "execute_result"
    }
   ],
   "source": [
    "n = 10\n",
    "data = pd.DataFrame({\n",
    "    \"y\": np.array(range(n)),\n",
    "    \"x\": f(np.array(range(n))),\n",
    "    # \"x2\": f(np.array(range(n)))/2,\n",
    "    # \"b\": 1,\n",
    "})[[\"x\", \"y\"]]\n",
    "data"
   ]
  },
  {
   "cell_type": "code",
   "execution_count": 5,
   "id": "7b5d0deb",
   "metadata": {},
   "outputs": [
    {
     "name": "stdout",
     "output_type": "stream",
     "text": [
      "(array([[0]]), array([0]))\n",
      "(array([[1]]), array([1]))\n",
      "(array([[4]]), array([2]))\n",
      "(array([[9]]), array([3]))\n",
      "(array([[16]]), array([4]))\n",
      "(array([[25]]), array([5]))\n",
      "(array([[36]]), array([6]))\n",
      "(array([[49]]), array([7]))\n",
      "(array([[64]]), array([8]))\n",
      "(array([[81]]), array([9]))\n"
     ]
    }
   ],
   "source": [
    "for el in data.values:\n",
    "    print((el[:-1][None, ...], el[-1][None, ...]))"
   ]
  },
  {
   "cell_type": "code",
   "execution_count": 6,
   "id": "912cf176",
   "metadata": {},
   "outputs": [],
   "source": [
    "dataset = [(el[:-1][None, ...], el[-1][None, ...]) for el in data.values]\n",
    "# dataset = [(el[:-1], el[-1]) for el in data.values]"
   ]
  },
  {
   "cell_type": "code",
   "execution_count": 31,
   "id": "45f3f933",
   "metadata": {},
   "outputs": [
    {
     "data": {
      "text/plain": [
       "array([81])"
      ]
     },
     "execution_count": 31,
     "metadata": {},
     "output_type": "execute_result"
    }
   ],
   "source": [
    "dataset[0][0].flatten()"
   ]
  },
  {
   "cell_type": "code",
   "execution_count": 54,
   "id": "acaa0248",
   "metadata": {},
   "outputs": [
    {
     "name": "stdout",
     "output_type": "stream",
     "text": [
      "x: [[ 4]\n",
      " [49]]\n",
      "y: [[2]\n",
      " [7]]\n",
      "W1: [[0.33478047 0.50304111 0.79364081]]\n",
      "b1: [[-0.86557642 -0.11923166  0.97370094]]\n",
      "W2: [[-0.57344446  0.0544759 ]\n",
      " [ 0.08214788  0.44530717]\n",
      " [ 0.05134     0.52146506]]\n",
      "b2: [[-0.5262053   0.54038257]]\n",
      "W3: [[-0.10105692]\n",
      " [ 0.33460771]]\n",
      "b3: [[0.06889343]]\n",
      "t1: [[ 0.47354547  1.89293279  4.14826419]\n",
      " [15.53866667 24.52978289 39.86210072]]\n",
      "h1: [[0.23244515 0.73817913 0.9689074 ]\n",
      " [0.99999964 1.         1.        ]]\n",
      "t2: [[-0.54911613  1.38701304]\n",
      " [-0.96616168  1.56163068]]\n",
      "h2: [[-0.26786101  0.60022993]\n",
      " [-0.44870756  0.65317444]]\n",
      "t3: [[0.2968042 ]\n",
      " [0.33279564]]\n",
      "z: [[0.2968042 ]\n",
      " [0.33279564]]\n",
      "E: 47.35248990418257\n",
      "dE_dt3: [[-1.7031958 ]\n",
      " [-6.66720436]]\n",
      "dE_dW3: [[ 3.44784471]\n",
      " [-5.37715656]]\n",
      "dE_db3: [[-8.37040016]]\n",
      "dE_dh2: [[ 0.17211972 -0.56990245]\n",
      " [ 0.67376714 -2.23089799]]\n",
      "dE_dt2: [[-0.05845367 -0.13675035]\n",
      " [-0.43797965 -0.50538226]]\n",
      "dE_dW2: [[-0.45156676 -0.53716903]\n",
      " [-0.48112893 -0.60632851]\n",
      " [-0.49461584 -0.63788068]]\n",
      "dE_db2: [[-0.49643332 -0.64213261]]\n",
      "dE_dh1: [[ 0.02607033 -0.06569776 -0.07431154]\n",
      " [ 0.22362585 -0.26102944 -0.28602506]]\n",
      "dE_dt1: [[ 4.65132298e-03 -1.26974515e-02 -2.23869837e-03]\n",
      " [ 7.98352276e-08 -1.16030482e-11 -0.00000000e+00]]\n",
      "dE_dW1: [[ 0.0186092  -0.05078981 -0.00895479]]\n",
      "dE_db1: [[ 0.0046514  -0.01269745 -0.0022387 ]]\n",
      "x: [[36]\n",
      " [25]]\n",
      "y: [[6]\n",
      " [5]]\n",
      "W1: [[0.33477675 0.50305127 0.7936426 ]]\n",
      "b1: [[-0.86557735 -0.11922912  0.97370139]]\n",
      "W2: [[-0.57335414  0.05458334]\n",
      " [ 0.0822441   0.44542844]\n",
      " [ 0.05143893  0.52159263]]\n",
      "b2: [[-0.52610602  0.54051099]]\n",
      "W3: [[-0.10174649]\n",
      " [ 0.33568314]]\n",
      "b3: [[0.07056751]]\n",
      "t1: [[11.18638563 17.99061664 29.54483509]\n",
      " [ 7.50384139 12.45705266 20.81476646]]\n",
      "h1: [[0.99997228 0.99999997 1.        ]\n",
      " [0.99889868 0.99999222 1.        ]]\n",
      "t2: [[-0.96576124  1.56211387]\n",
      " [-0.96514633  1.56205182]]\n",
      "h2: [[-0.44854763  0.65331294]\n",
      " [-0.448302    0.65329516]]\n",
      "t3: [[0.3355118 ]\n",
      " [0.33548084]]\n",
      "z: [[0.3355118 ]\n",
      " [0.33548084]]\n",
      "E: 53.84416557878607\n",
      "dE_dt3: [[-5.6644882 ]\n",
      " [-4.66451916]]\n",
      "dE_dW3: [[ 4.63190606]\n",
      " [-6.74799122]]\n",
      "dE_db3: [[-10.32900736]]\n",
      "dE_dh2: [[ 0.57634178 -1.9014732 ]\n",
      " [ 0.47459845 -1.56580045]]\n",
      "dE_dt2: [[-0.37447382 -0.43067444]\n",
      " [-0.30814571 -0.35465473]]\n",
      "dE_dW2: [[-0.68226978 -0.78492665]\n",
      " [-0.68261712 -0.7853264 ]\n",
      " [-0.68261952 -0.78532918]]\n",
      "dE_db2: [[-0.68261952 -0.78532918]]\n",
      "dE_dh1: [[ 0.19119847 -0.22263291 -0.24389915]\n",
      " [ 0.15731838 -0.18331647 -0.20083598]]\n",
      "dE_dt1: [[ 5.30042615e-06 -6.84532066e-09 -7.19198184e-14]\n",
      " [ 1.73067202e-04 -1.42625501e-06 -3.66550042e-10]]\n",
      "dE_dW1: [[ 4.51749540e-03 -3.59028068e-05 -9.16634017e-09]]\n",
      "dE_db1: [[ 1.78367629e-04 -1.43310033e-06 -3.66621962e-10]]\n",
      "x: [[16]\n",
      " [81]]\n",
      "y: [[4]\n",
      " [9]]\n",
      "W1: [[0.33477585 0.50305128 0.7936426 ]]\n",
      "b1: [[-0.86557738 -0.11922912  0.97370139]]\n",
      "W2: [[-0.57321769  0.05474032]\n",
      " [ 0.08238062  0.4455855 ]\n",
      " [ 0.05157545  0.5217497 ]]\n",
      "b2: [[-0.52596949  0.54066806]]\n",
      "W3: [[-0.10267287]\n",
      " [ 0.33703274]]\n",
      "b3: [[0.07263331]]\n",
      "t1: [[ 4.49083615  7.92959133 13.67198303]\n",
      " [26.25126614 40.62792443 65.25875221]]\n",
      "h1: [[0.97782607 0.99928039 0.99999769]\n",
      " [1.         1.         1.        ]]\n",
      "t2: [[-0.95258002  1.56120792]\n",
      " [-0.96523111  1.56274358]]\n",
      "h2: [[-0.44326749  0.65305323]\n",
      " [-0.44833587  0.65349337]]\n",
      "t3: [[0.33824518]\n",
      " [0.33891391]]\n",
      "z: [[0.33824518]\n",
      " [0.33891391]]\n",
      "E: 88.42286068822172\n",
      "dE_dt3: [[-3.66175482]\n",
      " [-8.66108609]]\n",
      "dE_dW3: [[ 5.50621246]\n",
      " [-8.05128317]]\n",
      "dE_db3: [[-12.32284092]]\n",
      "dE_dh2: [[ 0.37596288 -1.23413126]\n",
      " [ 0.88925857 -2.91906959]]\n",
      "dE_dt2: [[-0.24052359 -0.27962293]\n",
      " [-0.57743198 -0.66099349]]\n",
      "dE_dW2: [[-0.81262221 -0.93441608]\n",
      " [-0.81778249 -0.9404152 ]\n",
      " [-0.81795501 -0.94061578]]\n",
      "dE_db2: [[-0.81795557 -0.94061642]]\n",
      "dE_dh1: [[ 0.12256572 -0.14441041 -0.15829829]\n",
      " [ 0.29481123 -0.34209832 -0.37465447]]\n",
      "dE_dt1: [[ 2.65750068e-03 -1.03844096e-04 -3.65458389e-07]\n",
      " [ 2.34311973e-12 -0.00000000e+00 -0.00000000e+00]]\n",
      "dE_dW1: [[ 4.25200111e-02 -1.66150553e-03 -5.84733422e-06]]\n",
      "dE_db1: [[ 2.65750068e-03 -1.03844096e-04 -3.65458389e-07]]\n",
      "x: [[0]\n",
      " [9]]\n",
      "y: [[0]\n",
      " [3]]\n",
      "W1: [[0.33476734 0.50305161 0.7936426 ]]\n",
      "b1: [[-0.86557791 -0.1192291   0.97370139]]\n",
      "W2: [[-0.57305516  0.05492721]\n",
      " [ 0.08254418  0.44577358]\n",
      " [ 0.05173904  0.52193782]]\n",
      "b2: [[-0.5258059   0.54085618]]\n",
      "W3: [[-0.10377411]\n",
      " [ 0.338643  ]]\n",
      "b3: [[0.07509788]]\n",
      "t1: [[-0.86557791 -0.1192291   0.97370139]\n",
      " [ 2.14732816  4.40823539  8.11648482]]\n",
      "h1: [[-0.40764944 -0.05954403  0.4517133 ]\n",
      " [ 0.79083768  0.97593968  0.99940303]]\n",
      "t2: [[-0.27374408  0.72768824]\n",
      " [-0.84673322  1.54096905]]\n",
      "h2: [[-0.13602368  0.34859553]\n",
      " [-0.39976283  0.64721111]]\n",
      "t3: [[0.20726305]\n",
      " [0.33575642]]\n",
      "z: [[0.20726305]\n",
      " [0.33575642]]\n",
      "E: 7.141151811321984\n",
      "dE_dt3: [[ 0.20726305]\n",
      " [-2.66424358]]\n",
      "dE_dW3: [[ 1.03687286]\n",
      " [-1.65207706]]\n",
      "dE_db3: [[-2.45698052]]\n",
      "dE_dh2: [[-0.02150854  0.07018818]\n",
      " [ 0.27647951 -0.90222743]]\n",
      "dE_dt2: [[ 0.00332363  0.0159381 ]\n",
      " [-0.15471051 -0.20600459]]\n",
      "dE_dW2: [[-0.12370578 -0.16941335]\n",
      " [-0.15118603 -0.20199707]\n",
      " [-0.15311682 -0.19868216]]\n",
      "dE_db2: [[-0.15138688 -0.19006649]]\n",
      "dE_dh1: [[-0.00102919  0.00737913  0.00849066]\n",
      " [ 0.0773424  -0.10460186 -0.11552616]]\n",
      "dE_dt1: [[ 5.90576801e-04 -4.65545799e-04  2.10286779e-03]\n",
      " [ 1.27934727e-02 -2.45620009e-03 -6.89249990e-05]]\n",
      "dE_dW1: [[ 0.11514125 -0.0221058  -0.00062032]]\n",
      "dE_db1: [[ 0.01338405 -0.00292175  0.00203394]]\n",
      "x: [[64]\n",
      " [ 1]]\n",
      "y: [[8]\n",
      " [1]]\n",
      "W1: [[0.33474431 0.50305603 0.79364273]]\n",
      "b1: [[-0.86558059 -0.11922852  0.97370098]]\n",
      "W2: [[-0.57303042  0.05496109]\n",
      " [ 0.08257442  0.44581398]\n",
      " [ 0.05176966  0.52197756]]\n",
      "b2: [[-0.52577562  0.5408942 ]]\n",
      "W3: [[-0.10398149]\n",
      " [ 0.33897341]]\n",
      "b3: [[0.07558928]]\n",
      "t1: [[20.55805548 32.07635752 51.76683557]\n",
      " [-0.53083628  0.38382751  1.76734371]]\n",
      "h1: [[ 1.          1.          1.        ]\n",
      " [-0.25935628  0.18959184  0.70825405]]\n",
      "t2: [[-0.96446196  1.56364683]\n",
      " [-0.32483508  0.9808551 ]]\n",
      "h2: [[-0.44802855  0.65375205]\n",
      " [-0.16100429  0.45455571]]\n",
      "t3: [[0.34378052]\n",
      " [0.24641304]]\n",
      "z: [[0.34378052]\n",
      " [0.24641304]]\n",
      "E: 59.18559007507246\n",
      "dE_dt3: [[-7.65621948]\n",
      " [-0.75358696]]\n",
      "dE_dW3: [[ 3.55153564]\n",
      " [-5.34781645]]\n",
      "dE_db3: [[-8.40980644]]\n",
      "dE_dh2: [[ 0.79610509 -2.59525485]\n",
      " [ 0.07835909 -0.25544594]]\n",
      "dE_dt2: [[-0.51647965 -0.58746268]\n",
      " [-0.0146474  -0.06333394]]\n",
      "dE_dW2: [[-0.51268075 -0.57103663]\n",
      " [-0.51925667 -0.59947028]\n",
      " [-0.52685373 -0.6323192 ]]\n",
      "dE_db2: [[-0.53112705 -0.65079663]]\n",
      "dE_dh1: [[ 0.26367096 -0.30454709 -0.33338031]\n",
      " [ 0.00491251 -0.02944466 -0.03381719]]\n",
      "dE_dt1: [[ 6.22074297e-10 -7.16804195e-15 -0.00000000e+00]\n",
      " [-1.60453219e-03 -4.52407677e-03 -6.98765406e-03]]\n",
      "dE_dW1: [[-0.00160449 -0.00452408 -0.00698765]]\n",
      "dE_db1: [[-0.00160453 -0.00452408 -0.00698765]]\n",
      "Mean square error:  0.05644284164879746\n"
     ]
    },
    {
     "data": {
      "image/png": "[encoded data removed]",
      "text/plain": [
       "<Figure size 432x288 with 1 Axes>"
      ]
     },
     "metadata": {
      "needs_background": "light"
     },
     "output_type": "display_data"
    }
   ],
   "source": [
    "import random\n",
    "import numpy as np\n",
    "\n",
    "INPUT_DIM = 1\n",
    "H1_DIM = 3\n",
    "H2_DIM = 2\n",
    "OUT_DIM = 1\n",
    "\n",
    "def F(x):\n",
    "    return 2/(1 + np.exp(-x)) - 1\n",
    "\n",
    "def L(y_true, y_pred):\n",
    "    return (y_true - y_pred)**2\n",
    "\n",
    "def F_deriv(x):\n",
    "    return F(x)*(1 - F(x))\n",
    "\n",
    "\n",
    "W1 = np.random.rand(INPUT_DIM, H1_DIM)\n",
    "b1 = np.random.rand(1, H1_DIM)\n",
    "W2 = np.random.rand(H1_DIM, H2_DIM)\n",
    "b2 = np.random.rand(1, H2_DIM)\n",
    "W3 = np.random.rand(H2_DIM, OUT_DIM)\n",
    "b3 = np.random.rand(1, OUT_DIM)\n",
    "\n",
    "W1 = (W1 - 0.5) * 2 * np.sqrt(1/INPUT_DIM)\n",
    "b1 = (b1 - 0.5) * 2 * np.sqrt(1/INPUT_DIM)\n",
    "W2 = (W2 - 0.5) * 2 * np.sqrt(1/H1_DIM)\n",
    "b2 = (b2 - 0.5) * 2 * np.sqrt(1/H1_DIM)\n",
    "W3 = (W3 - 0.5) * 2 * np.sqrt(1/H2_DIM)\n",
    "b3 = (b3 - 0.5) * 2 * np.sqrt(1/H2_DIM)\n",
    "\n",
    "ALPHA = 0.0002\n",
    "NUM_EPOCHS = 1 # 400\n",
    "BATCH_SIZE = 2\n",
    "\n",
    "loss_arr = []\n",
    "\n",
    "for ep in range(NUM_EPOCHS):\n",
    "    random.shuffle(dataset)\n",
    "    for i in range(len(dataset) // BATCH_SIZE):\n",
    "\n",
    "        batch_x, batch_y = zip(*dataset[i * BATCH_SIZE : i * BATCH_SIZE + BATCH_SIZE])\n",
    "        x = np.concatenate(batch_x, axis=0)\n",
    "        y = np.array(batch_y)\n",
    "#         print(f\"x: {x}\")\n",
    "#         print(f\"y: {y}\")\n",
    "#         print(f\"W1: {W1}\")\n",
    "#         print(f\"b1: {b1}\")\n",
    "#         print(f\"W2: {W2}\")\n",
    "#         print(f\"b2: {b2}\")\n",
    "#         print(f\"W3: {W3}\")\n",
    "#         print(f\"b3: {b3}\")\n",
    "        # Forward\n",
    "        t1 = x @ W1 + b1\n",
    "#         print(f\"t1: {t1}\")\n",
    "        h1 = F(t1)\n",
    "#         print(f\"h1: {h1}\")\n",
    "        t2 = h1 @ W2 + b2\n",
    "#         print(f\"t2: {t2}\")\n",
    "        h2 = F(t2)\n",
    "#         print(f\"h2: {h2}\")\n",
    "        t3 = h2 @ W3 + b3\n",
    "#         print(f\"t3: {t3}\")\n",
    "        # z = softmax_batch(t2)\n",
    "        # z = t3.flatten()\n",
    "        z = t3\n",
    "#         print(f\"z: {z}\")\n",
    "        E = np.sum(L(z, y))\n",
    "#         print(f\"E: {E}\")\n",
    "\n",
    "        # Backward\n",
    "        # y_full = to_full_batch(y, OUT_DIM)\n",
    "        # dE_dt2 = z - y_full\n",
    "        dE_dt3 = z - y\n",
    "#         print(f\"dE_dt3: {dE_dt3}\")\n",
    "        dE_dW3 = h2.T @ dE_dt3\n",
    "#         print(f\"dE_dW3: {dE_dW3}\")\n",
    "        dE_db3 = np.sum(dE_dt3, axis=0, keepdims=True)\n",
    "#         print(f\"dE_db3: {dE_db3}\")\n",
    "        \n",
    "        dE_dh2 = dE_dt3 @ W3.T\n",
    "#         print(f\"dE_dh2: {dE_dh2}\")\n",
    "        dE_dt2 = dE_dh2 * F_deriv(t2)\n",
    "#         print(f\"dE_dt2: {dE_dt2}\")\n",
    "        dE_dW2 = h1.T @ dE_dt2\n",
    "#         print(f\"dE_dW2: {dE_dW2}\")\n",
    "        dE_db2 = np.sum(dE_dt2, axis=0, keepdims=True)\n",
    "#         print(f\"dE_db2: {dE_db2}\")\n",
    "\n",
    "        \n",
    "        dE_dh1 = dE_dt2 @ W2.T\n",
    "#         print(f\"dE_dh1: {dE_dh1}\")\n",
    "        dE_dt1 = dE_dh1 * F_deriv(t1)\n",
    "#         print(f\"dE_dt1: {dE_dt1}\")\n",
    "        dE_dW1 = x.T @ dE_dt1\n",
    "#         print(f\"dE_dW1: {dE_dW1}\")\n",
    "        dE_db1 = np.sum(dE_dt1, axis=0, keepdims=True)\n",
    "#         print(f\"dE_db1: {dE_db1}\")\n",
    "\n",
    "\n",
    "        # Update\n",
    "        W1 = W1 - ALPHA * dE_dW1\n",
    "        b1 = b1 - ALPHA * dE_db1\n",
    "        W2 = W2 - ALPHA * dE_dW2\n",
    "        b2 = b2 - ALPHA * dE_db2\n",
    "        W3 = W3 - ALPHA * dE_dW3\n",
    "        b3 = b3 - ALPHA * dE_db3\n",
    "\n",
    "        loss_arr.append(E)\n",
    "\n",
    "def predict(x):\n",
    "    t1 = x @ W1 + b1\n",
    "    h1 = F(t1)\n",
    "    t2 = h1 @ W2 + b2\n",
    "    h2 = F(t2)\n",
    "    t3 = h2 @ W3 + b3\n",
    "    z = t3\n",
    "    # z = softmax_batch(t2)\n",
    "    return z\n",
    "\n",
    "# def calc_accuracy():\n",
    "#     correct = 0\n",
    "#     for x, y in dataset:\n",
    "#         z = predict(x)\n",
    "#         y_pred = np.argmax(z)\n",
    "#         if y_pred == y:\n",
    "#             correct += 1\n",
    "#     acc = correct / len(dataset)\n",
    "#     return acc\n",
    "\n",
    "# accuracy = calc_accuracy()\n",
    "# print(\"Accuracy:\", accuracy)\n",
    "\n",
    "def calc_mse():\n",
    "    res = []\n",
    "    for x, y in dataset:\n",
    "        z = predict(x)\n",
    "        y_pred = z\n",
    "        res = (y - y_pred)**2\n",
    "    return np.sum(res)/len(dataset)\n",
    "\n",
    "mse = calc_mse()\n",
    "print(\"Mean square error: \", mse)\n",
    "\n",
    "import matplotlib.pyplot as plt\n",
    "plt.plot(loss_arr)\n",
    "plt.show()"
   ]
  },
  {
   "cell_type": "code",
   "execution_count": null,
   "id": "cb70a834",
   "metadata": {},
   "outputs": [],
   "source": []
  },
  {
   "cell_type": "code",
   "execution_count": 7,
   "id": "4b22e628",
   "metadata": {},
   "outputs": [
    {
     "name": "stderr",
     "output_type": "stream",
     "text": [
      "/tmp/ipykernel_7301/2905763391.py:10: RuntimeWarning: overflow encountered in exp\n",
      "  return 2/(1 + np.exp(-x)) - 1\n"
     ]
    },
    {
     "name": "stdout",
     "output_type": "stream",
     "text": [
      "Mean square error:  0.28061384675180623\n"
     ]
    },
    {
     "data": {
      "image/png": "[encoded data removed]",
      "text/plain": [
       "<Figure size 432x288 with 1 Axes>"
      ]
     },
     "metadata": {
      "needs_background": "light"
     },
     "output_type": "display_data"
    }
   ],
   "source": [
    "import random\n",
    "import numpy as np\n",
    "\n",
    "INPUT_DIM = 1\n",
    "H1_DIM = 3\n",
    "H2_DIM = 2\n",
    "OUT_DIM = 1\n",
    "\n",
    "def F(x):\n",
    "    return 2/(1 + np.exp(-x)) - 1\n",
    "\n",
    "def L(y_true, y_pred):\n",
    "    return (y_true - y_pred)**2\n",
    "\n",
    "def F_deriv(x):\n",
    "    return F(x)*(1 - F(x))\n",
    "\n",
    "\n",
    "\n",
    "W1 = np.random.rand(INPUT_DIM, H1_DIM)\n",
    "b1 = np.random.rand(1, H1_DIM)\n",
    "W2 = np.random.rand(H1_DIM, H2_DIM)\n",
    "b2 = np.random.rand(1, H2_DIM)\n",
    "W3 = np.random.rand(H2_DIM, OUT_DIM)\n",
    "b3 = np.random.rand(1, OUT_DIM)\n",
    "\n",
    "W1 = (W1 - 0.5) * 2 * np.sqrt(1/INPUT_DIM)\n",
    "b1 = (b1 - 0.5) * 2 * np.sqrt(1/INPUT_DIM)\n",
    "W2 = (W2 - 0.5) * 2 * np.sqrt(1/H1_DIM)\n",
    "b2 = (b2 - 0.5) * 2 * np.sqrt(1/H1_DIM)\n",
    "W3 = (W3 - 0.5) * 2 * np.sqrt(1/H2_DIM)\n",
    "b3 = (b3 - 0.5) * 2 * np.sqrt(1/H2_DIM)\n",
    "\n",
    "ALPHA = 0.0001\n",
    "NUM_EPOCHS = 30000\n",
    "BATCH_SIZE = 2\n",
    "\n",
    "loss_arr = []\n",
    "\n",
    "for ep in range(NUM_EPOCHS):\n",
    "    random.shuffle(dataset)\n",
    "    for i in range(len(dataset) // BATCH_SIZE):\n",
    "\n",
    "        batch_x, batch_y = zip(*dataset[i * BATCH_SIZE : i * BATCH_SIZE + BATCH_SIZE])\n",
    "        x = np.concatenate(batch_x, axis=0)\n",
    "        y = np.array(batch_y)\n",
    "\n",
    "        # Forward\n",
    "        t1 = x @ W1 + b1\n",
    "        h1 = F(t1)\n",
    "        t2 = h1 @ W2 + b2\n",
    "        h2 = F(t2)\n",
    "        t3 = h2 @ W3 + b3\n",
    "        z = t3\n",
    "        E = np.sum(L(z, y))\n",
    "\n",
    "        # Backward\n",
    "        dE_dt3 = z - y\n",
    "        dE_dW3 = h2.T @ dE_dt3\n",
    "        dE_db3 = np.sum(dE_dt3, axis=0, keepdims=True)\n",
    "        \n",
    "        dE_dh2 = dE_dt3 @ W3.T\n",
    "        dE_dt2 = dE_dh2 * F_deriv(t2)\n",
    "        dE_dW2 = h1.T @ dE_dt2\n",
    "        dE_db2 = np.sum(dE_dt2, axis=0, keepdims=True)\n",
    "\n",
    "        \n",
    "        dE_dh1 = dE_dt2 @ W2.T\n",
    "        dE_dt1 = dE_dh1 * F_deriv(t1)\n",
    "        dE_dW1 = x.T @ dE_dt1\n",
    "        dE_db1 = np.sum(dE_dt1, axis=0, keepdims=True)\n",
    "\n",
    "\n",
    "        # Update\n",
    "        W1 = W1 - ALPHA * dE_dW1\n",
    "        b1 = b1 - ALPHA * dE_db1\n",
    "        W2 = W2 - ALPHA * dE_dW2\n",
    "        b2 = b2 - ALPHA * dE_db2\n",
    "        W3 = W3 - ALPHA * dE_dW3\n",
    "        b3 = b3 - ALPHA * dE_db3\n",
    "\n",
    "        loss_arr.append(E)\n",
    "\n",
    "def predict(x):\n",
    "    t1 = x @ W1 + b1\n",
    "    h1 = F(t1)\n",
    "    t2 = h1 @ W2 + b2\n",
    "    h2 = F(t2)\n",
    "    t3 = h2 @ W3 + b3\n",
    "    z = t3\n",
    "    return z\n",
    "\n",
    "\n",
    "def calc_mse():\n",
    "    res = []\n",
    "    for x, y in dataset:\n",
    "        z = predict(x)\n",
    "        y_pred = z\n",
    "        res.append((y - y_pred)**2)\n",
    "    return np.sum(res)/len(dataset)\n",
    "\n",
    "mse = calc_mse()\n",
    "print(\"Mean square error: \", mse)\n",
    "\n",
    "import matplotlib.pyplot as plt\n",
    "plt.plot(loss_arr)\n",
    "plt.show()"
   ]
  },
  {
   "cell_type": "code",
   "execution_count": 8,
   "id": "0e03d7b9",
   "metadata": {},
   "outputs": [
    {
     "name": "stderr",
     "output_type": "stream",
     "text": [
      "/tmp/ipykernel_7301/2905763391.py:10: RuntimeWarning: overflow encountered in exp\n",
      "  return 2/(1 + np.exp(-x)) - 1\n"
     ]
    },
    {
     "data": {
      "text/html": [
       "<div>\n",
       "<style scoped>\n",
       "    .dataframe tbody tr th:only-of-type {\n",
       "        vertical-align: middle;\n",
       "    }\n",
       "\n",
       "    .dataframe tbody tr th {\n",
       "        vertical-align: top;\n",
       "    }\n",
       "\n",
       "    .dataframe thead th {\n",
       "        text-align: right;\n",
       "    }\n",
       "</style>\n",
       "<table border=\"1\" class=\"dataframe\">\n",
       "  <thead>\n",
       "    <tr style=\"text-align: right;\">\n",
       "      <th></th>\n",
       "      <th>y_pred</th>\n",
       "      <th>y</th>\n",
       "    </tr>\n",
       "    <tr>\n",
       "      <th>x</th>\n",
       "      <th></th>\n",
       "      <th></th>\n",
       "    </tr>\n",
       "  </thead>\n",
       "  <tbody>\n",
       "    <tr>\n",
       "      <th>16</th>\n",
       "      <td>3.764849</td>\n",
       "      <td>4</td>\n",
       "    </tr>\n",
       "    <tr>\n",
       "      <th>4</th>\n",
       "      <td>1.929894</td>\n",
       "      <td>2</td>\n",
       "    </tr>\n",
       "    <tr>\n",
       "      <th>0</th>\n",
       "      <td>1.113944</td>\n",
       "      <td>0</td>\n",
       "    </tr>\n",
       "    <tr>\n",
       "      <th>49</th>\n",
       "      <td>7.148494</td>\n",
       "      <td>7</td>\n",
       "    </tr>\n",
       "    <tr>\n",
       "      <th>25</th>\n",
       "      <td>5.018924</td>\n",
       "      <td>5</td>\n",
       "    </tr>\n",
       "    <tr>\n",
       "      <th>36</th>\n",
       "      <td>6.251578</td>\n",
       "      <td>6</td>\n",
       "    </tr>\n",
       "    <tr>\n",
       "      <th>64</th>\n",
       "      <td>7.656640</td>\n",
       "      <td>8</td>\n",
       "    </tr>\n",
       "    <tr>\n",
       "      <th>1</th>\n",
       "      <td>1.180660</td>\n",
       "      <td>1</td>\n",
       "    </tr>\n",
       "    <tr>\n",
       "      <th>81</th>\n",
       "      <td>7.893838</td>\n",
       "      <td>9</td>\n",
       "    </tr>\n",
       "    <tr>\n",
       "      <th>9</th>\n",
       "      <td>2.787332</td>\n",
       "      <td>3</td>\n",
       "    </tr>\n",
       "  </tbody>\n",
       "</table>\n",
       "</div>"
      ],
      "text/plain": [
       "      y_pred  y\n",
       "x              \n",
       "16  3.764849  4\n",
       "4   1.929894  2\n",
       "0   1.113944  0\n",
       "49  7.148494  7\n",
       "25  5.018924  5\n",
       "36  6.251578  6\n",
       "64  7.656640  8\n",
       "1   1.180660  1\n",
       "81  7.893838  9\n",
       "9   2.787332  3"
      ]
     },
     "execution_count": 8,
     "metadata": {},
     "output_type": "execute_result"
    }
   ],
   "source": [
    "res = []\n",
    "for x, y in dataset:\n",
    "    z = predict(x)\n",
    "    res.append({\"x\": x[0][0], \"y_pred\": z[0][0], \"y\": y[0]})\n",
    "res = pd.DataFrame(res).set_index(\"x\")\n",
    "res"
   ]
  },
  {
   "cell_type": "code",
   "execution_count": null,
   "id": "72e6eabd",
   "metadata": {},
   "outputs": [],
   "source": [
    "!pip install matplotlib"
   ]
  },
  {
   "cell_type": "code",
   "execution_count": 9,
   "id": "c65e3f62",
   "metadata": {},
   "outputs": [
    {
     "data": {
      "text/plain": [
       "<matplotlib.collections.PathCollection at 0x7f68780b14e0>"
      ]
     },
     "execution_count": 9,
     "metadata": {},
     "output_type": "execute_result"
    },
    {
     "data": {
      "image/png": "[encoded data removed]",
      "text/plain": [
       "<Figure size 432x288 with 1 Axes>"
      ]
     },
     "metadata": {
      "needs_background": "light"
     },
     "output_type": "display_data"
    }
   ],
   "source": [
    "import matplotlib.pyplot as plt\n",
    "\n",
    "plt.scatter(res.index, res[\"y_pred\"])\n",
    "plt.scatter(res.index, res[\"y\"])"
   ]
  },
  {
   "cell_type": "code",
   "execution_count": 92,
   "id": "62c26c1b",
   "metadata": {},
   "outputs": [
    {
     "data": {
      "text/plain": [
       "array([  1.  ,   1.01,   1.02, ..., 199.97, 199.98, 199.99])"
      ]
     },
     "execution_count": 92,
     "metadata": {},
     "output_type": "execute_result"
    }
   ],
   "source": [
    "np.arange(1, 200, 0.01)"
   ]
  },
  {
   "cell_type": "code",
   "execution_count": 96,
   "id": "27e46481",
   "metadata": {},
   "outputs": [],
   "source": [
    "n = 10\n",
    "data = pd.DataFrame({\n",
    "    \"x\": np.arange(1, 200, 0.01),\n",
    "})\n",
    "x_new_set = [el[None, ...] for el in data.values]\n",
    "res_new = []\n",
    "x_new = []\n",
    "for x in x_new_set:\n",
    "    res_new.append(predict(x)[0][0])\n",
    "    x_new.append(x[0][0])"
   ]
  },
  {
   "cell_type": "code",
   "execution_count": 103,
   "id": "07dc7bac",
   "metadata": {},
   "outputs": [
    {
     "data": {
      "image/png": "[encoded data removed]",
      "text/plain": [
       "<Figure size 432x288 with 1 Axes>"
      ]
     },
     "metadata": {
      "needs_background": "light"
     },
     "output_type": "display_data"
    }
   ],
   "source": [
    "plt.plot(x_new, res_new)\n",
    "plt.scatter(res.index, res[\"y\"], color=\"orange\");"
   ]
  },
  {
   "cell_type": "code",
   "execution_count": null,
   "id": "fcb1eb9b",
   "metadata": {},
   "outputs": [],
   "source": [
    "!pip install sklearn"
   ]
  },
  {
   "cell_type": "code",
   "execution_count": 104,
   "id": "f0712e9a",
   "metadata": {},
   "outputs": [],
   "source": [
    "from sklearn.datasets import load_diabetes"
   ]
  },
  {
   "cell_type": "code",
   "execution_count": 106,
   "id": "b5f3849b",
   "metadata": {},
   "outputs": [],
   "source": [
    "data = load_diabetes()"
   ]
  },
  {
   "cell_type": "code",
   "execution_count": 110,
   "id": "dd79a7a9",
   "metadata": {},
   "outputs": [
    {
     "data": {
      "text/plain": [
       "{'data': array([[ 0.03807591,  0.05068012,  0.06169621, ..., -0.00259226,\n",
       "          0.01990842, -0.01764613],\n",
       "        [-0.00188202, -0.04464164, -0.05147406, ..., -0.03949338,\n",
       "         -0.06832974, -0.09220405],\n",
       "        [ 0.08529891,  0.05068012,  0.04445121, ..., -0.00259226,\n",
       "          0.00286377, -0.02593034],\n",
       "        ...,\n",
       "        [ 0.04170844,  0.05068012, -0.01590626, ..., -0.01107952,\n",
       "         -0.04687948,  0.01549073],\n",
       "        [-0.04547248, -0.04464164,  0.03906215, ...,  0.02655962,\n",
       "          0.04452837, -0.02593034],\n",
       "        [-0.04547248, -0.04464164, -0.0730303 , ..., -0.03949338,\n",
       "         -0.00421986,  0.00306441]]),\n",
       " 'target': array([151.,  75., 141., 206., 135.,  97., 138.,  63., 110., 310., 101.,\n",
       "         69., 179., 185., 118., 171., 166., 144.,  97., 168.,  68.,  49.,\n",
       "         68., 245., 184., 202., 137.,  85., 131., 283., 129.,  59., 341.,\n",
       "         87.,  65., 102., 265., 276., 252.,  90., 100.,  55.,  61.,  92.,\n",
       "        259.,  53., 190., 142.,  75., 142., 155., 225.,  59., 104., 182.,\n",
       "        128.,  52.,  37., 170., 170.,  61., 144.,  52., 128.,  71., 163.,\n",
       "        150.,  97., 160., 178.,  48., 270., 202., 111.,  85.,  42., 170.,\n",
       "        200., 252., 113., 143.,  51.,  52., 210.,  65., 141.,  55., 134.,\n",
       "         42., 111.,  98., 164.,  48.,  96.,  90., 162., 150., 279.,  92.,\n",
       "         83., 128., 102., 302., 198.,  95.,  53., 134., 144., 232.,  81.,\n",
       "        104.,  59., 246., 297., 258., 229., 275., 281., 179., 200., 200.,\n",
       "        173., 180.,  84., 121., 161.,  99., 109., 115., 268., 274., 158.,\n",
       "        107.,  83., 103., 272.,  85., 280., 336., 281., 118., 317., 235.,\n",
       "         60., 174., 259., 178., 128.,  96., 126., 288.,  88., 292.,  71.,\n",
       "        197., 186.,  25.,  84.,  96., 195.,  53., 217., 172., 131., 214.,\n",
       "         59.,  70., 220., 268., 152.,  47.,  74., 295., 101., 151., 127.,\n",
       "        237., 225.,  81., 151., 107.,  64., 138., 185., 265., 101., 137.,\n",
       "        143., 141.,  79., 292., 178.,  91., 116.,  86., 122.,  72., 129.,\n",
       "        142.,  90., 158.,  39., 196., 222., 277.,  99., 196., 202., 155.,\n",
       "         77., 191.,  70.,  73.,  49.,  65., 263., 248., 296., 214., 185.,\n",
       "         78.,  93., 252., 150.,  77., 208.,  77., 108., 160.,  53., 220.,\n",
       "        154., 259.,  90., 246., 124.,  67.,  72., 257., 262., 275., 177.,\n",
       "         71.,  47., 187., 125.,  78.,  51., 258., 215., 303., 243.,  91.,\n",
       "        150., 310., 153., 346.,  63.,  89.,  50.,  39., 103., 308., 116.,\n",
       "        145.,  74.,  45., 115., 264.,  87., 202., 127., 182., 241.,  66.,\n",
       "         94., 283.,  64., 102., 200., 265.,  94., 230., 181., 156., 233.,\n",
       "         60., 219.,  80.,  68., 332., 248.,  84., 200.,  55.,  85.,  89.,\n",
       "         31., 129.,  83., 275.,  65., 198., 236., 253., 124.,  44., 172.,\n",
       "        114., 142., 109., 180., 144., 163., 147.,  97., 220., 190., 109.,\n",
       "        191., 122., 230., 242., 248., 249., 192., 131., 237.,  78., 135.,\n",
       "        244., 199., 270., 164.,  72.,  96., 306.,  91., 214.,  95., 216.,\n",
       "        263., 178., 113., 200., 139., 139.,  88., 148.,  88., 243.,  71.,\n",
       "         77., 109., 272.,  60.,  54., 221.,  90., 311., 281., 182., 321.,\n",
       "         58., 262., 206., 233., 242., 123., 167.,  63., 197.,  71., 168.,\n",
       "        140., 217., 121., 235., 245.,  40.,  52., 104., 132.,  88.,  69.,\n",
       "        219.,  72., 201., 110.,  51., 277.,  63., 118.,  69., 273., 258.,\n",
       "         43., 198., 242., 232., 175.,  93., 168., 275., 293., 281.,  72.,\n",
       "        140., 189., 181., 209., 136., 261., 113., 131., 174., 257.,  55.,\n",
       "         84.,  42., 146., 212., 233.,  91., 111., 152., 120.,  67., 310.,\n",
       "         94., 183.,  66., 173.,  72.,  49.,  64.,  48., 178., 104., 132.,\n",
       "        220.,  57.]),\n",
       " 'frame': None,\n",
       " 'DESCR': '.. _diabetes_dataset:\\n\\nDiabetes dataset\\n----------------\\n\\nTen baseline variables, age, sex, body mass index, average blood\\npressure, and six blood serum measurements were obtained for each of n =\\n442 diabetes patients, as well as the response of interest, a\\nquantitative measure of disease progression one year after baseline.\\n\\n**Data Set Characteristics:**\\n\\n  :Number of Instances: 442\\n\\n  :Number of Attributes: First 10 columns are numeric predictive values\\n\\n  :Target: Column 11 is a quantitative measure of disease progression one year after baseline\\n\\n  :Attribute Information:\\n      - age     age in years\\n      - sex\\n      - bmi     body mass index\\n      - bp      average blood pressure\\n      - s1      tc, T-Cells (a type of white blood cells)\\n      - s2      ldl, low-density lipoproteins\\n      - s3      hdl, high-density lipoproteins\\n      - s4      tch, thyroid stimulating hormone\\n      - s5      ltg, lamotrigine\\n      - s6      glu, blood sugar level\\n\\nNote: Each of these 10 feature variables have been mean centered and scaled by the standard deviation times `n_samples` (i.e. the sum of squares of each column totals 1).\\n\\nSource URL:\\nhttps://www4.stat.ncsu.edu/~boos/var.select/diabetes.html\\n\\nFor more information see:\\nBradley Efron, Trevor Hastie, Iain Johnstone and Robert Tibshirani (2004) \"Least Angle Regression,\" Annals of Statistics (with discussion), 407-499.\\n(https://web.stanford.edu/~hastie/Papers/LARS/LeastAngle_2002.pdf)',\n",
       " 'feature_names': ['age',\n",
       "  'sex',\n",
       "  'bmi',\n",
       "  'bp',\n",
       "  's1',\n",
       "  's2',\n",
       "  's3',\n",
       "  's4',\n",
       "  's5',\n",
       "  's6'],\n",
       " 'data_filename': '/usr/lib/python3/dist-packages/sklearn/datasets/data/diabetes_data.csv.gz',\n",
       " 'target_filename': '/usr/lib/python3/dist-packages/sklearn/datasets/data/diabetes_target.csv.gz'}"
      ]
     },
     "execution_count": 110,
     "metadata": {},
     "output_type": "execute_result"
    }
   ],
   "source": [
    "data"
   ]
  },
  {
   "cell_type": "code",
   "execution_count": 121,
   "id": "1659145a",
   "metadata": {},
   "outputs": [
    {
     "data": {
      "text/plain": [
       "['age', 'sex', 'bmi', 'bp', 's1', 's2', 's3', 's4', 's5', 's6']"
      ]
     },
     "execution_count": 121,
     "metadata": {},
     "output_type": "execute_result"
    }
   ],
   "source": [
    "data.feature_names"
   ]
  },
  {
   "cell_type": "code",
   "execution_count": 123,
   "id": "d76148a3",
   "metadata": {},
   "outputs": [
    {
     "name": "stdout",
     "output_type": "stream",
     "text": [
      ".. _diabetes_dataset:\n",
      "\n",
      "Diabetes dataset\n",
      "----------------\n",
      "\n",
      "Ten baseline variables, age, sex, body mass index, average blood\n",
      "pressure, and six blood serum measurements were obtained for each of n =\n",
      "442 diabetes patients, as well as the response of interest, a\n",
      "quantitative measure of disease progression one year after baseline.\n",
      "\n",
      "**Data Set Characteristics:**\n",
      "\n",
      "  :Number of Instances: 442\n",
      "\n",
      "  :Number of Attributes: First 10 columns are numeric predictive values\n",
      "\n",
      "  :Target: Column 11 is a quantitative measure of disease progression one year after baseline\n",
      "\n",
      "  :Attribute Information:\n",
      "      - age     age in years\n",
      "      - sex\n",
      "      - bmi     body mass index\n",
      "      - bp      average blood pressure\n",
      "      - s1      tc, T-Cells (a type of white blood cells)\n",
      "      - s2      ldl, low-density lipoproteins\n",
      "      - s3      hdl, high-density lipoproteins\n",
      "      - s4      tch, thyroid stimulating hormone\n",
      "      - s5      ltg, lamotrigine\n",
      "      - s6      glu, blood sugar level\n",
      "\n",
      "Note: Each of these 10 feature variables have been mean centered and scaled by the standard deviation times `n_samples` (i.e. the sum of squares of each column totals 1).\n",
      "\n",
      "Source URL:\n",
      "https://www4.stat.ncsu.edu/~boos/var.select/diabetes.html\n",
      "\n",
      "For more information see:\n",
      "Bradley Efron, Trevor Hastie, Iain Johnstone and Robert Tibshirani (2004) \"Least Angle Regression,\" Annals of Statistics (with discussion), 407-499.\n",
      "(https://web.stanford.edu/~hastie/Papers/LARS/LeastAngle_2002.pdf)\n"
     ]
    }
   ],
   "source": [
    "print(data.DESCR)"
   ]
  },
  {
   "cell_type": "code",
   "execution_count": 109,
   "id": "58853ad0",
   "metadata": {},
   "outputs": [
    {
     "data": {
      "text/plain": [
       "(442, 10)"
      ]
     },
     "execution_count": 109,
     "metadata": {},
     "output_type": "execute_result"
    }
   ],
   "source": [
    "data.data.shape"
   ]
  },
  {
   "cell_type": "code",
   "execution_count": 112,
   "id": "7992fcc3",
   "metadata": {},
   "outputs": [
    {
     "data": {
      "text/plain": [
       "(442,)"
      ]
     },
     "execution_count": 112,
     "metadata": {},
     "output_type": "execute_result"
    }
   ],
   "source": [
    "data.target.shape"
   ]
  },
  {
   "cell_type": "code",
   "execution_count": 113,
   "id": "521ec40c",
   "metadata": {},
   "outputs": [
    {
     "data": {
      "text/plain": [
       "array([ 0.03807591,  0.05068012,  0.06169621,  0.02187235, -0.0442235 ,\n",
       "       -0.03482076, -0.04340085, -0.00259226,  0.01990842, -0.01764613])"
      ]
     },
     "execution_count": 113,
     "metadata": {},
     "output_type": "execute_result"
    }
   ],
   "source": [
    "data.data[0]"
   ]
  },
  {
   "cell_type": "code",
   "execution_count": null,
   "id": "7836dc59",
   "metadata": {},
   "outputs": [],
   "source": []
  },
  {
   "cell_type": "code",
   "execution_count": 120,
   "id": "3539608c",
   "metadata": {
    "scrolled": false
   },
   "outputs": [
    {
     "data": {
      "image/png": "[encoded data removed]",
      "text/plain": [
       "<Figure size 432x288 with 1 Axes>"
      ]
     },
     "metadata": {
      "needs_background": "light"
     },
     "output_type": "display_data"
    },
    {
     "data": {
      "image/png": "[encoded data removed]",
      "text/plain": [
       "<Figure size 432x288 with 1 Axes>"
      ]
     },
     "metadata": {
      "needs_background": "light"
     },
     "output_type": "display_data"
    },
    {
     "data": {
      "image/png": "[encoded data removed]",
      "text/plain": [
       "<Figure size 432x288 with 1 Axes>"
      ]
     },
     "metadata": {
      "needs_background": "light"
     },
     "output_type": "display_data"
    },
    {
     "data": {
      "image/png": "[encoded data removed]",
      "text/plain": [
       "<Figure size 432x288 with 1 Axes>"
      ]
     },
     "metadata": {
      "needs_background": "light"
     },
     "output_type": "display_data"
    },
    {
     "data": {
      "image/png": "[encoded data removed]",
      "text/plain": [
       "<Figure size 432x288 with 1 Axes>"
      ]
     },
     "metadata": {
      "needs_background": "light"
     },
     "output_type": "display_data"
    },
    {
     "data": {
      "image/png": "[encoded data removed]",
      "text/plain": [
       "<Figure size 432x288 with 1 Axes>"
      ]
     },
     "metadata": {
      "needs_background": "light"
     },
     "output_type": "display_data"
    },
    {
     "data": {
      "image/png": "[encoded data removed]",
      "text/plain": [
       "<Figure size 432x288 with 1 Axes>"
      ]
     },
     "metadata": {
      "needs_background": "light"
     },
     "output_type": "display_data"
    },
    {
     "data": {
      "image/png": "[encoded data removed]",
      "text/plain": [
       "<Figure size 432x288 with 1 Axes>"
      ]
     },
     "metadata": {
      "needs_background": "light"
     },
     "output_type": "display_data"
    },
    {
     "data": {
      "image/png": "[encoded data removed]",
      "text/plain": [
       "<Figure size 432x288 with 1 Axes>"
      ]
     },
     "metadata": {
      "needs_background": "light"
     },
     "output_type": "display_data"
    },
    {
     "data": {
      "image/png": "[encoded data removed]",
      "text/plain": [
       "<Figure size 432x288 with 1 Axes>"
      ]
     },
     "metadata": {
      "needs_background": "light"
     },
     "output_type": "display_data"
    }
   ],
   "source": [
    "for i in range(10):\n",
    "    plt.figure()\n",
    "    plt.title(i)\n",
    "    plt.scatter(data.data[:,i], data.target)"
   ]
  },
  {
   "cell_type": "code",
   "execution_count": 144,
   "id": "7d9ac1b2",
   "metadata": {},
   "outputs": [],
   "source": [
    "dataset = [(data.data[i][None, ...], data.target[i][None, ...]) for i in range(data.target.shape[0])]"
   ]
  },
  {
   "cell_type": "code",
   "execution_count": 145,
   "id": "7c539e7f",
   "metadata": {},
   "outputs": [
    {
     "data": {
      "text/plain": [
       "(array([[ 0.03807591,  0.05068012,  0.06169621,  0.02187235, -0.0442235 ,\n",
       "         -0.03482076, -0.04340085, -0.00259226,  0.01990842, -0.01764613]]),\n",
       " array([151.]))"
      ]
     },
     "execution_count": 145,
     "metadata": {},
     "output_type": "execute_result"
    }
   ],
   "source": [
    "dataset[0]"
   ]
  },
  {
   "cell_type": "code",
   "execution_count": 168,
   "id": "cdaf1031",
   "metadata": {},
   "outputs": [
    {
     "name": "stderr",
     "output_type": "stream",
     "text": [
      "/tmp/ipykernel_77848/2599822230.py:10: RuntimeWarning: overflow encountered in exp\n",
      "  return 2/(1 + np.exp(-x)) - 1\n"
     ]
    },
    {
     "name": "stdout",
     "output_type": "stream",
     "text": [
      "Mean square error:  5929.884907697979\n"
     ]
    },
    {
     "data": {
      "image/png": "[encoded data removed]",
      "text/plain": [
       "<Figure size 432x288 with 1 Axes>"
      ]
     },
     "metadata": {
      "needs_background": "light"
     },
     "output_type": "display_data"
    }
   ],
   "source": [
    "import random\n",
    "import numpy as np\n",
    "\n",
    "INPUT_DIM = 10\n",
    "H1_DIM = 5\n",
    "H2_DIM = 5\n",
    "OUT_DIM = 1\n",
    "\n",
    "def F(x):\n",
    "    return 2/(1 + np.exp(-x)) - 1\n",
    "\n",
    "def L(y_true, y_pred):\n",
    "    return (y_true - y_pred)**2\n",
    "\n",
    "def F_deriv(x):\n",
    "    return F(x)*(1 - F(x))\n",
    "\n",
    "\n",
    "\n",
    "W1 = np.random.rand(INPUT_DIM, H1_DIM)\n",
    "b1 = np.random.rand(1, H1_DIM)\n",
    "W2 = np.random.rand(H1_DIM, H2_DIM)\n",
    "b2 = np.random.rand(1, H2_DIM)\n",
    "W3 = np.random.rand(H2_DIM, OUT_DIM)\n",
    "b3 = np.random.rand(1, OUT_DIM)\n",
    "\n",
    "W1 = (W1 - 0.5) * 2 # * np.sqrt(1/INPUT_DIM)\n",
    "b1 = (b1 - 0.5) * 2 # * np.sqrt(1/INPUT_DIM)\n",
    "W2 = (W2 - 0.5) * 2 # * np.sqrt(1/H1_DIM)\n",
    "b2 = (b2 - 0.5) * 2 # * np.sqrt(1/H1_DIM)\n",
    "W3 = (W3 - 0.5) * 2 # * np.sqrt(1/H2_DIM)\n",
    "b3 = (b3 - 0.5) * 2 # * np.sqrt(1/H2_DIM)\n",
    "\n",
    "ALPHA = 0.00001\n",
    "NUM_EPOCHS = 10000\n",
    "BATCH_SIZE = 10\n",
    "\n",
    "loss_arr = []\n",
    "\n",
    "for ep in range(NUM_EPOCHS):\n",
    "    random.shuffle(dataset)\n",
    "    for i in range(len(dataset) // BATCH_SIZE):\n",
    "\n",
    "        batch_x, batch_y = zip(*dataset[i * BATCH_SIZE : i * BATCH_SIZE + BATCH_SIZE])\n",
    "        x = np.concatenate(batch_x, axis=0)\n",
    "        y = np.array(batch_y)\n",
    "\n",
    "        # Forward\n",
    "        t1 = x @ W1 + b1\n",
    "        h1 = F(t1)\n",
    "        t2 = h1 @ W2 + b2\n",
    "        h2 = F(t2)\n",
    "        t3 = h2 @ W3 + b3\n",
    "        z = t3\n",
    "        E = np.sum(L(z, y))\n",
    "\n",
    "        # Backward\n",
    "        dE_dt3 = z - y\n",
    "        dE_dW3 = h2.T @ dE_dt3\n",
    "        dE_db3 = np.sum(dE_dt3, axis=0, keepdims=True)\n",
    "        \n",
    "        dE_dh2 = dE_dt3 @ W3.T\n",
    "        dE_dt2 = dE_dh2 * F_deriv(t2)\n",
    "        dE_dW2 = h1.T @ dE_dt2\n",
    "        dE_db2 = np.sum(dE_dt2, axis=0, keepdims=True)\n",
    "\n",
    "        \n",
    "        dE_dh1 = dE_dt2 @ W2.T\n",
    "        dE_dt1 = dE_dh1 * F_deriv(t1)\n",
    "        dE_dW1 = x.T @ dE_dt1\n",
    "        dE_db1 = np.sum(dE_dt1, axis=0, keepdims=True)\n",
    "\n",
    "\n",
    "        # Update\n",
    "        W1 = W1 - ALPHA * dE_dW1\n",
    "        b1 = b1 - ALPHA * dE_db1\n",
    "        W2 = W2 - ALPHA * dE_dW2\n",
    "        b2 = b2 - ALPHA * dE_db2\n",
    "        W3 = W3 - ALPHA * dE_dW3\n",
    "        b3 = b3 - ALPHA * dE_db3\n",
    "\n",
    "        loss_arr.append(E)\n",
    "\n",
    "def predict(x):\n",
    "    t1 = x @ W1 + b1\n",
    "    h1 = F(t1)\n",
    "    t2 = h1 @ W2 + b2\n",
    "    h2 = F(t2)\n",
    "    t3 = h2 @ W3 + b3\n",
    "    z = t3\n",
    "    return z\n",
    "\n",
    "\n",
    "def calc_mse():\n",
    "    res = []\n",
    "    for x, y in dataset:\n",
    "        z = predict(x)\n",
    "        y_pred = z\n",
    "        res.append((y - y_pred)**2)\n",
    "    return np.sum(res)/len(dataset)\n",
    "\n",
    "mse = calc_mse()\n",
    "print(\"Mean square error: \", mse)\n",
    "\n",
    "import matplotlib.pyplot as plt\n",
    "plt.plot(loss_arr)\n",
    "plt.show()"
   ]
  },
  {
   "cell_type": "code",
   "execution_count": 165,
   "id": "2820c0c5",
   "metadata": {},
   "outputs": [
    {
     "data": {
      "text/plain": [
       "array([[ 4.15511947e+03,  1.48298765e-01, -2.46332053e-01,\n",
       "         1.36535173e-01,  7.35008927e+01],\n",
       "       [ 9.39904052e+02,  9.42664430e-01,  1.19371928e+00,\n",
       "        -1.17994403e-01,  5.59615537e+01],\n",
       "       [ 1.29124052e+04, -2.55285270e+00, -2.13764551e+00,\n",
       "        -6.69279296e-01, -5.58006171e+01],\n",
       "       [ 9.73616293e+03, -1.86340224e+00, -1.87579014e+00,\n",
       "        -1.01898902e+00, -4.31777822e+01],\n",
       "       [ 4.69988832e+03, -1.01360020e+00,  1.46734979e-03,\n",
       "        -3.57875434e-01,  7.34824167e+01],\n",
       "       [ 3.87821315e+03,  2.91176939e-01, -9.38228604e-01,\n",
       "        -5.36389474e-01,  5.80702456e+01],\n",
       "       [-8.73162911e+03,  2.02807219e+00,  1.48796991e+00,\n",
       "         2.56159616e-01,  5.15658741e+00],\n",
       "       [ 9.50060490e+03, -1.90244218e+00, -4.83770088e-01,\n",
       "        -3.28078313e-01,  3.12508341e+01],\n",
       "       [ 1.25062063e+04, -1.88822158e+00, -2.03906162e+00,\n",
       "        -1.16320209e+00,  5.53641883e+01],\n",
       "       [ 8.40559235e+03, -1.37079906e+00, -9.73065674e-01,\n",
       "         4.50324940e-01, -1.09213438e+01]])"
      ]
     },
     "execution_count": 165,
     "metadata": {},
     "output_type": "execute_result"
    }
   ],
   "source": [
    "W1"
   ]
  },
  {
   "cell_type": "code",
   "execution_count": 166,
   "id": "fc303e29",
   "metadata": {},
   "outputs": [
    {
     "data": {
      "text/plain": [
       "array([[ 6.30406422e-01, -6.16921468e-02, -2.88789912e-03,\n",
       "        -2.95155471e-02,  1.19434111e+00],\n",
       "       [ 2.65683653e+00, -3.32939116e+00,  1.27673810e+00,\n",
       "        -4.58242140e-01, -5.49853005e+03],\n",
       "       [ 3.09895888e+00, -2.57492776e+00,  7.31555288e-01,\n",
       "         3.84277837e-01, -5.49762230e+03],\n",
       "       [ 1.77746640e+00,  1.41521876e-01, -1.14124255e-01,\n",
       "        -7.41204475e-01, -5.48643255e+03],\n",
       "       [ 8.47629729e-02,  3.97862352e+00, -1.79862053e+00,\n",
       "         4.30711605e-01, -5.48706565e+03]])"
      ]
     },
     "execution_count": 166,
     "metadata": {},
     "output_type": "execute_result"
    }
   ],
   "source": [
    "W2"
   ]
  },
  {
   "cell_type": "code",
   "execution_count": 167,
   "id": "5d5d256d",
   "metadata": {},
   "outputs": [
    {
     "data": {
      "text/plain": [
       "array([[46.1580506 ],\n",
       "       [-1.59790915],\n",
       "       [-2.49787445],\n",
       "       [-1.08453676],\n",
       "       [26.52231305]])"
      ]
     },
     "execution_count": 167,
     "metadata": {},
     "output_type": "execute_result"
    }
   ],
   "source": [
    "W3"
   ]
  },
  {
   "cell_type": "markdown",
   "id": "0f3b035f",
   "metadata": {},
   "source": [
    "# Задача классификации"
   ]
  },
  {
   "cell_type": "code",
   "execution_count": 169,
   "id": "692a6617",
   "metadata": {},
   "outputs": [],
   "source": [
    "from sklearn import datasets\n",
    "iris = datasets.load_iris()\n",
    "dataset = [(iris.data[i][None, ...], iris.target[i]) for i in range(len(iris.target))]"
   ]
  },
  {
   "cell_type": "code",
   "execution_count": 172,
   "id": "5f647f17",
   "metadata": {},
   "outputs": [
    {
     "data": {
      "text/plain": [
       "(150, 4)"
      ]
     },
     "execution_count": 172,
     "metadata": {},
     "output_type": "execute_result"
    }
   ],
   "source": [
    "iris.data.shape"
   ]
  },
  {
   "cell_type": "code",
   "execution_count": 178,
   "id": "f260100f",
   "metadata": {},
   "outputs": [
    {
     "name": "stdout",
     "output_type": "stream",
     "text": [
      ".. _iris_dataset:\n",
      "\n",
      "Iris plants dataset\n",
      "--------------------\n",
      "\n",
      "**Data Set Characteristics:**\n",
      "\n",
      "    :Number of Instances: 150 (50 in each of three classes)\n",
      "    :Number of Attributes: 4 numeric, predictive attributes and the class\n",
      "    :Attribute Information:\n",
      "        - sepal length in cm\n",
      "        - sepal width in cm\n",
      "        - petal length in cm\n",
      "        - petal width in cm\n",
      "        - class:\n",
      "                - Iris-Setosa\n",
      "                - Iris-Versicolour\n",
      "                - Iris-Virginica\n",
      "                \n",
      "    :Summary Statistics:\n",
      "\n",
      "    ============== ==== ==== ======= ===== ====================\n",
      "                    Min  Max   Mean    SD   Class Correlation\n",
      "    ============== ==== ==== ======= ===== ====================\n",
      "    sepal length:   4.3  7.9   5.84   0.83    0.7826\n",
      "    sepal width:    2.0  4.4   3.05   0.43   -0.4194\n",
      "    petal length:   1.0  6.9   3.76   1.76    0.9490  (high!)\n",
      "    petal width:    0.1  2.5   1.20   0.76    0.9565  (high!)\n",
      "    ============== ==== ==== ======= ===== ====================\n",
      "\n",
      "    :Missing Attribute Values: None\n",
      "    :Class Distribution: 33.3% for each of 3 classes.\n",
      "    :Creator: R.A. Fisher\n",
      "    :Donor: Michael Marshall (MARSHALL%PLU@io.arc.nasa.gov)\n",
      "    :Date: July, 1988\n",
      "\n",
      "The famous Iris database, first used by Sir R.A. Fisher. The dataset is taken\n",
      "from Fisher's paper. Note that it's the same as in R, but not as in the UCI\n",
      "Machine Learning Repository, which has two wrong data points.\n",
      "\n",
      "This is perhaps the best known database to be found in the\n",
      "pattern recognition literature.  Fisher's paper is a classic in the field and\n",
      "is referenced frequently to this day.  (See Duda & Hart, for example.)  The\n",
      "data set contains 3 classes of 50 instances each, where each class refers to a\n",
      "type of iris plant.  One class is linearly separable from the other 2; the\n",
      "latter are NOT linearly separable from each other.\n",
      "\n",
      ".. topic:: References\n",
      "\n",
      "   - Fisher, R.A. \"The use of multiple measurements in taxonomic problems\"\n",
      "     Annual Eugenics, 7, Part II, 179-188 (1936); also in \"Contributions to\n",
      "     Mathematical Statistics\" (John Wiley, NY, 1950).\n",
      "   - Duda, R.O., & Hart, P.E. (1973) Pattern Classification and Scene Analysis.\n",
      "     (Q327.D83) John Wiley & Sons.  ISBN 0-471-22361-1.  See page 218.\n",
      "   - Dasarathy, B.V. (1980) \"Nosing Around the Neighborhood: A New System\n",
      "     Structure and Classification Rule for Recognition in Partially Exposed\n",
      "     Environments\".  IEEE Transactions on Pattern Analysis and Machine\n",
      "     Intelligence, Vol. PAMI-2, No. 1, 67-71.\n",
      "   - Gates, G.W. (1972) \"The Reduced Nearest Neighbor Rule\".  IEEE Transactions\n",
      "     on Information Theory, May 1972, 431-433.\n",
      "   - See also: 1988 MLC Proceedings, 54-64.  Cheeseman et al\"s AUTOCLASS II\n",
      "     conceptual clustering system finds 3 classes in the data.\n",
      "   - Many, many more ...\n"
     ]
    }
   ],
   "source": [
    "print(iris.DESCR)"
   ]
  },
  {
   "cell_type": "code",
   "execution_count": 174,
   "id": "6a883545",
   "metadata": {},
   "outputs": [
    {
     "data": {
      "text/plain": [
       "array([5.1, 3.5, 1.4, 0.2])"
      ]
     },
     "execution_count": 174,
     "metadata": {},
     "output_type": "execute_result"
    }
   ],
   "source": [
    "iris.data[0]"
   ]
  },
  {
   "cell_type": "code",
   "execution_count": 175,
   "id": "38f5c9d6",
   "metadata": {},
   "outputs": [
    {
     "data": {
      "text/plain": [
       "{0, 1, 2}"
      ]
     },
     "execution_count": 175,
     "metadata": {},
     "output_type": "execute_result"
    }
   ],
   "source": [
    "set(iris.target)"
   ]
  },
  {
   "cell_type": "code",
   "execution_count": 180,
   "id": "e01c7bfd",
   "metadata": {},
   "outputs": [
    {
     "data": {
      "image/png": "[encoded data removed]",
      "text/plain": [
       "<Figure size 432x288 with 1 Axes>"
      ]
     },
     "metadata": {
      "needs_background": "light"
     },
     "output_type": "display_data"
    },
    {
     "data": {
      "image/png": "[encoded data removed]",
      "text/plain": [
       "<Figure size 432x288 with 1 Axes>"
      ]
     },
     "metadata": {
      "needs_background": "light"
     },
     "output_type": "display_data"
    },
    {
     "data": {
      "image/png": "[encoded data removed]",
      "text/plain": [
       "<Figure size 432x288 with 1 Axes>"
      ]
     },
     "metadata": {
      "needs_background": "light"
     },
     "output_type": "display_data"
    },
    {
     "data": {
      "image/png": "[encoded data removed]",
      "text/plain": [
       "<Figure size 432x288 with 1 Axes>"
      ]
     },
     "metadata": {
      "needs_background": "light"
     },
     "output_type": "display_data"
    }
   ],
   "source": [
    "for i in range(4):\n",
    "    plt.figure()\n",
    "    plt.title(i)\n",
    "    plt.scatter(iris.data[:,i], iris.target)"
   ]
  },
  {
   "cell_type": "code",
   "execution_count": 170,
   "id": "5cc40b65",
   "metadata": {},
   "outputs": [
    {
     "name": "stdout",
     "output_type": "stream",
     "text": [
      "Accuracy: 0.96\n"
     ]
    },
    {
     "data": {
      "image/png": "[encoded data removed]",
      "text/plain": [
       "<Figure size 432x288 with 1 Axes>"
      ]
     },
     "metadata": {
      "needs_background": "light"
     },
     "output_type": "display_data"
    }
   ],
   "source": [
    "INPUT_DIM = 4\n",
    "OUT_DIM = 3\n",
    "H_DIM = 10\n",
    "\n",
    "def relu(t):\n",
    "    return np.maximum(t, 0)\n",
    "\n",
    "def softmax(t):\n",
    "    out = np.exp(t)\n",
    "    return out / np.sum(out)\n",
    "\n",
    "def softmax_batch(t):\n",
    "    out = np.exp(t)\n",
    "    return out / np.sum(out, axis=1, keepdims=True)\n",
    "\n",
    "def sparse_cross_entropy(z, y):\n",
    "    return -np.log(z[0, y])\n",
    "\n",
    "def sparse_cross_entropy_batch(z, y):\n",
    "    return -np.log(np.array([z[j, y[j]] for j in range(len(y))]))\n",
    "\n",
    "def to_full(y, num_classes):\n",
    "    y_full = np.zeros((1, num_classes))\n",
    "    y_full[0, y] = 1\n",
    "    return y_full\n",
    "\n",
    "def to_full_batch(y, num_classes):\n",
    "    y_full = np.zeros((len(y), num_classes))\n",
    "    for j, yj in enumerate(y):\n",
    "        y_full[j, yj] = 1\n",
    "    return y_full\n",
    "\n",
    "def relu_deriv(t):\n",
    "    return (t >= 0).astype(float)\n",
    "\n",
    "\n",
    "W1 = np.random.rand(INPUT_DIM, H_DIM)\n",
    "b1 = np.random.rand(1, H_DIM)\n",
    "W2 = np.random.rand(H_DIM, OUT_DIM)\n",
    "b2 = np.random.rand(1, OUT_DIM)\n",
    "\n",
    "W1 = (W1 - 0.5) * 2 # * np.sqrt(1/INPUT_DIM)\n",
    "b1 = (b1 - 0.5) * 2 # * np.sqrt(1/INPUT_DIM)\n",
    "W2 = (W2 - 0.5) * 2 # * np.sqrt(1/H_DIM)\n",
    "b2 = (b2 - 0.5) * 2 # * np.sqrt(1/H_DIM)\n",
    "\n",
    "ALPHA = 0.0002\n",
    "NUM_EPOCHS = 400\n",
    "BATCH_SIZE = 50\n",
    "\n",
    "loss_arr = []\n",
    "\n",
    "for ep in range(NUM_EPOCHS):\n",
    "    random.shuffle(dataset)\n",
    "    for i in range(len(dataset) // BATCH_SIZE):\n",
    "\n",
    "        batch_x, batch_y = zip(*dataset[i*BATCH_SIZE : i*BATCH_SIZE+BATCH_SIZE])\n",
    "        x = np.concatenate(batch_x, axis=0)\n",
    "        y = np.array(batch_y)\n",
    "\n",
    "        # Forward\n",
    "        t1 = x @ W1 + b1\n",
    "        h1 = relu(t1)\n",
    "        t2 = h1 @ W2 + b2\n",
    "        z = softmax_batch(t2)\n",
    "        E = np.sum(sparse_cross_entropy_batch(z, y))\n",
    "\n",
    "        # Backward\n",
    "        y_full = to_full_batch(y, OUT_DIM)\n",
    "        dE_dt2 = z - y_full\n",
    "        dE_dW2 = h1.T @ dE_dt2\n",
    "        dE_db2 = np.sum(dE_dt2, axis=0, keepdims=True)\n",
    "        dE_dh1 = dE_dt2 @ W2.T\n",
    "        dE_dt1 = dE_dh1 * relu_deriv(t1)\n",
    "        dE_dW1 = x.T @ dE_dt1\n",
    "        dE_db1 = np.sum(dE_dt1, axis=0, keepdims=True)\n",
    "\n",
    "        # Update\n",
    "        W1 = W1 - ALPHA * dE_dW1\n",
    "        b1 = b1 - ALPHA * dE_db1\n",
    "        W2 = W2 - ALPHA * dE_dW2\n",
    "        b2 = b2 - ALPHA * dE_db2\n",
    "\n",
    "        loss_arr.append(E)\n",
    "\n",
    "def predict(x):\n",
    "    t1 = x @ W1 + b1\n",
    "    h1 = relu(t1)\n",
    "    t2 = h1 @ W2 + b2\n",
    "    z = softmax_batch(t2)\n",
    "    return z\n",
    "\n",
    "def calc_accuracy():\n",
    "    correct = 0\n",
    "    for x, y in dataset:\n",
    "        z = predict(x)\n",
    "        y_pred = np.argmax(z)\n",
    "        if y_pred == y:\n",
    "            correct += 1\n",
    "    acc = correct / len(dataset)\n",
    "    return acc\n",
    "\n",
    "accuracy = calc_accuracy()\n",
    "print(\"Accuracy:\", accuracy)\n",
    "\n",
    "import matplotlib.pyplot as plt\n",
    "plt.plot(loss_arr)\n",
    "plt.show()"
   ]
  },
  {
   "cell_type": "code",
   "execution_count": 185,
   "id": "16eb5e08",
   "metadata": {},
   "outputs": [],
   "source": [
    "from sklearn import datasets\n",
    "digits = datasets.load_digits()\n",
    "dataset = [(digits.data[i][None, ...], digits.target[i]) for i in range(len(digits.target))]"
   ]
  },
  {
   "cell_type": "code",
   "execution_count": 186,
   "id": "769992c4",
   "metadata": {},
   "outputs": [
    {
     "data": {
      "text/plain": [
       "(1797, 64)"
      ]
     },
     "execution_count": 186,
     "metadata": {},
     "output_type": "execute_result"
    }
   ],
   "source": [
    "digits.data.shape"
   ]
  },
  {
   "cell_type": "code",
   "execution_count": 189,
   "id": "abc8194c",
   "metadata": {},
   "outputs": [
    {
     "data": {
      "text/plain": [
       "{0, 1, 2, 3, 4, 5, 6, 7, 8, 9}"
      ]
     },
     "execution_count": 189,
     "metadata": {},
     "output_type": "execute_result"
    }
   ],
   "source": [
    "set(digits.target)"
   ]
  },
  {
   "cell_type": "code",
   "execution_count": 190,
   "id": "cb384fe1",
   "metadata": {},
   "outputs": [
    {
     "name": "stdout",
     "output_type": "stream",
     "text": [
      ".. _digits_dataset:\n",
      "\n",
      "Optical recognition of handwritten digits dataset\n",
      "--------------------------------------------------\n",
      "\n",
      "**Data Set Characteristics:**\n",
      "\n",
      "    :Number of Instances: 5620\n",
      "    :Number of Attributes: 64\n",
      "    :Attribute Information: 8x8 image of integer pixels in the range 0..16.\n",
      "    :Missing Attribute Values: None\n",
      "    :Creator: E. Alpaydin (alpaydin '@' boun.edu.tr)\n",
      "    :Date: July; 1998\n",
      "\n",
      "This is a copy of the test set of the UCI ML hand-written digits datasets\n",
      "https://archive.ics.uci.edu/ml/datasets/Optical+Recognition+of+Handwritten+Digits\n",
      "\n",
      "The data set contains images of hand-written digits: 10 classes where\n",
      "each class refers to a digit.\n",
      "\n",
      "Preprocessing programs made available by NIST were used to extract\n",
      "normalized bitmaps of handwritten digits from a preprinted form. From a\n",
      "total of 43 people, 30 contributed to the training set and different 13\n",
      "to the test set. 32x32 bitmaps are divided into nonoverlapping blocks of\n",
      "4x4 and the number of on pixels are counted in each block. This generates\n",
      "an input matrix of 8x8 where each element is an integer in the range\n",
      "0..16. This reduces dimensionality and gives invariance to small\n",
      "distortions.\n",
      "\n",
      "For info on NIST preprocessing routines, see M. D. Garris, J. L. Blue, G.\n",
      "T. Candela, D. L. Dimmick, J. Geist, P. J. Grother, S. A. Janet, and C.\n",
      "L. Wilson, NIST Form-Based Handprint Recognition System, NISTIR 5469,\n",
      "1994.\n",
      "\n",
      ".. topic:: References\n",
      "\n",
      "  - C. Kaynak (1995) Methods of Combining Multiple Classifiers and Their\n",
      "    Applications to Handwritten Digit Recognition, MSc Thesis, Institute of\n",
      "    Graduate Studies in Science and Engineering, Bogazici University.\n",
      "  - E. Alpaydin, C. Kaynak (1998) Cascading Classifiers, Kybernetika.\n",
      "  - Ken Tang and Ponnuthurai N. Suganthan and Xi Yao and A. Kai Qin.\n",
      "    Linear dimensionalityreduction using relevance weighted LDA. School of\n",
      "    Electrical and Electronic Engineering Nanyang Technological University.\n",
      "    2005.\n",
      "  - Claudio Gentile. A New Approximate Maximal Margin Classification\n",
      "    Algorithm. NIPS. 2000.\n"
     ]
    }
   ],
   "source": [
    "print(digits.DESCR)"
   ]
  },
  {
   "cell_type": "code",
   "execution_count": 191,
   "id": "19d74db5",
   "metadata": {},
   "outputs": [
    {
     "data": {
      "text/plain": [
       "array([ 0.,  0.,  5., 13.,  9.,  1.,  0.,  0.,  0.,  0., 13., 15., 10.,\n",
       "       15.,  5.,  0.,  0.,  3., 15.,  2.,  0., 11.,  8.,  0.,  0.,  4.,\n",
       "       12.,  0.,  0.,  8.,  8.,  0.,  0.,  5.,  8.,  0.,  0.,  9.,  8.,\n",
       "        0.,  0.,  4., 11.,  0.,  1., 12.,  7.,  0.,  0.,  2., 14.,  5.,\n",
       "       10., 12.,  0.,  0.,  0.,  0.,  6., 13., 10.,  0.,  0.,  0.])"
      ]
     },
     "execution_count": 191,
     "metadata": {},
     "output_type": "execute_result"
    }
   ],
   "source": [
    "digits.data[0]"
   ]
  },
  {
   "cell_type": "code",
   "execution_count": 212,
   "id": "29497e58",
   "metadata": {},
   "outputs": [
    {
     "data": {
      "text/plain": [
       "16.0"
      ]
     },
     "execution_count": 212,
     "metadata": {},
     "output_type": "execute_result"
    }
   ],
   "source": [
    "digits.data.max()"
   ]
  },
  {
   "cell_type": "code",
   "execution_count": 211,
   "id": "5d9da67e",
   "metadata": {},
   "outputs": [
    {
     "name": "stdout",
     "output_type": "stream",
     "text": [
      "3\n"
     ]
    },
    {
     "data": {
      "image/png": "[encoded data removed]",
      "text/plain": [
       "<Figure size 288x288 with 1 Axes>"
      ]
     },
     "metadata": {
      "needs_background": "light"
     },
     "output_type": "display_data"
    }
   ],
   "source": [
    "i = 13\n",
    "print(digits.target[i])\n",
    "plt.matshow(digits.data[i].reshape(8, 8), cmap=plt.cm.gray);"
   ]
  },
  {
   "cell_type": "code",
   "execution_count": 188,
   "id": "3b478d48",
   "metadata": {},
   "outputs": [
    {
     "name": "stdout",
     "output_type": "stream",
     "text": [
      "Accuracy: 0.8653311074012242\n"
     ]
    },
    {
     "data": {
      "image/png": "[encoded data removed]",
      "text/plain": [
       "<Figure size 432x288 with 1 Axes>"
      ]
     },
     "metadata": {
      "needs_background": "light"
     },
     "output_type": "display_data"
    }
   ],
   "source": [
    "INPUT_DIM = 64\n",
    "OUT_DIM = 10\n",
    "H_DIM = 10\n",
    "\n",
    "def relu(t):\n",
    "    return np.maximum(t, 0)\n",
    "\n",
    "def softmax(t):\n",
    "    out = np.exp(t)\n",
    "    return out / np.sum(out)\n",
    "\n",
    "def softmax_batch(t):\n",
    "    out = np.exp(t)\n",
    "    return out / np.sum(out, axis=1, keepdims=True)\n",
    "\n",
    "def sparse_cross_entropy(z, y):\n",
    "    return -np.log(z[0, y])\n",
    "\n",
    "def sparse_cross_entropy_batch(z, y):\n",
    "    return -np.log(np.array([z[j, y[j]] for j in range(len(y))]))\n",
    "\n",
    "def to_full(y, num_classes):\n",
    "    y_full = np.zeros((1, num_classes))\n",
    "    y_full[0, y] = 1\n",
    "    return y_full\n",
    "\n",
    "def to_full_batch(y, num_classes):\n",
    "    y_full = np.zeros((len(y), num_classes))\n",
    "    for j, yj in enumerate(y):\n",
    "        y_full[j, yj] = 1\n",
    "    return y_full\n",
    "\n",
    "def relu_deriv(t):\n",
    "    return (t >= 0).astype(float)\n",
    "\n",
    "\n",
    "W1 = np.random.rand(INPUT_DIM, H_DIM)\n",
    "b1 = np.random.rand(1, H_DIM)\n",
    "W2 = np.random.rand(H_DIM, OUT_DIM)\n",
    "b2 = np.random.rand(1, OUT_DIM)\n",
    "\n",
    "W1 = (W1 - 0.5) * 2 # * np.sqrt(1/INPUT_DIM)\n",
    "b1 = (b1 - 0.5) * 2 # * np.sqrt(1/INPUT_DIM)\n",
    "W2 = (W2 - 0.5) * 2 # * np.sqrt(1/H_DIM)\n",
    "b2 = (b2 - 0.5) * 2 # * np.sqrt(1/H_DIM)\n",
    "\n",
    "ALPHA = 0.0002\n",
    "NUM_EPOCHS = 400\n",
    "BATCH_SIZE = 50\n",
    "\n",
    "loss_arr = []\n",
    "\n",
    "for ep in range(NUM_EPOCHS):\n",
    "    random.shuffle(dataset)\n",
    "    for i in range(len(dataset) // BATCH_SIZE):\n",
    "\n",
    "        batch_x, batch_y = zip(*dataset[i*BATCH_SIZE : i*BATCH_SIZE+BATCH_SIZE])\n",
    "        x = np.concatenate(batch_x, axis=0)\n",
    "        y = np.array(batch_y)\n",
    "\n",
    "        # Forward\n",
    "        t1 = x @ W1 + b1\n",
    "        h1 = relu(t1)\n",
    "        t2 = h1 @ W2 + b2\n",
    "        z = softmax_batch(t2)\n",
    "        E = np.sum(sparse_cross_entropy_batch(z, y))\n",
    "\n",
    "        # Backward\n",
    "        y_full = to_full_batch(y, OUT_DIM)\n",
    "        dE_dt2 = z - y_full\n",
    "        dE_dW2 = h1.T @ dE_dt2\n",
    "        dE_db2 = np.sum(dE_dt2, axis=0, keepdims=True)\n",
    "        dE_dh1 = dE_dt2 @ W2.T\n",
    "        dE_dt1 = dE_dh1 * relu_deriv(t1)\n",
    "        dE_dW1 = x.T @ dE_dt1\n",
    "        dE_db1 = np.sum(dE_dt1, axis=0, keepdims=True)\n",
    "\n",
    "        # Update\n",
    "        W1 = W1 - ALPHA * dE_dW1\n",
    "        b1 = b1 - ALPHA * dE_db1\n",
    "        W2 = W2 - ALPHA * dE_dW2\n",
    "        b2 = b2 - ALPHA * dE_db2\n",
    "\n",
    "        loss_arr.append(E)\n",
    "\n",
    "def predict(x):\n",
    "    t1 = x @ W1 + b1\n",
    "    h1 = relu(t1)\n",
    "    t2 = h1 @ W2 + b2\n",
    "    z = softmax_batch(t2)\n",
    "    return z\n",
    "\n",
    "def calc_accuracy():\n",
    "    correct = 0\n",
    "    for x, y in dataset:\n",
    "        z = predict(x)\n",
    "        y_pred = np.argmax(z)\n",
    "        if y_pred == y:\n",
    "            correct += 1\n",
    "    acc = correct / len(dataset)\n",
    "    return acc\n",
    "\n",
    "accuracy = calc_accuracy()\n",
    "print(\"Accuracy:\", accuracy)\n",
    "\n",
    "import matplotlib.pyplot as plt\n",
    "plt.plot(loss_arr)\n",
    "plt.show()"
   ]
  },
  {
   "cell_type": "code",
   "execution_count": 247,
   "id": "f6541b15",
   "metadata": {},
   "outputs": [],
   "source": [
    "x = np.array([[0, 0, 16, 16, 16,  16, 0, 0, \n",
    "               0, 16,  0,  0,  0,  0, 0, 0,\n",
    "               0, 16,  0,  0,  0,  0, 0, 0,\n",
    "               0, 16, 16, 16, 16, 0, 0, 0,\n",
    "               0,  0,  0,  0,  0, 16, 0, 0,\n",
    "               0,  0,  0,  0,  0, 16, 0, 0,\n",
    "               0, 16,  0,  0, 16,  0, 0, 0,\n",
    "               0,  0, 16, 16,  0,  0, 0, 0]])"
   ]
  },
  {
   "cell_type": "code",
   "execution_count": 248,
   "id": "da99d91e",
   "metadata": {},
   "outputs": [
    {
     "data": {
      "text/plain": [
       "array([[2.27674865e-24, 8.46751825e-28, 4.03037278e-19, 6.94703464e-33,\n",
       "        1.71679776e-33, 1.00000000e+00, 9.88597822e-40, 2.82746444e-20,\n",
       "        1.02937324e-26, 6.95208379e-30]])"
      ]
     },
     "execution_count": 248,
     "metadata": {},
     "output_type": "execute_result"
    }
   ],
   "source": [
    "predict(x)"
   ]
  },
  {
   "cell_type": "code",
   "execution_count": 249,
   "id": "f10b9d0c",
   "metadata": {},
   "outputs": [
    {
     "data": {
      "text/plain": [
       "5"
      ]
     },
     "execution_count": 249,
     "metadata": {},
     "output_type": "execute_result"
    }
   ],
   "source": [
    "np.argmax(predict(x))"
   ]
  },
  {
   "cell_type": "code",
   "execution_count": null,
   "id": "59beb399",
   "metadata": {},
   "outputs": [],
   "source": []
  },
  {
   "cell_type": "code",
   "execution_count": null,
   "id": "4e943443",
   "metadata": {},
   "outputs": [],
   "source": []
  }
 ],
 "metadata": {
  "kernelspec": {
   "display_name": "Python 3",
   "language": "python",
   "name": "python3"
  },
  "language_info": {
   "codemirror_mode": {
    "name": "ipython",
    "version": 3
   },
   "file_extension": ".py",
   "mimetype": "text/x-python",
   "name": "python",
   "nbconvert_exporter": "python",
   "pygments_lexer": "ipython3",
   "version": "3.10.12"
  }
 },
 "nbformat": 4,
 "nbformat_minor": 5
}
