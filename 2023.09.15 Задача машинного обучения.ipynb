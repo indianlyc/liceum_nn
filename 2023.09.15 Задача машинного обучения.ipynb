{
 "cells": [
  {
   "cell_type": "code",
   "execution_count": 2,
   "id": "4f61e3ae",
   "metadata": {
    "slideshow": {
     "slide_type": "skip"
    }
   },
   "outputs": [
    {
     "name": "stdout",
     "output_type": "stream",
     "text": [
      "Defaulting to user installation because normal site-packages is not writeable\n",
      "Requirement already satisfied: numpy in /home/indianlyc/.local/lib/python3.10/site-packages (1.23.5)\n",
      "Defaulting to user installation because normal site-packages is not writeable\n",
      "Requirement already satisfied: matplotlib in /usr/lib/python3/dist-packages (3.5.1)\n"
     ]
    }
   ],
   "source": [
    "!pip install numpy\n",
    "!pip install matplotlib"
   ]
  },
  {
   "cell_type": "markdown",
   "id": "9b14714f",
   "metadata": {
    "slideshow": {
     "slide_type": "skip"
    }
   },
   "source": [
    "Нейронная сеть - сеть состоящая из нейронов. Граф нейронов, ребра - синапсы. На самомо деле к нейросетям в голове никакого отношения не имеет - Граф вычислений.\n",
    "Задачи нейронных сетей\n",
    "Классификация\n",
    "Регрессия\n",
    "Генерация\n",
    "Обучение с подкреплением\n",
    "\n",
    "Нейрон\n",
    "res = f(w1*a1 + w2*a2 + ... + wn*an)\n",
    "Слой нейронной сети\n",
    "Обучение нейронной сети\n",
    "Градиентный спуск\n",
    "Производная, дифференцирование, дифференцирование сложной функции\n",
    "Обратное распространение ошибки"
   ]
  },
  {
   "cell_type": "markdown",
   "id": "78678d6b",
   "metadata": {
    "slideshow": {
     "slide_type": "slide"
    }
   },
   "source": [
    "# Задача машинного обучения с учителем "
   ]
  },
  {
   "cell_type": "markdown",
   "id": "d64927dc",
   "metadata": {
    "slideshow": {
     "slide_type": "subslide"
    }
   },
   "source": [
    "![Разработка алгоритма!](2023.09.15/1.png \"Разработка алгоритма\")"
   ]
  },
  {
   "cell_type": "markdown",
   "id": "364dd64b",
   "metadata": {
    "slideshow": {
     "slide_type": "subslide"
    }
   },
   "source": [
    "![Разработка алгоритма на самом деле!](2023.09.15/2.png \"Разработка алгоритма на самом деле\")"
   ]
  },
  {
   "cell_type": "markdown",
   "id": "5a6bd21a",
   "metadata": {
    "slideshow": {
     "slide_type": "subslide"
    }
   },
   "source": [
    "![Разработка алгоритма машинного обучения!](2023.09.15/3.png \"Разработка алгоритма машинного обучения\")"
   ]
  },
  {
   "cell_type": "markdown",
   "id": "f8c866fa",
   "metadata": {
    "slideshow": {
     "slide_type": "subslide"
    }
   },
   "source": [
    "![К чему сводится машинное обучение!](2023.09.15/4.png \"К чему сводится машинное обучение\")"
   ]
  },
  {
   "cell_type": "markdown",
   "id": "79231807",
   "metadata": {
    "slideshow": {
     "slide_type": "subslide"
    }
   },
   "source": [
    "# Задача машинного обучения с учителем \n",
    "$$ w = \\min_{w} L(y_{train}, A(X_{train}, w))$$"
   ]
  },
  {
   "cell_type": "markdown",
   "id": "828c0032",
   "metadata": {
    "slideshow": {
     "slide_type": "skip"
    }
   },
   "source": [
    "По **известным данным**, построить такую **функцию**, что на **новых данных** она будет давать **правильные результаты**"
   ]
  },
  {
   "cell_type": "markdown",
   "id": "7a21ba05",
   "metadata": {
    "slideshow": {
     "slide_type": "skip"
    }
   },
   "source": [
    "Входные данные для задач машинного обучения:\n",
    "\n",
    "А - семейство алгоритмов, алгоритмы задаются параметрами w.  \n",
    "train_data = (X_train, y_train) - данные с известными ответами  \n",
    "test_data = (X_test, y_test) - данные с известными ответами\n",
    "X - данные на которые мы хотим получить ответ \n",
    "s - порог ошибки\n",
    "L - функция оценки качества алгоритма\n",
    "B - бизнес требования к качеству на основании порога ошибки\n",
    "\n",
    "\n",
    "Что нужно сделать:  \n",
    "\n",
    "w - веса (параметры) пока не известные нам  \n",
    "\n",
    "по train_data получить F(X, w) из семейства A(X)\n",
    "y_res = F(X, w) - функция от параметров X и w  \n",
    "\n",
    "Задача: на основании train_data найти такие веса w, что F(X, w) даст правильный результат на данные X"
   ]
  },
  {
   "cell_type": "markdown",
   "id": "e48fbdf7",
   "metadata": {
    "slideshow": {
     "slide_type": "subslide"
    }
   },
   "source": []
  },
  {
   "cell_type": "code",
   "execution_count": null,
   "id": "132480f5",
   "metadata": {},
   "outputs": [],
   "source": []
  }
 ],
 "metadata": {
  "celltoolbar": "Slideshow",
  "kernelspec": {
   "display_name": "Python 3",
   "language": "python",
   "name": "python3"
  },
  "language_info": {
   "codemirror_mode": {
    "name": "ipython",
    "version": 3
   },
   "file_extension": ".py",
   "mimetype": "text/x-python",
   "name": "python",
   "nbconvert_exporter": "python",
   "pygments_lexer": "ipython3",
   "version": "3.10.12"
  }
 },
 "nbformat": 4,
 "nbformat_minor": 5
}
