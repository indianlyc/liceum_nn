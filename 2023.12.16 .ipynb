{
 "cells": [
  {
   "cell_type": "markdown",
   "id": "00258907",
   "metadata": {},
   "source": [
    "https://github.com/felixchenfy/Speech-Commands-Classification-by-LSTM-PyTorch/blob/master/Report.ipynb"
   ]
  },
  {
   "cell_type": "code",
   "execution_count": null,
   "id": "4fa6aeb8",
   "metadata": {},
   "outputs": [],
   "source": []
  }
 ],
 "metadata": {
  "kernelspec": {
   "display_name": "Python 3",
   "language": "python",
   "name": "python3"
  },
  "language_info": {
   "codemirror_mode": {
    "name": "ipython",
    "version": 3
   },
   "file_extension": ".py",
   "mimetype": "text/x-python",
   "name": "python",
   "nbconvert_exporter": "python",
   "pygments_lexer": "ipython3",
   "version": "3.10.12"
  }
 },
 "nbformat": 4,
 "nbformat_minor": 5
}
