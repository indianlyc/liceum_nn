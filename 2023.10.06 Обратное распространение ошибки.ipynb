{
 "cells": [
  {
   "cell_type": "code",
   "execution_count": 19,
   "id": "1e140d21",
   "metadata": {},
   "outputs": [],
   "source": [
    "import numpy as np\n",
    "import pandas as pd"
   ]
  },
  {
   "cell_type": "code",
   "execution_count": 20,
   "id": "d9fc6367",
   "metadata": {},
   "outputs": [],
   "source": [
    "def f(x):\n",
    "    return x * x"
   ]
  },
  {
   "cell_type": "code",
   "execution_count": 21,
   "id": "3d0065ec",
   "metadata": {},
   "outputs": [
    {
     "data": {
      "text/html": [
       "<div>\n",
       "<style scoped>\n",
       "    .dataframe tbody tr th:only-of-type {\n",
       "        vertical-align: middle;\n",
       "    }\n",
       "\n",
       "    .dataframe tbody tr th {\n",
       "        vertical-align: top;\n",
       "    }\n",
       "\n",
       "    .dataframe thead th {\n",
       "        text-align: right;\n",
       "    }\n",
       "</style>\n",
       "<table border=\"1\" class=\"dataframe\">\n",
       "  <thead>\n",
       "    <tr style=\"text-align: right;\">\n",
       "      <th></th>\n",
       "      <th>x</th>\n",
       "      <th>b</th>\n",
       "      <th>y</th>\n",
       "    </tr>\n",
       "  </thead>\n",
       "  <tbody>\n",
       "    <tr>\n",
       "      <th>0</th>\n",
       "      <td>0</td>\n",
       "      <td>1</td>\n",
       "      <td>0</td>\n",
       "    </tr>\n",
       "    <tr>\n",
       "      <th>1</th>\n",
       "      <td>1</td>\n",
       "      <td>1</td>\n",
       "      <td>1</td>\n",
       "    </tr>\n",
       "    <tr>\n",
       "      <th>2</th>\n",
       "      <td>4</td>\n",
       "      <td>1</td>\n",
       "      <td>2</td>\n",
       "    </tr>\n",
       "    <tr>\n",
       "      <th>3</th>\n",
       "      <td>9</td>\n",
       "      <td>1</td>\n",
       "      <td>3</td>\n",
       "    </tr>\n",
       "    <tr>\n",
       "      <th>4</th>\n",
       "      <td>16</td>\n",
       "      <td>1</td>\n",
       "      <td>4</td>\n",
       "    </tr>\n",
       "    <tr>\n",
       "      <th>5</th>\n",
       "      <td>25</td>\n",
       "      <td>1</td>\n",
       "      <td>5</td>\n",
       "    </tr>\n",
       "    <tr>\n",
       "      <th>6</th>\n",
       "      <td>36</td>\n",
       "      <td>1</td>\n",
       "      <td>6</td>\n",
       "    </tr>\n",
       "    <tr>\n",
       "      <th>7</th>\n",
       "      <td>49</td>\n",
       "      <td>1</td>\n",
       "      <td>7</td>\n",
       "    </tr>\n",
       "    <tr>\n",
       "      <th>8</th>\n",
       "      <td>64</td>\n",
       "      <td>1</td>\n",
       "      <td>8</td>\n",
       "    </tr>\n",
       "    <tr>\n",
       "      <th>9</th>\n",
       "      <td>81</td>\n",
       "      <td>1</td>\n",
       "      <td>9</td>\n",
       "    </tr>\n",
       "  </tbody>\n",
       "</table>\n",
       "</div>"
      ],
      "text/plain": [
       "    x  b  y\n",
       "0   0  1  0\n",
       "1   1  1  1\n",
       "2   4  1  2\n",
       "3   9  1  3\n",
       "4  16  1  4\n",
       "5  25  1  5\n",
       "6  36  1  6\n",
       "7  49  1  7\n",
       "8  64  1  8\n",
       "9  81  1  9"
      ]
     },
     "execution_count": 21,
     "metadata": {},
     "output_type": "execute_result"
    }
   ],
   "source": [
    "n = 10\n",
    "data = pd.DataFrame({\n",
    "    \"y\": np.array(range(n)),\n",
    "    \"x\": f(np.array(range(n))),\n",
    "    # \"x2\": f(np.array(range(n)))/2,\n",
    "    \"b\": 1,\n",
    "})[[\"x\", \"b\", \"y\"]]\n",
    "data"
   ]
  },
  {
   "cell_type": "code",
   "execution_count": 22,
   "id": "162b0992",
   "metadata": {},
   "outputs": [
    {
     "data": {
      "text/html": [
       "<div>\n",
       "<style scoped>\n",
       "    .dataframe tbody tr th:only-of-type {\n",
       "        vertical-align: middle;\n",
       "    }\n",
       "\n",
       "    .dataframe tbody tr th {\n",
       "        vertical-align: top;\n",
       "    }\n",
       "\n",
       "    .dataframe thead th {\n",
       "        text-align: right;\n",
       "    }\n",
       "</style>\n",
       "<table border=\"1\" class=\"dataframe\">\n",
       "  <thead>\n",
       "    <tr style=\"text-align: right;\">\n",
       "      <th></th>\n",
       "      <th>x</th>\n",
       "      <th>b</th>\n",
       "    </tr>\n",
       "  </thead>\n",
       "  <tbody>\n",
       "    <tr>\n",
       "      <th>0</th>\n",
       "      <td>0</td>\n",
       "      <td>1</td>\n",
       "    </tr>\n",
       "    <tr>\n",
       "      <th>1</th>\n",
       "      <td>1</td>\n",
       "      <td>1</td>\n",
       "    </tr>\n",
       "    <tr>\n",
       "      <th>2</th>\n",
       "      <td>4</td>\n",
       "      <td>1</td>\n",
       "    </tr>\n",
       "    <tr>\n",
       "      <th>3</th>\n",
       "      <td>9</td>\n",
       "      <td>1</td>\n",
       "    </tr>\n",
       "    <tr>\n",
       "      <th>4</th>\n",
       "      <td>16</td>\n",
       "      <td>1</td>\n",
       "    </tr>\n",
       "    <tr>\n",
       "      <th>5</th>\n",
       "      <td>25</td>\n",
       "      <td>1</td>\n",
       "    </tr>\n",
       "    <tr>\n",
       "      <th>6</th>\n",
       "      <td>36</td>\n",
       "      <td>1</td>\n",
       "    </tr>\n",
       "    <tr>\n",
       "      <th>7</th>\n",
       "      <td>49</td>\n",
       "      <td>1</td>\n",
       "    </tr>\n",
       "    <tr>\n",
       "      <th>8</th>\n",
       "      <td>64</td>\n",
       "      <td>1</td>\n",
       "    </tr>\n",
       "    <tr>\n",
       "      <th>9</th>\n",
       "      <td>81</td>\n",
       "      <td>1</td>\n",
       "    </tr>\n",
       "  </tbody>\n",
       "</table>\n",
       "</div>"
      ],
      "text/plain": [
       "    x  b\n",
       "0   0  1\n",
       "1   1  1\n",
       "2   4  1\n",
       "3   9  1\n",
       "4  16  1\n",
       "5  25  1\n",
       "6  36  1\n",
       "7  49  1\n",
       "8  64  1\n",
       "9  81  1"
      ]
     },
     "execution_count": 22,
     "metadata": {},
     "output_type": "execute_result"
    }
   ],
   "source": [
    "X = data[[\"x\", \"b\"]].copy()\n",
    "y = data[[\"y\"]].copy()\n",
    "X"
   ]
  },
  {
   "cell_type": "code",
   "execution_count": 23,
   "id": "fbfc2d85",
   "metadata": {},
   "outputs": [],
   "source": [
    "def F(x):\n",
    "    return 2/(1 + np.exp(-x)) - 1"
   ]
  },
  {
   "cell_type": "code",
   "execution_count": 24,
   "id": "394783fe",
   "metadata": {},
   "outputs": [],
   "source": [
    "def L(y_true, y_pred):\n",
    "    return (y_true - y_pred)**2"
   ]
  },
  {
   "cell_type": "code",
   "execution_count": 25,
   "id": "279744f5",
   "metadata": {},
   "outputs": [],
   "source": [
    "def F_deriv(x):\n",
    "    return F(x)*(1 - F(x))"
   ]
  },
  {
   "cell_type": "code",
   "execution_count": 26,
   "id": "1fd1d87a",
   "metadata": {},
   "outputs": [],
   "source": [
    "W1 = np.random.rand(2,3) * 2 - 1\n",
    "W2 = np.random.rand(3,2) * 2 - 1\n",
    "W3 = np.random.rand(2,1) * 2 - 1\n",
    "x = X.values[2]\n",
    "y = y.values[2]"
   ]
  },
  {
   "cell_type": "code",
   "execution_count": 27,
   "id": "4012e2a1",
   "metadata": {},
   "outputs": [
    {
     "data": {
      "text/plain": [
       "array([4, 1])"
      ]
     },
     "execution_count": 27,
     "metadata": {},
     "output_type": "execute_result"
    }
   ],
   "source": [
    "x"
   ]
  },
  {
   "cell_type": "code",
   "execution_count": 28,
   "id": "a7424eff",
   "metadata": {},
   "outputs": [
    {
     "data": {
      "text/plain": [
       "(array([0.30365242]), array([2]), 2.877595117343895)"
      ]
     },
     "execution_count": 28,
     "metadata": {},
     "output_type": "execute_result"
    }
   ],
   "source": [
    "t1 = x @ W1  # первый слой\n",
    "h1 = F(t1)  # нелинейность первого слоя\n",
    "t2 = h1 @ W2  # второй слой\n",
    "h2 = F(t2)  # нелинейность второго слоя\n",
    "t3 = h2 @ W3  # третий слой\n",
    "z = t3  # ответ\n",
    "E = np.sum(L(y, z))  # ошибка выхода нейронной сети\n",
    "\n",
    "z, y, E"
   ]
  },
  {
   "cell_type": "code",
   "execution_count": 29,
   "id": "bb841a77",
   "metadata": {},
   "outputs": [
    {
     "data": {
      "text/plain": [
       "array([-0.7794868 , -0.94856445, -0.9616733 ])"
      ]
     },
     "execution_count": 29,
     "metadata": {},
     "output_type": "execute_result"
    }
   ],
   "source": [
    "h1"
   ]
  },
  {
   "cell_type": "code",
   "execution_count": null,
   "id": "08f8bda4",
   "metadata": {},
   "outputs": [],
   "source": [
    "L(y,z) = L(y, t3) = L(y, h2 @ W3) = L(y, F(t2) * W3) = L(y, F(h1 @ W2) @ W3)"
   ]
  },
  {
   "cell_type": "code",
   "execution_count": null,
   "id": "555849bc",
   "metadata": {},
   "outputs": [],
   "source": [
    "d L(y, F(h1 @ W2) @ W3) /d W2"
   ]
  },
  {
   "cell_type": "code",
   "execution_count": 13,
   "id": "6749c7ff",
   "metadata": {},
   "outputs": [
    {
     "data": {
      "text/plain": [
       "array([[ 0.66068327, -0.25153594],\n",
       "       [-0.64691504, -0.71313238],\n",
       "       [ 0.31383366,  0.55795005]])"
      ]
     },
     "execution_count": 13,
     "metadata": {},
     "output_type": "execute_result"
    }
   ],
   "source": [
    "W2"
   ]
  },
  {
   "cell_type": "code",
   "execution_count": null,
   "id": "6a5e163a",
   "metadata": {},
   "outputs": [],
   "source": [
    "d L(y, F(h1 @ W2) @ W3)/ w2_11\n",
    "d L(y, F(h1 @ W2) @ W3)/ w2_12\n",
    "d L(y, F(h1 @ W2) @ W3)/ w2_21\n",
    "d L(y, F(h1 @ W2) @ W3)/ w2_22\n",
    "d L(y, F(h1 @ W2) @ W3)/ w2_31\n",
    "d L(y, F(h1 @ W2) @ W3)/ w2_32"
   ]
  },
  {
   "cell_type": "code",
   "execution_count": null,
   "id": "ad3074cc",
   "metadata": {},
   "outputs": [],
   "source": [
    "d L(y, F(h1 @ W2) @ W3)/ d w2_11 = (d L(t3) / d t3) *  d (h2 @ W3) / d h2 * d F(t2) / d t2 * d (h1 @ W2) / d w2_11"
   ]
  },
  {
   "cell_type": "code",
   "execution_count": null,
   "id": "5a54c2a4",
   "metadata": {},
   "outputs": [],
   "source": [
    "dE/dh2 = dE_dt3 @ W3.T\n",
    "dE/dt2 = dE/dh2 * F_deriv(t2)\n",
    "dE/dW2 = h1.T @ dE/dt2"
   ]
  },
  {
   "cell_type": "code",
   "execution_count": null,
   "id": "50f3c78a",
   "metadata": {},
   "outputs": [],
   "source": [
    "2*(y - t3) * {w31, w32} * F(t2) * (1 - F(t2)) * h1_11"
   ]
  },
  {
   "cell_type": "code",
   "execution_count": 16,
   "id": "75742d6b",
   "metadata": {},
   "outputs": [
    {
     "data": {
      "text/plain": [
       "array([-0.42463045,  0.11518727])"
      ]
     },
     "execution_count": 16,
     "metadata": {},
     "output_type": "execute_result"
    }
   ],
   "source": [
    "t2"
   ]
  },
  {
   "cell_type": "code",
   "execution_count": null,
   "id": "744b662f",
   "metadata": {},
   "outputs": [],
   "source": [
    "d(w31*h21 + w32*h22)/dh21 = w31\n",
    "d(w31*h21 + w32*h22)/dh22 = w32"
   ]
  },
  {
   "cell_type": "code",
   "execution_count": 15,
   "id": "350521dc",
   "metadata": {},
   "outputs": [
    {
     "data": {
      "text/plain": [
       "array([-0.39556159,  0.70023557,  0.92311126])"
      ]
     },
     "execution_count": 15,
     "metadata": {},
     "output_type": "execute_result"
    }
   ],
   "source": [
    "h1"
   ]
  },
  {
   "cell_type": "code",
   "execution_count": null,
   "id": "1efe493c",
   "metadata": {},
   "outputs": [],
   "source": [
    "d{(w2_11 * h1_11 + w2_21 * h1_12 + w2_31 * h1_13), \n",
    "  (w2_12 * h1_11 + w2_22 * h1_12 + w2_32 * h1_13)} / d w2_11 = {h1_11, 0}\n",
    "\n",
    "d{(w2_11 * h1_11 + w2_21 * h1_12 + w2_31 * h1_13), \n",
    "  (w2_12 * h1_11 + w2_22 * h1_12 + w2_32 * h1_13)} / d w2_12 = {0, h1_11}\n",
    "\n",
    "\n",
    "\n",
    "\n"
   ]
  },
  {
   "cell_type": "code",
   "execution_count": 27,
   "id": "b26ae3d0",
   "metadata": {},
   "outputs": [
    {
     "data": {
      "text/plain": [
       "array([[ 0.72810406],\n",
       "       [-0.07844224]])"
      ]
     },
     "execution_count": 27,
     "metadata": {},
     "output_type": "execute_result"
    }
   ],
   "source": [
    "W3"
   ]
  },
  {
   "cell_type": "code",
   "execution_count": 38,
   "id": "84585ca5",
   "metadata": {},
   "outputs": [
    {
     "data": {
      "text/plain": [
       "array([-0.16535154, -0.06524058])"
      ]
     },
     "execution_count": 38,
     "metadata": {},
     "output_type": "execute_result"
    }
   ],
   "source": [
    "h2"
   ]
  },
  {
   "cell_type": "code",
   "execution_count": 29,
   "id": "c99b2feb",
   "metadata": {},
   "outputs": [
    {
     "data": {
      "text/plain": [
       "array([-0.11527551])"
      ]
     },
     "execution_count": 29,
     "metadata": {},
     "output_type": "execute_result"
    }
   ],
   "source": [
    "h2 @ W3"
   ]
  },
  {
   "cell_type": "code",
   "execution_count": null,
   "id": "28efb399",
   "metadata": {},
   "outputs": [],
   "source": [
    "d(w31*h21 + w32*h22)/dw31 = h21\n",
    "d(w31*h21 + w32*h22)/dw32 = h22"
   ]
  },
  {
   "cell_type": "code",
   "execution_count": null,
   "id": "252fe659",
   "metadata": {},
   "outputs": [],
   "source": [
    "d(w31*h21 + w32*h22)/dh21 = w31\n",
    "d(w31*h21 + w32*h22)/dh22 = w32"
   ]
  },
  {
   "cell_type": "code",
   "execution_count": null,
   "id": "c8077079",
   "metadata": {},
   "outputs": [],
   "source": [
    "F(t2)*(1-F(t2))"
   ]
  },
  {
   "cell_type": "code",
   "execution_count": null,
   "id": "5dfd0436",
   "metadata": {},
   "outputs": [],
   "source": [
    "W1 = W1 - ALPHA * dE_dW1\n",
    "W2 = W2 - ALPHA * dE_dW2\n",
    "W3 = W3 - ALPHA * dE_dW3"
   ]
  },
  {
   "cell_type": "code",
   "execution_count": 36,
   "id": "cde09cca",
   "metadata": {},
   "outputs": [
    {
     "data": {
      "text/plain": [
       "array([[-0.9591148 , -0.34949602],\n",
       "       [ 0.05946198,  0.05988345],\n",
       "       [-0.38286497, -0.05583961]])"
      ]
     },
     "execution_count": 36,
     "metadata": {},
     "output_type": "execute_result"
    }
   ],
   "source": [
    "W2"
   ]
  },
  {
   "cell_type": "code",
   "execution_count": 37,
   "id": "cbab50b6",
   "metadata": {},
   "outputs": [
    {
     "data": {
      "text/plain": [
       "array([-0.33376744, -0.13066675])"
      ]
     },
     "execution_count": 37,
     "metadata": {},
     "output_type": "execute_result"
    }
   ],
   "source": [
    "t2"
   ]
  },
  {
   "cell_type": "markdown",
   "id": "9445a012",
   "metadata": {},
   "source": [
    "$\\frac{\\partial E}{\\partial W_3} = \\frac{\\partial E}{\\partial t_3} \\cdot \\frac{\\partial t_3}{\\partial h_2} \\cdot \\frac{\\partial h_2}{\\partial t_2} \\cdot \\frac{\\partial t_2}{\\partial W_2}$"
   ]
  },
  {
   "cell_type": "code",
   "execution_count": null,
   "id": "73da9db1",
   "metadata": {},
   "outputs": [],
   "source": []
  },
  {
   "cell_type": "code",
   "execution_count": null,
   "id": "cad67918",
   "metadata": {},
   "outputs": [],
   "source": [
    "(y - t3)**2  # производную по w3\n",
    "(y - t3(W3))**2  # производную по w3\n",
    "2*(y - t3)*t3(W3)/dW3"
   ]
  },
  {
   "cell_type": "code",
   "execution_count": null,
   "id": "e9e98384",
   "metadata": {},
   "outputs": [],
   "source": [
    "dE_dW3 = 2*(y - t3) @ np.array([h21, h22])"
   ]
  },
  {
   "cell_type": "code",
   "execution_count": null,
   "id": "6eb72d6b",
   "metadata": {},
   "outputs": [],
   "source": [
    "dE_dW2 = 2*(y - t3) @ W3 * F(t2)*(1-F(t2)) * h1"
   ]
  },
  {
   "cell_type": "code",
   "execution_count": 34,
   "id": "de00ba03",
   "metadata": {},
   "outputs": [
    {
     "data": {
      "text/plain": [
       "array([ 3.08028138, -0.33185389])"
      ]
     },
     "execution_count": 34,
     "metadata": {},
     "output_type": "execute_result"
    }
   ],
   "source": [
    "W3 @ (2*(y-t3))"
   ]
  },
  {
   "cell_type": "code",
   "execution_count": 35,
   "id": "1ae8004f",
   "metadata": {},
   "outputs": [
    {
     "data": {
      "text/plain": [
       "array([-0.19269267, -0.06949691])"
      ]
     },
     "execution_count": 35,
     "metadata": {},
     "output_type": "execute_result"
    }
   ],
   "source": [
    "F(t2)*(1-F(t2))"
   ]
  },
  {
   "cell_type": "code",
   "execution_count": null,
   "id": "f0a71dc0",
   "metadata": {},
   "outputs": [],
   "source": [
    "dE_dt3 = 2*(y - z)\n",
    "dE_dW3 = h2.T @ dE_dt3"
   ]
  },
  {
   "cell_type": "code",
   "execution_count": null,
   "id": "d84aa85c",
   "metadata": {},
   "outputs": [],
   "source": [
    "y_full = to_full_batch(y, OUT_DIM)\n",
    "dE_dt2 = z - y_full\n",
    "dE_dW2 = h1.T @ dE_dt2\n",
    "dE_db2 = np.sum(dE_dt2, axis=0, keepdims=True)\n",
    "\n",
    "dE_dh1 = dE_dt2 @ W2.T\n",
    "dE_dt1 = dE_dh1 * relu_deriv(t1)\n",
    "dE_dW1 = x.T @ dE_dt1\n",
    "\n",
    "dE_db1 = np.sum(dE_dt1, axis=0, keepdims=True)"
   ]
  },
  {
   "cell_type": "code",
   "execution_count": null,
   "id": "ed6b65c2",
   "metadata": {},
   "outputs": [],
   "source": [
    "dE_dW1 = x.T @ (((z - y_full) @ W2.T) * relu_deriv(t1))"
   ]
  },
  {
   "cell_type": "markdown",
   "id": "21b5772e",
   "metadata": {},
   "source": [
    "https://www.youtube.com/watch?v=GT6imQDxqko&list=PLOSf9rRg-fvJt5adxPbefB394QBtW9smZ&index=1"
   ]
  },
  {
   "cell_type": "code",
   "execution_count": null,
   "id": "ff0d4f7c",
   "metadata": {},
   "outputs": [],
   "source": [
    "import random\n",
    "import numpy as np\n",
    "\n",
    "INPUT_DIM = 2\n",
    "OUT_DIM = 1\n",
    "H_DIM = 3\n",
    "\n",
    "def F(x):\n",
    "    return 2/(1 + np.exp(-x)) - 1\n",
    "\n",
    "def L(y_true, y_pred):\n",
    "    return (y_true - y_pred)**2\n",
    "\n",
    "def F_deriv(x):\n",
    "    return F(x)*(1 - F(x))\n",
    "\n",
    "\n",
    "# def relu(t):\n",
    "#     return np.maximum(t, 0)\n",
    "\n",
    "# def softmax(t):\n",
    "#     out = np.exp(t)\n",
    "#     return out / np.sum(out)\n",
    "\n",
    "# def softmax_batch(t):\n",
    "#     out = np.exp(t)\n",
    "#     return out / np.sum(out, axis=1, keepdims=True)\n",
    "\n",
    "# def sparse_cross_entropy(z, y):\n",
    "#     return -np.log(z[0, y])\n",
    "\n",
    "# def sparse_cross_entropy_batch(z, y):\n",
    "#     return -np.log(np.array([z[j, y[j]] for j in range(len(y))]))\n",
    "\n",
    "def to_full(y, num_classes):\n",
    "    y_full = np.zeros((1, num_classes))\n",
    "    y_full[0, y] = 1\n",
    "    return y_full\n",
    "\n",
    "def to_full_batch(y, num_classes):\n",
    "    y_full = np.zeros((len(y), num_classes))\n",
    "    for j, yj in enumerate(y):\n",
    "        y_full[j, yj] = 1\n",
    "    return y_full\n",
    "\n",
    "# def relu_deriv(t):\n",
    "#     return (t >= 0).astype(float)\n",
    "\n",
    "# from sklearn import datasets\n",
    "# iris = datasets.load_iris()\n",
    "# dataset = [(iris.data[i][None, ...], iris.target[i]) for i in range(len(iris.target))]\n",
    "\n",
    "W1 = np.random.rand(INPUT_DIM, H_DIM)\n",
    "b1 = np.random.rand(1, H_DIM)\n",
    "W2 = np.random.rand(H_DIM, OUT_DIM)\n",
    "b2 = np.random.rand(1, OUT_DIM)\n",
    "W3 = np.random.rand(H_DIM, OUT_DIM)\n",
    "b3 = np.random.rand(1, OUT_DIM)\n",
    "\n",
    "W1 = (W1 - 0.5) * 2 * np.sqrt(1/INPUT_DIM)\n",
    "b1 = (b1 - 0.5) * 2 * np.sqrt(1/INPUT_DIM)\n",
    "W2 = (W2 - 0.5) * 2 * np.sqrt(1/H_DIM)\n",
    "b2 = (b2 - 0.5) * 2 * np.sqrt(1/H_DIM)\n",
    "\n",
    "ALPHA = 0.0002\n",
    "NUM_EPOCHS = 400\n",
    "BATCH_SIZE = 50\n",
    "\n",
    "loss_arr = []\n",
    "\n",
    "for ep in range(NUM_EPOCHS):\n",
    "    random.shuffle(dataset)\n",
    "    for i in range(len(dataset) // BATCH_SIZE):\n",
    "\n",
    "        batch_x, batch_y = zip(*dataset[i*BATCH_SIZE : i*BATCH_SIZE+BATCH_SIZE])\n",
    "        x = np.concatenate(batch_x, axis=0)\n",
    "        y = np.array(batch_y)\n",
    "\n",
    "        # Forward\n",
    "        t1 = x @ W1 + b1\n",
    "        h1 = relu(t1)\n",
    "        t2 = h1 @ W2 + b2\n",
    "        z = softmax_batch(t2)\n",
    "        E = np.sum(sparse_cross_entropy_batch(z, y))\n",
    "\n",
    "        # Backward\n",
    "        y_full = to_full_batch(y, OUT_DIM)\n",
    "        dE_dt2 = z - y_full\n",
    "        dE_dW2 = h1.T @ dE_dt2\n",
    "        dE_db2 = np.sum(dE_dt2, axis=0, keepdims=True)\n",
    "        dE_dh1 = dE_dt2 @ W2.T\n",
    "        dE_dt1 = dE_dh1 * relu_deriv(t1)\n",
    "        dE_dW1 = x.T @ dE_dt1\n",
    "        dE_db1 = np.sum(dE_dt1, axis=0, keepdims=True)\n",
    "\n",
    "        # Update\n",
    "        W1 = W1 - ALPHA * dE_dW1\n",
    "        b1 = b1 - ALPHA * dE_db1\n",
    "        W2 = W2 - ALPHA * dE_dW2\n",
    "        b2 = b2 - ALPHA * dE_db2\n",
    "\n",
    "        loss_arr.append(E)\n",
    "\n",
    "def predict(x):\n",
    "    t1 = x @ W1 + b1\n",
    "    h1 = relu(t1)\n",
    "    t2 = h1 @ W2 + b2\n",
    "    z = softmax_batch(t2)\n",
    "    return z\n",
    "\n",
    "def calc_accuracy():\n",
    "    correct = 0\n",
    "    for x, y in dataset:\n",
    "        z = predict(x)\n",
    "        y_pred = np.argmax(z)\n",
    "        if y_pred == y:\n",
    "            correct += 1\n",
    "    acc = correct / len(dataset)\n",
    "    return acc\n",
    "\n",
    "accuracy = calc_accuracy()\n",
    "print(\"Accuracy:\", accuracy)\n",
    "\n",
    "import matplotlib.pyplot as plt\n",
    "plt.plot(loss_arr)\n",
    "plt.show()"
   ]
  },
  {
   "cell_type": "code",
   "execution_count": 1,
   "id": "09b6d1a7",
   "metadata": {},
   "outputs": [
    {
     "name": "stdout",
     "output_type": "stream",
     "text": [
      "Accuracy: 0.9733333333333334\n"
     ]
    },
    {
     "data": {
      "image/png": "[encoded data removed]",
      "text/plain": [
       "<Figure size 432x288 with 1 Axes>"
      ]
     },
     "metadata": {
      "needs_background": "light"
     },
     "output_type": "display_data"
    }
   ],
   "source": [
    "import random\n",
    "import numpy as np\n",
    "\n",
    "INPUT_DIM = 4\n",
    "OUT_DIM = 3\n",
    "H_DIM = 10\n",
    "\n",
    "def relu(t):\n",
    "    return np.maximum(t, 0)\n",
    "\n",
    "def softmax(t):\n",
    "    out = np.exp(t)\n",
    "    return out / np.sum(out)\n",
    "\n",
    "def softmax_batch(t):\n",
    "    out = np.exp(t)\n",
    "    return out / np.sum(out, axis=1, keepdims=True)\n",
    "\n",
    "def sparse_cross_entropy(z, y):\n",
    "    return -np.log(z[0, y])\n",
    "\n",
    "def sparse_cross_entropy_batch(z, y):\n",
    "    return -np.log(np.array([z[j, y[j]] for j in range(len(y))]))\n",
    "\n",
    "def to_full(y, num_classes):\n",
    "    y_full = np.zeros((1, num_classes))\n",
    "    y_full[0, y] = 1\n",
    "    return y_full\n",
    "\n",
    "def to_full_batch(y, num_classes):\n",
    "    y_full = np.zeros((len(y), num_classes))\n",
    "    for j, yj in enumerate(y):\n",
    "        y_full[j, yj] = 1\n",
    "    return y_full\n",
    "\n",
    "def relu_deriv(t):\n",
    "    return (t >= 0).astype(float)\n",
    "\n",
    "from sklearn import datasets\n",
    "iris = datasets.load_iris()\n",
    "dataset = [(iris.data[i][None, ...], iris.target[i]) for i in range(len(iris.target))]\n",
    "\n",
    "W1 = np.random.rand(INPUT_DIM, H_DIM)\n",
    "b1 = np.random.rand(1, H_DIM)\n",
    "W2 = np.random.rand(H_DIM, OUT_DIM)\n",
    "b2 = np.random.rand(1, OUT_DIM)\n",
    "\n",
    "W1 = (W1 - 0.5) * 2 * np.sqrt(1/INPUT_DIM)\n",
    "b1 = (b1 - 0.5) * 2 * np.sqrt(1/INPUT_DIM)\n",
    "W2 = (W2 - 0.5) * 2 * np.sqrt(1/H_DIM)\n",
    "b2 = (b2 - 0.5) * 2 * np.sqrt(1/H_DIM)\n",
    "\n",
    "ALPHA = 0.0002\n",
    "NUM_EPOCHS = 400\n",
    "BATCH_SIZE = 50\n",
    "\n",
    "loss_arr = []\n",
    "\n",
    "for ep in range(NUM_EPOCHS):\n",
    "    random.shuffle(dataset)\n",
    "    for i in range(len(dataset) // BATCH_SIZE):\n",
    "\n",
    "        batch_x, batch_y = zip(*dataset[i*BATCH_SIZE : i*BATCH_SIZE+BATCH_SIZE])\n",
    "        x = np.concatenate(batch_x, axis=0)\n",
    "        y = np.array(batch_y)\n",
    "\n",
    "        # Forward\n",
    "        t1 = x @ W1 + b1\n",
    "        h1 = relu(t1)\n",
    "        t2 = h1 @ W2 + b2\n",
    "        z = softmax_batch(t2)\n",
    "        E = np.sum(sparse_cross_entropy_batch(z, y))\n",
    "\n",
    "        # Backward\n",
    "        y_full = to_full_batch(y, OUT_DIM)\n",
    "        dE_dt2 = z - y_full\n",
    "        dE_dW2 = h1.T @ dE_dt2\n",
    "        dE_db2 = np.sum(dE_dt2, axis=0, keepdims=True)\n",
    "        dE_dh1 = dE_dt2 @ W2.T\n",
    "        dE_dt1 = dE_dh1 * relu_deriv(t1)\n",
    "        dE_dW1 = x.T @ dE_dt1\n",
    "        dE_db1 = np.sum(dE_dt1, axis=0, keepdims=True)\n",
    "\n",
    "        # Update\n",
    "        W1 = W1 - ALPHA * dE_dW1\n",
    "        b1 = b1 - ALPHA * dE_db1\n",
    "        W2 = W2 - ALPHA * dE_dW2\n",
    "        b2 = b2 - ALPHA * dE_db2\n",
    "\n",
    "        loss_arr.append(E)\n",
    "\n",
    "def predict(x):\n",
    "    t1 = x @ W1 + b1\n",
    "    h1 = relu(t1)\n",
    "    t2 = h1 @ W2 + b2\n",
    "    z = softmax_batch(t2)\n",
    "    return z\n",
    "\n",
    "def calc_accuracy():\n",
    "    correct = 0\n",
    "    for x, y in dataset:\n",
    "        z = predict(x)\n",
    "        y_pred = np.argmax(z)\n",
    "        if y_pred == y:\n",
    "            correct += 1\n",
    "    acc = correct / len(dataset)\n",
    "    return acc\n",
    "\n",
    "accuracy = calc_accuracy()\n",
    "print(\"Accuracy:\", accuracy)\n",
    "\n",
    "import matplotlib.pyplot as plt\n",
    "plt.plot(loss_arr)\n",
    "plt.show()"
   ]
  },
  {
   "cell_type": "markdown",
   "id": "0594cc9a",
   "metadata": {},
   "source": []
  },
  {
   "cell_type": "code",
   "execution_count": null,
   "id": "8f8f7386",
   "metadata": {},
   "outputs": [],
   "source": []
  },
  {
   "cell_type": "code",
   "execution_count": null,
   "id": "08a29926",
   "metadata": {},
   "outputs": [],
   "source": []
  },
  {
   "cell_type": "code",
   "execution_count": null,
   "id": "d1ed6d3d",
   "metadata": {},
   "outputs": [],
   "source": []
  },
  {
   "cell_type": "code",
   "execution_count": null,
   "id": "5442512b",
   "metadata": {},
   "outputs": [],
   "source": []
  },
  {
   "cell_type": "code",
   "execution_count": null,
   "id": "bfc894ab",
   "metadata": {},
   "outputs": [],
   "source": []
  },
  {
   "cell_type": "code",
   "execution_count": null,
   "id": "fe267ffc",
   "metadata": {},
   "outputs": [],
   "source": []
  },
  {
   "cell_type": "code",
   "execution_count": 25,
   "id": "6e35c651",
   "metadata": {},
   "outputs": [],
   "source": []
  },
  {
   "cell_type": "code",
   "execution_count": 26,
   "id": "11e9ce69",
   "metadata": {},
   "outputs": [],
   "source": []
  },
  {
   "cell_type": "code",
   "execution_count": 27,
   "id": "65969745",
   "metadata": {},
   "outputs": [],
   "source": []
  },
  {
   "cell_type": "code",
   "execution_count": null,
   "id": "c67c021e",
   "metadata": {},
   "outputs": [],
   "source": []
  },
  {
   "cell_type": "code",
   "execution_count": null,
   "id": "9bbee7b2",
   "metadata": {},
   "outputs": [],
   "source": []
  },
  {
   "cell_type": "code",
   "execution_count": null,
   "id": "367c5631",
   "metadata": {},
   "outputs": [],
   "source": []
  },
  {
   "cell_type": "code",
   "execution_count": null,
   "id": "5efda56d",
   "metadata": {},
   "outputs": [],
   "source": []
  }
 ],
 "metadata": {
  "kernelspec": {
   "display_name": "Python 3",
   "language": "python",
   "name": "python3"
  },
  "language_info": {
   "codemirror_mode": {
    "name": "ipython",
    "version": 3
   },
   "file_extension": ".py",
   "mimetype": "text/x-python",
   "name": "python",
   "nbconvert_exporter": "python",
   "pygments_lexer": "ipython3",
   "version": "3.10.12"
  }
 },
 "nbformat": 4,
 "nbformat_minor": 5
}
