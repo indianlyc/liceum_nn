{
 "cells": [
  {
   "cell_type": "code",
   "execution_count": 39,
   "id": "aa4bb8f9",
   "metadata": {},
   "outputs": [],
   "source": [
    "import numpy as np\n",
    "import pandas as pd"
   ]
  },
  {
   "cell_type": "code",
   "execution_count": 40,
   "id": "0407cfaf",
   "metadata": {},
   "outputs": [],
   "source": [
    "def f(x):\n",
    "    return x * x"
   ]
  },
  {
   "cell_type": "code",
   "execution_count": 41,
   "id": "54e135ab",
   "metadata": {},
   "outputs": [
    {
     "data": {
      "text/html": [
       "<div>\n",
       "<style scoped>\n",
       "    .dataframe tbody tr th:only-of-type {\n",
       "        vertical-align: middle;\n",
       "    }\n",
       "\n",
       "    .dataframe tbody tr th {\n",
       "        vertical-align: top;\n",
       "    }\n",
       "\n",
       "    .dataframe thead th {\n",
       "        text-align: right;\n",
       "    }\n",
       "</style>\n",
       "<table border=\"1\" class=\"dataframe\">\n",
       "  <thead>\n",
       "    <tr style=\"text-align: right;\">\n",
       "      <th></th>\n",
       "      <th>x</th>\n",
       "      <th>x3</th>\n",
       "      <th>y</th>\n",
       "    </tr>\n",
       "  </thead>\n",
       "  <tbody>\n",
       "    <tr>\n",
       "      <th>0</th>\n",
       "      <td>0</td>\n",
       "      <td>1</td>\n",
       "      <td>0</td>\n",
       "    </tr>\n",
       "    <tr>\n",
       "      <th>1</th>\n",
       "      <td>1</td>\n",
       "      <td>1</td>\n",
       "      <td>1</td>\n",
       "    </tr>\n",
       "    <tr>\n",
       "      <th>2</th>\n",
       "      <td>4</td>\n",
       "      <td>1</td>\n",
       "      <td>2</td>\n",
       "    </tr>\n",
       "    <tr>\n",
       "      <th>3</th>\n",
       "      <td>9</td>\n",
       "      <td>1</td>\n",
       "      <td>3</td>\n",
       "    </tr>\n",
       "    <tr>\n",
       "      <th>4</th>\n",
       "      <td>16</td>\n",
       "      <td>1</td>\n",
       "      <td>4</td>\n",
       "    </tr>\n",
       "    <tr>\n",
       "      <th>5</th>\n",
       "      <td>25</td>\n",
       "      <td>1</td>\n",
       "      <td>5</td>\n",
       "    </tr>\n",
       "    <tr>\n",
       "      <th>6</th>\n",
       "      <td>36</td>\n",
       "      <td>1</td>\n",
       "      <td>6</td>\n",
       "    </tr>\n",
       "    <tr>\n",
       "      <th>7</th>\n",
       "      <td>49</td>\n",
       "      <td>1</td>\n",
       "      <td>7</td>\n",
       "    </tr>\n",
       "    <tr>\n",
       "      <th>8</th>\n",
       "      <td>64</td>\n",
       "      <td>1</td>\n",
       "      <td>8</td>\n",
       "    </tr>\n",
       "    <tr>\n",
       "      <th>9</th>\n",
       "      <td>81</td>\n",
       "      <td>1</td>\n",
       "      <td>9</td>\n",
       "    </tr>\n",
       "  </tbody>\n",
       "</table>\n",
       "</div>"
      ],
      "text/plain": [
       "    x  x3  y\n",
       "0   0   1  0\n",
       "1   1   1  1\n",
       "2   4   1  2\n",
       "3   9   1  3\n",
       "4  16   1  4\n",
       "5  25   1  5\n",
       "6  36   1  6\n",
       "7  49   1  7\n",
       "8  64   1  8\n",
       "9  81   1  9"
      ]
     },
     "execution_count": 41,
     "metadata": {},
     "output_type": "execute_result"
    }
   ],
   "source": [
    "n = 10\n",
    "data = pd.DataFrame({\n",
    "    \"y\": np.array(range(n)),\n",
    "    \"x\": f(np.array(range(n))),\n",
    "    # \"x2\": f(np.array(range(n)))/2,\n",
    "    \"x3\": 1,\n",
    "})[[\"x\", \"x3\", \"y\"]]\n",
    "data"
   ]
  },
  {
   "cell_type": "code",
   "execution_count": 42,
   "id": "6e67ad63",
   "metadata": {},
   "outputs": [
    {
     "data": {
      "text/html": [
       "<div>\n",
       "<style scoped>\n",
       "    .dataframe tbody tr th:only-of-type {\n",
       "        vertical-align: middle;\n",
       "    }\n",
       "\n",
       "    .dataframe tbody tr th {\n",
       "        vertical-align: top;\n",
       "    }\n",
       "\n",
       "    .dataframe thead th {\n",
       "        text-align: right;\n",
       "    }\n",
       "</style>\n",
       "<table border=\"1\" class=\"dataframe\">\n",
       "  <thead>\n",
       "    <tr style=\"text-align: right;\">\n",
       "      <th></th>\n",
       "      <th>x</th>\n",
       "      <th>x3</th>\n",
       "    </tr>\n",
       "  </thead>\n",
       "  <tbody>\n",
       "    <tr>\n",
       "      <th>0</th>\n",
       "      <td>0</td>\n",
       "      <td>1</td>\n",
       "    </tr>\n",
       "    <tr>\n",
       "      <th>1</th>\n",
       "      <td>1</td>\n",
       "      <td>1</td>\n",
       "    </tr>\n",
       "    <tr>\n",
       "      <th>2</th>\n",
       "      <td>4</td>\n",
       "      <td>1</td>\n",
       "    </tr>\n",
       "    <tr>\n",
       "      <th>3</th>\n",
       "      <td>9</td>\n",
       "      <td>1</td>\n",
       "    </tr>\n",
       "    <tr>\n",
       "      <th>4</th>\n",
       "      <td>16</td>\n",
       "      <td>1</td>\n",
       "    </tr>\n",
       "    <tr>\n",
       "      <th>5</th>\n",
       "      <td>25</td>\n",
       "      <td>1</td>\n",
       "    </tr>\n",
       "    <tr>\n",
       "      <th>6</th>\n",
       "      <td>36</td>\n",
       "      <td>1</td>\n",
       "    </tr>\n",
       "    <tr>\n",
       "      <th>7</th>\n",
       "      <td>49</td>\n",
       "      <td>1</td>\n",
       "    </tr>\n",
       "    <tr>\n",
       "      <th>8</th>\n",
       "      <td>64</td>\n",
       "      <td>1</td>\n",
       "    </tr>\n",
       "    <tr>\n",
       "      <th>9</th>\n",
       "      <td>81</td>\n",
       "      <td>1</td>\n",
       "    </tr>\n",
       "  </tbody>\n",
       "</table>\n",
       "</div>"
      ],
      "text/plain": [
       "    x  x3\n",
       "0   0   1\n",
       "1   1   1\n",
       "2   4   1\n",
       "3   9   1\n",
       "4  16   1\n",
       "5  25   1\n",
       "6  36   1\n",
       "7  49   1\n",
       "8  64   1\n",
       "9  81   1"
      ]
     },
     "execution_count": 42,
     "metadata": {},
     "output_type": "execute_result"
    }
   ],
   "source": [
    "X = data[[\"x\", \"x3\"]].copy()\n",
    "y = data[[\"y\"]].copy()\n",
    "X"
   ]
  },
  {
   "cell_type": "code",
   "execution_count": 43,
   "id": "3df37996",
   "metadata": {},
   "outputs": [],
   "source": [
    "def F(x):\n",
    "    return 2/(1 + np.exp(-x)) - 1"
   ]
  },
  {
   "cell_type": "code",
   "execution_count": 44,
   "id": "5ec6bc73",
   "metadata": {},
   "outputs": [],
   "source": [
    "def L(y_true, y_pred):\n",
    "    return (y_true - y_pred)**2"
   ]
  },
  {
   "cell_type": "code",
   "execution_count": 68,
   "id": "91e3bccb",
   "metadata": {},
   "outputs": [],
   "source": [
    "k = 3\n",
    "z0 = X.iloc[k].values.reshape((2,1))\n",
    "\n",
    "m1 = np.random.rand(2,2) * 2 - 1\n",
    "# z1 = F(m1.dot(z0))\n",
    "m2 = np.random.rand(2,2) * 2 - 1\n",
    "# z2 = F(m2.dot(z1))\n",
    "m3 = np.random.rand(2,1) * 2 - 1\n",
    "# z3 = m3.dot(z2)"
   ]
  },
  {
   "cell_type": "code",
   "execution_count": 69,
   "id": "2c200c75",
   "metadata": {},
   "outputs": [
    {
     "data": {
      "text/plain": [
       "array([[ 1.64249500e-03],\n",
       "       [-2.13364206e-01],\n",
       "       [-8.58384307e-01],\n",
       "       [-1.93341781e+00],\n",
       "       [-3.43846471e+00],\n",
       "       [-5.37352502e+00],\n",
       "       [-7.73859872e+00],\n",
       "       [-1.05336858e+01],\n",
       "       [-1.37587863e+01],\n",
       "       [-1.74139002e+01]])"
      ]
     },
     "execution_count": 69,
     "metadata": {},
     "output_type": "execute_result"
    }
   ],
   "source": [
    "X.values.dot(m1).dot(m2).dot(m3)"
   ]
  },
  {
   "cell_type": "code",
   "execution_count": 70,
   "id": "b390f326",
   "metadata": {},
   "outputs": [
    {
     "data": {
      "text/plain": [
       "array([[ 0.99610787, -0.40919647],\n",
       "       [-0.3562812 ,  0.32474637]])"
      ]
     },
     "execution_count": 70,
     "metadata": {},
     "output_type": "execute_result"
    }
   ],
   "source": [
    "m1"
   ]
  },
  {
   "cell_type": "code",
   "execution_count": 71,
   "id": "cc5d94bf",
   "metadata": {},
   "outputs": [
    {
     "data": {
      "text/plain": [
       "array([ 0.99610787, -0.40919647, -0.3562812 ,  0.32474637])"
      ]
     },
     "execution_count": 71,
     "metadata": {},
     "output_type": "execute_result"
    }
   ],
   "source": [
    "m1.reshape((-1,))"
   ]
  },
  {
   "cell_type": "code",
   "execution_count": 72,
   "id": "c0d6fbd8",
   "metadata": {},
   "outputs": [
    {
     "data": {
      "text/plain": [
       "array([[0.45606516, 0.94212781],\n",
       "       [0.4986194 , 0.75088161]])"
      ]
     },
     "execution_count": 72,
     "metadata": {},
     "output_type": "execute_result"
    }
   ],
   "source": [
    "m2"
   ]
  },
  {
   "cell_type": "code",
   "execution_count": 73,
   "id": "25ef9c9f",
   "metadata": {},
   "outputs": [
    {
     "data": {
      "text/plain": [
       "array([[-0.82680256],\n",
       "       [-0.01282273]])"
      ]
     },
     "execution_count": 73,
     "metadata": {},
     "output_type": "execute_result"
    }
   ],
   "source": [
    "m3"
   ]
  },
  {
   "cell_type": "code",
   "execution_count": 74,
   "id": "c2a3568c",
   "metadata": {},
   "outputs": [],
   "source": [
    "dx = 0.01\n",
    "def forward(m1, m2, m3, X):\n",
    "    # return m3.dot(F(m2.dot(F(m1.dot(X)))))\n",
    "    return F(F(X.dot(m1)).dot(m2)).dot(m3)"
   ]
  },
  {
   "cell_type": "code",
   "execution_count": 75,
   "id": "54b2bd48",
   "metadata": {},
   "outputs": [
    {
     "name": "stdout",
     "output_type": "stream",
     "text": [
      "0\n",
      "[[0.01 0.  ]\n",
      " [0.   0.  ]]\n",
      "[[0. 0.]\n",
      " [0. 0.]]\n",
      "[[0.]\n",
      " [0.]]\n",
      "\n",
      "1\n",
      "[[0.   0.01]\n",
      " [0.   0.  ]]\n",
      "[[0. 0.]\n",
      " [0. 0.]]\n",
      "[[0.]\n",
      " [0.]]\n",
      "\n",
      "2\n",
      "[[0.   0.  ]\n",
      " [0.01 0.  ]]\n",
      "[[0. 0.]\n",
      " [0. 0.]]\n",
      "[[0.]\n",
      " [0.]]\n",
      "\n",
      "3\n",
      "[[0.   0.  ]\n",
      " [0.   0.01]]\n",
      "[[0. 0.]\n",
      " [0. 0.]]\n",
      "[[0.]\n",
      " [0.]]\n",
      "\n",
      "4\n",
      "[[0. 0.]\n",
      " [0. 0.]]\n",
      "[[0.01 0.  ]\n",
      " [0.   0.  ]]\n",
      "[[0.]\n",
      " [0.]]\n",
      "\n",
      "5\n",
      "[[0. 0.]\n",
      " [0. 0.]]\n",
      "[[0.   0.01]\n",
      " [0.   0.  ]]\n",
      "[[0.]\n",
      " [0.]]\n",
      "\n",
      "6\n",
      "[[0. 0.]\n",
      " [0. 0.]]\n",
      "[[0.   0.  ]\n",
      " [0.01 0.  ]]\n",
      "[[0.]\n",
      " [0.]]\n",
      "\n",
      "7\n",
      "[[0. 0.]\n",
      " [0. 0.]]\n",
      "[[0.   0.  ]\n",
      " [0.   0.01]]\n",
      "[[0.]\n",
      " [0.]]\n",
      "\n",
      "8\n",
      "[[0. 0.]\n",
      " [0. 0.]]\n",
      "[[0. 0.]\n",
      " [0. 0.]]\n",
      "[[0.01]\n",
      " [0.  ]]\n",
      "\n",
      "9\n",
      "[[0. 0.]\n",
      " [0. 0.]]\n",
      "[[0. 0.]\n",
      " [0. 0.]]\n",
      "[[0.  ]\n",
      " [0.01]]\n",
      "\n"
     ]
    }
   ],
   "source": [
    "dx = 0.01\n",
    "\n",
    "for i in range(10):\n",
    "    m1_new = m1.copy()\n",
    "    m2_new = m2.copy()\n",
    "    m3_new = m3.copy()\n",
    "    if i < 4:\n",
    "        m1_new.reshape((-1,))[i] += dx\n",
    "    elif 3 < i < 8:\n",
    "        m2_new.reshape((-1,))[i-4] += dx\n",
    "    elif 7 < i:\n",
    "        m3_new[i-8][0] += dx\n",
    "    print(i)\n",
    "    print(m1_new - m1)\n",
    "    print(m2_new - m2)\n",
    "    print(m3_new - m3)\n",
    "    print()"
   ]
  },
  {
   "cell_type": "code",
   "execution_count": 76,
   "id": "dce81c09",
   "metadata": {},
   "outputs": [
    {
     "name": "stdout",
     "output_type": "stream",
     "text": [
      "0 -0.00012633668332587348\n",
      "1 -0.0005320582965822761\n",
      "2 -0.00019159551721850422\n",
      "3 -0.0002924384225272785\n",
      "4 -0.0033371668004504875\n",
      "5 -5.0992960192314076e-05\n",
      "6 0.003050551386793248\n",
      "7 4.6744368520060156e-05\n",
      "8 1.2503004023269862e-06\n",
      "9 0.001026757267165833\n"
     ]
    }
   ],
   "source": [
    "dx = 0.01\n",
    "\n",
    "for i in range(10):\n",
    "    m1_new = m1.copy()\n",
    "    m2_new = m2.copy()\n",
    "    m3_new = m3.copy()\n",
    "    if i < 4:\n",
    "        m1_new.reshape((-1,))[i] += dx\n",
    "    elif 3 < i < 8:\n",
    "        m2_new.reshape((-1,))[i-4] += dx\n",
    "    elif 7 < i:\n",
    "        m3_new[i-8][0] += dx\n",
    "    print(i, np.mean(forward(m1_new, m2_new, m3_new, X.values) - forward(m1, m2, m3, X.values)))"
   ]
  },
  {
   "cell_type": "code",
   "execution_count": 84,
   "id": "f25155ed",
   "metadata": {},
   "outputs": [
    {
     "name": "stdout",
     "output_type": "stream",
     "text": [
      "0 -0.012723862698703348\n",
      "1 -0.052238627908183365\n",
      "2 -0.019170162728011832\n",
      "3 -0.029224341093576568\n",
      "4 -0.333706871604529\n",
      "5 -0.005102192796621434\n",
      "6 0.3050795271140384\n",
      "7 0.0046720960630570844\n",
      "8 0.00012503003162965266\n",
      "9 0.10267572671116476\n"
     ]
    }
   ],
   "source": [
    "dx = 0.0000001\n",
    "\n",
    "for i in range(10):\n",
    "    m1_new = m1.copy()\n",
    "    m2_new = m2.copy()\n",
    "    m3_new = m3.copy()\n",
    "    if i < 4:\n",
    "        m1_new.reshape((-1,))[i] += dx\n",
    "    elif 3 < i < 8:\n",
    "        m2_new.reshape((-1,))[i-4] += dx\n",
    "    elif 7 < i:\n",
    "        m3_new[i-8][0] += dx\n",
    "    print(i, np.mean((forward(m1_new, m2_new, m3_new, X.values) - forward(m1, m2, m3, X.values))/dx))"
   ]
  },
  {
   "cell_type": "code",
   "execution_count": 85,
   "id": "6a7f1a93",
   "metadata": {},
   "outputs": [
    {
     "name": "stdout",
     "output_type": "stream",
     "text": [
      "0 -9.002839916513526\n",
      "1 -9.002839916513526\n",
      "2 -9.002839916513526\n",
      "3 -9.002839916513526\n",
      "4 -9.002839916513526\n",
      "5 -9.002839916513526\n",
      "6 -9.002839916513526\n",
      "7 -9.002839916513526\n",
      "8 -9.002839916513526\n",
      "9 -9.002839916513526\n"
     ]
    }
   ],
   "source": [
    "dx = 0.000001\n",
    "\n",
    "for i in range(10):\n",
    "    m1_new = m1.copy()\n",
    "    m2_new = m2.copy()\n",
    "    m3_new = m3.copy()\n",
    "    if i < 4:\n",
    "        m1_new.reshape((-1,))[i] += dx\n",
    "    elif 3 < i < 8:\n",
    "        m2_new.reshape((-1,))[i-4] += dx\n",
    "    elif 7 < i:\n",
    "        m3_new[i-8][0] += dx\n",
    "    print(i, np.mean(2*(forward(m1, m2, m3, X.values) - y.values)))"
   ]
  },
  {
   "cell_type": "code",
   "execution_count": 86,
   "id": "08021fbd",
   "metadata": {},
   "outputs": [
    {
     "name": "stdout",
     "output_type": "stream",
     "text": [
      "0 0.03488720208379157\n",
      "1 0.22281214622291995\n",
      "2 0.022478650923425117\n",
      "3 0.05985526118593286\n",
      "4 3.650483543039474\n",
      "5 0.05600584299345405\n",
      "6 -3.546206703244276\n",
      "7 -0.05444263085712523\n",
      "8 0.12491234775303213\n",
      "9 -0.9356002076992631\n"
     ]
    }
   ],
   "source": [
    "dx = 0.000001\n",
    "\n",
    "for i in range(10):\n",
    "    m1_new = m1.copy()\n",
    "    m2_new = m2.copy()\n",
    "    m3_new = m3.copy()\n",
    "    if i < 4:\n",
    "        m1_new.reshape((-1,))[i] += dx\n",
    "    elif 3 < i < 8:\n",
    "        m2_new.reshape((-1,))[i-4] += dx\n",
    "    elif 7 < i:\n",
    "        m3_new[i-8][0] += dx\n",
    "    print(i, np.mean(2*(forward(m1, m2, m3, X.values) - y.values)*\\\n",
    "                       (forward(m1_new, m2_new, m3_new, X.values) - forward(m1, m2, m3, X.values))/dx))"
   ]
  },
  {
   "cell_type": "code",
   "execution_count": 81,
   "id": "10617e1d",
   "metadata": {},
   "outputs": [
    {
     "ename": "NameError",
     "evalue": "name 'X_new' is not defined",
     "output_type": "error",
     "traceback": [
      "\u001b[0;31m---------------------------------------------------------------------------\u001b[0m",
      "\u001b[0;31mNameError\u001b[0m                                 Traceback (most recent call last)",
      "\u001b[0;32m/tmp/ipykernel_10476/608946390.py\u001b[0m in \u001b[0;36m<module>\u001b[0;34m\u001b[0m\n\u001b[1;32m     12\u001b[0m     \u001b[0;32melif\u001b[0m \u001b[0;36m7\u001b[0m \u001b[0;34m<\u001b[0m \u001b[0mi\u001b[0m\u001b[0;34m:\u001b[0m\u001b[0;34m\u001b[0m\u001b[0;34m\u001b[0m\u001b[0m\n\u001b[1;32m     13\u001b[0m         \u001b[0mm3_new\u001b[0m\u001b[0;34m[\u001b[0m\u001b[0mi\u001b[0m\u001b[0;34m-\u001b[0m\u001b[0;36m8\u001b[0m\u001b[0;34m]\u001b[0m\u001b[0;34m[\u001b[0m\u001b[0;36m0\u001b[0m\u001b[0;34m]\u001b[0m \u001b[0;34m+=\u001b[0m \u001b[0mdx\u001b[0m\u001b[0;34m\u001b[0m\u001b[0;34m\u001b[0m\u001b[0m\n\u001b[0;32m---> 14\u001b[0;31m     print(i, mu*np.mean(2*(forward(m1_new, m2_new, m3_new, X_new.values) - y_new.values)*\\\n\u001b[0m\u001b[1;32m     15\u001b[0m                        (forward(m1_new, m2_new, m3_new, X_new.values) - forward(m1, m2, m3, X_new.values))/dx))\n",
      "\u001b[0;31mNameError\u001b[0m: name 'X_new' is not defined"
     ]
    }
   ],
   "source": [
    "mu = 0.001\n",
    "dx = 0.000001\n",
    "\n",
    "for i in range(10):\n",
    "    m1_new = m1.copy()\n",
    "    m2_new = m2.copy()\n",
    "    m3_new = m3.copy()\n",
    "    if i < 4:\n",
    "        m1_new.reshape((-1,))[i] += dx\n",
    "    elif 3 < i < 8:\n",
    "        m2_new.reshape((-1,))[i-4] += dx\n",
    "    elif 7 < i:\n",
    "        m3_new[i-8][0] += dx\n",
    "    print(i, mu*np.mean(2*(forward(m1_new, m2_new, m3_new, X_new.values) - y_new.values)*\\\n",
    "                       (forward(m1_new, m2_new, m3_new, X_new.values) - forward(m1, m2, m3, X_new.values))/dx))"
   ]
  },
  {
   "cell_type": "code",
   "execution_count": 87,
   "id": "d5a1090f",
   "metadata": {},
   "outputs": [
    {
     "data": {
      "text/plain": [
       "((2, 2), (2, 2), (2, 1))"
      ]
     },
     "execution_count": 87,
     "metadata": {},
     "output_type": "execute_result"
    }
   ],
   "source": [
    "m1.shape, m2.shape, m3.shape"
   ]
  },
  {
   "cell_type": "code",
   "execution_count": 88,
   "id": "ff9b9e6e",
   "metadata": {},
   "outputs": [],
   "source": [
    "def transform_w(m1, m2, m3):\n",
    "    return np.concatenate([m1.reshape((-1,)), m2.reshape((-1,)), m3.reshape((-1,))])\n",
    "\n",
    "def w_transform(m):\n",
    "    return m[:4].reshape((2,2)), m[4:8].reshape((2,2)), m[8:].reshape((2,1))"
   ]
  },
  {
   "cell_type": "code",
   "execution_count": 89,
   "id": "5b3f836b",
   "metadata": {},
   "outputs": [
    {
     "data": {
      "text/plain": [
       "(array([[ 0.99610787, -0.40919647],\n",
       "        [-0.3562812 ,  0.32474637]]),\n",
       " array([[0.45606516, 0.94212781],\n",
       "        [0.4986194 , 0.75088161]]),\n",
       " array([[-0.82680256],\n",
       "        [-0.01282273]]))"
      ]
     },
     "execution_count": 89,
     "metadata": {},
     "output_type": "execute_result"
    }
   ],
   "source": [
    "m1,m2,m3"
   ]
  },
  {
   "cell_type": "code",
   "execution_count": 90,
   "id": "908ee3f9",
   "metadata": {},
   "outputs": [
    {
     "data": {
      "text/plain": [
       "(array([[ 0.99610787, -0.40919647],\n",
       "        [-0.3562812 ,  0.32474637]]),\n",
       " array([[0.45606516, 0.94212781],\n",
       "        [0.4986194 , 0.75088161]]),\n",
       " array([[-0.82680256],\n",
       "        [-0.01282273]]))"
      ]
     },
     "execution_count": 90,
     "metadata": {},
     "output_type": "execute_result"
    }
   ],
   "source": [
    "w_transform(transform_w(m1, m2, m3))"
   ]
  },
  {
   "cell_type": "code",
   "execution_count": 91,
   "id": "0bdd96bd",
   "metadata": {},
   "outputs": [
    {
     "name": "stdout",
     "output_type": "stream",
     "text": [
      "0 3.488720392323294e-05\n",
      "1 0.0002228121672130925\n",
      "2 2.2478654255093137e-05\n",
      "3 5.985526651632565e-05\n",
      "4 0.00365048381681324\n",
      "5 5.6005843057532446e-05\n",
      "6 -0.0035462064567323816\n",
      "7 -5.444263079913455e-05\n",
      "8 0.00012491235006449955\n",
      "9 -0.0009356001801449937\n"
     ]
    }
   ],
   "source": [
    "mu = 0.001\n",
    "dx = 0.000001\n",
    "\n",
    "m = transform_w(m1,m2,m3).copy()\n",
    "for i in range(10):\n",
    "    m = transform_w(m1,m2,m3).copy()\n",
    "    m[i] += dx\n",
    "    m1_new, m2_new, m3_new = w_transform(m)\n",
    "    print(i, mu*np.mean(2*(forward(m1_new, m2_new, m3_new, X.values) - y.values)*\\\n",
    "                       (forward(m1_new, m2_new, m3_new, X.values) - forward(m1, m2, m3, X.values))/dx))"
   ]
  },
  {
   "cell_type": "code",
   "execution_count": 92,
   "id": "4b0750b8",
   "metadata": {},
   "outputs": [],
   "source": [
    "def get_new_w(m1,m2,m3):\n",
    "    mu = 0.01\n",
    "    dx = 0.000001\n",
    "    m = transform_w(m1,m2,m3).copy()\n",
    "    l = []\n",
    "    for i in range(10):\n",
    "        m = transform_w(m1,m2,m3).copy()\n",
    "        m[i] += dx\n",
    "        m1_new, m2_new, m3_new = w_transform(m)\n",
    "        l.append(mu*np.mean(2*(forward(m1_new, m2_new, m3_new, X.values) - y.values)*\\\n",
    "                           (forward(m1_new, m2_new, m3_new, X.values) - forward(m1, m2, m3, X.values))/dx))\n",
    "    l = np.array(l)\n",
    "    m_new = m - l\n",
    "    return w_transform(m_new)"
   ]
  },
  {
   "cell_type": "code",
   "execution_count": 95,
   "id": "335ab61d",
   "metadata": {
    "scrolled": false
   },
   "outputs": [
    {
     "name": "stdout",
     "output_type": "stream",
     "text": [
      "[ 0.99610787 -0.40919647 -0.3562812   0.32474637  0.45606516  0.94212781\n",
      "  0.4986194   0.75088161 -0.82680256 -0.01282273] 28.407902312625833\n",
      "[ 0.9943085  -0.43531647 -0.35746625  0.31728258  0.09547107  0.95627216\n",
      "  0.84940527  0.73708574 -0.98508763  0.08139987] 25.459417256954755\n",
      "[ 0.99589736 -0.46663749 -0.35621743  0.3063534  -0.24880489  1.00795312\n",
      "  1.18512491  0.68644923 -1.36922597  0.19172266] 21.459789701156083\n",
      "[ 1.00037935 -0.49445078 -0.3517313   0.29253624 -0.53865914  1.09431138\n",
      "  1.46874254  0.601327   -1.85081496  0.33372239] 17.127017669505385\n",
      "[ 1.00553047 -0.51153211 -0.34385262  0.27725455 -0.75881387  1.20749457\n",
      "  1.68554656  0.4890284  -2.32874908  0.50913666] 13.312049365951129\n",
      "[ 1.00827957 -0.51477109 -0.33330601  0.26195088 -0.91844699  1.33263908\n",
      "  1.84472047  0.36389053 -2.75415923  0.70578099] 10.284346511878192\n",
      "[ 1.00592996 -0.50195748 -0.32116877  0.24807756 -1.03097913  1.45279898\n",
      "  1.95966295  0.24241404 -3.11049323  0.9036922 ] 8.061895931714997\n",
      "[ 0.9970369  -0.47020466 -0.30819206  0.23685665 -1.10772602  1.5564945\n",
      "  2.04180123  0.13573501 -3.39796006  1.08540185] 6.539353538318432\n",
      "[ 0.98178781 -0.41427253 -0.29425653  0.22919217 -1.15720278  1.64006415\n",
      "  2.10010906  0.04716057 -3.62532127  1.24192396] 5.531012522964196\n",
      "[ 0.96211533 -0.31971138 -0.27787619  0.22639066 -1.18491616  1.70528679\n",
      "  2.14170919 -0.02575628 -3.8055227   1.37257226] 4.815122739983179\n",
      "[ 0.94362624 -0.11845356 -0.25419307  0.23367771 -1.19190332  1.75854689\n",
      "  2.1751919  -0.09117986 -3.95990671  1.48661986] 3.9167398929921178\n",
      "[ 0.93334714 -0.06607371 -0.21881871  0.2425297  -1.19383002  1.81448011\n",
      "  2.2211063  -0.15803472 -4.126374    1.61205123] 3.2722109577520313\n",
      "[ 0.9201391  -0.05937462 -0.18155512  0.26104557 -1.18085601  1.85945256\n",
      "  2.2626781  -0.21559253 -4.26960381  1.72086082] 2.8568759213021835\n",
      "[ 0.90539302 -0.05502789 -0.14163578  0.28766453 -1.15529235  1.8954098\n",
      "  2.30045614 -0.26556955 -4.39369266  1.81507384] 2.5304020204912065\n",
      "[ 0.89078011 -0.05216428 -0.09827895  0.31862971 -1.12109414  1.92485712\n",
      "  2.3355756  -0.30946247 -4.50347431  1.8982433 ] 2.2586681331122436\n",
      "[ 0.87754495 -0.05024494 -0.05130469  0.35064743 -1.08175761  1.9497691\n",
      "  2.36864287 -0.34832882 -4.60242511  1.97320906] 2.023314269487865\n",
      "[ 8.66419248e-01 -4.89130132e-02 -1.12857277e-03  3.81285261e-01\n",
      " -1.04016277e+00  1.97160963e+00  2.39992114e+00 -3.82915794e-01\n",
      " -4.69290501e+00  2.04204417e+00] 1.8150134867955607\n",
      "[ 0.85766552 -0.04792951  0.05141812  0.40906008 -0.99848971  1.99140584\n",
      "  2.42949695 -0.41378012 -4.77646063  2.10616022] 1.6289935641266795\n",
      "[ 0.85119821 -0.04713937  0.10531673  0.43331296 -0.95823207  2.00983981\n",
      "  2.45739845 -0.44137135 -4.85410314  2.16646939] 1.462519391514406\n",
      "[ 0.84672733 -0.04644808  0.15955507  0.4539782  -0.92029477  2.02733926\n",
      "  2.483658   -0.46607733 -4.92651927  2.22354331] 1.313675052129668\n",
      "[ 0.84388165 -0.04580282  0.21325165  0.47134151 -0.88513461  2.04415617\n",
      "  2.50833228 -0.4882434  -4.99421017  2.27774044] 1.1808529018658978\n",
      "[ 0.84229163 -0.04517731  0.26571166  0.48584624 -0.85290175  2.06042843\n",
      "  2.53149966 -0.50817835 -5.05757313  2.32929554] 1.0625691975709788\n",
      "[ 0.84163274 -0.04456071  0.31643306  0.49796661 -0.82355619  2.07622444\n",
      "  2.55325059 -0.52615602 -5.11694557  2.37837648] 0.9574122558948996\n",
      "[ 0.8416404  -0.04395029  0.36508476  0.50813992 -0.79695157  2.09157298\n",
      "  2.57367881 -0.54241666 -5.17262729  2.42511717] 0.864038843402722\n",
      "[ 0.84210868 -0.04334706  0.41147373  0.51673952 -0.77288983  2.10648205\n",
      "  2.59287583 -0.5571694  -5.22489145  2.46963525] 0.7811850058178855\n",
      "[ 0.84288194 -0.04275337  0.45551145  0.52407104 -0.75115428  2.12095012\n",
      "  2.61092834 -0.57059539 -5.27398984  2.51204071] 0.7076780356868959\n",
      "[ 0.84384479 -0.04217176  0.4971847   0.53037928 -0.73152834  2.13497255\n",
      "  2.62791736 -0.58285129 -5.3201557   2.55243962] 0.6424446647245192\n",
      "[ 0.84491278 -0.04160448  0.53653228  0.53585845 -0.71380551  2.14854497\n",
      "  2.64391818 -0.59407261 -5.36360529  2.59093533] 0.5845143030908868\n",
      "[ 0.84602471 -0.0410533   0.57362727  0.54066231 -0.69779421  2.16166497\n",
      "  2.65900071 -0.60437675 -5.40453901  2.62762865] 0.5330178259805575\n",
      "[ 0.84713666 -0.04051949  0.60856412  0.54491283 -0.68331969  2.17433275\n",
      "  2.67322983 -0.61386561 -5.44314228  2.66261746] 0.487183022104923\n"
     ]
    }
   ],
   "source": [
    "m1_new = m1.copy()\n",
    "m2_new = m2.copy()\n",
    "m3_new = m3.copy()\n",
    "\n",
    "for i in range(30000):\n",
    "    if i % 1000 == 0:\n",
    "        print(transform_w(m1_new, m2_new, m3_new), \n",
    "          np.mean((forward(m1_new, m2_new, m3_new, X.values) - y.values)**2))\n",
    "    m1_new, m2_new, m3_new = get_new_w(m1_new, m2_new, m3_new)"
   ]
  },
  {
   "cell_type": "code",
   "execution_count": 96,
   "id": "7f1b3490",
   "metadata": {},
   "outputs": [],
   "source": [
    "m1_best, m2_best, m3_best = w_transform(np.array([ 0.84713666, -0.04051949,  0.60856412,  0.54491283,\n",
    "                                                  -0.68331969,  2.17433275, 2.67322983, -0.61386561,\n",
    "                                                  -5.44314228,  2.66261746]))"
   ]
  },
  {
   "cell_type": "code",
   "execution_count": 98,
   "id": "a5ac545f",
   "metadata": {},
   "outputs": [
    {
     "data": {
      "text/plain": [
       "[<matplotlib.lines.Line2D at 0x7fc392b4c790>]"
      ]
     },
     "execution_count": 98,
     "metadata": {},
     "output_type": "execute_result"
    },
    {
     "data": {
      "image/png": "[encoded data removed]",
      "text/plain": [
       "<Figure size 432x288 with 1 Axes>"
      ]
     },
     "metadata": {
      "needs_background": "light"
     },
     "output_type": "display_data"
    }
   ],
   "source": [
    "%matplotlib inline\n",
    "import matplotlib.pyplot as plt\n",
    "\n",
    "plt.plot(X.x, y)\n",
    "plt.plot(X.x, forward(m1_best, m2_best, m3_best, X.values))"
   ]
  },
  {
   "cell_type": "code",
   "execution_count": 100,
   "id": "1acdc430",
   "metadata": {},
   "outputs": [
    {
     "data": {
      "text/plain": [
       "array([[-0.73100189],\n",
       "       [ 0.79253394],\n",
       "       [ 2.43238554],\n",
       "       [ 3.27644198],\n",
       "       [ 4.25205038],\n",
       "       [ 5.29173569],\n",
       "       [ 6.16779789],\n",
       "       [ 6.75847533],\n",
       "       [ 7.09702207],\n",
       "       [ 7.27357354]])"
      ]
     },
     "execution_count": 100,
     "metadata": {},
     "output_type": "execute_result"
    }
   ],
   "source": [
    "forward(m1_best, m2_best, m3_best, X.values)"
   ]
  },
  {
   "cell_type": "code",
   "execution_count": 102,
   "id": "c2b8bb36",
   "metadata": {},
   "outputs": [
    {
     "data": {
      "text/plain": [
       "array([[0.53436376],\n",
       "       [0.04304216],\n",
       "       [0.18695725],\n",
       "       [0.07642017],\n",
       "       [0.0635294 ],\n",
       "       [0.08510971],\n",
       "       [0.02815613],\n",
       "       [0.05833416],\n",
       "       [0.81536913],\n",
       "       [2.98054833]])"
      ]
     },
     "execution_count": 102,
     "metadata": {},
     "output_type": "execute_result"
    }
   ],
   "source": [
    "L(y.values, forward(m1_best, m2_best, m3_best, X.values))"
   ]
  },
  {
   "cell_type": "code",
   "execution_count": 103,
   "id": "1a3c264e",
   "metadata": {},
   "outputs": [
    {
     "data": {
      "text/plain": [
       "0.48718302226846477"
      ]
     },
     "execution_count": 103,
     "metadata": {},
     "output_type": "execute_result"
    }
   ],
   "source": [
    "np.mean(L(y.values, forward(m1_best, m2_best, m3_best, X.values)))"
   ]
  },
  {
   "cell_type": "code",
   "execution_count": 26,
   "id": "9879893d",
   "metadata": {},
   "outputs": [],
   "source": [
    "m1 = np.random.rand(2,3) * 2 - 1\n",
    "m2 = np.random.rand(3,2) * 2 - 1\n",
    "m3 = np.random.rand(2,1) * 2 - 1"
   ]
  },
  {
   "cell_type": "code",
   "execution_count": 28,
   "id": "2ab4a79d",
   "metadata": {},
   "outputs": [
    {
     "data": {
      "text/plain": [
       "array([[ 0.00145774],\n",
       "       [-0.00784801],\n",
       "       [-0.00753555],\n",
       "       [ 0.02536077],\n",
       "       [ 0.04712986],\n",
       "       [ 0.05328737],\n",
       "       [ 0.0542736 ],\n",
       "       [ 0.05437201],\n",
       "       [ 0.05437831],\n",
       "       [ 0.05437857]])"
      ]
     },
     "execution_count": 28,
     "metadata": {},
     "output_type": "execute_result"
    }
   ],
   "source": [
    "F(F(X.values.dot(m1)).dot(m2)).dot(m3)"
   ]
  },
  {
   "cell_type": "code",
   "execution_count": 197,
   "id": "efad72b7",
   "metadata": {},
   "outputs": [
    {
     "data": {
      "text/plain": [
       "array([[-0.16683339, -0.35789249, -0.68758545, -0.78224426, -0.79049288,\n",
       "        -0.79084088, -0.79084797, -0.79084804, -0.79084804, -0.79084804],\n",
       "       [ 0.29195539,  0.03018514, -0.53536325, -0.63068967, -0.63330729,\n",
       "        -0.63341681, -0.63341946, -0.63341948, -0.63341948, -0.63341948],\n",
       "       [-0.57817528, -0.71577887, -0.87759418, -0.98741781, -1.00338619,\n",
       "        -1.00412573, -1.00414093, -1.00414106, -1.00414106, -1.00414106]])"
      ]
     },
     "execution_count": 197,
     "metadata": {},
     "output_type": "execute_result"
    }
   ],
   "source": [
    "m2.dot(F(m1.dot(X.T.values)))"
   ]
  },
  {
   "cell_type": "code",
   "execution_count": 214,
   "id": "33fb127f",
   "metadata": {},
   "outputs": [],
   "source": [
    "def get_new_w(m1,m2,m3):\n",
    "    mu = 0.0001\n",
    "    dx = 0.000001\n",
    "    m = transform_w(m1,m2,m3).copy()\n",
    "    l = []\n",
    "    for i in range(18):\n",
    "        m = transform_w(m1,m2,m3).copy()\n",
    "        m[i] += dx\n",
    "        m1_new, m2_new, m3_new = w_transform(m)\n",
    "        l.append(mu*np.mean(2*(forward(m1_new, m2_new, m3_new, X.T.values).T - y.values)*\\\n",
    "                           (forward(m1_new, m2_new, m3_new, X.T.values) - forward(m1, m2, m3, X.T.values))/dx\n",
    "                           ))\n",
    "    l = np.array(l)\n",
    "    m_new = m - l\n",
    "    return w_transform(m_new)"
   ]
  },
  {
   "cell_type": "code",
   "execution_count": 215,
   "id": "3a4cf407",
   "metadata": {},
   "outputs": [],
   "source": [
    "def forward(m1, m2, m3, X):\n",
    "    return m3.dot(F(m2.dot(F(m1.dot(X)))))\n",
    "\n",
    "def transform_w(m1, m2, m3):\n",
    "    return np.concatenate([m1.reshape((-1,)), m2.reshape((-1,)), m3.reshape((-1,))])\n",
    "\n",
    "def w_transform(m):\n",
    "    return m[:6].reshape((3,2)), m[6:15].reshape((3,3)), m[15:].reshape((1,3))"
   ]
  },
  {
   "cell_type": "code",
   "execution_count": 216,
   "id": "a10f106e",
   "metadata": {},
   "outputs": [
    {
     "name": "stdout",
     "output_type": "stream",
     "text": [
      "[-0.62408843 -0.32666484  0.42732917  0.81899954 -0.83048502  0.72533999\n",
      "  0.36235232 -0.34950484  0.07899088 -0.33755694 -0.13617191  0.83480451\n",
      "  0.73698131 -0.75001065 -0.4828509   0.25503661  0.71639847  0.68272318] 34.39869324817742\n",
      "[-0.62265615 -0.32462835  0.40931079  0.80346513 -0.81981937  0.73604291\n",
      "  0.32182381 -0.30747815  0.04336463 -0.59559834  0.13016096  0.60529273\n",
      "  0.55596669 -0.56284741 -0.64305104 -0.021724    0.64654329  0.37305981] 28.857807701432584\n",
      "[-0.63752116 -0.34229988  0.41321868  0.80702201 -0.81349166  0.74263534\n",
      "  0.36957345 -0.35677608  0.0850821  -0.84495     0.38686718  0.38482098\n",
      "  0.4518045  -0.45581785 -0.73579927 -0.27877499  0.84061635  0.22657336] 24.889000138041332\n",
      "[-0.6645242  -0.37889472  0.43336077  0.82678161 -0.81208576  0.74488627\n",
      "  0.48148501 -0.4723943   0.18108657 -1.08636349  0.63686535  0.17936761\n",
      "  0.38844785 -0.39090317 -0.7919626  -0.5722357   1.20869433  0.16977718] 19.88875484284913\n",
      "[-0.69669226 -0.43063363  0.46152449  0.86012711 -0.81834033  0.73874864\n",
      "  0.6193615  -0.61535833  0.29533797 -1.28481178  0.84470852  0.02188112\n",
      "  0.3435626  -0.34499651 -0.83145965 -0.89186055  1.62334027  0.16229538] 14.85454266782483\n",
      "[-0.72660958 -0.48718626  0.48893194  0.89933326 -0.82970442  0.725336\n",
      "  0.7458093  -0.74718661  0.3951692  -1.43070336  0.99925053 -0.08437499\n",
      "  0.30700447 -0.30765925 -0.86340914 -1.19398635  1.99527415  0.18037796] 11.038283946617861\n",
      "[-0.75068334 -0.53902991  0.51130704  0.93666252 -0.8420657   0.70903716\n",
      "  0.84538603 -0.85154488  0.46974784 -1.53350731  1.1090178  -0.1534629\n",
      "  0.27578205 -0.27580787 -0.89054555 -1.4476036   2.29370205  0.20927676] 8.62086844107345\n",
      "[-0.76858842 -0.58156261  0.52804969  0.96796948 -0.85298593  0.69346925\n",
      "  0.91848507 -0.92845745  0.52195041 -1.60490929  1.18560194 -0.19848001\n",
      "  0.24963455 -0.24915657 -0.913173   -1.64505564  2.5194388   0.24000229] 7.238071500372103\n",
      "[-0.78137503 -0.61417364  0.54004968  0.99230316 -0.86168462  0.68037238\n",
      "  0.97045658 -0.98328506  0.55767691 -1.65421062  1.2386038  -0.22815869\n",
      "  0.2286358  -0.22776613 -0.93128314 -1.79194281  2.68442097  0.26777295] 6.4917305833647445\n",
      "[-0.79032096 -0.63816785  0.54846743  1.01036493 -0.86823099  0.6701375\n",
      "  1.0068295  -1.02172149  0.58197892 -1.68814716  1.27512813 -0.24794439\n",
      "  0.21245261 -0.21128777 -0.94520335 -1.89816901  2.80242256  0.29071614] 6.102102406134323\n",
      "[-0.79651511 -0.65537685  0.55430745  1.02339409 -0.87299517  0.6624942\n",
      "  1.03206839 -1.04842049  0.59850071 -1.71146181  1.30023346 -0.26124504\n",
      "  0.2003897  -0.19900812 -0.95555862 -1.97360219  2.88562842  0.3086663 ] 5.902187746234039\n",
      "[-0.80078072 -0.66752084  0.55833513  1.03262394 -0.87639071  0.65694992\n",
      "  1.04949227 -1.06686473  0.60974395 -1.72745696  1.31746104 -0.27023718\n",
      "  0.19161959 -0.190082   -0.96307602 -2.02652336  2.94373476  0.32225652] 5.80013601179739\n",
      "[-0.80370938 -0.67600031  0.5611034   1.03908533 -0.87877821  0.65300464\n",
      "  1.06148134 -1.07956136  0.61740338 -1.73841866  1.32926847 -0.27633894\n",
      "  0.18535733 -0.18370908 -0.96843797 -2.06334541  2.98404177  0.33236416] 5.747747286342585\n",
      "[-0.80571635 -0.68187892  0.5630019   1.0435727  -0.88044173  0.65023337\n",
      "  1.06971164 -1.08827983  0.62262536 -1.74592376  1.33735292 -0.28048877\n",
      "  0.18094291 -0.179217   -0.97221481 -2.0888179   3.01186839  0.3398342 ] 5.720418480364981\n",
      "[-0.80708977 -0.68593395  0.56430178  1.04667174 -0.88159345  0.6483042\n",
      "  1.07535128 -1.09425508  0.62618671 -1.75105741  1.34288292 -0.28331452\n",
      "  0.17785964 -0.17607965 -0.97485132 -2.10636471  3.03101058  0.34537277] 5.705777077746063\n",
      "[-0.80802841 -0.68872048  0.5651905   1.04880304 -0.88238709  0.64696997\n",
      "  1.07920937 -1.09834327  0.62861515 -1.7545652   1.34666153 -0.28523941\n",
      "  0.17572068 -0.17390325 -0.97667964 -2.11841201  3.04414102  0.3495278 ] 5.697633468377849\n",
      "[-0.80866898 -0.69062924  0.56579714  1.05026376 -0.8829319   0.64605183\n",
      "  1.08184413 -1.10113541  0.6302699  -1.75695883  1.34923996 -0.28655018\n",
      "  0.17424461 -0.17240139 -0.97794101 -2.12665977  3.05312459  0.35270619] 5.692881815602693\n",
      "[-0.80910531 -0.69193274  0.56621043  1.05126167 -0.88330461  0.64542276\n",
      "  1.08363974 -1.10303839  0.63139592 -1.75858923  1.35099622 -0.28744173\n",
      "  0.17323059 -0.17136966 -0.97880738 -2.13229022  3.05925467  0.35520193] 5.689947084697431\n",
      "[-0.80940175 -0.6928199   0.56649125  1.051941   -0.88355863  0.64499358\n",
      "  1.08486013 -1.10433181  0.63216043 -1.75969694  1.35218943 -0.28804687\n",
      "  0.17253703 -0.170664   -0.97939988 -2.13612142  3.06342453  0.35722371] 5.688016212461089\n",
      "[-0.80960241 -0.69342112  0.56668135  1.05240145 -0.883731    0.64470219\n",
      "  1.08568641 -1.10520757  0.63267769 -1.76044675  1.35299711 -0.28845623\n",
      "  0.17206501 -0.17018375 -0.97980308 -2.13871746  3.06624941  0.35891793] 5.686659096656847\n",
      "[-0.80973749 -0.69382619  0.56680932  1.05271171 -0.88384726  0.64450558\n",
      "  1.08624276 -1.10579726  0.63302581 -1.76095154  1.35354085 -0.2887317\n",
      "  0.17174579 -0.16985897 -0.98007575 -2.14046642  3.0681522   0.36038647] 5.6856412966018555\n",
      "[-0.80982769 -0.69409681  0.56689477  1.052919   -0.88392501  0.64437409\n",
      "  1.0866143  -1.10619107  0.63325822 -1.76128861  1.35390392 -0.28891558\n",
      "  0.17153179 -0.16964124 -0.98025853 -2.14163485  3.06942318  0.36169985] 5.684830658967263\n",
      "[-0.80988716 -0.69427532  0.56695112  1.05305574 -0.88397634  0.64428726\n",
      "  1.08685931 -1.10645078  0.63341145 -1.76151089  1.35414333 -0.28903682\n",
      "  0.17139017 -0.16949716 -0.98037949 -2.14240562  3.07026146  0.36290673] 5.684150061509077\n",
      "[-0.80992561 -0.69439076  0.56698754  1.05314417 -0.88400957  0.64423107\n",
      "  1.08701772 -1.10661871  0.6335105  -1.7616546   1.35429811 -0.28911519\n",
      "  0.17129831 -0.16940371 -0.98045795 -2.1429041   3.07080346  0.36404058] 5.683552980573144\n",
      "[-0.80994967 -0.69446302  0.56701034  1.05319952 -0.88403039  0.64419587\n",
      "  1.08711687 -1.10672382  0.6335725  -1.76174455  1.35439498 -0.28916424\n",
      "  0.17124063 -0.16934504 -0.9805072  -2.14321617  3.07114267  0.3651244 ] 5.683010510076096\n",
      "[-0.8099639  -0.69450574  0.56702381  1.05323223 -0.8840427   0.64417505\n",
      "  1.08717546 -1.10678595  0.63360913 -1.76179772  1.35445223 -0.28919323\n",
      "  0.17120645 -0.16931026 -0.9805364  -2.14340067  3.0713431   0.36617394] 5.682504240520766\n",
      "[-0.80997138 -0.69452823  0.56703091  1.05324945 -0.88404919  0.64416408\n",
      "  1.0872063  -1.10681867  0.63362842 -1.76182571  1.35448236 -0.2892085\n",
      "  0.17118839 -0.16929191 -0.98055182 -2.14349788  3.07144855  0.36720002] 5.682022214566312\n",
      "[-0.80997426 -0.69453689  0.56703363  1.05325607 -0.88405169  0.64415986\n",
      "  1.08721816 -1.10683126  0.63363583 -1.76183649  1.35449395 -0.28921437\n",
      "  0.17118143 -0.16928483 -0.98055777 -2.14353536  3.07148903  0.36821005] 5.681556548233868\n",
      "[-0.80997399 -0.69453608  0.56703338  1.05325545 -0.88405146  0.64416025\n",
      "  1.08721703 -1.1068301   0.63363513 -1.76183549  1.35449285 -0.28921382\n",
      "  0.17118208 -0.1692855  -0.98055721 -2.14353199  3.07148507  0.3692091 ] 5.681101985279687\n",
      "[-0.80997157 -0.69452881  0.56703108  1.05324987 -0.88404935  0.64416381\n",
      "  1.08720703 -1.10681952  0.63362888 -1.76182644  1.35448307 -0.28920888\n",
      "  0.17118797 -0.1692915  -0.98055218 -2.14350068  3.0714507   0.37020064] 5.68065499318826\n"
     ]
    }
   ],
   "source": [
    "m1_new = m1.copy()\n",
    "m2_new = m2.copy()\n",
    "m3_new = m3.copy()\n",
    "\n",
    "for i in range(30000):\n",
    "    if i % 1000 == 0:\n",
    "        print(transform_w(m1_new, m2_new, m3_new), \n",
    "          np.mean((forward(m1_new, m2_new, m3_new, X.T.values).T - y.values)**2))\n",
    "    m1_new, m2_new, m3_new = get_new_w(m1_new, m2_new, m3_new)"
   ]
  },
  {
   "cell_type": "code",
   "execution_count": null,
   "id": "1134dbbc",
   "metadata": {},
   "outputs": [],
   "source": []
  },
  {
   "cell_type": "code",
   "execution_count": null,
   "id": "ecb7d6ff",
   "metadata": {},
   "outputs": [],
   "source": []
  },
  {
   "cell_type": "code",
   "execution_count": 104,
   "id": "965a9539",
   "metadata": {},
   "outputs": [
    {
     "data": {
      "text/plain": [
       "(28.5, 28.3048876815766)"
      ]
     },
     "execution_count": 104,
     "metadata": {},
     "output_type": "execute_result"
    }
   ],
   "source": [
    "Xmean = X[\"x\"].mean()\n",
    "Xstd = X[\"x\"].std()\n",
    "Xmean, Xstd"
   ]
  },
  {
   "cell_type": "code",
   "execution_count": 105,
   "id": "254052c0",
   "metadata": {},
   "outputs": [
    {
     "data": {
      "text/plain": [
       "(y    4.5\n",
       " dtype: float64,\n",
       " y    3.02765\n",
       " dtype: float64)"
      ]
     },
     "execution_count": 105,
     "metadata": {},
     "output_type": "execute_result"
    }
   ],
   "source": [
    "y_mean = y.mean()\n",
    "y_std = y.std()\n",
    "y_mean, y_std"
   ]
  },
  {
   "cell_type": "code",
   "execution_count": 106,
   "id": "624db880",
   "metadata": {},
   "outputs": [
    {
     "data": {
      "text/html": [
       "<div>\n",
       "<style scoped>\n",
       "    .dataframe tbody tr th:only-of-type {\n",
       "        vertical-align: middle;\n",
       "    }\n",
       "\n",
       "    .dataframe tbody tr th {\n",
       "        vertical-align: top;\n",
       "    }\n",
       "\n",
       "    .dataframe thead th {\n",
       "        text-align: right;\n",
       "    }\n",
       "</style>\n",
       "<table border=\"1\" class=\"dataframe\">\n",
       "  <thead>\n",
       "    <tr style=\"text-align: right;\">\n",
       "      <th></th>\n",
       "      <th>x</th>\n",
       "      <th>x3</th>\n",
       "    </tr>\n",
       "  </thead>\n",
       "  <tbody>\n",
       "    <tr>\n",
       "      <th>0</th>\n",
       "      <td>-1.006893</td>\n",
       "      <td>1</td>\n",
       "    </tr>\n",
       "    <tr>\n",
       "      <th>1</th>\n",
       "      <td>-0.971564</td>\n",
       "      <td>1</td>\n",
       "    </tr>\n",
       "    <tr>\n",
       "      <th>2</th>\n",
       "      <td>-0.865575</td>\n",
       "      <td>1</td>\n",
       "    </tr>\n",
       "    <tr>\n",
       "      <th>3</th>\n",
       "      <td>-0.688927</td>\n",
       "      <td>1</td>\n",
       "    </tr>\n",
       "    <tr>\n",
       "      <th>4</th>\n",
       "      <td>-0.441620</td>\n",
       "      <td>1</td>\n",
       "    </tr>\n",
       "    <tr>\n",
       "      <th>5</th>\n",
       "      <td>-0.123654</td>\n",
       "      <td>1</td>\n",
       "    </tr>\n",
       "    <tr>\n",
       "      <th>6</th>\n",
       "      <td>0.264972</td>\n",
       "      <td>1</td>\n",
       "    </tr>\n",
       "    <tr>\n",
       "      <th>7</th>\n",
       "      <td>0.724257</td>\n",
       "      <td>1</td>\n",
       "    </tr>\n",
       "    <tr>\n",
       "      <th>8</th>\n",
       "      <td>1.254200</td>\n",
       "      <td>1</td>\n",
       "    </tr>\n",
       "    <tr>\n",
       "      <th>9</th>\n",
       "      <td>1.854803</td>\n",
       "      <td>1</td>\n",
       "    </tr>\n",
       "  </tbody>\n",
       "</table>\n",
       "</div>"
      ],
      "text/plain": [
       "          x  x3\n",
       "0 -1.006893   1\n",
       "1 -0.971564   1\n",
       "2 -0.865575   1\n",
       "3 -0.688927   1\n",
       "4 -0.441620   1\n",
       "5 -0.123654   1\n",
       "6  0.264972   1\n",
       "7  0.724257   1\n",
       "8  1.254200   1\n",
       "9  1.854803   1"
      ]
     },
     "execution_count": 106,
     "metadata": {},
     "output_type": "execute_result"
    }
   ],
   "source": [
    "X_new = X.copy()\n",
    "X_new[\"x\"] = (X[\"x\"] - X[\"x\"].mean())/X[\"x\"].std()\n",
    "\n",
    "y_new = (y - y_mean)/y_std\n",
    "\n",
    "X_new"
   ]
  },
  {
   "cell_type": "code",
   "execution_count": 107,
   "id": "3b069b53",
   "metadata": {},
   "outputs": [
    {
     "data": {
      "text/html": [
       "<div>\n",
       "<style scoped>\n",
       "    .dataframe tbody tr th:only-of-type {\n",
       "        vertical-align: middle;\n",
       "    }\n",
       "\n",
       "    .dataframe tbody tr th {\n",
       "        vertical-align: top;\n",
       "    }\n",
       "\n",
       "    .dataframe thead th {\n",
       "        text-align: right;\n",
       "    }\n",
       "</style>\n",
       "<table border=\"1\" class=\"dataframe\">\n",
       "  <thead>\n",
       "    <tr style=\"text-align: right;\">\n",
       "      <th></th>\n",
       "      <th>y</th>\n",
       "    </tr>\n",
       "  </thead>\n",
       "  <tbody>\n",
       "    <tr>\n",
       "      <th>0</th>\n",
       "      <td>-1.486301</td>\n",
       "    </tr>\n",
       "    <tr>\n",
       "      <th>1</th>\n",
       "      <td>-1.156012</td>\n",
       "    </tr>\n",
       "    <tr>\n",
       "      <th>2</th>\n",
       "      <td>-0.825723</td>\n",
       "    </tr>\n",
       "    <tr>\n",
       "      <th>3</th>\n",
       "      <td>-0.495434</td>\n",
       "    </tr>\n",
       "    <tr>\n",
       "      <th>4</th>\n",
       "      <td>-0.165145</td>\n",
       "    </tr>\n",
       "    <tr>\n",
       "      <th>5</th>\n",
       "      <td>0.165145</td>\n",
       "    </tr>\n",
       "    <tr>\n",
       "      <th>6</th>\n",
       "      <td>0.495434</td>\n",
       "    </tr>\n",
       "    <tr>\n",
       "      <th>7</th>\n",
       "      <td>0.825723</td>\n",
       "    </tr>\n",
       "    <tr>\n",
       "      <th>8</th>\n",
       "      <td>1.156012</td>\n",
       "    </tr>\n",
       "    <tr>\n",
       "      <th>9</th>\n",
       "      <td>1.486301</td>\n",
       "    </tr>\n",
       "  </tbody>\n",
       "</table>\n",
       "</div>"
      ],
      "text/plain": [
       "          y\n",
       "0 -1.486301\n",
       "1 -1.156012\n",
       "2 -0.825723\n",
       "3 -0.495434\n",
       "4 -0.165145\n",
       "5  0.165145\n",
       "6  0.495434\n",
       "7  0.825723\n",
       "8  1.156012\n",
       "9  1.486301"
      ]
     },
     "execution_count": 107,
     "metadata": {},
     "output_type": "execute_result"
    }
   ],
   "source": [
    "y_new"
   ]
  },
  {
   "cell_type": "code",
   "execution_count": 108,
   "id": "5fccc908",
   "metadata": {},
   "outputs": [],
   "source": [
    "def get_new_w_new(m1,m2,m3):\n",
    "    mu = 0.001\n",
    "    dx = 0.0000001\n",
    "    m = transform_w(m1,m2,m3).copy()\n",
    "    l = []\n",
    "    for i in range(10):\n",
    "        m = transform_w(m1,m2,m3).copy()\n",
    "        m[i] += dx\n",
    "        m1_new, m2_new, m3_new = w_transform(m)\n",
    "        l.append(mu*np.mean(2*(forward(m1, m2, m3, X_new.values) - y_new.values)*\\\n",
    "                           (forward(m1_new, m2_new, m3_new, X_new.values) - \\\n",
    "                            forward(m1, m2, m3, X_new.values))/dx))\n",
    "    l = np.array(l)\n",
    "    m_new = m - l\n",
    "    return w_transform(m_new)"
   ]
  },
  {
   "cell_type": "code",
   "execution_count": 109,
   "id": "a09053b1",
   "metadata": {},
   "outputs": [
    {
     "name": "stdout",
     "output_type": "stream",
     "text": [
      "[ 0.99610787 -0.40919647 -0.3562812   0.32474637  0.45606516  0.94212781\n",
      "  0.4986194   0.75088161 -0.82680256 -0.01282273] 0.9776522696555967\n",
      "[ 0.94534021 -0.56589558 -0.360747    0.3136237   0.16212829  0.97341431\n",
      "  0.65896057  0.73273663 -0.8291131   0.18344762] 0.7931232113751447\n",
      "[ 1.00932047 -0.71925955 -0.34920962  0.29192332 -0.11193317  1.05433846\n",
      "  0.84981458  0.67598546 -0.98306249  0.3449099 ] 0.5912130669435911\n",
      "[ 1.14401922 -0.88115162 -0.30513468  0.24504721 -0.36847713  1.1581623\n",
      "  1.05105922  0.59434755 -1.22678208  0.49778897] 0.3354583998388592\n",
      "[ 1.26796704 -1.0050971  -0.22010714  0.1658768  -0.54819822  1.24518323\n",
      "  1.20108846  0.52162056 -1.4433431   0.61722135] 0.15955747259966416\n",
      "[ 1.33587659 -1.06892635 -0.11770661  0.07416163 -0.63920997  1.29586423\n",
      "  1.2807114   0.47742809 -1.57110739  0.68638026] 0.08967456725113293\n",
      "[ 1.36313353 -1.09427195 -0.02719336 -0.00596428 -0.68007745  1.32153595\n",
      "  1.31856497  0.4540827  -1.63653361  0.72167553] 0.06327109858656055\n",
      "[ 1.3719644  -1.10287777  0.04002478 -0.06521194 -0.69950961  1.33496481\n",
      "  1.33773648  0.44142514 -1.67127863  0.74034673] 0.05226659366570726\n",
      "[ 1.37412559 -1.10559066  0.08527824 -0.10495343 -0.70979248  1.34243243\n",
      "  1.34837466  0.43426335 -1.69086859  0.7508921 ] 0.04772905135077961\n",
      "[ 1.37430167 -1.10663149  0.11405622 -0.13008909 -0.71567897  1.34669555\n",
      "  1.35460337  0.43019883 -1.70217714  0.75705566] 0.04596074764143435\n",
      "[ 1.37407217 -1.10738564  0.13177607 -0.1454353  -0.71919906  1.34910764\n",
      "  1.35833232  0.42797618 -1.70864854  0.7606821 ] 0.04530534268631103\n",
      "[ 1.37387715 -1.10821517  0.14251471 -0.15461737 -0.72136346  1.35042202\n",
      "  1.36058907  0.42686149 -1.71223508  0.76280139] 0.04507000099218042\n",
      "[ 1.37379426 -1.10916583  0.14899541 -0.1600571  -0.72273248  1.35108421\n",
      "  1.36197205  0.42640885 -1.7141034   0.76402414] 0.04498637343576493\n",
      "[ 1.37380657 -1.1102072   0.15292734 -0.1632739  -0.72363199  1.35136143\n",
      "  1.36283791  0.42634741 -1.71495659  0.76471724] 0.044956060484926445\n",
      "[ 1.37388336 -1.11130278  0.15534715 -0.16518863 -0.72425413  1.3514134\n",
      "  1.36339914  0.42651451 -1.71521552  0.76510017] 0.04494420320644905\n",
      "[ 1.37399981 -1.11242542  0.15687178 -0.16634871 -0.72471226  1.35133481\n",
      "  1.36378155  0.42681358 -1.71512982  0.76530315] 0.044938703383007504\n",
      "[ 1.37413909 -1.11355762  0.15786459 -0.16707609 -0.72507302  1.3511814\n",
      "  1.36405914  0.42718777 -1.71484649  0.76540294] 0.044935410578762866\n",
      "[ 1.37429048 -1.11468884  0.1585384  -0.16755897 -0.72537548  1.3509858\n",
      "  1.36427528  0.42760387 -1.71445155  0.76544449] 0.0449329088667675\n",
      "[ 1.37444734 -1.11581305  0.15901755 -0.167907   -0.72564251  1.35076704\n",
      "  1.36445529  0.42804258 -1.71399519  0.76545408] 0.04493071524953422\n",
      "[ 1.37460552 -1.11692697  0.1593746  -0.16818394 -0.72588749  1.35053616\n",
      "  1.36461395  0.42849274 -1.71350657  0.76544704] 0.04492866351461036\n",
      "[ 1.37476242 -1.11802896  0.15965193 -0.16842682 -0.72611826  1.35029955\n",
      "  1.3647599   0.42894794 -1.71300259  0.76543229] 0.04492669474864415\n",
      "[ 1.37491634 -1.11911836  0.15987432 -0.16865711 -0.72633942  1.35006086\n",
      "  1.36489819  0.42940456 -1.712493    0.76541501] 0.04492478635561907\n",
      "[ 1.37506612 -1.12019508  0.1600563  -0.16888725 -0.72655371  1.34982218\n",
      "  1.36503182  0.42986058 -1.71198339  0.76539824] 0.04492292805760026\n",
      "[ 1.37521095 -1.12125934  0.16020643 -0.16912442 -0.72676278  1.34958469\n",
      "  1.36516254  0.43031492 -1.71147695  0.76538375] 0.044921113793893915\n",
      "[ 1.37535019 -1.12231156  0.16032978 -0.16937277 -0.72696763  1.34934901\n",
      "  1.36529143  0.43076703 -1.71097545  0.76537255] 0.04491933899010619\n",
      "[ 1.37548331 -1.12335226  0.16042939 -0.16963467 -0.7271689   1.34911546\n",
      "  1.36541915  0.4312167  -1.71047983  0.76536528] 0.04491759963695176\n",
      "[ 1.37560987 -1.12438202  0.1605071  -0.16991148 -0.72736702  1.34888421\n",
      "  1.36554613  0.43166389 -1.70999059  0.76536227] 0.04491589197728868\n",
      "[ 1.37572947 -1.12540145  0.16056404 -0.17020398 -0.72756227  1.34865527\n",
      "  1.36567265  0.43210867 -1.70950793  0.76536375] 0.0449142123964282\n",
      "[ 1.37584172 -1.12641115  0.16060095 -0.1705126  -0.72775489  1.34842863\n",
      "  1.36579892  0.43255115 -1.70903189  0.76536986] 0.04491255737980162\n",
      "[ 1.37594626 -1.12741176  0.16061829 -0.17083759 -0.72794504  1.34820424\n",
      "  1.36592511  0.4329915  -1.70856245  0.76538068] 0.0449109234928111\n"
     ]
    }
   ],
   "source": [
    "m1_new = m1.copy()\n",
    "m2_new = m2.copy()\n",
    "m3_new = m3.copy()\n",
    "\n",
    "for i in range(30000):\n",
    "    if i % 1000 == 0:\n",
    "        print(transform_w(m1_new, m2_new, m3_new), \n",
    "          np.mean((forward(m1_new, m2_new, m3_new, X_new.values) - y_new.values)**2))\n",
    "    m1_new, m2_new, m3_new = get_new_w_new(m1_new, m2_new, m3_new)"
   ]
  },
  {
   "cell_type": "code",
   "execution_count": 110,
   "id": "edbd4615",
   "metadata": {},
   "outputs": [],
   "source": [
    "m1_best, m2_best, m3_best = w_transform(np.array([ 1.37594626, -1.12741176,  0.16061829, -0.17083759,\n",
    "                                                  -0.72794504,  1.34820424, 1.36592511, 0.4329915,\n",
    "                                                  -1.70856245,  0.76538068]))"
   ]
  },
  {
   "cell_type": "code",
   "execution_count": 112,
   "id": "cb1bb4fc",
   "metadata": {},
   "outputs": [
    {
     "data": {
      "text/plain": [
       "[<matplotlib.lines.Line2D at 0x7fc392a687f0>]"
      ]
     },
     "execution_count": 112,
     "metadata": {},
     "output_type": "execute_result"
    },
    {
     "data": {
      "image/png": "[encoded data removed]",
      "text/plain": [
       "<Figure size 432x288 with 1 Axes>"
      ]
     },
     "metadata": {
      "needs_background": "light"
     },
     "output_type": "display_data"
    }
   ],
   "source": [
    "plt.plot(X_new.x, y_new)\n",
    "plt.plot(X_new.x, forward(m1_best, m2_best, m3_best, X_new.values))"
   ]
  },
  {
   "cell_type": "code",
   "execution_count": 181,
   "id": "210fd608",
   "metadata": {},
   "outputs": [
    {
     "data": {
      "text/plain": [
       "0.9091190562976788"
      ]
     },
     "execution_count": 181,
     "metadata": {},
     "output_type": "execute_result"
    }
   ],
   "source": [
    "np.mean(L(y_new.values.T, forward(m1_best, m2_best, m3_best, X_new.T.values)[0]))"
   ]
  },
  {
   "cell_type": "code",
   "execution_count": null,
   "id": "207e1eb0",
   "metadata": {},
   "outputs": [],
   "source": []
  }
 ],
 "metadata": {
  "kernelspec": {
   "display_name": "Python 3",
   "language": "python",
   "name": "python3"
  },
  "language_info": {
   "codemirror_mode": {
    "name": "ipython",
    "version": 3
   },
   "file_extension": ".py",
   "mimetype": "text/x-python",
   "name": "python",
   "nbconvert_exporter": "python",
   "pygments_lexer": "ipython3",
   "version": "3.10.12"
  }
 },
 "nbformat": 4,
 "nbformat_minor": 5
}
