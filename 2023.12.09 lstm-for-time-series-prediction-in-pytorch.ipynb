{
 "cells": [
  {
   "cell_type": "markdown",
   "metadata": {
    "papermill": {
     "duration": 0.01723,
     "end_time": "2020-08-20T15:42:47.246024",
     "exception": false,
     "start_time": "2020-08-20T15:42:47.228794",
     "status": "completed"
    },
    "tags": []
   },
   "source": [
    "# Time Series Prediction using LSTM RNN in PyTorch"
   ]
  },
  {
   "cell_type": "markdown",
   "metadata": {
    "papermill": {
     "duration": 0.014897,
     "end_time": "2020-08-20T15:42:47.274821",
     "exception": false,
     "start_time": "2020-08-20T15:42:47.259924",
     "status": "completed"
    },
    "tags": []
   },
   "source": [
    "Importing library"
   ]
  },
  {
   "cell_type": "code",
   "execution_count": 1,
   "metadata": {
    "execution": {
     "iopub.execute_input": "2020-08-20T15:42:47.310790Z",
     "iopub.status.busy": "2020-08-20T15:42:47.309979Z",
     "iopub.status.idle": "2020-08-20T15:42:50.294446Z",
     "shell.execute_reply": "2020-08-20T15:42:50.293565Z"
    },
    "executionInfo": {
     "elapsed": 4812,
     "status": "ok",
     "timestamp": 1594356239883,
     "user": {
      "displayName": "Dr. Vaibhav Kumar",
      "photoUrl": "https://lh3.googleusercontent.com/a-/AOh14Ggv0ODnZNPUUE1bFaIOUaFH9CpYqhZjPkcwn9lJqA=s64",
      "userId": "18385588513169057983"
     },
     "user_tz": -330
    },
    "id": "X2ptzcz99vs4",
    "outputId": "f2a563e3-1d69-4141-9099-5d7b1cfe2ebd",
    "papermill": {
     "duration": 3.006079,
     "end_time": "2020-08-20T15:42:50.294601",
     "exception": false,
     "start_time": "2020-08-20T15:42:47.288522",
     "status": "completed"
    },
    "tags": []
   },
   "outputs": [],
   "source": [
    "import torch\n",
    "import torch.nn as nn\n",
    "\n",
    "import seaborn as sns\n",
    "import numpy as np\n",
    "import pandas as pd\n",
    "import matplotlib.pyplot as plt\n",
    "%matplotlib inline"
   ]
  },
  {
   "cell_type": "markdown",
   "metadata": {
    "papermill": {
     "duration": 0.01318,
     "end_time": "2020-08-20T15:42:50.321591",
     "exception": false,
     "start_time": "2020-08-20T15:42:50.308411",
     "status": "completed"
    },
    "tags": []
   },
   "source": [
    "Getting datast from Seaborn library"
   ]
  },
  {
   "cell_type": "code",
   "execution_count": 2,
   "metadata": {
    "execution": {
     "iopub.execute_input": "2020-08-20T15:42:50.354818Z",
     "iopub.status.busy": "2020-08-20T15:42:50.353875Z",
     "iopub.status.idle": "2020-08-20T15:42:51.808116Z",
     "shell.execute_reply": "2020-08-20T15:42:51.807448Z"
    },
    "executionInfo": {
     "elapsed": 3529,
     "status": "ok",
     "timestamp": 1594356244569,
     "user": {
      "displayName": "Dr. Vaibhav Kumar",
      "photoUrl": "https://lh3.googleusercontent.com/a-/AOh14Ggv0ODnZNPUUE1bFaIOUaFH9CpYqhZjPkcwn9lJqA=s64",
      "userId": "18385588513169057983"
     },
     "user_tz": -330
    },
    "id": "W0CcyBHZCTyH",
    "outputId": "8d1b4fbf-5c39-495c-f1c7-6e868375c7f5",
    "papermill": {
     "duration": 1.473056,
     "end_time": "2020-08-20T15:42:51.808249",
     "exception": false,
     "start_time": "2020-08-20T15:42:50.335193",
     "status": "completed"
    },
    "tags": []
   },
   "outputs": [
    {
     "data": {
      "text/plain": [
       "['anagrams',\n",
       " 'anscombe',\n",
       " 'attention',\n",
       " 'brain_networks',\n",
       " 'car_crashes',\n",
       " 'diamonds',\n",
       " 'dots',\n",
       " 'dowjones',\n",
       " 'exercise',\n",
       " 'flights',\n",
       " 'fmri',\n",
       " 'geyser',\n",
       " 'glue',\n",
       " 'healthexp',\n",
       " 'iris',\n",
       " 'mpg',\n",
       " 'penguins',\n",
       " 'planets',\n",
       " 'seaice',\n",
       " 'taxis',\n",
       " 'tips',\n",
       " 'titanic']"
      ]
     },
     "execution_count": 2,
     "metadata": {},
     "output_type": "execute_result"
    }
   ],
   "source": [
    "sns.get_dataset_names()"
   ]
  },
  {
   "cell_type": "markdown",
   "metadata": {
    "papermill": {
     "duration": 0.013638,
     "end_time": "2020-08-20T15:42:51.835834",
     "exception": false,
     "start_time": "2020-08-20T15:42:51.822196",
     "status": "completed"
    },
    "tags": []
   },
   "source": [
    "Analyzing dataset"
   ]
  },
  {
   "cell_type": "code",
   "execution_count": 3,
   "metadata": {
    "execution": {
     "iopub.execute_input": "2020-08-20T15:42:51.869541Z",
     "iopub.status.busy": "2020-08-20T15:42:51.868701Z",
     "iopub.status.idle": "2020-08-20T15:42:52.385493Z",
     "shell.execute_reply": "2020-08-20T15:42:52.384653Z"
    },
    "executionInfo": {
     "elapsed": 1512,
     "status": "ok",
     "timestamp": 1594356469649,
     "user": {
      "displayName": "Dr. Vaibhav Kumar",
      "photoUrl": "https://lh3.googleusercontent.com/a-/AOh14Ggv0ODnZNPUUE1bFaIOUaFH9CpYqhZjPkcwn9lJqA=s64",
      "userId": "18385588513169057983"
     },
     "user_tz": -330
    },
    "id": "lbwA0xccCcO0",
    "outputId": "8463570b-4773-464e-9469-06c2dac18496",
    "papermill": {
     "duration": 0.535915,
     "end_time": "2020-08-20T15:42:52.385644",
     "exception": false,
     "start_time": "2020-08-20T15:42:51.849729",
     "status": "completed"
    },
    "tags": []
   },
   "outputs": [
    {
     "data": {
      "text/html": [
       "<div>\n",
       "<style scoped>\n",
       "    .dataframe tbody tr th:only-of-type {\n",
       "        vertical-align: middle;\n",
       "    }\n",
       "\n",
       "    .dataframe tbody tr th {\n",
       "        vertical-align: top;\n",
       "    }\n",
       "\n",
       "    .dataframe thead th {\n",
       "        text-align: right;\n",
       "    }\n",
       "</style>\n",
       "<table border=\"1\" class=\"dataframe\">\n",
       "  <thead>\n",
       "    <tr style=\"text-align: right;\">\n",
       "      <th></th>\n",
       "      <th>year</th>\n",
       "      <th>month</th>\n",
       "      <th>passengers</th>\n",
       "    </tr>\n",
       "  </thead>\n",
       "  <tbody>\n",
       "    <tr>\n",
       "      <th>0</th>\n",
       "      <td>1949</td>\n",
       "      <td>Jan</td>\n",
       "      <td>112</td>\n",
       "    </tr>\n",
       "    <tr>\n",
       "      <th>1</th>\n",
       "      <td>1949</td>\n",
       "      <td>Feb</td>\n",
       "      <td>118</td>\n",
       "    </tr>\n",
       "    <tr>\n",
       "      <th>2</th>\n",
       "      <td>1949</td>\n",
       "      <td>Mar</td>\n",
       "      <td>132</td>\n",
       "    </tr>\n",
       "    <tr>\n",
       "      <th>3</th>\n",
       "      <td>1949</td>\n",
       "      <td>Apr</td>\n",
       "      <td>129</td>\n",
       "    </tr>\n",
       "    <tr>\n",
       "      <th>4</th>\n",
       "      <td>1949</td>\n",
       "      <td>May</td>\n",
       "      <td>121</td>\n",
       "    </tr>\n",
       "  </tbody>\n",
       "</table>\n",
       "</div>"
      ],
      "text/plain": [
       "   year month  passengers\n",
       "0  1949   Jan         112\n",
       "1  1949   Feb         118\n",
       "2  1949   Mar         132\n",
       "3  1949   Apr         129\n",
       "4  1949   May         121"
      ]
     },
     "execution_count": 3,
     "metadata": {},
     "output_type": "execute_result"
    }
   ],
   "source": [
    "data = sns.load_dataset(\"flights\")\n",
    "data.head()"
   ]
  },
  {
   "cell_type": "code",
   "execution_count": 4,
   "metadata": {
    "execution": {
     "iopub.execute_input": "2020-08-20T15:42:52.422195Z",
     "iopub.status.busy": "2020-08-20T15:42:52.421258Z",
     "iopub.status.idle": "2020-08-20T15:42:52.425830Z",
     "shell.execute_reply": "2020-08-20T15:42:52.425141Z"
    },
    "executionInfo": {
     "elapsed": 2157,
     "status": "ok",
     "timestamp": 1594356493653,
     "user": {
      "displayName": "Dr. Vaibhav Kumar",
      "photoUrl": "https://lh3.googleusercontent.com/a-/AOh14Ggv0ODnZNPUUE1bFaIOUaFH9CpYqhZjPkcwn9lJqA=s64",
      "userId": "18385588513169057983"
     },
     "user_tz": -330
    },
    "id": "bJLRFk4FDS7G",
    "outputId": "d0e283de-eeb2-41cb-a538-2d23b330c24b",
    "papermill": {
     "duration": 0.025287,
     "end_time": "2020-08-20T15:42:52.425964",
     "exception": false,
     "start_time": "2020-08-20T15:42:52.400677",
     "status": "completed"
    },
    "tags": []
   },
   "outputs": [
    {
     "data": {
      "text/plain": [
       "(144, 3)"
      ]
     },
     "execution_count": 4,
     "metadata": {},
     "output_type": "execute_result"
    }
   ],
   "source": [
    "data.shape"
   ]
  },
  {
   "cell_type": "code",
   "execution_count": 5,
   "metadata": {
    "execution": {
     "iopub.execute_input": "2020-08-20T15:42:52.461774Z",
     "iopub.status.busy": "2020-08-20T15:42:52.460861Z",
     "iopub.status.idle": "2020-08-20T15:42:52.465221Z",
     "shell.execute_reply": "2020-08-20T15:42:52.464479Z"
    },
    "executionInfo": {
     "elapsed": 735,
     "status": "ok",
     "timestamp": 1594356513612,
     "user": {
      "displayName": "Dr. Vaibhav Kumar",
      "photoUrl": "https://lh3.googleusercontent.com/a-/AOh14Ggv0ODnZNPUUE1bFaIOUaFH9CpYqhZjPkcwn9lJqA=s64",
      "userId": "18385588513169057983"
     },
     "user_tz": -330
    },
    "id": "ULHuWs-4DXI8",
    "papermill": {
     "duration": 0.025082,
     "end_time": "2020-08-20T15:42:52.465417",
     "exception": false,
     "start_time": "2020-08-20T15:42:52.440335",
     "status": "completed"
    },
    "tags": []
   },
   "outputs": [],
   "source": [
    "fig_size = plt.rcParams[\"figure.figsize\"]\n",
    "fig_size[0] = 15\n",
    "fig_size[1] = 5\n",
    "plt.rcParams[\"figure.figsize\"] = fig_size"
   ]
  },
  {
   "cell_type": "code",
   "execution_count": 6,
   "metadata": {
    "execution": {
     "iopub.execute_input": "2020-08-20T15:42:52.502326Z",
     "iopub.status.busy": "2020-08-20T15:42:52.501499Z",
     "iopub.status.idle": "2020-08-20T15:42:52.769947Z",
     "shell.execute_reply": "2020-08-20T15:42:52.770630Z"
    },
    "executionInfo": {
     "elapsed": 1912,
     "status": "ok",
     "timestamp": 1594356535253,
     "user": {
      "displayName": "Dr. Vaibhav Kumar",
      "photoUrl": "https://lh3.googleusercontent.com/a-/AOh14Ggv0ODnZNPUUE1bFaIOUaFH9CpYqhZjPkcwn9lJqA=s64",
      "userId": "18385588513169057983"
     },
     "user_tz": -330
    },
    "id": "krgTdUn4Db4D",
    "outputId": "e9d7fe16-1acb-4628-f4f5-8544a0629f79",
    "papermill": {
     "duration": 0.290981,
     "end_time": "2020-08-20T15:42:52.770814",
     "exception": false,
     "start_time": "2020-08-20T15:42:52.479833",
     "status": "completed"
    },
    "tags": []
   },
   "outputs": [
    {
     "data": {
      "text/plain": [
       "[<matplotlib.lines.Line2D at 0x7fb22c7b1d20>]"
      ]
     },
     "execution_count": 6,
     "metadata": {},
     "output_type": "execute_result"
    },
    {
     "data": {
      "image/png": "[encoded data removed]",
      "text/plain": [
       "<Figure size 1080x360 with 1 Axes>"
      ]
     },
     "metadata": {
      "needs_background": "light"
     },
     "output_type": "display_data"
    }
   ],
   "source": [
    "plt.title('Month vs Passenger')\n",
    "plt.ylabel('Total Passengers')\n",
    "plt.xlabel('Months')\n",
    "plt.grid(True)\n",
    "plt.autoscale(axis='x',tight=True)\n",
    "plt.plot(data['passengers'])"
   ]
  },
  {
   "cell_type": "code",
   "execution_count": 7,
   "metadata": {
    "execution": {
     "iopub.execute_input": "2020-08-20T15:42:52.808603Z",
     "iopub.status.busy": "2020-08-20T15:42:52.807693Z",
     "iopub.status.idle": "2020-08-20T15:42:52.812373Z",
     "shell.execute_reply": "2020-08-20T15:42:52.812937Z"
    },
    "executionInfo": {
     "elapsed": 1620,
     "status": "ok",
     "timestamp": 1594356557325,
     "user": {
      "displayName": "Dr. Vaibhav Kumar",
      "photoUrl": "https://lh3.googleusercontent.com/a-/AOh14Ggv0ODnZNPUUE1bFaIOUaFH9CpYqhZjPkcwn9lJqA=s64",
      "userId": "18385588513169057983"
     },
     "user_tz": -330
    },
    "id": "frJLdo-rDiHS",
    "outputId": "4afb5665-cb78-4a24-81b9-9b26481a2494",
    "papermill": {
     "duration": 0.026623,
     "end_time": "2020-08-20T15:42:52.813112",
     "exception": false,
     "start_time": "2020-08-20T15:42:52.786489",
     "status": "completed"
    },
    "tags": []
   },
   "outputs": [
    {
     "data": {
      "text/plain": [
       "Index(['year', 'month', 'passengers'], dtype='object')"
      ]
     },
     "execution_count": 7,
     "metadata": {},
     "output_type": "execute_result"
    }
   ],
   "source": [
    "data.columns"
   ]
  },
  {
   "cell_type": "code",
   "execution_count": 8,
   "metadata": {
    "execution": {
     "iopub.execute_input": "2020-08-20T15:42:52.850877Z",
     "iopub.status.busy": "2020-08-20T15:42:52.849721Z",
     "iopub.status.idle": "2020-08-20T15:42:52.853434Z",
     "shell.execute_reply": "2020-08-20T15:42:52.852741Z"
    },
    "executionInfo": {
     "elapsed": 4349,
     "status": "ok",
     "timestamp": 1594356601598,
     "user": {
      "displayName": "Dr. Vaibhav Kumar",
      "photoUrl": "https://lh3.googleusercontent.com/a-/AOh14Ggv0ODnZNPUUE1bFaIOUaFH9CpYqhZjPkcwn9lJqA=s64",
      "userId": "18385588513169057983"
     },
     "user_tz": -330
    },
    "id": "OcFaCkbuDndn",
    "papermill": {
     "duration": 0.025049,
     "end_time": "2020-08-20T15:42:52.853574",
     "exception": false,
     "start_time": "2020-08-20T15:42:52.828525",
     "status": "completed"
    },
    "tags": []
   },
   "outputs": [],
   "source": [
    "all_data = data['passengers'].values.astype(float)"
   ]
  },
  {
   "cell_type": "code",
   "execution_count": 9,
   "metadata": {
    "execution": {
     "iopub.execute_input": "2020-08-20T15:42:52.893544Z",
     "iopub.status.busy": "2020-08-20T15:42:52.892479Z",
     "iopub.status.idle": "2020-08-20T15:42:52.897835Z",
     "shell.execute_reply": "2020-08-20T15:42:52.896920Z"
    },
    "executionInfo": {
     "elapsed": 1035,
     "status": "ok",
     "timestamp": 1594356610371,
     "user": {
      "displayName": "Dr. Vaibhav Kumar",
      "photoUrl": "https://lh3.googleusercontent.com/a-/AOh14Ggv0ODnZNPUUE1bFaIOUaFH9CpYqhZjPkcwn9lJqA=s64",
      "userId": "18385588513169057983"
     },
     "user_tz": -330
    },
    "id": "5SHIMqEdDwbl",
    "outputId": "c31c571b-e50c-48ad-ef71-800c83bfd3b2",
    "papermill": {
     "duration": 0.028922,
     "end_time": "2020-08-20T15:42:52.897988",
     "exception": false,
     "start_time": "2020-08-20T15:42:52.869066",
     "status": "completed"
    },
    "tags": []
   },
   "outputs": [
    {
     "data": {
      "text/plain": [
       "array([112., 118., 132., 129., 121., 135., 148., 148., 136., 119., 104.,\n",
       "       118., 115., 126., 141., 135., 125., 149., 170., 170., 158., 133.,\n",
       "       114., 140., 145., 150., 178., 163., 172., 178., 199., 199., 184.,\n",
       "       162., 146., 166., 171., 180., 193., 181., 183., 218., 230., 242.,\n",
       "       209., 191., 172., 194., 196., 196., 236., 235., 229., 243., 264.,\n",
       "       272., 237., 211., 180., 201., 204., 188., 235., 227., 234., 264.,\n",
       "       302., 293., 259., 229., 203., 229., 242., 233., 267., 269., 270.,\n",
       "       315., 364., 347., 312., 274., 237., 278., 284., 277., 317., 313.,\n",
       "       318., 374., 413., 405., 355., 306., 271., 306., 315., 301., 356.,\n",
       "       348., 355., 422., 465., 467., 404., 347., 305., 336., 340., 318.,\n",
       "       362., 348., 363., 435., 491., 505., 404., 359., 310., 337., 360.,\n",
       "       342., 406., 396., 420., 472., 548., 559., 463., 407., 362., 405.,\n",
       "       417., 391., 419., 461., 472., 535., 622., 606., 508., 461., 390.,\n",
       "       432.])"
      ]
     },
     "execution_count": 9,
     "metadata": {},
     "output_type": "execute_result"
    }
   ],
   "source": [
    "all_data"
   ]
  },
  {
   "cell_type": "code",
   "execution_count": 10,
   "metadata": {
    "execution": {
     "iopub.execute_input": "2020-08-20T15:42:52.941182Z",
     "iopub.status.busy": "2020-08-20T15:42:52.940282Z",
     "iopub.status.idle": "2020-08-20T15:42:52.943844Z",
     "shell.execute_reply": "2020-08-20T15:42:52.943066Z"
    },
    "executionInfo": {
     "elapsed": 1364,
     "status": "ok",
     "timestamp": 1594356626050,
     "user": {
      "displayName": "Dr. Vaibhav Kumar",
      "photoUrl": "https://lh3.googleusercontent.com/a-/AOh14Ggv0ODnZNPUUE1bFaIOUaFH9CpYqhZjPkcwn9lJqA=s64",
      "userId": "18385588513169057983"
     },
     "user_tz": -330
    },
    "id": "h9PdBu9sD0kM",
    "papermill": {
     "duration": 0.028143,
     "end_time": "2020-08-20T15:42:52.943987",
     "exception": false,
     "start_time": "2020-08-20T15:42:52.915844",
     "status": "completed"
    },
    "tags": []
   },
   "outputs": [],
   "source": [
    "test_data_size = 12\n",
    "\n",
    "train_data = all_data[:-test_data_size]\n",
    "test_data = all_data[-test_data_size:]"
   ]
  },
  {
   "cell_type": "code",
   "execution_count": 11,
   "metadata": {
    "execution": {
     "iopub.execute_input": "2020-08-20T15:42:52.982548Z",
     "iopub.status.busy": "2020-08-20T15:42:52.981549Z",
     "iopub.status.idle": "2020-08-20T15:42:52.985946Z",
     "shell.execute_reply": "2020-08-20T15:42:52.985168Z"
    },
    "executionInfo": {
     "elapsed": 1548,
     "status": "ok",
     "timestamp": 1594356634651,
     "user": {
      "displayName": "Dr. Vaibhav Kumar",
      "photoUrl": "https://lh3.googleusercontent.com/a-/AOh14Ggv0ODnZNPUUE1bFaIOUaFH9CpYqhZjPkcwn9lJqA=s64",
      "userId": "18385588513169057983"
     },
     "user_tz": -330
    },
    "id": "PkfUCUimD3bk",
    "outputId": "1ce48e4a-42f0-4c18-a982-c22bbb40e184",
    "papermill": {
     "duration": 0.026034,
     "end_time": "2020-08-20T15:42:52.986080",
     "exception": false,
     "start_time": "2020-08-20T15:42:52.960046",
     "status": "completed"
    },
    "tags": []
   },
   "outputs": [
    {
     "name": "stdout",
     "output_type": "stream",
     "text": [
      "132\n",
      "12\n"
     ]
    }
   ],
   "source": [
    "print(len(train_data))\n",
    "print(len(test_data))"
   ]
  },
  {
   "cell_type": "code",
   "execution_count": 12,
   "metadata": {
    "execution": {
     "iopub.execute_input": "2020-08-20T15:42:53.025612Z",
     "iopub.status.busy": "2020-08-20T15:42:53.024380Z",
     "iopub.status.idle": "2020-08-20T15:42:53.028576Z",
     "shell.execute_reply": "2020-08-20T15:42:53.029467Z"
    },
    "executionInfo": {
     "elapsed": 1336,
     "status": "ok",
     "timestamp": 1594356648324,
     "user": {
      "displayName": "Dr. Vaibhav Kumar",
      "photoUrl": "https://lh3.googleusercontent.com/a-/AOh14Ggv0ODnZNPUUE1bFaIOUaFH9CpYqhZjPkcwn9lJqA=s64",
      "userId": "18385588513169057983"
     },
     "user_tz": -330
    },
    "id": "pE-rgoc3D7bl",
    "outputId": "0a065ee5-026c-4f81-f83c-e414060f303a",
    "papermill": {
     "duration": 0.02778,
     "end_time": "2020-08-20T15:42:53.029704",
     "exception": false,
     "start_time": "2020-08-20T15:42:53.001924",
     "status": "completed"
    },
    "tags": []
   },
   "outputs": [
    {
     "name": "stdout",
     "output_type": "stream",
     "text": [
      "[417. 391. 419. 461. 472. 535. 622. 606. 508. 461. 390. 432.]\n"
     ]
    }
   ],
   "source": [
    "print(test_data)"
   ]
  },
  {
   "cell_type": "markdown",
   "metadata": {
    "papermill": {
     "duration": 0.015723,
     "end_time": "2020-08-20T15:42:53.063600",
     "exception": false,
     "start_time": "2020-08-20T15:42:53.047877",
     "status": "completed"
    },
    "tags": []
   },
   "source": [
    "Preprocessing the dataset"
   ]
  },
  {
   "cell_type": "code",
   "execution_count": 13,
   "metadata": {
    "execution": {
     "iopub.execute_input": "2020-08-20T15:42:53.102530Z",
     "iopub.status.busy": "2020-08-20T15:42:53.101682Z",
     "iopub.status.idle": "2020-08-20T15:42:53.169683Z",
     "shell.execute_reply": "2020-08-20T15:42:53.168962Z"
    },
    "executionInfo": {
     "elapsed": 1610,
     "status": "ok",
     "timestamp": 1594356662596,
     "user": {
      "displayName": "Dr. Vaibhav Kumar",
      "photoUrl": "https://lh3.googleusercontent.com/a-/AOh14Ggv0ODnZNPUUE1bFaIOUaFH9CpYqhZjPkcwn9lJqA=s64",
      "userId": "18385588513169057983"
     },
     "user_tz": -330
    },
    "id": "msS3AGBAD88Q",
    "papermill": {
     "duration": 0.090277,
     "end_time": "2020-08-20T15:42:53.169818",
     "exception": false,
     "start_time": "2020-08-20T15:42:53.079541",
     "status": "completed"
    },
    "tags": []
   },
   "outputs": [],
   "source": [
    "from sklearn.preprocessing import MinMaxScaler\n",
    "\n",
    "scaler = MinMaxScaler(feature_range=(-1, 1))\n",
    "train_data_normalized = scaler.fit_transform(train_data .reshape(-1, 1))"
   ]
  },
  {
   "cell_type": "code",
   "execution_count": 14,
   "metadata": {
    "execution": {
     "iopub.execute_input": "2020-08-20T15:42:53.210295Z",
     "iopub.status.busy": "2020-08-20T15:42:53.209506Z",
     "iopub.status.idle": "2020-08-20T15:42:53.213908Z",
     "shell.execute_reply": "2020-08-20T15:42:53.213240Z"
    },
    "executionInfo": {
     "elapsed": 1461,
     "status": "ok",
     "timestamp": 1594356680230,
     "user": {
      "displayName": "Dr. Vaibhav Kumar",
      "photoUrl": "https://lh3.googleusercontent.com/a-/AOh14Ggv0ODnZNPUUE1bFaIOUaFH9CpYqhZjPkcwn9lJqA=s64",
      "userId": "18385588513169057983"
     },
     "user_tz": -330
    },
    "id": "0VtLP0EdEDX2",
    "outputId": "5e8035a4-c91b-4ea6-ab28-9e3c86ab43f0",
    "papermill": {
     "duration": 0.027724,
     "end_time": "2020-08-20T15:42:53.214050",
     "exception": false,
     "start_time": "2020-08-20T15:42:53.186326",
     "status": "completed"
    },
    "tags": []
   },
   "outputs": [
    {
     "name": "stdout",
     "output_type": "stream",
     "text": [
      "[[-0.96483516]\n",
      " [-0.93846154]\n",
      " [-0.87692308]\n",
      " [-0.89010989]\n",
      " [-0.92527473]]\n",
      "[[1.        ]\n",
      " [0.57802198]\n",
      " [0.33186813]\n",
      " [0.13406593]\n",
      " [0.32307692]]\n"
     ]
    }
   ],
   "source": [
    "print(train_data_normalized[:5])\n",
    "print(train_data_normalized[-5:])"
   ]
  },
  {
   "cell_type": "code",
   "execution_count": 15,
   "metadata": {
    "execution": {
     "iopub.execute_input": "2020-08-20T15:42:53.259213Z",
     "iopub.status.busy": "2020-08-20T15:42:53.258245Z",
     "iopub.status.idle": "2020-08-20T15:42:53.273463Z",
     "shell.execute_reply": "2020-08-20T15:42:53.272786Z"
    },
    "executionInfo": {
     "elapsed": 1681,
     "status": "ok",
     "timestamp": 1594356695272,
     "user": {
      "displayName": "Dr. Vaibhav Kumar",
      "photoUrl": "https://lh3.googleusercontent.com/a-/AOh14Ggv0ODnZNPUUE1bFaIOUaFH9CpYqhZjPkcwn9lJqA=s64",
      "userId": "18385588513169057983"
     },
     "user_tz": -330
    },
    "id": "giNoRT7kEGfv",
    "papermill": {
     "duration": 0.043051,
     "end_time": "2020-08-20T15:42:53.273616",
     "exception": false,
     "start_time": "2020-08-20T15:42:53.230565",
     "status": "completed"
    },
    "tags": []
   },
   "outputs": [],
   "source": [
    "train_data_normalized = torch.FloatTensor(train_data_normalized).view(-1)"
   ]
  },
  {
   "cell_type": "code",
   "execution_count": 16,
   "metadata": {
    "execution": {
     "iopub.execute_input": "2020-08-20T15:42:53.312411Z",
     "iopub.status.busy": "2020-08-20T15:42:53.311480Z",
     "iopub.status.idle": "2020-08-20T15:42:53.314278Z",
     "shell.execute_reply": "2020-08-20T15:42:53.314840Z"
    },
    "executionInfo": {
     "elapsed": 865,
     "status": "ok",
     "timestamp": 1594356706351,
     "user": {
      "displayName": "Dr. Vaibhav Kumar",
      "photoUrl": "https://lh3.googleusercontent.com/a-/AOh14Ggv0ODnZNPUUE1bFaIOUaFH9CpYqhZjPkcwn9lJqA=s64",
      "userId": "18385588513169057983"
     },
     "user_tz": -330
    },
    "id": "d2URsGlZEJk5",
    "papermill": {
     "duration": 0.024947,
     "end_time": "2020-08-20T15:42:53.315019",
     "exception": false,
     "start_time": "2020-08-20T15:42:53.290072",
     "status": "completed"
    },
    "tags": []
   },
   "outputs": [],
   "source": [
    "train_window = 12"
   ]
  },
  {
   "cell_type": "code",
   "execution_count": 17,
   "metadata": {
    "execution": {
     "iopub.execute_input": "2020-08-20T15:42:53.357235Z",
     "iopub.status.busy": "2020-08-20T15:42:53.356370Z",
     "iopub.status.idle": "2020-08-20T15:42:53.360071Z",
     "shell.execute_reply": "2020-08-20T15:42:53.359279Z"
    },
    "executionInfo": {
     "elapsed": 1306,
     "status": "ok",
     "timestamp": 1594356717002,
     "user": {
      "displayName": "Dr. Vaibhav Kumar",
      "photoUrl": "https://lh3.googleusercontent.com/a-/AOh14Ggv0ODnZNPUUE1bFaIOUaFH9CpYqhZjPkcwn9lJqA=s64",
      "userId": "18385588513169057983"
     },
     "user_tz": -330
    },
    "id": "BdSLWSkKEK_Q",
    "papermill": {
     "duration": 0.028401,
     "end_time": "2020-08-20T15:42:53.360207",
     "exception": false,
     "start_time": "2020-08-20T15:42:53.331806",
     "status": "completed"
    },
    "tags": []
   },
   "outputs": [],
   "source": [
    "def create_inout_sequences(input_data, tw):\n",
    "    inout_seq = []\n",
    "    L = len(input_data)\n",
    "    for i in range(L-tw):\n",
    "        train_seq = input_data[i:i+tw]\n",
    "        train_label = input_data[i+tw:i+tw+1]\n",
    "        inout_seq.append((train_seq ,train_label))\n",
    "    return inout_seq"
   ]
  },
  {
   "cell_type": "code",
   "execution_count": 18,
   "metadata": {
    "execution": {
     "iopub.execute_input": "2020-08-20T15:42:53.401012Z",
     "iopub.status.busy": "2020-08-20T15:42:53.399950Z",
     "iopub.status.idle": "2020-08-20T15:42:53.403172Z",
     "shell.execute_reply": "2020-08-20T15:42:53.402417Z"
    },
    "executionInfo": {
     "elapsed": 1751,
     "status": "ok",
     "timestamp": 1594356726803,
     "user": {
      "displayName": "Dr. Vaibhav Kumar",
      "photoUrl": "https://lh3.googleusercontent.com/a-/AOh14Ggv0ODnZNPUUE1bFaIOUaFH9CpYqhZjPkcwn9lJqA=s64",
      "userId": "18385588513169057983"
     },
     "user_tz": -330
    },
    "id": "58Gp6wtuENiB",
    "papermill": {
     "duration": 0.026174,
     "end_time": "2020-08-20T15:42:53.403314",
     "exception": false,
     "start_time": "2020-08-20T15:42:53.377140",
     "status": "completed"
    },
    "tags": []
   },
   "outputs": [],
   "source": [
    "train_inout_seq = create_inout_sequences(train_data_normalized, train_window)"
   ]
  },
  {
   "cell_type": "code",
   "execution_count": 19,
   "metadata": {
    "execution": {
     "iopub.execute_input": "2020-08-20T15:42:53.445591Z",
     "iopub.status.busy": "2020-08-20T15:42:53.444744Z",
     "iopub.status.idle": "2020-08-20T15:42:53.525926Z",
     "shell.execute_reply": "2020-08-20T15:42:53.524873Z"
    },
    "executionInfo": {
     "elapsed": 1826,
     "status": "ok",
     "timestamp": 1594356739088,
     "user": {
      "displayName": "Dr. Vaibhav Kumar",
      "photoUrl": "https://lh3.googleusercontent.com/a-/AOh14Ggv0ODnZNPUUE1bFaIOUaFH9CpYqhZjPkcwn9lJqA=s64",
      "userId": "18385588513169057983"
     },
     "user_tz": -330
    },
    "id": "kZjYVFBQERY_",
    "outputId": "28d740a6-cc54-4185-c023-4fac64e019db",
    "papermill": {
     "duration": 0.106189,
     "end_time": "2020-08-20T15:42:53.526112",
     "exception": false,
     "start_time": "2020-08-20T15:42:53.419923",
     "status": "completed"
    },
    "tags": []
   },
   "outputs": [
    {
     "data": {
      "text/plain": [
       "[(tensor([-0.9648, -0.9385, -0.8769, -0.8901, -0.9253, -0.8637, -0.8066, -0.8066,\n",
       "          -0.8593, -0.9341, -1.0000, -0.9385]),\n",
       "  tensor([-0.9516])),\n",
       " (tensor([-0.9385, -0.8769, -0.8901, -0.9253, -0.8637, -0.8066, -0.8066, -0.8593,\n",
       "          -0.9341, -1.0000, -0.9385, -0.9516]),\n",
       "  tensor([-0.9033])),\n",
       " (tensor([-0.8769, -0.8901, -0.9253, -0.8637, -0.8066, -0.8066, -0.8593, -0.9341,\n",
       "          -1.0000, -0.9385, -0.9516, -0.9033]),\n",
       "  tensor([-0.8374])),\n",
       " (tensor([-0.8901, -0.9253, -0.8637, -0.8066, -0.8066, -0.8593, -0.9341, -1.0000,\n",
       "          -0.9385, -0.9516, -0.9033, -0.8374]),\n",
       "  tensor([-0.8637])),\n",
       " (tensor([-0.9253, -0.8637, -0.8066, -0.8066, -0.8593, -0.9341, -1.0000, -0.9385,\n",
       "          -0.9516, -0.9033, -0.8374, -0.8637]),\n",
       "  tensor([-0.9077]))]"
      ]
     },
     "execution_count": 19,
     "metadata": {},
     "output_type": "execute_result"
    }
   ],
   "source": [
    "train_inout_seq[:5]"
   ]
  },
  {
   "cell_type": "markdown",
   "metadata": {
    "papermill": {
     "duration": 0.016586,
     "end_time": "2020-08-20T15:42:53.560226",
     "exception": false,
     "start_time": "2020-08-20T15:42:53.543640",
     "status": "completed"
    },
    "tags": []
   },
   "source": [
    "Defining LSTM Model"
   ]
  },
  {
   "cell_type": "code",
   "execution_count": 32,
   "metadata": {
    "execution": {
     "iopub.execute_input": "2020-08-20T15:42:53.606542Z",
     "iopub.status.busy": "2020-08-20T15:42:53.605444Z",
     "iopub.status.idle": "2020-08-20T15:42:53.609103Z",
     "shell.execute_reply": "2020-08-20T15:42:53.608321Z"
    },
    "executionInfo": {
     "elapsed": 1249,
     "status": "ok",
     "timestamp": 1594356754896,
     "user": {
      "displayName": "Dr. Vaibhav Kumar",
      "photoUrl": "https://lh3.googleusercontent.com/a-/AOh14Ggv0ODnZNPUUE1bFaIOUaFH9CpYqhZjPkcwn9lJqA=s64",
      "userId": "18385588513169057983"
     },
     "user_tz": -330
    },
    "id": "skyhHNg-EVhj",
    "papermill": {
     "duration": 0.032207,
     "end_time": "2020-08-20T15:42:53.609233",
     "exception": false,
     "start_time": "2020-08-20T15:42:53.577026",
     "status": "completed"
    },
    "tags": []
   },
   "outputs": [],
   "source": [
    "class LSTM(nn.Module):\n",
    "    def __init__(self, input_size=1, hidden_layer_size=100, output_size=1):\n",
    "        super().__init__()\n",
    "        self.hidden_layer_size = hidden_layer_size\n",
    "\n",
    "        self.lstm = nn.LSTM(input_size, hidden_layer_size)\n",
    "\n",
    "        self.linear = nn.Linear(hidden_layer_size, output_size)\n",
    "\n",
    "        self.hidden_cell = (torch.zeros(1,1,self.hidden_layer_size),\n",
    "                            torch.zeros(1,1,self.hidden_layer_size))\n",
    "\n",
    "    def forward(self, input_seq):\n",
    "        lstm_out, self.hidden_cell = self.lstm(input_seq.view(len(input_seq) ,1, -1), self.hidden_cell)\n",
    "        predictions = self.linear(lstm_out.view(len(input_seq), -1))\n",
    "        return predictions[-1]"
   ]
  },
  {
   "cell_type": "code",
   "execution_count": 33,
   "metadata": {
    "execution": {
     "iopub.execute_input": "2020-08-20T15:42:53.649672Z",
     "iopub.status.busy": "2020-08-20T15:42:53.648932Z",
     "iopub.status.idle": "2020-08-20T15:42:53.657925Z",
     "shell.execute_reply": "2020-08-20T15:42:53.657267Z"
    },
    "executionInfo": {
     "elapsed": 1452,
     "status": "ok",
     "timestamp": 1594356795717,
     "user": {
      "displayName": "Dr. Vaibhav Kumar",
      "photoUrl": "https://lh3.googleusercontent.com/a-/AOh14Ggv0ODnZNPUUE1bFaIOUaFH9CpYqhZjPkcwn9lJqA=s64",
      "userId": "18385588513169057983"
     },
     "user_tz": -330
    },
    "id": "0Wn3tRj3Ec2v",
    "papermill": {
     "duration": 0.031753,
     "end_time": "2020-08-20T15:42:53.658054",
     "exception": false,
     "start_time": "2020-08-20T15:42:53.626301",
     "status": "completed"
    },
    "tags": []
   },
   "outputs": [],
   "source": [
    "model = LSTM()\n",
    "loss_function = nn.MSELoss()\n",
    "optimizer = torch.optim.Adam(model.parameters(), lr=0.001)"
   ]
  },
  {
   "cell_type": "code",
   "execution_count": 34,
   "metadata": {
    "execution": {
     "iopub.execute_input": "2020-08-20T15:42:53.698486Z",
     "iopub.status.busy": "2020-08-20T15:42:53.697251Z",
     "iopub.status.idle": "2020-08-20T15:42:53.702425Z",
     "shell.execute_reply": "2020-08-20T15:42:53.701792Z"
    },
    "executionInfo": {
     "elapsed": 2485,
     "status": "ok",
     "timestamp": 1594356802367,
     "user": {
      "displayName": "Dr. Vaibhav Kumar",
      "photoUrl": "https://lh3.googleusercontent.com/a-/AOh14Ggv0ODnZNPUUE1bFaIOUaFH9CpYqhZjPkcwn9lJqA=s64",
      "userId": "18385588513169057983"
     },
     "user_tz": -330
    },
    "id": "8-wZrkVcEgnd",
    "outputId": "2c5335ca-f642-481a-efee-acabfd86058a",
    "papermill": {
     "duration": 0.02766,
     "end_time": "2020-08-20T15:42:53.702560",
     "exception": false,
     "start_time": "2020-08-20T15:42:53.674900",
     "status": "completed"
    },
    "tags": []
   },
   "outputs": [
    {
     "data": {
      "text/plain": [
       "LSTM(\n",
       "  (lstm): LSTM(1, 100)\n",
       "  (linear): Linear(in_features=100, out_features=1, bias=True)\n",
       ")"
      ]
     },
     "execution_count": 34,
     "metadata": {},
     "output_type": "execute_result"
    }
   ],
   "source": [
    "model"
   ]
  },
  {
   "cell_type": "markdown",
   "metadata": {
    "papermill": {
     "duration": 0.016661,
     "end_time": "2020-08-20T15:42:53.736247",
     "exception": false,
     "start_time": "2020-08-20T15:42:53.719586",
     "status": "completed"
    },
    "tags": []
   },
   "source": [
    "Training LSTM model"
   ]
  },
  {
   "cell_type": "code",
   "execution_count": 35,
   "metadata": {
    "execution": {
     "iopub.execute_input": "2020-08-20T15:42:53.780489Z",
     "iopub.status.busy": "2020-08-20T15:42:53.779720Z",
     "iopub.status.idle": "2020-08-20T15:45:00.327908Z",
     "shell.execute_reply": "2020-08-20T15:45:00.329004Z"
    },
    "executionInfo": {
     "elapsed": 56958,
     "status": "ok",
     "timestamp": 1594356875077,
     "user": {
      "displayName": "Dr. Vaibhav Kumar",
      "photoUrl": "https://lh3.googleusercontent.com/a-/AOh14Ggv0ODnZNPUUE1bFaIOUaFH9CpYqhZjPkcwn9lJqA=s64",
      "userId": "18385588513169057983"
     },
     "user_tz": -330
    },
    "id": "6XtbRKoHEimL",
    "outputId": "0e166d08-fad9-4e31-c2fb-dfa1c3701408",
    "papermill": {
     "duration": 126.575545,
     "end_time": "2020-08-20T15:45:00.329311",
     "exception": false,
     "start_time": "2020-08-20T15:42:53.753766",
     "status": "completed"
    },
    "tags": []
   },
   "outputs": [
    {
     "name": "stdout",
     "output_type": "stream",
     "text": [
      "epoch:   1 loss: 0.01347766\n",
      "epoch:  26 loss: 0.00796358\n",
      "epoch:  51 loss: 0.00031743\n",
      "epoch:  76 loss: 0.01129135\n",
      "epoch: 101 loss: 0.00008465\n",
      "epoch: 126 loss: 0.00513310\n",
      "epoch: 149 loss: 0.0009414142\n"
     ]
    }
   ],
   "source": [
    "epochs = 150\n",
    "\n",
    "for i in range(epochs):\n",
    "    for seq, labels in train_inout_seq:\n",
    "        optimizer.zero_grad()\n",
    "        model.hidden_cell = (torch.zeros(1, 1, model.hidden_layer_size),\n",
    "                        torch.zeros(1, 1, model.hidden_layer_size))\n",
    "\n",
    "        y_pred = model(seq)\n",
    "\n",
    "        single_loss = loss_function(y_pred, labels)\n",
    "        single_loss.backward()\n",
    "        optimizer.step()\n",
    "\n",
    "    if i%25 == 1:\n",
    "        print(f'epoch: {i:3} loss: {single_loss.item():10.8f}')\n",
    "\n",
    "print(f'epoch: {i:3} loss: {single_loss.item():10.10f}')"
   ]
  },
  {
   "cell_type": "markdown",
   "metadata": {
    "papermill": {
     "duration": 0.027731,
     "end_time": "2020-08-20T15:45:00.386595",
     "exception": false,
     "start_time": "2020-08-20T15:45:00.358864",
     "status": "completed"
    },
    "tags": []
   },
   "source": [
    "Making predictions"
   ]
  },
  {
   "cell_type": "code",
   "execution_count": 25,
   "metadata": {
    "execution": {
     "iopub.execute_input": "2020-08-20T15:45:00.454803Z",
     "iopub.status.busy": "2020-08-20T15:45:00.453621Z",
     "iopub.status.idle": "2020-08-20T15:45:00.459792Z",
     "shell.execute_reply": "2020-08-20T15:45:00.457817Z"
    },
    "executionInfo": {
     "elapsed": 2486,
     "status": "ok",
     "timestamp": 1594356879913,
     "user": {
      "displayName": "Dr. Vaibhav Kumar",
      "photoUrl": "https://lh3.googleusercontent.com/a-/AOh14Ggv0ODnZNPUUE1bFaIOUaFH9CpYqhZjPkcwn9lJqA=s64",
      "userId": "18385588513169057983"
     },
     "user_tz": -330
    },
    "id": "JE3cP3x_EsfC",
    "outputId": "e506eb98-c8ca-469b-c10c-932b7ce34592",
    "papermill": {
     "duration": 0.043688,
     "end_time": "2020-08-20T15:45:00.459953",
     "exception": false,
     "start_time": "2020-08-20T15:45:00.416265",
     "status": "completed"
    },
    "tags": []
   },
   "outputs": [
    {
     "name": "stdout",
     "output_type": "stream",
     "text": [
      "[0.12527473270893097, 0.04615384712815285, 0.3274725377559662, 0.2835164964199066, 0.3890109956264496, 0.6175824403762817, 0.9516483545303345, 1.0, 0.5780220031738281, 0.33186814188957214, 0.13406594097614288, 0.32307693362236023]\n"
     ]
    }
   ],
   "source": [
    "fut_pred = 12\n",
    "\n",
    "test_inputs = train_data_normalized[-train_window:].tolist()\n",
    "print(test_inputs)"
   ]
  },
  {
   "cell_type": "code",
   "execution_count": 26,
   "metadata": {
    "execution": {
     "iopub.execute_input": "2020-08-20T15:45:00.506689Z",
     "iopub.status.busy": "2020-08-20T15:45:00.505277Z",
     "iopub.status.idle": "2020-08-20T15:45:00.522822Z",
     "shell.execute_reply": "2020-08-20T15:45:00.521566Z"
    },
    "executionInfo": {
     "elapsed": 867,
     "status": "ok",
     "timestamp": 1594356883248,
     "user": {
      "displayName": "Dr. Vaibhav Kumar",
      "photoUrl": "https://lh3.googleusercontent.com/a-/AOh14Ggv0ODnZNPUUE1bFaIOUaFH9CpYqhZjPkcwn9lJqA=s64",
      "userId": "18385588513169057983"
     },
     "user_tz": -330
    },
    "id": "tnLwGhPyEzk_",
    "papermill": {
     "duration": 0.044637,
     "end_time": "2020-08-20T15:45:00.523039",
     "exception": false,
     "start_time": "2020-08-20T15:45:00.478402",
     "status": "completed"
    },
    "tags": []
   },
   "outputs": [],
   "source": [
    "model.eval()\n",
    "\n",
    "for i in range(fut_pred):\n",
    "    seq = torch.FloatTensor(test_inputs[-train_window:])\n",
    "    with torch.no_grad():\n",
    "        model.hidden = (torch.zeros(1, 1, model.hidden_layer_size),\n",
    "                        torch.zeros(1, 1, model.hidden_layer_size))\n",
    "        test_inputs.append(model(seq).item())"
   ]
  },
  {
   "cell_type": "code",
   "execution_count": 27,
   "metadata": {
    "execution": {
     "iopub.execute_input": "2020-08-20T15:45:00.569807Z",
     "iopub.status.busy": "2020-08-20T15:45:00.568745Z",
     "iopub.status.idle": "2020-08-20T15:45:00.574597Z",
     "shell.execute_reply": "2020-08-20T15:45:00.575590Z"
    },
    "executionInfo": {
     "elapsed": 1909,
     "status": "ok",
     "timestamp": 1594356897583,
     "user": {
      "displayName": "Dr. Vaibhav Kumar",
      "photoUrl": "https://lh3.googleusercontent.com/a-/AOh14Ggv0ODnZNPUUE1bFaIOUaFH9CpYqhZjPkcwn9lJqA=s64",
      "userId": "18385588513169057983"
     },
     "user_tz": -330
    },
    "id": "OT64NKxdE2sQ",
    "outputId": "37a21800-8d07-4e07-a3aa-482754a34777",
    "papermill": {
     "duration": 0.030888,
     "end_time": "2020-08-20T15:45:00.575835",
     "exception": false,
     "start_time": "2020-08-20T15:45:00.544947",
     "status": "completed"
    },
    "tags": []
   },
   "outputs": [
    {
     "data": {
      "text/plain": [
       "[0.6477794051170349,\n",
       " 0.8973747491836548,\n",
       " 0.9259187579154968,\n",
       " 1.2674014568328857,\n",
       " 1.0555133819580078,\n",
       " 1.5202350616455078,\n",
       " 1.7151589393615723,\n",
       " 1.7196016311645508,\n",
       " 1.76389741897583,\n",
       " 1.8188865184783936,\n",
       " 1.826406717300415,\n",
       " 1.7920994758605957]"
      ]
     },
     "execution_count": 27,
     "metadata": {},
     "output_type": "execute_result"
    }
   ],
   "source": [
    "test_inputs[fut_pred:]"
   ]
  },
  {
   "cell_type": "code",
   "execution_count": 28,
   "metadata": {
    "execution": {
     "iopub.execute_input": "2020-08-20T15:45:00.626995Z",
     "iopub.status.busy": "2020-08-20T15:45:00.625808Z",
     "iopub.status.idle": "2020-08-20T15:45:00.631951Z",
     "shell.execute_reply": "2020-08-20T15:45:00.629911Z"
    },
    "executionInfo": {
     "elapsed": 1353,
     "status": "ok",
     "timestamp": 1594356907723,
     "user": {
      "displayName": "Dr. Vaibhav Kumar",
      "photoUrl": "https://lh3.googleusercontent.com/a-/AOh14Ggv0ODnZNPUUE1bFaIOUaFH9CpYqhZjPkcwn9lJqA=s64",
      "userId": "18385588513169057983"
     },
     "user_tz": -330
    },
    "id": "7FGy4P0pE65X",
    "outputId": "ca0f6934-232f-4569-e25c-086df6f67bb3",
    "papermill": {
     "duration": 0.032915,
     "end_time": "2020-08-20T15:45:00.632161",
     "exception": false,
     "start_time": "2020-08-20T15:45:00.599246",
     "status": "completed"
    },
    "tags": []
   },
   "outputs": [
    {
     "name": "stdout",
     "output_type": "stream",
     "text": [
      "[[478.86981466]\n",
      " [535.65275544]\n",
      " [542.14651743]\n",
      " [619.83383143]\n",
      " [571.6292944 ]\n",
      " [677.35347652]\n",
      " [721.6986587 ]\n",
      " [722.70937109]\n",
      " [732.78666282]\n",
      " [745.29668295]\n",
      " [747.00752819]\n",
      " [739.20263076]]\n"
     ]
    }
   ],
   "source": [
    "actual_predictions = scaler.inverse_transform(np.array(test_inputs[train_window:] ).reshape(-1, 1))\n",
    "print(actual_predictions)"
   ]
  },
  {
   "cell_type": "code",
   "execution_count": 29,
   "metadata": {
    "execution": {
     "iopub.execute_input": "2020-08-20T15:45:00.681454Z",
     "iopub.status.busy": "2020-08-20T15:45:00.680479Z",
     "iopub.status.idle": "2020-08-20T15:45:00.684525Z",
     "shell.execute_reply": "2020-08-20T15:45:00.685199Z"
    },
    "executionInfo": {
     "elapsed": 1563,
     "status": "ok",
     "timestamp": 1594356922288,
     "user": {
      "displayName": "Dr. Vaibhav Kumar",
      "photoUrl": "https://lh3.googleusercontent.com/a-/AOh14Ggv0ODnZNPUUE1bFaIOUaFH9CpYqhZjPkcwn9lJqA=s64",
      "userId": "18385588513169057983"
     },
     "user_tz": -330
    },
    "id": "NIH2Rg8eE-bZ",
    "outputId": "474f7d0d-04c2-4595-9c96-0a7958183896",
    "papermill": {
     "duration": 0.029393,
     "end_time": "2020-08-20T15:45:00.685401",
     "exception": false,
     "start_time": "2020-08-20T15:45:00.656008",
     "status": "completed"
    },
    "tags": []
   },
   "outputs": [
    {
     "name": "stdout",
     "output_type": "stream",
     "text": [
      "[132 133 134 135 136 137 138 139 140 141 142 143]\n"
     ]
    }
   ],
   "source": [
    "x = np.arange(132, 144, 1)\n",
    "print(x)"
   ]
  },
  {
   "cell_type": "code",
   "execution_count": 30,
   "metadata": {
    "execution": {
     "iopub.execute_input": "2020-08-20T15:45:00.745568Z",
     "iopub.status.busy": "2020-08-20T15:45:00.729828Z",
     "iopub.status.idle": "2020-08-20T15:45:00.958630Z",
     "shell.execute_reply": "2020-08-20T15:45:00.957837Z"
    },
    "executionInfo": {
     "elapsed": 1680,
     "status": "ok",
     "timestamp": 1594356947970,
     "user": {
      "displayName": "Dr. Vaibhav Kumar",
      "photoUrl": "https://lh3.googleusercontent.com/a-/AOh14Ggv0ODnZNPUUE1bFaIOUaFH9CpYqhZjPkcwn9lJqA=s64",
      "userId": "18385588513169057983"
     },
     "user_tz": -330
    },
    "id": "GYSEzLHRE_b3",
    "outputId": "f73977d9-59c5-47e9-d96a-edb813779df9",
    "papermill": {
     "duration": 0.254698,
     "end_time": "2020-08-20T15:45:00.958762",
     "exception": false,
     "start_time": "2020-08-20T15:45:00.704064",
     "status": "completed"
    },
    "tags": []
   },
   "outputs": [
    {
     "data": {
      "image/png": "[encoded data removed]",
      "text/plain": [
       "<Figure size 1080x360 with 1 Axes>"
      ]
     },
     "metadata": {
      "needs_background": "light"
     },
     "output_type": "display_data"
    }
   ],
   "source": [
    "plt.title('Month vs Passenger')\n",
    "plt.ylabel('Total Passengers')\n",
    "plt.grid(True)\n",
    "plt.autoscale(axis='x', tight=True)\n",
    "plt.plot(data['passengers'])\n",
    "plt.plot(x,actual_predictions)\n",
    "plt.show()"
   ]
  },
  {
   "cell_type": "code",
   "execution_count": 31,
   "metadata": {
    "execution": {
     "iopub.execute_input": "2020-08-20T15:45:01.012308Z",
     "iopub.status.busy": "2020-08-20T15:45:01.011302Z",
     "iopub.status.idle": "2020-08-20T15:45:01.214087Z",
     "shell.execute_reply": "2020-08-20T15:45:01.213271Z"
    },
    "executionInfo": {
     "elapsed": 1867,
     "status": "ok",
     "timestamp": 1594357000806,
     "user": {
      "displayName": "Dr. Vaibhav Kumar",
      "photoUrl": "https://lh3.googleusercontent.com/a-/AOh14Ggv0ODnZNPUUE1bFaIOUaFH9CpYqhZjPkcwn9lJqA=s64",
      "userId": "18385588513169057983"
     },
     "user_tz": -330
    },
    "id": "PZXIBtzEFPuf",
    "outputId": "faa74349-fb15-4b9d-d0c4-156ef05c774e",
    "papermill": {
     "duration": 0.236244,
     "end_time": "2020-08-20T15:45:01.214223",
     "exception": false,
     "start_time": "2020-08-20T15:45:00.977979",
     "status": "completed"
    },
    "tags": []
   },
   "outputs": [
    {
     "data": {
      "image/png": "[encoded data removed]",
      "text/plain": [
       "<Figure size 1080x360 with 1 Axes>"
      ]
     },
     "metadata": {
      "needs_background": "light"
     },
     "output_type": "display_data"
    }
   ],
   "source": [
    "plt.title('Month vs Passenger')\n",
    "plt.ylabel('Total Passengers')\n",
    "plt.grid(True)\n",
    "plt.autoscale(axis='x', tight=True)\n",
    "\n",
    "plt.plot(data['passengers'][-train_window:])\n",
    "plt.plot(x,actual_predictions)\n",
    "plt.show()"
   ]
  },
  {
   "cell_type": "code",
   "execution_count": null,
   "metadata": {},
   "outputs": [],
   "source": []
  }
 ],
 "metadata": {
  "kernelspec": {
   "display_name": "Python 3",
   "language": "python",
   "name": "python3"
  },
  "language_info": {
   "codemirror_mode": {
    "name": "ipython",
    "version": 3
   },
   "file_extension": ".py",
   "mimetype": "text/x-python",
   "name": "python",
   "nbconvert_exporter": "python",
   "pygments_lexer": "ipython3",
   "version": "3.10.12"
  },
  "papermill": {
   "duration": 139.683134,
   "end_time": "2020-08-20T15:45:01.343530",
   "environment_variables": {},
   "exception": null,
   "input_path": "__notebook__.ipynb",
   "output_path": "__notebook__.ipynb",
   "parameters": {},
   "start_time": "2020-08-20T15:42:41.660396",
   "version": "2.1.0"
  }
 },
 "nbformat": 4,
 "nbformat_minor": 4
}
