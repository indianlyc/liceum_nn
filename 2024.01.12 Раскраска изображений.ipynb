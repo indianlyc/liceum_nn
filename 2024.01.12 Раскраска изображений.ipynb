{
 "cells": [
  {
   "cell_type": "markdown",
   "id": "138d3188",
   "metadata": {},
   "source": [
    "Задача: Расскрасить изображения (или видео)\n",
    "\n",
    "- Подобрать размер с которым справится железо (будет ориентироваться на 128х128)\n",
    "- Скачать цветные изображения, найти датасет\n",
    "- Преобразовать цветные изображения в серые"
   ]
  },
  {
   "cell_type": "code",
   "execution_count": 50,
   "id": "31b09e40",
   "metadata": {},
   "outputs": [
    {
     "data": {
      "text/plain": [
       "27"
      ]
     },
     "execution_count": 50,
     "metadata": {},
     "output_type": "execute_result"
    }
   ],
   "source": [
    "class A:\n",
    "    def __init__(self, y):\n",
    "        self.y  =  y\n",
    "        \n",
    "    def  __call__(self,  x):\n",
    "        return x**2 +  self.y\n",
    "    \n",
    "a =  A(2)\n",
    "a(5)"
   ]
  },
  {
   "cell_type": "code",
   "execution_count": 1,
   "id": "48d4dbb0",
   "metadata": {},
   "outputs": [],
   "source": [
    "import os\n",
    "import numpy as np\n",
    "from torchvision import transforms\n",
    "from torchvision.io import read_image\n",
    "from torchvision.utils import save_image\n",
    "\n",
    "\n",
    "to_grey = transforms.Grayscale()\n",
    "\n",
    "from PIL import Image\n",
    "\n",
    "def greyscale(from_path, destination_path):\n",
    "#    print(destination_path)\n",
    "    good_image = True\n",
    "    img = read_image(from_path)\n",
    "    if img.shape[0] == 1:\n",
    "        return False\n",
    "    img = to_grey(img)[0] # [None, :, :, :]\n",
    "    img = img.numpy()\n",
    "#     print(img)\n",
    "#     print(img.shape)\n",
    "#     print(img.dtype)\n",
    "    im = Image.fromarray(img)\n",
    "    im.save(destination_path)\n",
    "    # save_image(img, destination_path, nrow=1, normalize=True, value_range=(0,1))\n",
    "    \n",
    "# path = os.path.join('2024.01.12', 'archive', 'tiny-imagenet-200', \n",
    "#                     'train', 'n01882714', 'images')\n",
    "\n"
   ]
  },
  {
   "cell_type": "code",
   "execution_count": 2,
   "id": "a95b1ec2",
   "metadata": {},
   "outputs": [],
   "source": [
    "#  im = Image.open(\"2024.01.12/archive/tiny-imagenet-200/train/n01983481/images/n01983481_15.JPEG\")\n",
    "# im = Image.open(\"2024.01.12/archive/tiny-imagenet-200/train/n04023962/images/n04023962_173.JPEG\")\n",
    "# np.array(im).shape"
   ]
  },
  {
   "cell_type": "code",
   "execution_count": null,
   "id": "aefca8cf",
   "metadata": {},
   "outputs": [],
   "source": []
  },
  {
   "cell_type": "code",
   "execution_count": 3,
   "id": "80e77a91",
   "metadata": {},
   "outputs": [],
   "source": [
    "# \n",
    "# !ls 2024.01.12/"
   ]
  },
  {
   "cell_type": "code",
   "execution_count": 4,
   "id": "9ebae5a2",
   "metadata": {},
   "outputs": [],
   "source": [
    "import os\n",
    "from pathlib import Path\n",
    "import shutil\n",
    "\n",
    "\n",
    "base_dir = \"2024.01.12\"\n",
    "source_dir = \"source\"\n",
    "destination_dir = \"archive/tiny-imagenet-200\"\n",
    "paths0 = [\"train\", \"test\", \"val\"]"
   ]
  },
  {
   "cell_type": "code",
   "execution_count": 5,
   "id": "f0772e80",
   "metadata": {},
   "outputs": [],
   "source": [
    "# удаляем директорию которую собираемся заполнять\n",
    "# if os.path.exists(os.path.join(base_dir, source_dir)):\n",
    "#     shutil.rmtree(os.path.join(base_dir, source_dir))\n",
    "\n",
    "# # создаем необходимую иеррархию папок\n",
    "# for path0 in paths0:\n",
    "#     Path(os.path.join(base_dir, source_dir, path0)).mkdir(parents=True, exist_ok=True)\n",
    "\n",
    "# # преоразуем изображения в серый и сохраяем в source_dir\n",
    "# k = 0\n",
    "# max_iter = 9\n",
    "# for path0 in paths0:\n",
    "#     print(path0)\n",
    "#     for root, dirs, files in os.walk(os.path.join(base_dir, destination_dir, path0)):\n",
    "#         for file in files:\n",
    "#             if file.split(\".\")[-1] == \"JPEG\":\n",
    "#                 src = os.path.join(root, file)\n",
    "#                 dst = os.path.join(base_dir, source_dir, path0, file)\n",
    "#                 print(src, dst)\n",
    "#                 greyscale(src, dst)\n",
    "#                 k += 1\n",
    "#             if k > max_iter:\n",
    "#                 break\n",
    "#         if k > max_iter:\n",
    "#             break\n",
    "#     if k > max_iter:\n",
    "#         break"
   ]
  },
  {
   "cell_type": "code",
   "execution_count": 6,
   "id": "7c998a51",
   "metadata": {},
   "outputs": [],
   "source": [
    "import torch\n",
    "import torch.nn as nn\n",
    "import torch.nn.functional as F\n",
    "import torch.optim as optim\n",
    "from torchvision import datasets, transforms\n",
    "from torchvision.io import read_image\n",
    "import matplotlib.pyplot as plt\n",
    "\n",
    "# from torchvision.datasets import ImageFolder\n",
    "from torch.utils.data import DataLoader, Dataset"
   ]
  },
  {
   "cell_type": "code",
   "execution_count": 7,
   "id": "775dd356",
   "metadata": {},
   "outputs": [],
   "source": [
    "# class MyDataset(Dataset):\n",
    "  \n",
    "#     def __init__(self, X, y):\n",
    "#         self.X = torch.Tensor(X)\n",
    "#         self.y = torch.from_numpy(y).float()\n",
    "\n",
    "#     def __len__(self):\n",
    "#         return self.X.shape[0]\n",
    "  \n",
    "#     def __getitem__(self, index):\n",
    "#         return (self.X[index], self.y[index])\n",
    "    \n",
    "    \n",
    "class MyDataset(Dataset):\n",
    "  \n",
    "    def __init__(self, path_source, path_target):\n",
    "        self.path_source = path_source\n",
    "        self.path_target = path_target\n",
    "        self.list_source_name  = os.listdir(self.path_source)\n",
    "\n",
    "    def __len__(self):\n",
    "        return len(self.list_source_name)\n",
    "  \n",
    "    def __getitem__(self, index):\n",
    "        source_path = os.path.join(self.path_source,  self.list_source_name[index])\n",
    "        target_path = os.path.join(self.path_target, \n",
    "                                   self.list_source_name[index].split(\"_\")[0], \n",
    "                                   \"images\", \n",
    "                                   self.list_source_name[index])\n",
    "        # print(source_path)\n",
    "        # print(target_path)\n",
    "        # target_img = Image.open(target_path)\n",
    "        source_img = read_image(source_path)\n",
    "        target_img  =  read_image(target_path)\n",
    "        # source_img = numpy.array(Image.open(source_path))\n",
    "        return source_img, target_img # , target_path)\n",
    "        #  return (self.X[index], self.y[index])\n",
    "    \n",
    "# train_dataset = MyDataset(os.path.join(base_dir, source_dir, \"train\"), \n",
    "#                          os.path.join(base_dir, destination_dir, \"train\"))\n",
    "# len(train_dataset)\n",
    "# train_dataset[0]"
   ]
  },
  {
   "cell_type": "code",
   "execution_count": 8,
   "id": "e244ebbb",
   "metadata": {},
   "outputs": [],
   "source": [
    "# print(\"[INFO] loading the training and validation dataset...\")\n",
    "# trainDataset = ImageFolder(root=os.path.join(base_dir, source_dir, \"train\"))\n",
    "# valDataset = ImageFolder(root=os.path.join(base_dir, source_dir, \"val\"))\n",
    "# print(\"[INFO] training dataset contains {} samples...\".format(\n",
    "#         len(trainDataset)))\n",
    "# print(\"[INFO] validation dataset contains {} samples...\".format(\n",
    "#         len(valDataset)))"
   ]
  },
  {
   "cell_type": "code",
   "execution_count": 9,
   "id": "49e3aa95",
   "metadata": {},
   "outputs": [],
   "source": [
    "train_dataset = MyDataset(os.path.join(base_dir, source_dir, \"train\"), \n",
    "                         os.path.join(base_dir, destination_dir, \"train\"))\n",
    "val_dataset = MyDataset(os.path.join(base_dir, source_dir, \"val\"), \n",
    "                         os.path.join(base_dir, destination_dir, \"val\"))"
   ]
  },
  {
   "cell_type": "code",
   "execution_count": 10,
   "id": "c203aa95",
   "metadata": {},
   "outputs": [],
   "source": [
    "\n",
    "def custom_collate_fn(batch):\n",
    "    # Separate the input data and targets from the batch\n",
    "    data, targets = zip(*batch)\n",
    "\n",
    "    # Perform any preprocessing, padding, or other operations\n",
    "\n",
    "    # Convert the data and targets to tensors\n",
    "    data = torch.stack(data).to(torch.float)\n",
    "#     for i, target in enumerate(targets):\n",
    "#         print(i, target[0].shape, target[1])\n",
    "#     print(type(targets))\n",
    "    targets = torch.stack(targets).to(torch.float)\n",
    "\n",
    "    # Return the batched data and targets\n",
    "    return data, targets"
   ]
  },
  {
   "cell_type": "code",
   "execution_count": 11,
   "id": "2877074b",
   "metadata": {},
   "outputs": [
    {
     "name": "stdout",
     "output_type": "stream",
     "text": [
      "[INFO] creating training and validation set dataloaders...\n"
     ]
    }
   ],
   "source": [
    "BATCH_SIZE = 128*50\n",
    "print(\"[INFO] creating training and validation set dataloaders...\")\n",
    "trainDataLoader = DataLoader(train_dataset, batch_size=BATCH_SIZE, shuffle=True, collate_fn=custom_collate_fn)\n",
    "valDataLoader = DataLoader(val_dataset, batch_size=BATCH_SIZE, collate_fn=custom_collate_fn)"
   ]
  },
  {
   "cell_type": "code",
   "execution_count": 12,
   "id": "54110a89",
   "metadata": {},
   "outputs": [],
   "source": [
    "class Autoencoder(nn.Module):\n",
    "    def __init__(self):\n",
    "        super().__init__()        \n",
    "        # N, 1, 64, 64\n",
    "        self.encoder = nn.Sequential(\n",
    "            nn.Conv2d(1, 16, 3, stride=2, padding=1), # -> N, 16, 32, 32\n",
    "            nn.ReLU(),\n",
    "            nn.Conv2d(16, 32, 3, stride=2, padding=1), # -> N, 32, 16, 16\n",
    "            nn.ReLU(),\n",
    "            nn.Conv2d(32, 64, 3, stride=2, padding=1), # -> N, 64, 8, 8\n",
    "            nn.ReLU(),\n",
    "            nn.Conv2d(64, 128, 3, stride=2, padding=1), # -> N, 128, 4, 4\n",
    "            nn.ReLU(),\n",
    "            nn.Conv2d(128, 256, 4) # -> N, 256, 1, 1\n",
    "        )\n",
    "        \n",
    "        # N , 256, 1, 1\n",
    "        self.decoder = nn.Sequential(\n",
    "            nn.ConvTranspose2d(256, 128, 4), # -> N, 128, 4, 4\n",
    "            nn.ReLU(),\n",
    "            nn.ConvTranspose2d(128, 64, 3, stride=2, padding=1, output_padding=1), # N, 64, 8, 8\n",
    "            nn.ReLU(),\n",
    "            nn.ConvTranspose2d(64, 32, 3, stride=2, padding=1, output_padding=1), # N, 32, 16, 16\n",
    "            nn.ReLU(),\n",
    "            nn.ConvTranspose2d(32, 16, 3, stride=2, padding=1, output_padding=1), # N, 16, 32, 32\n",
    "            nn.ReLU(),\n",
    "            nn.ConvTranspose2d(16, 3, 3, stride=2, padding=1, output_padding=1), # N, 3, 64, 64  \n",
    "            # nn.Sigmoid()\n",
    "        )\n",
    "\n",
    "\n",
    "    def forward(self, x):\n",
    "        encoded = self.encoder(x)\n",
    "        decoded = self.decoder(encoded)\n",
    "        return decoded"
   ]
  },
  {
   "cell_type": "code",
   "execution_count": 13,
   "id": "6ffaf870",
   "metadata": {},
   "outputs": [
    {
     "data": {
      "text/plain": [
       "'cuda'"
      ]
     },
     "execution_count": 13,
     "metadata": {},
     "output_type": "execute_result"
    }
   ],
   "source": [
    "device = 'cuda' if torch.cuda.is_available() else 'cpu'\n",
    "device"
   ]
  },
  {
   "cell_type": "code",
   "execution_count": 14,
   "id": "13558881",
   "metadata": {},
   "outputs": [],
   "source": [
    "model = Autoencoder().to(device)"
   ]
  },
  {
   "cell_type": "code",
   "execution_count": 15,
   "id": "961e7d61",
   "metadata": {},
   "outputs": [],
   "source": [
    "criterion = nn.MSELoss()\n",
    "optimizer = torch.optim.Adam(model.parameters(),\n",
    "                             lr=1e-3, \n",
    "                             weight_decay=1e-5)"
   ]
  },
  {
   "cell_type": "code",
   "execution_count": 16,
   "id": "11659504",
   "metadata": {
    "scrolled": true
   },
   "outputs": [
    {
     "name": "stdout",
     "output_type": "stream",
     "text": [
      "Epoch:1, Loss:11631.3262\n",
      "Epoch:2, Loss:6915.5015\n",
      "Epoch:3, Loss:5014.8052\n",
      "Epoch:4, Loss:3902.7573\n",
      "Epoch:5, Loss:3316.5830\n",
      "Epoch:6, Loss:3141.3152\n",
      "Epoch:7, Loss:2949.5630\n",
      "Epoch:8, Loss:2800.3313\n",
      "Epoch:9, Loss:2737.6343\n",
      "Epoch:10, Loss:2712.7498\n",
      "Epoch:11, Loss:2612.6880\n",
      "Epoch:12, Loss:2529.5183\n",
      "Epoch:13, Loss:2528.8752\n",
      "Epoch:14, Loss:2486.8472\n",
      "Epoch:15, Loss:2624.8315\n",
      "Epoch:16, Loss:2430.7603\n",
      "Epoch:17, Loss:2411.7292\n",
      "Epoch:18, Loss:2374.2688\n",
      "Epoch:19, Loss:2338.8176\n",
      "Epoch:20, Loss:2288.6248\n",
      "Epoch:21, Loss:2252.6182\n",
      "Epoch:22, Loss:2294.6799\n",
      "Epoch:23, Loss:2220.4661\n",
      "Epoch:24, Loss:2225.3652\n",
      "Epoch:25, Loss:2202.3691\n",
      "Epoch:26, Loss:2134.1987\n",
      "Epoch:27, Loss:2106.2031\n",
      "Epoch:28, Loss:2073.1399\n",
      "Epoch:29, Loss:2133.5120\n",
      "Epoch:30, Loss:2047.0148\n",
      "Epoch:31, Loss:2080.1580\n",
      "Epoch:32, Loss:2013.8051\n",
      "Epoch:33, Loss:1987.2002\n",
      "Epoch:34, Loss:2054.4924\n",
      "Epoch:35, Loss:2013.8506\n",
      "Epoch:36, Loss:1968.5751\n",
      "Epoch:37, Loss:2021.9161\n",
      "Epoch:38, Loss:1930.0347\n",
      "Epoch:39, Loss:1925.1978\n",
      "Epoch:40, Loss:1956.2607\n",
      "Epoch:41, Loss:1920.6110\n",
      "Epoch:42, Loss:1879.6621\n",
      "Epoch:43, Loss:1873.5078\n",
      "Epoch:44, Loss:1932.7302\n",
      "Epoch:45, Loss:1882.6953\n",
      "Epoch:46, Loss:1837.4642\n",
      "Epoch:47, Loss:1860.0343\n",
      "Epoch:48, Loss:1854.6146\n",
      "Epoch:49, Loss:1856.2467\n",
      "Epoch:50, Loss:1901.7285\n",
      "Epoch:51, Loss:1859.0422\n",
      "Epoch:52, Loss:1819.2712\n",
      "Epoch:53, Loss:1835.9927\n",
      "Epoch:54, Loss:1826.7445\n",
      "Epoch:55, Loss:1822.9102\n",
      "Epoch:56, Loss:1887.6490\n",
      "Epoch:57, Loss:1800.4451\n",
      "Epoch:58, Loss:1762.3573\n",
      "Epoch:59, Loss:1867.2292\n",
      "Epoch:60, Loss:1787.9846\n",
      "Epoch:61, Loss:1768.8953\n",
      "Epoch:62, Loss:1783.6510\n",
      "Epoch:63, Loss:1767.7543\n",
      "Epoch:64, Loss:1761.5558\n",
      "Epoch:65, Loss:1758.1630\n",
      "Epoch:66, Loss:1763.4022\n",
      "Epoch:67, Loss:1780.4583\n",
      "Epoch:68, Loss:1872.4017\n",
      "Epoch:69, Loss:1714.2540\n",
      "Epoch:70, Loss:1712.7025\n",
      "Epoch:71, Loss:1709.7131\n",
      "Epoch:72, Loss:1761.4076\n",
      "Epoch:73, Loss:1709.0818\n",
      "Epoch:74, Loss:1730.0674\n",
      "Epoch:75, Loss:1697.1696\n",
      "Epoch:76, Loss:1726.8982\n",
      "Epoch:77, Loss:1658.2025\n",
      "Epoch:78, Loss:1741.1018\n",
      "Epoch:79, Loss:1684.6259\n",
      "Epoch:80, Loss:1700.9635\n",
      "Epoch:81, Loss:1673.0405\n",
      "Epoch:82, Loss:1730.5793\n",
      "Epoch:83, Loss:1719.5350\n",
      "Epoch:84, Loss:1683.2091\n",
      "Epoch:85, Loss:1681.9000\n",
      "Epoch:86, Loss:1689.4819\n",
      "Epoch:87, Loss:1653.2587\n",
      "Epoch:88, Loss:1703.6498\n",
      "Epoch:89, Loss:1669.4482\n",
      "Epoch:90, Loss:1665.2788\n",
      "Epoch:91, Loss:1643.2935\n",
      "Epoch:92, Loss:1633.3591\n",
      "Epoch:93, Loss:1643.5004\n",
      "Epoch:94, Loss:1638.1133\n",
      "Epoch:95, Loss:1666.9977\n",
      "Epoch:96, Loss:1610.7361\n",
      "Epoch:97, Loss:1628.0596\n",
      "Epoch:98, Loss:1646.4907\n",
      "Epoch:99, Loss:1603.1213\n",
      "Epoch:100, Loss:1609.5538\n"
     ]
    }
   ],
   "source": [
    "num_epochs = 1000\n",
    "outputs = []\n",
    "for epoch in range(num_epochs):\n",
    "    for (source_img, target_img) in trainDataLoader:\n",
    "        # img = img.reshape(-1, 28*28) # -> use for Autoencoder_Linear\n",
    "        source_img = source_img.to(device)\n",
    "        target_img = target_img.to(device)\n",
    "\n",
    "        recon = model(source_img)\n",
    "        loss = criterion(recon, target_img)\n",
    "        \n",
    "        optimizer.zero_grad()\n",
    "        loss.backward()\n",
    "        optimizer.step()\n",
    "\n",
    "    print(f'Epoch:{epoch+1}, Loss:{loss.item():.4f}')\n",
    "    outputs.append((epoch, source_img[0].to(\"cpu\"), recon[0].to(\"cpu\"), target_img[0].to(\"cpu\")))"
   ]
  },
  {
   "cell_type": "code",
   "execution_count": null,
   "id": "f6f66ac1",
   "metadata": {},
   "outputs": [],
   "source": [
    "Epoch:1, Loss:17511.6582\n",
    "Epoch:2, Loss:17603.8730\n",
    "Epoch:3, Loss:17144.1797\n",
    "Epoch:4, Loss:17077.1152\n",
    "Epoch:5, Loss:17580.3066"
   ]
  },
  {
   "cell_type": "code",
   "execution_count": null,
   "id": "6694687e",
   "metadata": {},
   "outputs": [],
   "source": [
    "# del sigmoid, datetime, weightnn\n",
    "Epoch:1, Loss:8376.0361\n",
    "Epoch:2, Loss:4600.1479\n",
    "Epoch:3, Loss:4152.0894\n",
    "Epoch:4, Loss:3496.9219\n",
    "Epoch:5, Loss:3262.8052"
   ]
  },
  {
   "cell_type": "code",
   "execution_count": 17,
   "id": "c61963e8",
   "metadata": {},
   "outputs": [
    {
     "data": {
      "text/plain": [
       "5"
      ]
     },
     "execution_count": 17,
     "metadata": {},
     "output_type": "execute_result"
    }
   ],
   "source": [
    "len(outputs)"
   ]
  },
  {
   "cell_type": "code",
   "execution_count": 17,
   "id": "afa16fa3",
   "metadata": {},
   "outputs": [
    {
     "data": {
      "image/jpeg": "[encoded data removed]",
      "image/png": "[encoded data removed]",
      "text/plain": [
       "<PIL.Image.Image image mode=L size=64x64>"
      ]
     },
     "execution_count": 17,
     "metadata": {},
     "output_type": "execute_result"
    }
   ],
   "source": [
    "# outputs[-1][1].shape\n",
    "transforms.ToPILImage()(outputs[-1][1])"
   ]
  },
  {
   "cell_type": "code",
   "execution_count": 18,
   "id": "23743ce3",
   "metadata": {},
   "outputs": [
    {
     "data": {
      "image/jpeg": "[encoded data removed]",
      "image/png": "[encoded data removed]",
      "text/plain": [
       "<PIL.Image.Image image mode=RGB size=64x64>"
      ]
     },
     "execution_count": 18,
     "metadata": {},
     "output_type": "execute_result"
    }
   ],
   "source": [
    "transforms.ToPILImage()(outputs[-1][2])"
   ]
  },
  {
   "cell_type": "code",
   "execution_count": 25,
   "id": "f39e773b",
   "metadata": {},
   "outputs": [
    {
     "data": {
      "image/jpeg": "[encoded data removed]",
      "image/png": "[encoded data removed]",
      "text/plain": [
       "<PIL.Image.Image image mode=L size=64x64>"
      ]
     },
     "execution_count": 25,
     "metadata": {},
     "output_type": "execute_result"
    }
   ],
   "source": [
    "transforms.ToPILImage()(outputs[0][1][0])"
   ]
  },
  {
   "cell_type": "code",
   "execution_count": 26,
   "id": "1ed705c1",
   "metadata": {},
   "outputs": [
    {
     "data": {
      "image/jpeg": "[encoded data removed]",
      "image/png": "[encoded data removed]",
      "text/plain": [
       "<PIL.Image.Image image mode=RGB size=64x64>"
      ]
     },
     "execution_count": 26,
     "metadata": {},
     "output_type": "execute_result"
    }
   ],
   "source": [
    "transforms.ToPILImage()(outputs[0][2][0])"
   ]
  },
  {
   "cell_type": "code",
   "execution_count": null,
   "id": "02845615",
   "metadata": {},
   "outputs": [],
   "source": []
  },
  {
   "cell_type": "code",
   "execution_count": null,
   "id": "76e6f2e8",
   "metadata": {},
   "outputs": [],
   "source": []
  },
  {
   "cell_type": "code",
   "execution_count": null,
   "id": "49d76314",
   "metadata": {},
   "outputs": [],
   "source": []
  },
  {
   "cell_type": "code",
   "execution_count": null,
   "id": "2b395a3a",
   "metadata": {},
   "outputs": [],
   "source": []
  },
  {
   "cell_type": "code",
   "execution_count": null,
   "id": "ba2d0fbf",
   "metadata": {},
   "outputs": [],
   "source": []
  },
  {
   "cell_type": "code",
   "execution_count": null,
   "id": "6d91e19d",
   "metadata": {},
   "outputs": [],
   "source": []
  },
  {
   "cell_type": "code",
   "execution_count": null,
   "id": "50a62301",
   "metadata": {},
   "outputs": [],
   "source": []
  },
  {
   "cell_type": "code",
   "execution_count": null,
   "id": "c4bb4902",
   "metadata": {},
   "outputs": [],
   "source": []
  },
  {
   "cell_type": "code",
   "execution_count": null,
   "id": "7d9024fb",
   "metadata": {},
   "outputs": [],
   "source": []
  }
 ],
 "metadata": {
  "kernelspec": {
   "display_name": "Python 3",
   "language": "python",
   "name": "python3"
  },
  "language_info": {
   "codemirror_mode": {
    "name": "ipython",
    "version": 3
   },
   "file_extension": ".py",
   "mimetype": "text/x-python",
   "name": "python",
   "nbconvert_exporter": "python",
   "pygments_lexer": "ipython3",
   "version": "3.10.12"
  }
 },
 "nbformat": 4,
 "nbformat_minor": 5
}
