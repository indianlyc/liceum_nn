{
 "cells": [
  {
   "cell_type": "markdown",
   "id": "138d3188",
   "metadata": {},
   "source": [
    "Задача: Расскрасить изображения (или видео)\n",
    "\n",
    "- Подобрать размер с которым справится железо (будет ориентироваться на 128х128)\n",
    "- Скачать цветные изображения, найти датасет\n",
    "- Преобразовать цветные изображения в серые"
   ]
  },
  {
   "cell_type": "code",
   "execution_count": 50,
   "id": "31b09e40",
   "metadata": {},
   "outputs": [
    {
     "data": {
      "text/plain": [
       "27"
      ]
     },
     "execution_count": 50,
     "metadata": {},
     "output_type": "execute_result"
    }
   ],
   "source": [
    "class A:\n",
    "    def __init__(self, y):\n",
    "        self.y  =  y\n",
    "        \n",
    "    def  __call__(self,  x):\n",
    "        return x**2 +  self.y\n",
    "    \n",
    "a =  A(2)\n",
    "a(5)"
   ]
  },
  {
   "cell_type": "code",
   "execution_count": 1,
   "id": "48d4dbb0",
   "metadata": {},
   "outputs": [],
   "source": [
    "import os\n",
    "import numpy as np\n",
    "from torchvision import transforms\n",
    "from torchvision.io import read_image\n",
    "from torchvision.utils import save_image\n",
    "\n",
    "\n",
    "to_grey = transforms.Grayscale()\n",
    "\n",
    "from PIL import Image\n",
    "\n",
    "def greyscale(from_path, destination_path):\n",
    "#    print(destination_path)\n",
    "    good_image = True\n",
    "    img = read_image(from_path)\n",
    "    if img.shape[0] == 1:\n",
    "        return False\n",
    "    img = to_grey(img)[0] # [None, :, :, :]\n",
    "    img = img.numpy()\n",
    "#     print(img)\n",
    "#     print(img.shape)\n",
    "#     print(img.dtype)\n",
    "    im = Image.fromarray(img)\n",
    "    im.save(destination_path)\n",
    "    # save_image(img, destination_path, nrow=1, normalize=True, value_range=(0,1))\n",
    "    \n",
    "# path = os.path.join('2024.01.12', 'archive', 'tiny-imagenet-200', \n",
    "#                     'train', 'n01882714', 'images')\n",
    "\n"
   ]
  },
  {
   "cell_type": "code",
   "execution_count": 2,
   "id": "a95b1ec2",
   "metadata": {},
   "outputs": [],
   "source": [
    "#  im = Image.open(\"2024.01.12/archive/tiny-imagenet-200/train/n01983481/images/n01983481_15.JPEG\")\n",
    "# im = Image.open(\"2024.01.12/archive/tiny-imagenet-200/train/n04023962/images/n04023962_173.JPEG\")\n",
    "# np.array(im).shape"
   ]
  },
  {
   "cell_type": "code",
   "execution_count": null,
   "id": "aefca8cf",
   "metadata": {},
   "outputs": [],
   "source": []
  },
  {
   "cell_type": "code",
   "execution_count": 3,
   "id": "80e77a91",
   "metadata": {},
   "outputs": [],
   "source": [
    "# \n",
    "# !ls 2024.01.12/"
   ]
  },
  {
   "cell_type": "code",
   "execution_count": 4,
   "id": "9ebae5a2",
   "metadata": {},
   "outputs": [],
   "source": [
    "import os\n",
    "from pathlib import Path\n",
    "import shutil\n",
    "\n",
    "\n",
    "base_dir = \"2024.01.12\"\n",
    "source_dir = \"source\"\n",
    "destination_dir = \"archive/tiny-imagenet-200\"\n",
    "paths0 = [\"train\", \"test\", \"val\"]"
   ]
  },
  {
   "cell_type": "code",
   "execution_count": 5,
   "id": "f0772e80",
   "metadata": {},
   "outputs": [],
   "source": [
    "# удаляем директорию которую собираемся заполнять\n",
    "# if os.path.exists(os.path.join(base_dir, source_dir)):\n",
    "#     shutil.rmtree(os.path.join(base_dir, source_dir))\n",
    "\n",
    "# # создаем необходимую иеррархию папок\n",
    "# for path0 in paths0:\n",
    "#     Path(os.path.join(base_dir, source_dir, path0)).mkdir(parents=True, exist_ok=True)\n",
    "\n",
    "# # преоразуем изображения в серый и сохраяем в source_dir\n",
    "# k = 0\n",
    "# max_iter = 9\n",
    "# for path0 in paths0:\n",
    "#     print(path0)\n",
    "#     for root, dirs, files in os.walk(os.path.join(base_dir, destination_dir, path0)):\n",
    "#         for file in files:\n",
    "#             if file.split(\".\")[-1] == \"JPEG\":\n",
    "#                 src = os.path.join(root, file)\n",
    "#                 dst = os.path.join(base_dir, source_dir, path0, file)\n",
    "#                 print(src, dst)\n",
    "#                 greyscale(src, dst)\n",
    "#                 k += 1\n",
    "#             if k > max_iter:\n",
    "#                 break\n",
    "#         if k > max_iter:\n",
    "#             break\n",
    "#     if k > max_iter:\n",
    "#         break"
   ]
  },
  {
   "cell_type": "code",
   "execution_count": 6,
   "id": "7c998a51",
   "metadata": {},
   "outputs": [],
   "source": [
    "import torch\n",
    "import torch.nn as nn\n",
    "import torch.nn.functional as F\n",
    "import torch.optim as optim\n",
    "from torchvision import datasets, transforms\n",
    "from torchvision.io import read_image\n",
    "import matplotlib.pyplot as plt\n",
    "\n",
    "# from torchvision.datasets import ImageFolder\n",
    "from torch.utils.data import DataLoader, Dataset"
   ]
  },
  {
   "cell_type": "code",
   "execution_count": 7,
   "id": "775dd356",
   "metadata": {},
   "outputs": [],
   "source": [
    "# class MyDataset(Dataset):\n",
    "  \n",
    "#     def __init__(self, X, y):\n",
    "#         self.X = torch.Tensor(X)\n",
    "#         self.y = torch.from_numpy(y).float()\n",
    "\n",
    "#     def __len__(self):\n",
    "#         return self.X.shape[0]\n",
    "  \n",
    "#     def __getitem__(self, index):\n",
    "#         return (self.X[index], self.y[index])\n",
    "    \n",
    "    \n",
    "class MyDataset(Dataset):\n",
    "  \n",
    "    def __init__(self, path_source, path_target):\n",
    "        self.path_source = path_source\n",
    "        self.path_target = path_target\n",
    "        self.list_source_name  = os.listdir(self.path_source)\n",
    "\n",
    "    def __len__(self):\n",
    "        return len(self.list_source_name)\n",
    "  \n",
    "    def __getitem__(self, index):\n",
    "        source_path = os.path.join(self.path_source,  self.list_source_name[index])\n",
    "        target_path = os.path.join(self.path_target, \n",
    "                                   self.list_source_name[index].split(\"_\")[0], \n",
    "                                   \"images\", \n",
    "                                   self.list_source_name[index])\n",
    "        # print(source_path)\n",
    "        # print(target_path)\n",
    "        # target_img = Image.open(target_path)\n",
    "        source_img = read_image(source_path)\n",
    "        target_img  =  read_image(target_path)[0]\n",
    "        # source_img = numpy.array(Image.open(source_path))\n",
    "        return source_img, target_img # , target_path)\n",
    "        #  return (self.X[index], self.y[index])\n",
    "    \n",
    "# train_dataset = MyDataset(os.path.join(base_dir, source_dir, \"train\"), \n",
    "#                          os.path.join(base_dir, destination_dir, \"train\"))\n",
    "# len(train_dataset)\n",
    "# train_dataset[0]"
   ]
  },
  {
   "cell_type": "code",
   "execution_count": 8,
   "id": "e244ebbb",
   "metadata": {},
   "outputs": [],
   "source": [
    "# print(\"[INFO] loading the training and validation dataset...\")\n",
    "# trainDataset = ImageFolder(root=os.path.join(base_dir, source_dir, \"train\"))\n",
    "# valDataset = ImageFolder(root=os.path.join(base_dir, source_dir, \"val\"))\n",
    "# print(\"[INFO] training dataset contains {} samples...\".format(\n",
    "#         len(trainDataset)))\n",
    "# print(\"[INFO] validation dataset contains {} samples...\".format(\n",
    "#         len(valDataset)))"
   ]
  },
  {
   "cell_type": "code",
   "execution_count": 9,
   "id": "49e3aa95",
   "metadata": {},
   "outputs": [],
   "source": [
    "train_dataset = MyDataset(os.path.join(base_dir, source_dir, \"train\"), \n",
    "                         os.path.join(base_dir, destination_dir, \"train\"))\n",
    "val_dataset = MyDataset(os.path.join(base_dir, source_dir, \"val\"), \n",
    "                         os.path.join(base_dir, destination_dir, \"val\"))"
   ]
  },
  {
   "cell_type": "code",
   "execution_count": 10,
   "id": "c203aa95",
   "metadata": {},
   "outputs": [],
   "source": [
    "\n",
    "def custom_collate_fn(batch):\n",
    "    # Separate the input data and targets from the batch\n",
    "    data, targets = zip(*batch)\n",
    "\n",
    "    # Perform any preprocessing, padding, or other operations\n",
    "\n",
    "    # Convert the data and targets to tensors\n",
    "    data = torch.stack(data).to(torch.float)\n",
    "#     for i, target in enumerate(targets):\n",
    "#         print(i, target[0].shape, target[1])\n",
    "#     print(type(targets))\n",
    "    targets = torch.stack(targets).to(torch.float)\n",
    "\n",
    "    # Return the batched data and targets\n",
    "    return data, targets"
   ]
  },
  {
   "cell_type": "code",
   "execution_count": 11,
   "id": "2877074b",
   "metadata": {},
   "outputs": [
    {
     "name": "stdout",
     "output_type": "stream",
     "text": [
      "[INFO] creating training and validation set dataloaders...\n"
     ]
    }
   ],
   "source": [
    "BATCH_SIZE = 128\n",
    "print(\"[INFO] creating training and validation set dataloaders...\")\n",
    "trainDataLoader = DataLoader(train_dataset, batch_size=BATCH_SIZE, shuffle=True, collate_fn=custom_collate_fn)\n",
    "valDataLoader = DataLoader(val_dataset, batch_size=BATCH_SIZE, collate_fn=custom_collate_fn)"
   ]
  },
  {
   "cell_type": "code",
   "execution_count": 12,
   "id": "54110a89",
   "metadata": {},
   "outputs": [],
   "source": [
    "class Autoencoder(nn.Module):\n",
    "    def __init__(self):\n",
    "        super().__init__()        \n",
    "        # N, 1, 64, 64\n",
    "        self.encoder = nn.Sequential(\n",
    "            nn.Conv2d(1, 16, 3, stride=2, padding=1), # -> N, 16, 32, 32\n",
    "            nn.BatchNorm2d(16),\n",
    "            nn.ReLU(),\n",
    "            nn.Conv2d(16, 32, 3, stride=2, padding=1), # -> N, 32, 16, 16\n",
    "            nn.BatchNorm2d(32),\n",
    "            nn.ReLU(),\n",
    "            nn.Conv2d(32, 64, 3, stride=2, padding=1), # -> N, 64, 8, 8\n",
    "            nn.BatchNorm2d(64),\n",
    "            nn.ReLU(),\n",
    "            nn.Conv2d(64, 128, 3, stride=2, padding=1), # -> N, 128, 4, 4\n",
    "            nn.BatchNorm2d(128),\n",
    "            nn.ReLU(),\n",
    "            nn.Conv2d(128, 256, 4) # -> N, 256, 1, 1\n",
    "        )\n",
    "        \n",
    "        # N , 256, 1, 1\n",
    "        self.decoder = nn.Sequential(\n",
    "            nn.ConvTranspose2d(256, 128, 4), # -> N, 128, 4, 4\n",
    "            nn.BatchNorm2d(128),\n",
    "            nn.ReLU(),\n",
    "            nn.ConvTranspose2d(128, 64, 3, stride=2, padding=1, output_padding=1), # N, 64, 8, 8\n",
    "            nn.BatchNorm2d(64),\n",
    "            nn.ReLU(),\n",
    "            nn.ConvTranspose2d(64, 32, 3, stride=2, padding=1, output_padding=1), # N, 32, 16, 16\n",
    "            nn.BatchNorm2d(32),\n",
    "            nn.ReLU(),\n",
    "            nn.ConvTranspose2d(32, 16, 3, stride=2, padding=1, output_padding=1), # N, 16, 32, 32\n",
    "            nn.BatchNorm2d(16),\n",
    "            nn.ReLU(),\n",
    "            nn.ConvTranspose2d(16, 1, 3, stride=2, padding=1, output_padding=1), # N, 3, 64, 64  \n",
    "            # nn.Sigmoid()\n",
    "        )\n",
    "\n",
    "\n",
    "    def forward(self, x):\n",
    "        encoded = self.encoder(x)\n",
    "        decoded = (self.decoder(encoded) + x)[:,0,:,:]\n",
    "        return decoded"
   ]
  },
  {
   "cell_type": "code",
   "execution_count": 13,
   "id": "6ffaf870",
   "metadata": {},
   "outputs": [
    {
     "data": {
      "text/plain": [
       "'cuda'"
      ]
     },
     "execution_count": 13,
     "metadata": {},
     "output_type": "execute_result"
    }
   ],
   "source": [
    "device = 'cuda' if torch.cuda.is_available() else 'cpu'\n",
    "device"
   ]
  },
  {
   "cell_type": "code",
   "execution_count": 14,
   "id": "13558881",
   "metadata": {},
   "outputs": [],
   "source": [
    "model = Autoencoder().to(device)"
   ]
  },
  {
   "cell_type": "code",
   "execution_count": 15,
   "id": "961e7d61",
   "metadata": {},
   "outputs": [],
   "source": [
    "criterion = nn.MSELoss()\n",
    "optimizer = torch.optim.Adam(model.parameters(),\n",
    "                             lr=1e-3, \n",
    "                             weight_decay=1e-5)"
   ]
  },
  {
   "cell_type": "code",
   "execution_count": 16,
   "id": "11659504",
   "metadata": {
    "scrolled": true
   },
   "outputs": [
    {
     "name": "stdout",
     "output_type": "stream",
     "text": [
      "Epoch:1, Loss:219.5513\n",
      "Epoch:2, Loss:886.2479\n",
      "Epoch:3, Loss:179.3982\n",
      "Epoch:4, Loss:118.7427\n",
      "Epoch:5, Loss:164.2004\n",
      "Epoch:6, Loss:861.6984\n",
      "Epoch:7, Loss:1900.6864\n",
      "Epoch:8, Loss:148.7471\n",
      "Epoch:9, Loss:252.9670\n",
      "Epoch:10, Loss:124.7038\n",
      "Epoch:11, Loss:128.0820\n",
      "Epoch:12, Loss:457.1006\n",
      "Epoch:13, Loss:524.6423\n",
      "Epoch:14, Loss:650.5859\n",
      "Epoch:15, Loss:423.8932\n"
     ]
    }
   ],
   "source": [
    "num_epochs = 15\n",
    "outputs = []\n",
    "for epoch in range(num_epochs):\n",
    "    for (source_img, target_img) in trainDataLoader:\n",
    "        # img = img.reshape(-1, 28*28) # -> use for Autoencoder_Linear\n",
    "        source_img = source_img.to(device)\n",
    "        target_img = target_img.to(device)\n",
    "\n",
    "        recon = model(source_img)\n",
    "        loss = criterion(recon, target_img)\n",
    "        \n",
    "        optimizer.zero_grad()\n",
    "        loss.backward()\n",
    "        optimizer.step()\n",
    "\n",
    "    print(f'Epoch:{epoch+1}, Loss:{loss.item():.4f}')\n",
    "    outputs.append((epoch, source_img[0].to(\"cpu\"), recon[0].to(\"cpu\"), target_img[0].to(\"cpu\")))"
   ]
  },
  {
   "cell_type": "code",
   "execution_count": null,
   "id": "ccc7351a",
   "metadata": {},
   "outputs": [],
   "source": [
    "#  Добавили  batchnorm, уменьшили каналы до только красного, уменьшили batch\n",
    "Epoch:1, Loss:5479.9897\n",
    "Epoch:2, Loss:3241.9932\n",
    "Epoch:3, Loss:1680.8298\n",
    "Epoch:4, Loss:1693.4512\n",
    "Epoch:5, Loss:2132.7761\n",
    "Epoch:6, Loss:1929.0791\n",
    "Epoch:7, Loss:1370.7450\n",
    "Epoch:8, Loss:3091.6714\n",
    "Epoch:9, Loss:2451.2229\n",
    "Epoch:10, Loss:3458.2061\n",
    "Epoch:11, Loss:2433.1230\n",
    "Epoch:12, Loss:1625.2269\n",
    "Epoch:13, Loss:2800.7183\n",
    "Epoch:14, Loss:2150.4214\n",
    "Epoch:15, Loss:1435.9338"
   ]
  },
  {
   "cell_type": "code",
   "execution_count": null,
   "id": "f6f66ac1",
   "metadata": {},
   "outputs": [],
   "source": [
    "Epoch:1, Loss:17511.6582\n",
    "Epoch:2, Loss:17603.8730\n",
    "Epoch:3, Loss:17144.1797\n",
    "Epoch:4, Loss:17077.1152\n",
    "Epoch:5, Loss:17580.3066"
   ]
  },
  {
   "cell_type": "code",
   "execution_count": null,
   "id": "6694687e",
   "metadata": {},
   "outputs": [],
   "source": [
    "# del sigmoid, datetime, weightnn\n",
    "Epoch:1, Loss:8376.0361\n",
    "Epoch:2, Loss:4600.1479\n",
    "Epoch:3, Loss:4152.0894\n",
    "Epoch:4, Loss:3496.9219\n",
    "Epoch:5, Loss:3262.8052"
   ]
  },
  {
   "cell_type": "code",
   "execution_count": 17,
   "id": "c61963e8",
   "metadata": {},
   "outputs": [
    {
     "data": {
      "text/plain": [
       "15"
      ]
     },
     "execution_count": 17,
     "metadata": {},
     "output_type": "execute_result"
    }
   ],
   "source": [
    "len(outputs)"
   ]
  },
  {
   "cell_type": "code",
   "execution_count": 28,
   "id": "afa16fa3",
   "metadata": {},
   "outputs": [
    {
     "data": {
      "image/jpeg": "[encoded data removed]",
      "image/png": "[encoded data removed]",
      "text/plain": [
       "<PIL.Image.Image image mode=L size=64x64>"
      ]
     },
     "execution_count": 28,
     "metadata": {},
     "output_type": "execute_result"
    }
   ],
   "source": [
    "# outputs[-1][1].shape\n",
    "transforms.ToPILImage()(outputs[-11][1])  # source_img"
   ]
  },
  {
   "cell_type": "code",
   "execution_count": 29,
   "id": "5bb7cad8",
   "metadata": {},
   "outputs": [
    {
     "data": {
      "image/jpeg": "[encoded data removed]",
      "image/png": "[encoded data removed]",
      "text/plain": [
       "<PIL.Image.Image image mode=L size=64x64>"
      ]
     },
     "execution_count": 29,
     "metadata": {},
     "output_type": "execute_result"
    }
   ],
   "source": [
    "transforms.ToPILImage()(outputs[-11][3]) # target_img"
   ]
  },
  {
   "cell_type": "code",
   "execution_count": 30,
   "id": "e7d34f5e",
   "metadata": {},
   "outputs": [
    {
     "data": {
      "image/jpeg": "[encoded data removed]",
      "image/png": "[encoded data removed]",
      "text/plain": [
       "<PIL.Image.Image image mode=L size=64x64>"
      ]
     },
     "execution_count": 30,
     "metadata": {},
     "output_type": "execute_result"
    }
   ],
   "source": [
    "transforms.ToPILImage()(outputs[-11][2]) # predict"
   ]
  },
  {
   "cell_type": "code",
   "execution_count": null,
   "id": "02845615",
   "metadata": {},
   "outputs": [],
   "source": []
  },
  {
   "cell_type": "code",
   "execution_count": null,
   "id": "76e6f2e8",
   "metadata": {},
   "outputs": [],
   "source": []
  },
  {
   "cell_type": "code",
   "execution_count": null,
   "id": "49d76314",
   "metadata": {},
   "outputs": [],
   "source": []
  },
  {
   "cell_type": "code",
   "execution_count": null,
   "id": "2b395a3a",
   "metadata": {},
   "outputs": [],
   "source": []
  },
  {
   "cell_type": "code",
   "execution_count": null,
   "id": "ba2d0fbf",
   "metadata": {},
   "outputs": [],
   "source": []
  },
  {
   "cell_type": "code",
   "execution_count": null,
   "id": "6d91e19d",
   "metadata": {},
   "outputs": [],
   "source": []
  },
  {
   "cell_type": "code",
   "execution_count": null,
   "id": "50a62301",
   "metadata": {},
   "outputs": [],
   "source": []
  },
  {
   "cell_type": "code",
   "execution_count": null,
   "id": "c4bb4902",
   "metadata": {},
   "outputs": [],
   "source": []
  },
  {
   "cell_type": "code",
   "execution_count": null,
   "id": "7d9024fb",
   "metadata": {},
   "outputs": [],
   "source": []
  }
 ],
 "metadata": {
  "kernelspec": {
   "display_name": "Python 3",
   "language": "python",
   "name": "python3"
  },
  "language_info": {
   "codemirror_mode": {
    "name": "ipython",
    "version": 3
   },
   "file_extension": ".py",
   "mimetype": "text/x-python",
   "name": "python",
   "nbconvert_exporter": "python",
   "pygments_lexer": "ipython3",
   "version": "3.10.12"
  }
 },
 "nbformat": 4,
 "nbformat_minor": 5
}
