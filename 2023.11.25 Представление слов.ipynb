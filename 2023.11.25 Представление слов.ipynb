{
 "cells": [
  {
   "cell_type": "markdown",
   "id": "c4deca35",
   "metadata": {},
   "source": [
    "https://muhark.github.io/python/ml/nlp/2021/10/21/word2vec-from-scratch.html"
   ]
  },
  {
   "cell_type": "code",
   "execution_count": 5,
   "id": "25e167b2",
   "metadata": {},
   "outputs": [],
   "source": [
    "# !pip install datasets\n",
    "# !pip install nltk"
   ]
  },
  {
   "cell_type": "code",
   "execution_count": 1,
   "id": "1ffaa19d",
   "metadata": {},
   "outputs": [],
   "source": [
    "import torch\n",
    "import datasets"
   ]
  },
  {
   "cell_type": "code",
   "execution_count": 2,
   "id": "0607aa50",
   "metadata": {},
   "outputs": [],
   "source": [
    "dataset1 = datasets.load_dataset(\"tweets_hate_speech_detection\")"
   ]
  },
  {
   "cell_type": "code",
   "execution_count": 3,
   "id": "a898c5f6",
   "metadata": {},
   "outputs": [
    {
     "data": {
      "text/plain": [
       "DatasetDict({\n",
       "    train: Dataset({\n",
       "        features: ['label', 'tweet'],\n",
       "        num_rows: 31962\n",
       "    })\n",
       "    test: Dataset({\n",
       "        features: ['label', 'tweet'],\n",
       "        num_rows: 17197\n",
       "    })\n",
       "})"
      ]
     },
     "execution_count": 3,
     "metadata": {},
     "output_type": "execute_result"
    }
   ],
   "source": [
    "dataset1"
   ]
  },
  {
   "cell_type": "code",
   "execution_count": null,
   "id": "ed599c11",
   "metadata": {},
   "outputs": [],
   "source": []
  },
  {
   "cell_type": "code",
   "execution_count": 4,
   "id": "519073e0",
   "metadata": {},
   "outputs": [],
   "source": [
    "import re\n",
    "from nltk.corpus import stopwords\n",
    "from nltk.stem.snowball import SnowballStemmer"
   ]
  },
  {
   "cell_type": "code",
   "execution_count": 5,
   "id": "66165879",
   "metadata": {},
   "outputs": [],
   "source": [
    "import nltk"
   ]
  },
  {
   "cell_type": "code",
   "execution_count": 6,
   "id": "726a6e9f",
   "metadata": {},
   "outputs": [
    {
     "name": "stderr",
     "output_type": "stream",
     "text": [
      "[nltk_data] Downloading package stopwords to\n",
      "[nltk_data]     /home/indianlyc/nltk_data...\n",
      "[nltk_data]   Package stopwords is already up-to-date!\n"
     ]
    }
   ],
   "source": [
    "sw = nltk.download(\"stopwords\")"
   ]
  },
  {
   "cell_type": "code",
   "execution_count": null,
   "id": "914830f0",
   "metadata": {},
   "outputs": [],
   "source": []
  },
  {
   "cell_type": "code",
   "execution_count": 7,
   "id": "46eea1a1",
   "metadata": {},
   "outputs": [],
   "source": [
    "ss = SnowballStemmer('english')\n",
    "sw = stopwords.words('english')\n",
    "\n",
    "\n",
    "def split_tokens(row):                             # STEP\n",
    "    row['all_tokens'] = [ss.stem(i) for i in       # 5\n",
    "                     re.split(r\" +\",               # 3\n",
    "                     re.sub(r\"[^a-z@# ]\", \"\",      # 2\n",
    "                            row['tweet'].lower())) # 1\n",
    "                     if (i not in sw) and len(i)]  # 4\n",
    "    return row\n",
    "\n",
    "dataset2 = dataset1.map(split_tokens)"
   ]
  },
  {
   "cell_type": "code",
   "execution_count": 8,
   "id": "6ba694e4",
   "metadata": {},
   "outputs": [
    {
     "data": {
      "text/plain": [
       "['@user', 'father', 'dysfunct', 'selfish', 'drag', 'kid', 'dysfunct', '#run']"
      ]
     },
     "execution_count": 8,
     "metadata": {},
     "output_type": "execute_result"
    }
   ],
   "source": [
    "dataset2[\"train\"][\"all_tokens\"][0]"
   ]
  },
  {
   "cell_type": "code",
   "execution_count": 9,
   "id": "682b8674",
   "metadata": {},
   "outputs": [
    {
     "data": {
      "text/plain": [
       "'@user when a father is dysfunctional and is so selfish he drags his kids into his dysfunction.   #run'"
      ]
     },
     "execution_count": 9,
     "metadata": {},
     "output_type": "execute_result"
    }
   ],
   "source": [
    "dataset2[\"train\"][\"tweet\"][0]"
   ]
  },
  {
   "cell_type": "code",
   "execution_count": 11,
   "id": "4143fa15",
   "metadata": {},
   "outputs": [],
   "source": [
    "from collections import Counter\n",
    "\n",
    "counts = Counter([i for s in dataset2['train']['all_tokens'] for i in s])\n",
    "counts = {k:v for k, v in counts.items() if v>10} # Filtering\n",
    "vocab = list(counts.keys())\n",
    "n_v = len(vocab)\n",
    "id2tok = dict(enumerate(vocab))\n",
    "tok2id = {token: id for id, token in id2tok.items()}\n",
    "\n",
    "# Now correct tokens\n",
    "def remove_rare_tokens(row):\n",
    "    row['tokens'] = [t for t in row['all_tokens'] if t in vocab]\n",
    "    return row\n",
    "\n",
    "dataset3 = dataset2.map(remove_rare_tokens)"
   ]
  },
  {
   "cell_type": "code",
   "execution_count": 34,
   "id": "2f0b3278",
   "metadata": {},
   "outputs": [
    {
     "data": {
      "text/plain": [
       "3085"
      ]
     },
     "execution_count": 34,
     "metadata": {},
     "output_type": "execute_result"
    }
   ],
   "source": [
    "len(tok2id)"
   ]
  },
  {
   "cell_type": "code",
   "execution_count": 12,
   "id": "b21a155a",
   "metadata": {},
   "outputs": [
    {
     "data": {
      "text/plain": [
       "['@user', 'father', 'drag', 'kid', '#run']"
      ]
     },
     "execution_count": 12,
     "metadata": {},
     "output_type": "execute_result"
    }
   ],
   "source": [
    "dataset3[\"train\"][\"tokens\"][0]"
   ]
  },
  {
   "cell_type": "code",
   "execution_count": 13,
   "id": "4f94a951",
   "metadata": {},
   "outputs": [
    {
     "data": {
      "text/plain": [
       "['@user', 'father', 'dysfunct', 'selfish', 'drag', 'kid', 'dysfunct', '#run']"
      ]
     },
     "execution_count": 13,
     "metadata": {},
     "output_type": "execute_result"
    }
   ],
   "source": [
    "dataset3[\"train\"][\"all_tokens\"][0]"
   ]
  },
  {
   "cell_type": "code",
   "execution_count": 14,
   "id": "deaaaec8",
   "metadata": {},
   "outputs": [],
   "source": [
    "def windowizer(row, wsize=3):\n",
    "    \"\"\"\n",
    "    Windowizer function for Word2Vec. Converts sentence to sliding-window\n",
    "    pairs.\n",
    "    \"\"\"\n",
    "    doc = row['tokens']\n",
    "    wsize = 3\n",
    "    out = []\n",
    "    for i, wd in enumerate(doc):\n",
    "        target = tok2id[wd]\n",
    "        window = [i+j for j in\n",
    "                  range(-wsize, wsize+1, 1)\n",
    "                  if (i+j>=0) &\n",
    "                     (i+j<len(doc)) &\n",
    "                     (j!=0)]\n",
    "\n",
    "        out+=[(target, tok2id[doc[w]]) for w in window]\n",
    "    row['moving_window'] = out\n",
    "    return row\n",
    "\n",
    "dataset4 = dataset3.map(windowizer)"
   ]
  },
  {
   "cell_type": "code",
   "execution_count": 15,
   "id": "da393f97",
   "metadata": {},
   "outputs": [
    {
     "data": {
      "text/plain": [
       "[[0, 1],\n",
       " [0, 2],\n",
       " [0, 3],\n",
       " [1, 0],\n",
       " [1, 2],\n",
       " [1, 3],\n",
       " [1, 4],\n",
       " [2, 0],\n",
       " [2, 1],\n",
       " [2, 3],\n",
       " [2, 4],\n",
       " [3, 0],\n",
       " [3, 1],\n",
       " [3, 2],\n",
       " [3, 4],\n",
       " [4, 1],\n",
       " [4, 2],\n",
       " [4, 3]]"
      ]
     },
     "execution_count": 15,
     "metadata": {},
     "output_type": "execute_result"
    }
   ],
   "source": [
    "dataset4[\"train\"][\"moving_window\"][0]"
   ]
  },
  {
   "cell_type": "code",
   "execution_count": 16,
   "id": "3329b86e",
   "metadata": {},
   "outputs": [],
   "source": [
    "from torch.utils.data import Dataset, DataLoader\n",
    "\n",
    "class Word2VecDataset(Dataset):\n",
    "    \"\"\"\n",
    "    Takes a HuggingFace dataset as an input, to be used for a Word2Vec dataloader.\n",
    "    \"\"\"\n",
    "    def __init__(self, dataset, vocab_size, wsize=3):\n",
    "        self.dataset = dataset\n",
    "        self.vocab_size = vocab_size\n",
    "        self.data = [i for s in dataset['moving_window'] for i in s]\n",
    "\n",
    "    def __len__(self):\n",
    "        return len(self.data)\n",
    "\n",
    "    def __getitem__(self, idx):\n",
    "        return self.data[idx]\n"
   ]
  },
  {
   "cell_type": "code",
   "execution_count": 17,
   "id": "a49e2d86",
   "metadata": {},
   "outputs": [
    {
     "data": {
      "text/plain": [
       "dict_keys(['train', 'test'])"
      ]
     },
     "execution_count": 17,
     "metadata": {},
     "output_type": "execute_result"
    }
   ],
   "source": [
    "dataset4.keys()"
   ]
  },
  {
   "cell_type": "code",
   "execution_count": 18,
   "id": "aac81e2d",
   "metadata": {},
   "outputs": [],
   "source": [
    "BATCH_SIZE = 2**14\n",
    "N_LOADER_PROCS = 10\n",
    "\n",
    "dataloader = {}\n",
    "for key in dataset4.keys():\n",
    "    dataloader[key] = DataLoader(Word2VecDataset(\n",
    "                                    dataset4[key], vocab_size=n_v),\n",
    "                                  batch_size=BATCH_SIZE,\n",
    "                                  shuffle=True,\n",
    "                                  num_workers=N_LOADER_PROCS)\n"
   ]
  },
  {
   "cell_type": "code",
   "execution_count": 19,
   "id": "7d508331",
   "metadata": {},
   "outputs": [
    {
     "data": {
      "text/plain": [
       "dict_keys(['train', 'test'])"
      ]
     },
     "execution_count": 19,
     "metadata": {},
     "output_type": "execute_result"
    }
   ],
   "source": [
    "dataloader.keys()"
   ]
  },
  {
   "cell_type": "code",
   "execution_count": 20,
   "id": "acf417dd",
   "metadata": {},
   "outputs": [],
   "source": [
    "from torch import nn"
   ]
  },
  {
   "cell_type": "code",
   "execution_count": 19,
   "id": "119fd16b",
   "metadata": {},
   "outputs": [],
   "source": [
    "# from torch import nn\n",
    "\n",
    "# size = 10\n",
    "# input_ = 3\n",
    "\n",
    "# def one_hot_encode(input_, size):\n",
    "#     vec = torch.zeros(size).float()\n",
    "#     vec[input_] = 1.0\n",
    "#     return vec\n",
    "\n",
    "# ohe = one_hot_encode(input_, size)\n",
    "# linear_layer = nn.Linear(size, 1, bias=False)\n",
    "\n",
    "# # Set edge weights from 0 to 9 for easy reference\n",
    "# with torch.no_grad():\n",
    "#     linear_layer.weight = nn.Parameter(\n",
    "#         torch.arange(10, dtype=torch.float).reshape(linear_layer.weight.shape))\n",
    "\n",
    "# print(linear_layer.weight)\n",
    "# print(linear_layer(ohe))"
   ]
  },
  {
   "cell_type": "code",
   "execution_count": null,
   "id": "bf66f8b9",
   "metadata": {},
   "outputs": [],
   "source": [
    "# embedding_layer = nn.Embedding(size, 1)\n",
    "\n",
    "# with torch.no_grad():\n",
    "#     embedding_layer.weight = nn.Parameter(\n",
    "#         torch.arange(10, dtype=torch.float\n",
    "#         ).reshape(embedding_layer.weight.shape))\n",
    "\n",
    "# print(embedding_layer.weight)\n",
    "# print(embedding_layer(torch.tensor(input)))"
   ]
  },
  {
   "cell_type": "code",
   "execution_count": 21,
   "id": "ce31636b",
   "metadata": {},
   "outputs": [],
   "source": [
    "class Word2Vec(nn.Module):\n",
    "    def __init__(self, vocab_size, embedding_size):\n",
    "        super().__init__()\n",
    "        self.embed = nn.Embedding(vocab_size, embedding_size)\n",
    "        self.expand = nn.Linear(embedding_size, vocab_size, bias=False)\n",
    "\n",
    "    def forward(self, input_):\n",
    "        # Encode input to lower-dimensional representation\n",
    "        hidden = self.embed(input_)\n",
    "        # Expand hidden layer to predictions\n",
    "        logits = self.expand(hidden)\n",
    "        return logits"
   ]
  },
  {
   "cell_type": "code",
   "execution_count": 22,
   "id": "64dbe208",
   "metadata": {},
   "outputs": [],
   "source": [
    "# Instantiate the model\n",
    "EMBED_SIZE = 100 # Quite small, just for the tutorial\n",
    "model = Word2Vec(n_v, EMBED_SIZE)\n",
    "\n",
    "# Relevant if you have a GPU:\n",
    "device = torch.device('cuda') if torch.cuda.is_available() else torch.device('cpu')\n",
    "model.to(device)\n",
    "\n",
    "# Define training parameters\n",
    "LR = 3e-4\n",
    "EPOCHS = 10\n",
    "loss_fn = nn.CrossEntropyLoss()\n",
    "optimizer = torch.optim.AdamW(model.parameters(), lr=LR)"
   ]
  },
  {
   "cell_type": "code",
   "execution_count": 24,
   "id": "d1a00c65",
   "metadata": {
    "scrolled": true
   },
   "outputs": [
    {
     "name": "stderr",
     "output_type": "stream",
     "text": [
      "\n",
      "  0%|                                                                                                                                                                               | 0/530 [02:17<?, ?it/s]\u001b[A\n",
      "\n",
      "  0%|▎                                                                                                                                                                      | 1/530 [00:02<20:06,  2.28s/it]\u001b[A\n",
      "  1%|█▌                                                                                                                                                                     | 5/530 [00:02<03:09,  2.76it/s]\u001b[A\n",
      "  2%|███▏                                                                                                                                                                  | 10/530 [00:02<01:22,  6.34it/s]\u001b[A\n",
      "  3%|█████                                                                                                                                                                 | 16/530 [00:02<00:44, 11.46it/s]\u001b[A\n",
      "  4%|██████▉                                                                                                                                                               | 22/530 [00:02<00:29, 17.31it/s]\u001b[A\n",
      "  5%|████████▊                                                                                                                                                             | 28/530 [00:02<00:21, 23.39it/s]\u001b[A\n",
      "  6%|██████████▎                                                                                                                                                           | 33/530 [00:02<00:18, 26.59it/s]\u001b[A\n",
      "  8%|████████████▌                                                                                                                                                         | 40/530 [00:03<00:14, 34.20it/s]\u001b[A\n",
      "  9%|██████████████▋                                                                                                                                                       | 47/530 [00:03<00:11, 40.86it/s]\u001b[A\n",
      " 10%|████████████████▉                                                                                                                                                     | 54/530 [00:03<00:20, 22.97it/s]\u001b[A\n",
      " 11%|██████████████████▍                                                                                                                                                   | 59/530 [00:03<00:17, 26.62it/s]\u001b[A\n",
      " 12%|████████████████████                                                                                                                                                  | 64/530 [00:03<00:15, 29.44it/s]\u001b[A\n",
      " 13%|█████████████████████▉                                                                                                                                                | 70/530 [00:04<00:13, 34.83it/s]\u001b[A\n",
      " 14%|███████████████████████▊                                                                                                                                              | 76/530 [00:04<00:11, 39.79it/s]\u001b[A\n",
      " 15%|█████████████████████████▋                                                                                                                                            | 82/530 [00:04<00:10, 43.81it/s]\u001b[A\n",
      " 17%|███████████████████████████▌                                                                                                                                          | 88/530 [00:04<00:10, 43.75it/s]\u001b[A\n",
      " 18%|█████████████████████████████▊                                                                                                                                        | 95/530 [00:04<00:08, 48.49it/s]\u001b[A\n",
      " 19%|███████████████████████████████▊                                                                                                                                     | 102/530 [00:04<00:08, 52.67it/s]\u001b[A\n",
      " 20%|█████████████████████████████████▌                                                                                                                                   | 108/530 [00:05<00:17, 24.29it/s]\u001b[A\n",
      " 22%|███████████████████████████████████▍                                                                                                                                 | 114/530 [00:05<00:14, 28.99it/s]\u001b[A\n",
      " 22%|█████████████████████████████████████                                                                                                                                | 119/530 [00:05<00:12, 32.21it/s]\u001b[A\n",
      " 24%|██████████████████████████████████████▉                                                                                                                              | 125/530 [00:05<00:10, 37.24it/s]\u001b[A\n",
      " 25%|████████████████████████████████████████▊                                                                                                                            | 131/530 [00:05<00:09, 41.63it/s]\u001b[A\n",
      " 26%|██████████████████████████████████████████▋                                                                                                                          | 137/530 [00:05<00:08, 44.91it/s]\u001b[A\n",
      " 27%|████████████████████████████████████████████▌                                                                                                                        | 143/530 [00:05<00:08, 44.93it/s]\u001b[A\n",
      " 28%|██████████████████████████████████████████████▋                                                                                                                      | 150/530 [00:05<00:07, 49.70it/s]\u001b[A\n",
      " 30%|████████████████████████████████████████████████▉                                                                                                                    | 157/530 [00:06<00:07, 53.06it/s]\u001b[A\n",
      " 31%|██████████████████████████████████████████████████▋                                                                                                                  | 163/530 [00:06<00:15, 24.42it/s]\u001b[A\n",
      " 32%|████████████████████████████████████████████████████▎                                                                                                                | 168/530 [00:06<00:13, 27.01it/s]\u001b[A\n",
      " 33%|██████████████████████████████████████████████████████▏                                                                                                              | 174/530 [00:06<00:11, 32.32it/s]\u001b[A\n",
      " 34%|████████████████████████████████████████████████████████                                                                                                             | 180/530 [00:07<00:09, 37.34it/s]\u001b[A\n",
      " 35%|█████████████████████████████████████████████████████████▉                                                                                                           | 186/530 [00:07<00:08, 41.43it/s]\u001b[A\n",
      " 36%|███████████████████████████████████████████████████████████▊                                                                                                         | 192/530 [00:07<00:08, 41.18it/s]\u001b[A\n",
      " 38%|█████████████████████████████████████████████████████████████▉                                                                                                       | 199/530 [00:07<00:07, 46.65it/s]\u001b[A\n",
      " 39%|████████████████████████████████████████████████████████████████▏                                                                                                    | 206/530 [00:07<00:06, 50.81it/s]\u001b[A\n",
      " 40%|██████████████████████████████████████████████████████████████████▎                                                                                                  | 213/530 [00:08<00:12, 26.19it/s]\u001b[A\n",
      " 41%|███████████████████████████████████████████████████████████████████▊                                                                                                 | 218/530 [00:08<00:10, 29.13it/s]\u001b[A\n",
      " 42%|█████████████████████████████████████████████████████████████████████▍                                                                                               | 223/530 [00:08<00:09, 32.07it/s]\u001b[A\n"
     ]
    },
    {
     "name": "stderr",
     "output_type": "stream",
     "text": [
      " 43%|███████████████████████████████████████████████████████████████████████▎                                                                                             | 229/530 [00:08<00:08, 37.29it/s]\u001b[A\n",
      " 44%|█████████████████████████████████████████████████████████████████████████▏                                                                                           | 235/530 [00:08<00:07, 41.53it/s]\u001b[A\n",
      " 45%|███████████████████████████████████████████████████████████████████████████                                                                                          | 241/530 [00:08<00:06, 45.03it/s]\u001b[A\n",
      " 47%|████████████████████████████████████████████████████████████████████████████▉                                                                                        | 247/530 [00:08<00:06, 44.63it/s]\u001b[A\n",
      " 48%|███████████████████████████████████████████████████████████████████████████████                                                                                      | 254/530 [00:08<00:05, 49.28it/s]\u001b[A\n",
      " 49%|█████████████████████████████████████████████████████████████████████████████████▎                                                                                   | 261/530 [00:08<00:05, 53.01it/s]\u001b[A\n",
      " 50%|███████████████████████████████████████████████████████████████████████████████████                                                                                  | 267/530 [00:09<00:10, 25.28it/s]\u001b[A\n",
      " 51%|████████████████████████████████████████████████████████████████████████████████████▋                                                                                | 272/530 [00:09<00:08, 28.73it/s]\u001b[A\n",
      " 52%|██████████████████████████████████████████████████████████████████████████████████████▌                                                                              | 278/530 [00:09<00:07, 33.31it/s]\u001b[A\n",
      " 54%|████████████████████████████████████████████████████████████████████████████████████████▍                                                                            | 284/530 [00:09<00:06, 38.12it/s]\u001b[A\n",
      " 55%|██████████████████████████████████████████████████████████████████████████████████████████▎                                                                          | 290/530 [00:09<00:05, 42.37it/s]\u001b[A\n",
      " 56%|████████████████████████████████████████████████████████████████████████████████████████████▏                                                                        | 296/530 [00:10<00:05, 45.97it/s]\u001b[A\n",
      " 57%|██████████████████████████████████████████████████████████████████████████████████████████████                                                                       | 302/530 [00:10<00:05, 45.53it/s]\u001b[A\n",
      " 58%|████████████████████████████████████████████████████████████████████████████████████████████████▏                                                                    | 309/530 [00:10<00:04, 50.06it/s]\u001b[A\n",
      " 60%|██████████████████████████████████████████████████████████████████████████████████████████████████▍                                                                  | 316/530 [00:10<00:04, 53.45it/s]\u001b[A\n",
      " 61%|████████████████████████████████████████████████████████████████████████████████████████████████████▏                                                                | 322/530 [00:11<00:08, 23.65it/s]\u001b[A\n",
      " 62%|█████████████████████████████████████████████████████████████████████████████████████████████████████▊                                                               | 327/530 [00:11<00:07, 26.51it/s]\u001b[A\n",
      " 63%|███████████████████████████████████████████████████████████████████████████████████████████████████████▋                                                             | 333/530 [00:11<00:06, 31.20it/s]\u001b[A\n",
      " 64%|█████████████████████████████████████████████████████████████████████████████████████████████████████████▌                                                           | 339/530 [00:11<00:05, 36.32it/s]\u001b[A\n",
      " 65%|███████████████████████████████████████████████████████████████████████████████████████████████████████████▍                                                         | 345/530 [00:11<00:04, 40.61it/s]\u001b[A\n",
      " 66%|█████████████████████████████████████████████████████████████████████████████████████████████████████████████▎                                                       | 351/530 [00:11<00:04, 40.87it/s]\u001b[A\n",
      " 68%|███████████████████████████████████████████████████████████████████████████████████████████████████████████████▍                                                     | 358/530 [00:11<00:03, 46.17it/s]\u001b[A\n",
      " 69%|█████████████████████████████████████████████████████████████████████████████████████████████████████████████████▋                                                   | 365/530 [00:11<00:03, 50.48it/s]\u001b[A\n",
      " 70%|███████████████████████████████████████████████████████████████████████████████████████████████████████████████████▊                                                 | 372/530 [00:12<00:06, 25.70it/s]\u001b[A\n",
      " 71%|█████████████████████████████████████████████████████████████████████████████████████████████████████████████████████▎                                               | 377/530 [00:12<00:05, 28.77it/s]\u001b[A\n",
      " 72%|██████████████████████████████████████████████████████████████████████████████████████████████████████████████████████▉                                              | 382/530 [00:12<00:04, 31.73it/s]\u001b[A\n",
      " 73%|████████████████████████████████████████████████████████████████████████████████████████████████████████████████████████▊                                            | 388/530 [00:12<00:03, 36.75it/s]\u001b[A\n",
      " 74%|██████████████████████████████████████████████████████████████████████████████████████████████████████████████████████████▋                                          | 394/530 [00:12<00:03, 41.21it/s]\u001b[A\n",
      " 75%|████████████████████████████████████████████████████████████████████████████████████████████████████████████████████████████▌                                        | 400/530 [00:12<00:02, 44.80it/s]\u001b[A\n",
      " 77%|██████████████████████████████████████████████████████████████████████████████████████████████████████████████████████████████▍                                      | 406/530 [00:13<00:02, 44.53it/s]\u001b[A\n",
      " 78%|████████████████████████████████████████████████████████████████████████████████████████████████████████████████████████████████▎                                    | 412/530 [00:13<00:02, 47.87it/s]\u001b[A\n",
      " 79%|██████████████████████████████████████████████████████████████████████████████████████████████████████████████████████████████████▍                                  | 419/530 [00:13<00:02, 52.07it/s]\u001b[A\n",
      " 80%|████████████████████████████████████████████████████████████████████████████████████████████████████████████████████████████████████▎                                | 425/530 [00:13<00:04, 23.19it/s]\u001b[A\n",
      " 81%|██████████████████████████████████████████████████████████████████████████████████████████████████████████████████████████████████████▏                              | 431/530 [00:13<00:03, 27.90it/s]\u001b[A\n",
      " 82%|███████████████████████████████████████████████████████████████████████████████████████████████████████████████████████████████████████▋                             | 436/530 [00:14<00:02, 31.48it/s]\u001b[A\n",
      " 83%|█████████████████████████████████████████████████████████████████████████████████████████████████████████████████████████████████████████▌                           | 442/530 [00:14<00:02, 36.69it/s]\u001b[A\n",
      " 85%|███████████████████████████████████████████████████████████████████████████████████████████████████████████████████████████████████████████▍                         | 448/530 [00:14<00:02, 40.86it/s]\u001b[A\n",
      " 86%|█████████████████████████████████████████████████████████████████████████████████████████████████████████████████████████████████████████████▎                       | 454/530 [00:14<00:01, 44.42it/s]\u001b[A\n",
      " 87%|███████████████████████████████████████████████████████████████████████████████████████████████████████████████████████████████████████████████▏                     | 460/530 [00:14<00:01, 43.94it/s]\u001b[A\n"
     ]
    },
    {
     "name": "stderr",
     "output_type": "stream",
     "text": [
      " 88%|█████████████████████████████████████████████████████████████████████████████████████████████████████████████████████████████████████████████████▍                   | 467/530 [00:14<00:01, 48.62it/s]\u001b[A\n",
      " 89%|███████████████████████████████████████████████████████████████████████████████████████████████████████████████████████████████████████████████████▌                 | 474/530 [00:14<00:01, 52.34it/s]\u001b[A\n",
      " 91%|█████████████████████████████████████████████████████████████████████████████████████████████████████████████████████████████████████████████████████▍               | 480/530 [00:15<00:02, 23.94it/s]\u001b[A\n",
      " 92%|███████████████████████████████████████████████████████████████████████████████████████████████████████████████████████████████████████████████████████▎             | 486/530 [00:15<00:01, 28.49it/s]\u001b[A\n",
      " 93%|█████████████████████████████████████████████████████████████████████████████████████████████████████████████████████████████████████████████████████████▏           | 492/530 [00:15<00:01, 33.45it/s]\u001b[A\n",
      " 94%|███████████████████████████████████████████████████████████████████████████████████████████████████████████████████████████████████████████████████████████          | 498/530 [00:15<00:00, 38.17it/s]\u001b[A\n",
      " 95%|████████████████████████████████████████████████████████████████████████████████████████████████████████████████████████████████████████████████████████████▉        | 504/530 [00:15<00:00, 41.95it/s]\u001b[A\n",
      " 96%|██████████████████████████████████████████████████████████████████████████████████████████████████████████████████████████████████████████████████████████████▊      | 510/530 [00:15<00:00, 41.88it/s]\u001b[A\n",
      " 98%|████████████████████████████████████████████████████████████████████████████████████████████████████████████████████████████████████████████████████████████████▉    | 517/530 [00:16<00:00, 47.25it/s]\u001b[A\n",
      " 99%|███████████████████████████████████████████████████████████████████████████████████████████████████████████████████████████████████████████████████████████████████▏ | 524/530 [00:16<00:00, 51.32it/s]\u001b[A\n",
      "100%|█████████████████████████████████████████████████████████████████████████████████████████████████████████████████████████████████████████████████████████████████████| 530/530 [00:32<00:00, 51.32it/s]\u001b[A"
     ]
    }
   ],
   "source": [
    "from tqdm import tqdm  # For progress bars\n",
    "\n",
    "progress_bar = tqdm(range(EPOCHS * len(dataloader['train'])))\n",
    "running_loss = []\n",
    "for epoch in range(EPOCHS):\n",
    "    epoch_loss = 0\n",
    "    for center, context in dataloader['train']:\n",
    "        center, context = center.to(device), context.to(device)\n",
    "        optimizer.zero_grad()\n",
    "        logits = model(input_=context)\n",
    "        loss = loss_fn(logits, center)\n",
    "        epoch_loss += loss.item()\n",
    "        loss.backward()\n",
    "        optimizer.step()\n",
    "        progress_bar.update(1)\n",
    "    epoch_loss /= len(dataloader['train'])\n",
    "    running_loss.append(epoch_loss)"
   ]
  },
  {
   "cell_type": "code",
   "execution_count": 25,
   "id": "eade8d81",
   "metadata": {},
   "outputs": [
    {
     "data": {
      "text/plain": [
       "[<matplotlib.lines.Line2D at 0x7f6263868e80>]"
      ]
     },
     "execution_count": 25,
     "metadata": {},
     "output_type": "execute_result"
    },
    {
     "data": {
      "image/png": "[encoded data removed]",
      "text/plain": [
       "<Figure size 432x288 with 1 Axes>"
      ]
     },
     "metadata": {
      "needs_background": "light"
     },
     "output_type": "display_data"
    }
   ],
   "source": [
    "import matplotlib.pyplot as plt\n",
    "plt.plot(running_loss)"
   ]
  },
  {
   "cell_type": "code",
   "execution_count": 26,
   "id": "df38d1db",
   "metadata": {},
   "outputs": [],
   "source": [
    "wordvecs = model.expand.weight.cpu().detach().numpy()\n",
    "tokens = ['good', 'father', 'school', 'hate']"
   ]
  },
  {
   "cell_type": "code",
   "execution_count": 27,
   "id": "6520812f",
   "metadata": {},
   "outputs": [
    {
     "name": "stdout",
     "output_type": "stream",
     "text": [
      "good ['year', 'anoth', 'last', 'sta', 'hope', 'way', 'follow', 'everi', 'watch', 'today'] \n",
      "\n",
      "father ['dad', 'day', 'happi', '#fathersday', 'dont', 'everi', 'beauti', 'make', 'hope', 'cant'] \n",
      "\n",
      "school ['great', 'today', 'look', 'get', 'one', 'day', 'tomorrow', 'show', 'work', 'let'] \n",
      "\n",
      "hate ['peopl', 'mani', '@user', 'im', 'much', 'dont', 'sta', 'white', 'world', 'hea'] \n",
      "\n"
     ]
    }
   ],
   "source": [
    "from scipy.spatial import distance\n",
    "import numpy as np\n",
    "\n",
    "def get_distance_matrix(wordvecs, metric):\n",
    "    dist_matrix = distance.squareform(distance.pdist(wordvecs, metric))\n",
    "    return dist_matrix\n",
    "\n",
    "def get_k_similar_words(word, dist_matrix, k=10):\n",
    "    idx = tok2id[word]\n",
    "    dists = dist_matrix[idx]\n",
    "    ind = np.argpartition(dists, k)[:k+1]\n",
    "    ind = ind[np.argsort(dists[ind])][1:]\n",
    "    out = [(i, id2tok[i], dists[i]) for i in ind]\n",
    "    return out\n",
    "\n",
    "dmat = get_distance_matrix(wordvecs, 'cosine')\n",
    "for word in tokens:\n",
    "    print(word, [t[1] for t in get_k_similar_words(word, dmat)], \"\\n\")"
   ]
  },
  {
   "cell_type": "code",
   "execution_count": 29,
   "id": "3981d813",
   "metadata": {
    "scrolled": true
   },
   "outputs": [
    {
     "name": "stderr",
     "output_type": "stream",
     "text": [
      "\n",
      "  0%|                                                                                                                                                                              | 0/4770 [00:07<?, ?it/s]\u001b[A\n",
      "\n",
      "  0%|                                                                                                                                                                      | 1/4770 [00:00<34:04,  2.33it/s]\u001b[A\n",
      "  0%|▏                                                                                                                                                                     | 5/4770 [00:00<07:03, 11.24it/s]\u001b[A\n",
      "  0%|▍                                                                                                                                                                    | 11/4770 [00:00<03:29, 22.68it/s]\u001b[A\n",
      "  0%|▌                                                                                                                                                                    | 17/4770 [00:00<02:30, 31.56it/s]\u001b[A\n",
      "  0%|▊                                                                                                                                                                    | 23/4770 [00:00<02:03, 38.45it/s]\u001b[A\n",
      "  1%|█                                                                                                                                                                    | 29/4770 [00:00<01:48, 43.56it/s]\u001b[A\n",
      "  1%|█▏                                                                                                                                                                   | 35/4770 [00:01<01:49, 43.40it/s]\u001b[A\n",
      "  1%|█▍                                                                                                                                                                   | 41/4770 [00:01<01:39, 47.71it/s]\u001b[A\n",
      "  1%|█▋                                                                                                                                                                   | 48/4770 [00:01<01:30, 52.11it/s]\u001b[A\n",
      "  1%|█▊                                                                                                                                                                   | 54/4770 [00:01<03:26, 22.80it/s]\u001b[A\n",
      "  1%|██                                                                                                                                                                   | 60/4770 [00:02<02:49, 27.79it/s]\u001b[A\n",
      "  1%|██▎                                                                                                                                                                  | 66/4770 [00:02<02:25, 32.31it/s]\u001b[A\n",
      "  2%|██▍                                                                                                                                                                  | 72/4770 [00:02<02:05, 37.35it/s]\u001b[A\n",
      "  2%|██▋                                                                                                                                                                  | 78/4770 [00:02<01:53, 41.50it/s]\u001b[A\n",
      "  2%|██▉                                                                                                                                                                  | 84/4770 [00:02<01:44, 44.91it/s]\u001b[A\n",
      "  2%|███                                                                                                                                                                  | 90/4770 [00:02<01:44, 44.77it/s]\u001b[A\n",
      "  2%|███▎                                                                                                                                                                 | 97/4770 [00:02<01:34, 49.45it/s]\u001b[A\n",
      "  2%|███▌                                                                                                                                                                | 104/4770 [00:02<01:28, 52.90it/s]\u001b[A\n",
      "  2%|███▊                                                                                                                                                                | 110/4770 [00:03<03:10, 24.44it/s]\u001b[A\n",
      "  2%|███▉                                                                                                                                                                | 116/4770 [00:03<02:50, 27.28it/s]\u001b[A\n",
      "  3%|████▏                                                                                                                                                               | 122/4770 [00:03<02:24, 32.08it/s]\u001b[A\n",
      "  3%|████▍                                                                                                                                                               | 128/4770 [00:03<02:05, 36.89it/s]\u001b[A\n",
      "  3%|████▌                                                                                                                                                               | 134/4770 [00:03<01:53, 40.78it/s]\u001b[A\n",
      "  3%|████▊                                                                                                                                                               | 140/4770 [00:04<01:52, 41.18it/s]\u001b[A\n",
      "  3%|█████                                                                                                                                                               | 147/4770 [00:04<01:39, 46.24it/s]\u001b[A\n",
      "  3%|█████▎                                                                                                                                                              | 154/4770 [00:04<01:31, 50.49it/s]\u001b[A\n",
      "  3%|█████▌                                                                                                                                                              | 160/4770 [00:04<03:09, 24.26it/s]\u001b[A\n",
      "  3%|█████▋                                                                                                                                                              | 166/4770 [00:04<02:40, 28.61it/s]\u001b[A\n",
      "  4%|█████▉                                                                                                                                                              | 172/4770 [00:05<02:17, 33.44it/s]\u001b[A\n",
      "  4%|██████                                                                                                                                                              | 178/4770 [00:05<02:00, 38.21it/s]\u001b[A\n",
      "  4%|██████▎                                                                                                                                                             | 184/4770 [00:05<01:50, 41.68it/s]\u001b[A\n",
      "  4%|██████▌                                                                                                                                                             | 190/4770 [00:05<01:41, 45.06it/s]\u001b[A\n",
      "  4%|██████▋                                                                                                                                                             | 196/4770 [00:05<01:42, 44.54it/s]\u001b[A\n",
      "  4%|██████▉                                                                                                                                                             | 203/4770 [00:05<01:32, 49.32it/s]\u001b[A\n",
      "  4%|███████▏                                                                                                                                                            | 210/4770 [00:05<01:26, 52.69it/s]\u001b[A\n",
      "  5%|███████▍                                                                                                                                                            | 216/4770 [00:06<03:09, 23.98it/s]\u001b[A\n",
      "  5%|███████▌                                                                                                                                                            | 221/4770 [00:06<02:47, 27.18it/s]\u001b[A\n",
      "  5%|███████▊                                                                                                                                                            | 226/4770 [00:06<02:28, 30.66it/s]\u001b[A\n"
     ]
    },
    {
     "name": "stderr",
     "output_type": "stream",
     "text": [
      "  5%|███████▉                                                                                                                                                            | 232/4770 [00:06<02:06, 36.01it/s]\u001b[A\n",
      "  5%|████████▏                                                                                                                                                           | 238/4770 [00:06<01:51, 40.48it/s]\u001b[A\n",
      "  5%|████████▍                                                                                                                                                           | 244/4770 [00:06<01:42, 44.36it/s]\u001b[A\n",
      "  5%|████████▌                                                                                                                                                           | 250/4770 [00:07<01:42, 44.23it/s]\u001b[A\n",
      "  5%|████████▊                                                                                                                                                           | 257/4770 [00:07<01:31, 49.10it/s]\u001b[A\n",
      "  6%|█████████                                                                                                                                                           | 264/4770 [00:07<01:25, 52.82it/s]\u001b[A\n",
      "  6%|█████████▎                                                                                                                                                          | 270/4770 [00:07<03:03, 24.56it/s]\u001b[A\n",
      "  6%|█████████▍                                                                                                                                                          | 275/4770 [00:07<02:41, 27.77it/s]\u001b[A\n",
      "  6%|█████████▋                                                                                                                                                          | 281/4770 [00:08<02:15, 33.08it/s]\u001b[A\n",
      "  6%|█████████▊                                                                                                                                                          | 287/4770 [00:08<01:58, 37.93it/s]\u001b[A\n",
      "  6%|██████████                                                                                                                                                          | 293/4770 [00:08<01:46, 42.03it/s]\u001b[A\n",
      "  6%|██████████▎                                                                                                                                                         | 299/4770 [00:08<01:45, 42.43it/s]\u001b[A\n",
      "  6%|██████████▌                                                                                                                                                         | 306/4770 [00:08<01:33, 47.56it/s]\u001b[A\n",
      "  7%|██████████▊                                                                                                                                                         | 313/4770 [00:08<01:26, 51.56it/s]\u001b[A\n",
      "  7%|██████████▉                                                                                                                                                         | 319/4770 [00:09<02:54, 25.48it/s]\u001b[A\n",
      "  7%|███████████▏                                                                                                                                                        | 324/4770 [00:09<02:36, 28.34it/s]\u001b[A\n",
      "  7%|███████████▎                                                                                                                                                        | 329/4770 [00:09<02:20, 31.53it/s]\u001b[A\n",
      "  7%|███████████▌                                                                                                                                                        | 335/4770 [00:09<02:00, 36.76it/s]\u001b[A\n",
      "  7%|███████████▋                                                                                                                                                        | 341/4770 [00:09<01:47, 41.07it/s]\u001b[A\n",
      "  7%|███████████▉                                                                                                                                                        | 347/4770 [00:09<01:38, 44.78it/s]\u001b[A\n",
      "  7%|████████████▏                                                                                                                                                       | 353/4770 [00:09<01:38, 44.76it/s]\u001b[A\n",
      "  8%|████████████▍                                                                                                                                                       | 360/4770 [00:09<01:28, 49.67it/s]\u001b[A\n",
      "  8%|████████████▌                                                                                                                                                       | 367/4770 [00:10<01:22, 53.17it/s]\u001b[A\n",
      "  8%|████████████▊                                                                                                                                                       | 373/4770 [00:10<02:50, 25.72it/s]\u001b[A\n",
      "  8%|████████████▉                                                                                                                                                       | 378/4770 [00:10<02:31, 28.96it/s]\u001b[A\n",
      "  8%|█████████████▏                                                                                                                                                      | 383/4770 [00:10<02:18, 31.74it/s]\u001b[A\n",
      "  8%|█████████████▎                                                                                                                                                      | 389/4770 [00:10<01:58, 36.86it/s]\u001b[A\n",
      "  8%|█████████████▌                                                                                                                                                      | 395/4770 [00:11<01:46, 41.17it/s]\u001b[A\n",
      "  8%|█████████████▊                                                                                                                                                      | 401/4770 [00:11<01:37, 44.89it/s]\u001b[A\n",
      "  9%|█████████████▉                                                                                                                                                      | 407/4770 [00:11<01:37, 44.68it/s]\u001b[A\n",
      "  9%|██████████████▏                                                                                                                                                     | 414/4770 [00:11<01:28, 49.01it/s]\u001b[A\n",
      "  9%|██████████████▍                                                                                                                                                     | 421/4770 [00:11<01:22, 52.72it/s]\u001b[A\n",
      "  9%|██████████████▋                                                                                                                                                     | 427/4770 [00:12<02:59, 24.18it/s]\u001b[A\n",
      "  9%|██████████████▊                                                                                                                                                     | 432/4770 [00:12<02:40, 27.04it/s]\u001b[A\n",
      "  9%|███████████████                                                                                                                                                     | 438/4770 [00:12<02:15, 32.04it/s]\u001b[A\n",
      "  9%|███████████████▎                                                                                                                                                    | 444/4770 [00:12<01:57, 36.92it/s]\u001b[A\n",
      "  9%|███████████████▍                                                                                                                                                    | 450/4770 [00:12<01:45, 41.13it/s]\u001b[A\n",
      " 10%|███████████████▋                                                                                                                                                    | 456/4770 [00:12<01:36, 44.62it/s]\u001b[A\n",
      " 10%|███████████████▉                                                                                                                                                    | 462/4770 [00:12<01:36, 44.52it/s]\u001b[A\n"
     ]
    },
    {
     "name": "stderr",
     "output_type": "stream",
     "text": [
      " 10%|████████████████                                                                                                                                                    | 469/4770 [00:12<01:27, 49.30it/s]\u001b[A\n",
      " 10%|████████████████▎                                                                                                                                                   | 476/4770 [00:12<01:20, 53.13it/s]\u001b[A\n",
      " 10%|████████████████▌                                                                                                                                                   | 482/4770 [00:13<02:53, 24.67it/s]\u001b[A\n",
      " 10%|████████████████▋                                                                                                                                                   | 487/4770 [00:13<02:34, 27.76it/s]\u001b[A\n",
      " 10%|████████████████▉                                                                                                                                                   | 493/4770 [00:13<02:09, 32.96it/s]\u001b[A\n",
      " 10%|█████████████████▏                                                                                                                                                  | 499/4770 [00:13<01:52, 37.83it/s]\u001b[A\n",
      " 11%|█████████████████▎                                                                                                                                                  | 505/4770 [00:13<01:41, 42.02it/s]\u001b[A\n",
      " 11%|█████████████████▌                                                                                                                                                  | 511/4770 [00:14<01:40, 42.33it/s]\u001b[A\n",
      " 11%|█████████████████▊                                                                                                                                                  | 518/4770 [00:14<01:29, 47.62it/s]\u001b[A\n",
      " 11%|██████████████████                                                                                                                                                  | 525/4770 [00:14<01:22, 51.18it/s]\u001b[A\n",
      " 11%|██████████████████▎                                                                                                                                                 | 531/4770 [00:14<02:55, 24.09it/s]\u001b[A\n",
      " 11%|██████████████████▍                                                                                                                                                 | 536/4770 [00:15<02:35, 27.23it/s]\u001b[A\n",
      " 11%|██████████████████▋                                                                                                                                                 | 542/4770 [00:15<02:12, 31.85it/s]\u001b[A\n",
      " 11%|██████████████████▊                                                                                                                                                 | 548/4770 [00:15<01:54, 36.91it/s]\u001b[A\n",
      " 12%|███████████████████                                                                                                                                                 | 554/4770 [00:15<01:42, 40.97it/s]\u001b[A\n",
      " 12%|███████████████████▎                                                                                                                                                | 560/4770 [00:15<01:34, 44.62it/s]\u001b[A\n",
      " 12%|███████████████████▍                                                                                                                                                | 566/4770 [00:15<01:33, 45.07it/s]\u001b[A\n",
      " 12%|███████████████████▋                                                                                                                                                | 573/4770 [00:15<01:24, 49.46it/s]\u001b[A\n",
      " 12%|███████████████████▉                                                                                                                                                | 580/4770 [00:15<01:19, 52.89it/s]\u001b[A\n",
      " 12%|████████████████████▏                                                                                                                                               | 586/4770 [00:16<02:57, 23.52it/s]\u001b[A\n",
      " 12%|████████████████████▎                                                                                                                                               | 591/4770 [00:16<02:35, 26.95it/s]\u001b[A\n",
      " 12%|████████████████████▍                                                                                                                                               | 596/4770 [00:16<02:17, 30.44it/s]\u001b[A\n",
      " 13%|████████████████████▋                                                                                                                                               | 602/4770 [00:16<01:56, 35.72it/s]\u001b[A\n",
      " 13%|████████████████████▉                                                                                                                                               | 608/4770 [00:16<01:42, 40.57it/s]\u001b[A\n",
      " 13%|█████████████████████                                                                                                                                               | 614/4770 [00:16<01:33, 44.33it/s]\u001b[A\n",
      " 13%|█████████████████████▎                                                                                                                                              | 620/4770 [00:17<01:33, 44.39it/s]\u001b[A\n",
      " 13%|█████████████████████▌                                                                                                                                              | 627/4770 [00:17<01:24, 49.27it/s]\u001b[A\n",
      " 13%|█████████████████████▊                                                                                                                                              | 634/4770 [00:17<01:18, 52.82it/s]\u001b[A\n",
      " 13%|██████████████████████                                                                                                                                              | 640/4770 [00:17<02:51, 24.09it/s]\u001b[A\n",
      " 14%|██████████████████████▏                                                                                                                                             | 645/4770 [00:18<02:30, 27.35it/s]\u001b[A\n",
      " 14%|██████████████████████▍                                                                                                                                             | 651/4770 [00:18<02:06, 32.46it/s]\u001b[A\n",
      " 14%|██████████████████████▌                                                                                                                                             | 657/4770 [00:18<01:50, 37.34it/s]\u001b[A\n",
      " 14%|██████████████████████▊                                                                                                                                             | 663/4770 [00:18<01:39, 41.46it/s]\u001b[A\n",
      " 14%|███████████████████████                                                                                                                                             | 669/4770 [00:18<01:38, 41.66it/s]\u001b[A\n",
      " 14%|███████████████████████▏                                                                                                                                            | 676/4770 [00:18<01:27, 47.03it/s]\u001b[A\n",
      " 14%|███████████████████████▍                                                                                                                                            | 683/4770 [00:18<01:19, 51.25it/s]\u001b[A\n",
      " 14%|███████████████████████▋                                                                                                                                            | 690/4770 [00:19<02:48, 24.28it/s]\u001b[A\n",
      " 15%|███████████████████████▉                                                                                                                                            | 696/4770 [00:19<02:21, 28.78it/s]\u001b[A\n",
      " 15%|████████████████████████▏                                                                                                                                           | 702/4770 [00:19<02:01, 33.37it/s]\u001b[A\n"
     ]
    },
    {
     "name": "stderr",
     "output_type": "stream",
     "text": [
      " 15%|████████████████████████▎                                                                                                                                           | 708/4770 [00:19<01:46, 38.05it/s]\u001b[A\n",
      " 15%|████████████████████████▌                                                                                                                                           | 714/4770 [00:19<01:36, 42.08it/s]\u001b[A\n",
      " 15%|████████████████████████▊                                                                                                                                           | 720/4770 [00:19<01:28, 45.60it/s]\u001b[A\n",
      " 15%|████████████████████████▉                                                                                                                                           | 726/4770 [00:19<01:28, 45.83it/s]\u001b[A\n",
      " 15%|█████████████████████████▏                                                                                                                                          | 733/4770 [00:20<01:20, 50.09it/s]\u001b[A\n",
      " 16%|█████████████████████████▍                                                                                                                                          | 740/4770 [00:20<01:15, 53.42it/s]\u001b[A\n",
      " 16%|█████████████████████████▋                                                                                                                                          | 746/4770 [00:20<02:47, 24.08it/s]\u001b[A\n",
      " 16%|█████████████████████████▊                                                                                                                                          | 752/4770 [00:20<02:20, 28.69it/s]\u001b[A\n",
      " 16%|██████████████████████████                                                                                                                                          | 758/4770 [00:21<01:59, 33.70it/s]\u001b[A\n",
      " 16%|██████████████████████████▎                                                                                                                                         | 764/4770 [00:21<01:45, 38.13it/s]\u001b[A\n",
      " 16%|██████████████████████████▍                                                                                                                                         | 770/4770 [00:21<01:34, 42.24it/s]\u001b[A\n",
      " 16%|██████████████████████████▋                                                                                                                                         | 776/4770 [00:21<01:33, 42.82it/s]\u001b[A\n",
      " 16%|██████████████████████████▉                                                                                                                                         | 783/4770 [00:21<01:23, 47.71it/s]\u001b[A\n",
      " 17%|███████████████████████████▏                                                                                                                                        | 790/4770 [00:21<01:17, 51.48it/s]\u001b[A\n",
      " 17%|███████████████████████████▎                                                                                                                                        | 796/4770 [00:22<02:40, 24.77it/s]\u001b[A\n",
      " 17%|███████████████████████████▌                                                                                                                                        | 801/4770 [00:22<02:20, 28.28it/s]\u001b[A\n",
      " 17%|███████████████████████████▋                                                                                                                                        | 806/4770 [00:22<02:04, 31.91it/s]\u001b[A\n",
      " 17%|███████████████████████████▉                                                                                                                                        | 812/4770 [00:22<01:46, 37.27it/s]\u001b[A\n",
      " 17%|████████████████████████████                                                                                                                                        | 818/4770 [00:22<01:35, 41.46it/s]\u001b[A\n",
      " 17%|████████████████████████████▎                                                                                                                                       | 824/4770 [00:22<01:27, 45.17it/s]\u001b[A\n",
      " 17%|████████████████████████████▌                                                                                                                                       | 830/4770 [00:22<01:27, 44.88it/s]\u001b[A\n",
      " 18%|████████████████████████████▊                                                                                                                                       | 837/4770 [00:22<01:19, 49.36it/s]\u001b[A\n",
      " 18%|█████████████████████████████                                                                                                                                       | 844/4770 [00:23<01:14, 52.93it/s]\u001b[A\n",
      " 18%|█████████████████████████████▏                                                                                                                                      | 850/4770 [00:23<02:42, 24.11it/s]\u001b[A\n",
      " 18%|█████████████████████████████▍                                                                                                                                      | 855/4770 [00:23<02:22, 27.45it/s]\u001b[A\n",
      " 18%|█████████████████████████████▌                                                                                                                                      | 860/4770 [00:23<02:06, 30.98it/s]\u001b[A\n",
      " 18%|█████████████████████████████▊                                                                                                                                      | 866/4770 [00:23<01:47, 36.36it/s]\u001b[A\n",
      " 18%|█████████████████████████████▉                                                                                                                                      | 872/4770 [00:24<01:36, 40.53it/s]\u001b[A\n",
      " 18%|██████████████████████████████▏                                                                                                                                     | 878/4770 [00:24<01:28, 44.11it/s]\u001b[A\n",
      " 19%|██████████████████████████████▍                                                                                                                                     | 884/4770 [00:24<01:27, 44.27it/s]\u001b[A\n",
      " 19%|██████████████████████████████▋                                                                                                                                     | 891/4770 [00:24<01:19, 48.74it/s]\u001b[A\n",
      " 19%|██████████████████████████████▊                                                                                                                                     | 898/4770 [00:24<01:14, 52.26it/s]\u001b[A\n",
      " 19%|███████████████████████████████                                                                                                                                     | 904/4770 [00:25<02:32, 25.30it/s]\u001b[A\n",
      " 19%|███████████████████████████████▎                                                                                                                                    | 909/4770 [00:25<02:15, 28.46it/s]\u001b[A\n",
      " 19%|███████████████████████████████▍                                                                                                                                    | 915/4770 [00:25<01:56, 33.06it/s]\u001b[A\n",
      " 19%|███████████████████████████████▋                                                                                                                                    | 921/4770 [00:25<01:41, 37.91it/s]\u001b[A\n",
      " 19%|███████████████████████████████▊                                                                                                                                    | 927/4770 [00:25<01:31, 42.07it/s]\u001b[A\n",
      " 20%|████████████████████████████████                                                                                                                                    | 933/4770 [00:25<01:24, 45.47it/s]\u001b[A\n",
      " 20%|████████████████████████████████▎                                                                                                                                   | 939/4770 [00:25<01:24, 45.10it/s]\u001b[A\n"
     ]
    },
    {
     "name": "stderr",
     "output_type": "stream",
     "text": [
      " 20%|████████████████████████████████▌                                                                                                                                   | 946/4770 [00:25<01:17, 49.49it/s]\u001b[A\n",
      " 20%|████████████████████████████████▊                                                                                                                                   | 953/4770 [00:25<01:12, 52.91it/s]\u001b[A\n",
      " 20%|████████████████████████████████▉                                                                                                                                   | 959/4770 [00:26<02:33, 24.76it/s]\u001b[A\n",
      " 20%|█████████████████████████████████▏                                                                                                                                  | 965/4770 [00:26<02:09, 29.45it/s]\u001b[A\n",
      " 20%|█████████████████████████████████▍                                                                                                                                  | 971/4770 [00:26<01:50, 34.43it/s]\u001b[A\n",
      " 20%|█████████████████████████████████▌                                                                                                                                  | 977/4770 [00:26<01:37, 38.88it/s]\u001b[A\n",
      " 21%|█████████████████████████████████▊                                                                                                                                  | 983/4770 [00:26<01:28, 42.68it/s]\u001b[A\n",
      " 21%|██████████████████████████████████                                                                                                                                  | 989/4770 [00:27<01:26, 43.50it/s]\u001b[A\n",
      " 21%|██████████████████████████████████▏                                                                                                                                 | 996/4770 [00:27<01:18, 48.07it/s]\u001b[A\n",
      " 21%|██████████████████████████████████▎                                                                                                                                | 1003/4770 [00:27<01:12, 51.83it/s]\u001b[A\n",
      " 21%|██████████████████████████████████▍                                                                                                                                | 1009/4770 [00:27<02:39, 23.58it/s]\u001b[A\n",
      " 21%|██████████████████████████████████▋                                                                                                                                | 1014/4770 [00:28<02:18, 27.17it/s]\u001b[A\n",
      " 21%|██████████████████████████████████▊                                                                                                                                | 1019/4770 [00:28<02:05, 29.95it/s]\u001b[A\n",
      " 21%|███████████████████████████████████                                                                                                                                | 1025/4770 [00:28<01:46, 35.07it/s]\u001b[A\n",
      " 22%|███████████████████████████████████▏                                                                                                                               | 1031/4770 [00:28<01:34, 39.58it/s]\u001b[A\n",
      " 22%|███████████████████████████████████▍                                                                                                                               | 1037/4770 [00:28<01:26, 43.29it/s]\u001b[A\n",
      " 22%|███████████████████████████████████▋                                                                                                                               | 1043/4770 [00:28<01:26, 43.07it/s]\u001b[A\n",
      " 22%|███████████████████████████████████▊                                                                                                                               | 1049/4770 [00:28<01:19, 47.07it/s]\u001b[A\n",
      " 22%|████████████████████████████████████                                                                                                                               | 1056/4770 [00:28<01:12, 51.22it/s]\u001b[A\n",
      " 22%|████████████████████████████████████▎                                                                                                                              | 1062/4770 [00:29<02:31, 24.52it/s]\u001b[A\n",
      " 22%|████████████████████████████████████▍                                                                                                                              | 1067/4770 [00:29<02:13, 27.75it/s]\u001b[A\n",
      " 22%|████████████████████████████████████▋                                                                                                                              | 1073/4770 [00:29<01:52, 32.90it/s]\u001b[A\n",
      " 23%|████████████████████████████████████▊                                                                                                                              | 1079/4770 [00:29<01:37, 37.71it/s]\u001b[A\n",
      " 23%|█████████████████████████████████████                                                                                                                              | 1085/4770 [00:29<01:27, 42.00it/s]\u001b[A\n",
      " 23%|█████████████████████████████████████▎                                                                                                                             | 1091/4770 [00:29<01:21, 45.19it/s]\u001b[A\n",
      " 23%|█████████████████████████████████████▍                                                                                                                             | 1097/4770 [00:30<01:21, 45.10it/s]\u001b[A\n",
      " 23%|█████████████████████████████████████▋                                                                                                                             | 1104/4770 [00:30<01:14, 49.51it/s]\u001b[A\n",
      " 23%|█████████████████████████████████████▉                                                                                                                             | 1111/4770 [00:30<01:09, 52.73it/s]\u001b[A\n",
      " 23%|██████████████████████████████████████▏                                                                                                                            | 1117/4770 [00:30<02:27, 24.76it/s]\u001b[A\n",
      " 24%|██████████████████████████████████████▎                                                                                                                            | 1122/4770 [00:30<02:14, 27.16it/s]\u001b[A\n",
      " 24%|██████████████████████████████████████▌                                                                                                                            | 1128/4770 [00:31<01:52, 32.49it/s]\u001b[A\n",
      " 24%|██████████████████████████████████████▊                                                                                                                            | 1134/4770 [00:31<01:37, 37.11it/s]\u001b[A\n",
      " 24%|██████████████████████████████████████▉                                                                                                                            | 1140/4770 [00:31<01:27, 41.44it/s]\u001b[A\n",
      " 24%|███████████████████████████████████████▏                                                                                                                           | 1146/4770 [00:31<01:26, 41.69it/s]\u001b[A\n",
      " 24%|███████████████████████████████████████▍                                                                                                                           | 1153/4770 [00:31<01:17, 46.69it/s]\u001b[A\n",
      " 24%|███████████████████████████████████████▋                                                                                                                           | 1160/4770 [00:31<01:11, 50.82it/s]\u001b[A\n",
      " 24%|███████████████████████████████████████▉                                                                                                                           | 1167/4770 [00:32<02:18, 26.09it/s]\u001b[A\n",
      " 25%|████████████████████████████████████████                                                                                                                           | 1172/4770 [00:32<02:08, 27.94it/s]\u001b[A\n",
      " 25%|████████████████████████████████████████▎                                                                                                                          | 1178/4770 [00:32<01:51, 32.32it/s]\u001b[A\n"
     ]
    },
    {
     "name": "stderr",
     "output_type": "stream",
     "text": [
      " 25%|████████████████████████████████████████▍                                                                                                                          | 1184/4770 [00:32<01:36, 37.19it/s]\u001b[A\n",
      " 25%|████████████████████████████████████████▋                                                                                                                          | 1190/4770 [00:32<01:26, 41.36it/s]\u001b[A\n",
      " 25%|████████████████████████████████████████▊                                                                                                                          | 1196/4770 [00:32<01:19, 44.96it/s]\u001b[A\n",
      " 25%|█████████████████████████████████████████                                                                                                                          | 1202/4770 [00:32<01:19, 44.77it/s]\u001b[A\n",
      " 25%|█████████████████████████████████████████▎                                                                                                                         | 1209/4770 [00:33<01:12, 49.16it/s]\u001b[A\n",
      " 25%|█████████████████████████████████████████▌                                                                                                                         | 1215/4770 [00:33<01:08, 51.85it/s]\u001b[A\n",
      " 26%|█████████████████████████████████████████▋                                                                                                                         | 1221/4770 [00:33<02:39, 22.25it/s]\u001b[A\n",
      " 26%|█████████████████████████████████████████▉                                                                                                                         | 1226/4770 [00:33<02:19, 25.42it/s]\u001b[A\n",
      " 26%|██████████████████████████████████████████                                                                                                                         | 1232/4770 [00:33<01:55, 30.51it/s]\u001b[A\n",
      " 26%|██████████████████████████████████████████▎                                                                                                                        | 1238/4770 [00:34<01:39, 35.47it/s]\u001b[A\n",
      " 26%|██████████████████████████████████████████▌                                                                                                                        | 1244/4770 [00:34<01:28, 39.84it/s]\u001b[A\n",
      " 26%|██████████████████████████████████████████▋                                                                                                                        | 1250/4770 [00:34<01:20, 43.76it/s]\u001b[A\n",
      " 26%|██████████████████████████████████████████▉                                                                                                                        | 1256/4770 [00:34<01:19, 44.34it/s]\u001b[A\n",
      " 26%|███████████████████████████████████████████▏                                                                                                                       | 1263/4770 [00:34<01:11, 48.77it/s]\u001b[A\n",
      " 27%|███████████████████████████████████████████▍                                                                                                                       | 1270/4770 [00:34<01:07, 52.13it/s]\u001b[A\n",
      " 27%|███████████████████████████████████████████▌                                                                                                                       | 1276/4770 [00:35<02:23, 24.28it/s]\u001b[A\n",
      " 27%|███████████████████████████████████████████▊                                                                                                                       | 1281/4770 [00:35<02:06, 27.56it/s]\u001b[A\n",
      " 27%|███████████████████████████████████████████▉                                                                                                                       | 1287/4770 [00:35<01:46, 32.69it/s]\u001b[A\n",
      " 27%|████████████████████████████████████████████▏                                                                                                                      | 1293/4770 [00:35<01:32, 37.56it/s]\u001b[A\n",
      " 27%|████████████████████████████████████████████▍                                                                                                                      | 1299/4770 [00:35<01:23, 41.74it/s]\u001b[A\n",
      " 27%|████████████████████████████████████████████▌                                                                                                                      | 1305/4770 [00:35<01:22, 41.75it/s]\u001b[A\n",
      " 28%|████████████████████████████████████████████▊                                                                                                                      | 1312/4770 [00:35<01:13, 47.08it/s]\u001b[A\n",
      " 28%|█████████████████████████████████████████████                                                                                                                      | 1319/4770 [00:36<01:07, 51.00it/s]\u001b[A\n",
      " 28%|█████████████████████████████████████████████▎                                                                                                                     | 1326/4770 [00:36<02:19, 24.73it/s]\u001b[A\n",
      " 28%|█████████████████████████████████████████████▌                                                                                                                     | 1332/4770 [00:36<01:58, 28.94it/s]\u001b[A\n",
      " 28%|█████████████████████████████████████████████▋                                                                                                                     | 1338/4770 [00:36<01:42, 33.33it/s]\u001b[A\n",
      " 28%|█████████████████████████████████████████████▉                                                                                                                     | 1344/4770 [00:36<01:30, 37.94it/s]\u001b[A\n",
      " 28%|██████████████████████████████████████████████▏                                                                                                                    | 1350/4770 [00:37<01:21, 41.98it/s]\u001b[A\n",
      " 28%|██████████████████████████████████████████████▎                                                                                                                    | 1356/4770 [00:37<01:15, 45.45it/s]\u001b[A\n",
      " 29%|██████████████████████████████████████████████▌                                                                                                                    | 1362/4770 [00:37<01:14, 45.64it/s]\u001b[A\n",
      " 29%|██████████████████████████████████████████████▊                                                                                                                    | 1369/4770 [00:37<01:08, 49.83it/s]\u001b[A\n",
      " 29%|███████████████████████████████████████████████                                                                                                                    | 1376/4770 [00:37<01:04, 53.00it/s]\u001b[A\n",
      " 29%|███████████████████████████████████████████████▏                                                                                                                   | 1382/4770 [00:38<02:19, 24.26it/s]\u001b[A\n",
      " 29%|███████████████████████████████████████████████▍                                                                                                                   | 1388/4770 [00:38<01:59, 28.23it/s]\u001b[A\n",
      " 29%|███████████████████████████████████████████████▋                                                                                                                   | 1394/4770 [00:38<01:41, 33.24it/s]\u001b[A\n",
      " 29%|███████████████████████████████████████████████▊                                                                                                                   | 1400/4770 [00:38<01:28, 37.90it/s]\u001b[A\n",
      " 29%|████████████████████████████████████████████████                                                                                                                   | 1406/4770 [00:38<01:20, 41.83it/s]\u001b[A\n",
      " 30%|████████████████████████████████████████████████▎                                                                                                                  | 1412/4770 [00:38<01:19, 42.06it/s]\u001b[A\n",
      " 30%|████████████████████████████████████████████████▍                                                                                                                  | 1419/4770 [00:38<01:11, 47.17it/s]\u001b[A\n"
     ]
    },
    {
     "name": "stderr",
     "output_type": "stream",
     "text": [
      " 30%|████████████████████████████████████████████████▋                                                                                                                  | 1426/4770 [00:38<01:05, 50.79it/s]\u001b[A\n",
      " 30%|████████████████████████████████████████████████▉                                                                                                                  | 1432/4770 [00:39<02:13, 24.94it/s]\u001b[A\n",
      " 30%|█████████████████████████████████████████████████                                                                                                                  | 1437/4770 [00:39<01:57, 28.41it/s]\u001b[A\n",
      " 30%|█████████████████████████████████████████████████▎                                                                                                                 | 1443/4770 [00:39<01:40, 32.99it/s]\u001b[A\n",
      " 30%|█████████████████████████████████████████████████▌                                                                                                                 | 1449/4770 [00:39<01:27, 38.00it/s]\u001b[A\n",
      " 31%|█████████████████████████████████████████████████▋                                                                                                                 | 1455/4770 [00:39<01:18, 42.08it/s]\u001b[A\n",
      " 31%|█████████████████████████████████████████████████▉                                                                                                                 | 1461/4770 [00:40<01:12, 45.36it/s]\u001b[A\n",
      " 31%|██████████████████████████████████████████████████▏                                                                                                                | 1467/4770 [00:40<01:12, 45.43it/s]\u001b[A\n",
      " 31%|██████████████████████████████████████████████████▎                                                                                                                | 1474/4770 [00:40<01:06, 49.86it/s]\u001b[A\n",
      " 31%|██████████████████████████████████████████████████▌                                                                                                                | 1481/4770 [00:40<01:02, 52.88it/s]\u001b[A\n",
      " 31%|██████████████████████████████████████████████████▊                                                                                                                | 1487/4770 [00:40<02:09, 25.40it/s]\u001b[A\n",
      " 31%|███████████████████████████████████████████████████                                                                                                                | 1493/4770 [00:41<01:51, 29.28it/s]\u001b[A\n",
      " 31%|███████████████████████████████████████████████████▏                                                                                                               | 1499/4770 [00:41<01:36, 33.75it/s]\u001b[A\n",
      " 32%|███████████████████████████████████████████████████▍                                                                                                               | 1505/4770 [00:41<01:24, 38.48it/s]\u001b[A\n",
      " 32%|███████████████████████████████████████████████████▋                                                                                                               | 1511/4770 [00:41<01:17, 42.27it/s]\u001b[A\n",
      " 32%|███████████████████████████████████████████████████▊                                                                                                               | 1517/4770 [00:41<01:16, 42.31it/s]\u001b[A\n",
      " 32%|████████████████████████████████████████████████████                                                                                                               | 1524/4770 [00:41<01:08, 47.37it/s]\u001b[A\n",
      " 32%|████████████████████████████████████████████████████▎                                                                                                              | 1531/4770 [00:41<01:03, 51.37it/s]\u001b[A\n",
      " 32%|████████████████████████████████████████████████████▌                                                                                                              | 1538/4770 [00:42<02:13, 24.25it/s]\u001b[A\n",
      " 32%|████████████████████████████████████████████████████▊                                                                                                              | 1544/4770 [00:42<01:53, 28.53it/s]\u001b[A\n",
      " 32%|████████████████████████████████████████████████████▉                                                                                                              | 1550/4770 [00:42<01:38, 32.71it/s]\u001b[A\n",
      " 33%|█████████████████████████████████████████████████████▏                                                                                                             | 1556/4770 [00:42<01:26, 37.36it/s]\u001b[A\n",
      " 33%|█████████████████████████████████████████████████████▍                                                                                                             | 1562/4770 [00:42<01:17, 41.58it/s]\u001b[A\n",
      " 33%|█████████████████████████████████████████████████████▌                                                                                                             | 1568/4770 [00:42<01:11, 45.08it/s]\u001b[A\n",
      " 33%|█████████████████████████████████████████████████████▊                                                                                                             | 1574/4770 [00:43<01:10, 45.50it/s]\u001b[A\n",
      " 33%|██████████████████████████████████████████████████████                                                                                                             | 1581/4770 [00:43<01:04, 49.82it/s]\u001b[A\n",
      " 33%|██████████████████████████████████████████████████████▎                                                                                                            | 1588/4770 [00:43<01:00, 53.01it/s]\u001b[A\n",
      " 33%|██████████████████████████████████████████████████████▍                                                                                                            | 1594/4770 [00:43<02:13, 23.83it/s]\u001b[A\n",
      " 34%|██████████████████████████████████████████████████████▋                                                                                                            | 1599/4770 [00:43<01:55, 27.34it/s]\u001b[A\n",
      " 34%|██████████████████████████████████████████████████████▊                                                                                                            | 1605/4770 [00:44<01:37, 32.47it/s]\u001b[A\n",
      " 34%|███████████████████████████████████████████████████████                                                                                                            | 1611/4770 [00:44<01:24, 37.28it/s]\u001b[A\n",
      " 34%|███████████████████████████████████████████████████████▎                                                                                                           | 1617/4770 [00:44<01:16, 41.30it/s]\u001b[A\n",
      " 34%|███████████████████████████████████████████████████████▍                                                                                                           | 1623/4770 [00:44<01:15, 41.71it/s]\u001b[A\n",
      " 34%|███████████████████████████████████████████████████████▋                                                                                                           | 1630/4770 [00:44<01:06, 46.97it/s]\u001b[A\n",
      " 34%|███████████████████████████████████████████████████████▉                                                                                                           | 1637/4770 [00:44<01:01, 50.97it/s]\u001b[A\n",
      " 34%|████████████████████████████████████████████████████████▏                                                                                                          | 1644/4770 [00:45<01:59, 26.05it/s]\u001b[A\n",
      " 35%|████████████████████████████████████████████████████████▎                                                                                                          | 1649/4770 [00:45<01:48, 28.66it/s]\u001b[A\n",
      " 35%|████████████████████████████████████████████████████████▌                                                                                                          | 1654/4770 [00:45<01:36, 32.13it/s]\u001b[A\n",
      " 35%|████████████████████████████████████████████████████████▋                                                                                                          | 1660/4770 [00:45<01:23, 37.33it/s]\u001b[A\n"
     ]
    },
    {
     "name": "stderr",
     "output_type": "stream",
     "text": [
      " 35%|████████████████████████████████████████████████████████▉                                                                                                          | 1666/4770 [00:45<01:14, 41.73it/s]\u001b[A\n",
      " 35%|█████████████████████████████████████████████████████████▏                                                                                                         | 1672/4770 [00:45<01:08, 45.36it/s]\u001b[A\n",
      " 35%|█████████████████████████████████████████████████████████▎                                                                                                         | 1678/4770 [00:45<01:07, 45.51it/s]\u001b[A\n",
      " 35%|█████████████████████████████████████████████████████████▌                                                                                                         | 1685/4770 [00:46<01:01, 49.86it/s]\u001b[A\n",
      " 35%|█████████████████████████████████████████████████████████▊                                                                                                         | 1692/4770 [00:46<00:58, 52.80it/s]\u001b[A\n",
      " 36%|██████████████████████████████████████████████████████████                                                                                                         | 1698/4770 [00:46<02:05, 24.56it/s]\u001b[A\n",
      " 36%|██████████████████████████████████████████████████████████▏                                                                                                        | 1704/4770 [00:46<01:44, 29.46it/s]\u001b[A\n",
      " 36%|██████████████████████████████████████████████████████████▍                                                                                                        | 1710/4770 [00:46<01:28, 34.44it/s]\u001b[A\n",
      " 36%|██████████████████████████████████████████████████████████▋                                                                                                        | 1716/4770 [00:47<01:18, 38.82it/s]\u001b[A\n",
      " 36%|██████████████████████████████████████████████████████████▊                                                                                                        | 1722/4770 [00:47<01:11, 42.46it/s]\u001b[A\n",
      " 36%|███████████████████████████████████████████████████████████                                                                                                        | 1728/4770 [00:47<01:06, 45.74it/s]\u001b[A\n",
      " 36%|███████████████████████████████████████████████████████████▎                                                                                                       | 1734/4770 [00:47<01:06, 45.52it/s]\u001b[A\n",
      " 36%|███████████████████████████████████████████████████████████▍                                                                                                       | 1741/4770 [00:47<01:00, 49.85it/s]\u001b[A\n",
      " 37%|███████████████████████████████████████████████████████████▋                                                                                                       | 1747/4770 [00:47<00:57, 52.32it/s]\u001b[A\n",
      " 37%|███████████████████████████████████████████████████████████▉                                                                                                       | 1753/4770 [00:48<02:04, 24.25it/s]\u001b[A\n",
      " 37%|████████████████████████████████████████████████████████████                                                                                                       | 1759/4770 [00:48<01:45, 28.44it/s]\u001b[A\n",
      " 37%|████████████████████████████████████████████████████████████▎                                                                                                      | 1765/4770 [00:48<01:29, 33.50it/s]\u001b[A\n",
      " 37%|████████████████████████████████████████████████████████████▌                                                                                                      | 1771/4770 [00:48<01:18, 38.14it/s]\u001b[A\n",
      " 37%|████████████████████████████████████████████████████████████▋                                                                                                      | 1777/4770 [00:48<01:10, 42.33it/s]\u001b[A\n",
      " 37%|████████████████████████████████████████████████████████████▉                                                                                                      | 1783/4770 [00:48<01:09, 42.73it/s]\u001b[A\n",
      " 38%|█████████████████████████████████████████████████████████████▏                                                                                                     | 1790/4770 [00:48<01:02, 47.59it/s]\u001b[A\n",
      " 38%|█████████████████████████████████████████████████████████████▍                                                                                                     | 1797/4770 [00:48<00:57, 51.45it/s]\u001b[A\n",
      " 38%|█████████████████████████████████████████████████████████████▌                                                                                                     | 1803/4770 [00:49<01:59, 24.79it/s]\u001b[A\n",
      " 38%|█████████████████████████████████████████████████████████████▊                                                                                                     | 1808/4770 [00:49<01:44, 28.39it/s]\u001b[A\n",
      " 38%|█████████████████████████████████████████████████████████████▉                                                                                                     | 1814/4770 [00:49<01:29, 32.99it/s]\u001b[A\n",
      " 38%|██████████████████████████████████████████████████████████████▏                                                                                                    | 1820/4770 [00:49<01:17, 38.01it/s]\u001b[A\n",
      " 38%|██████████████████████████████████████████████████████████████▍                                                                                                    | 1826/4770 [00:49<01:09, 42.17it/s]\u001b[A\n",
      " 38%|██████████████████████████████████████████████████████████████▌                                                                                                    | 1832/4770 [00:50<01:04, 45.56it/s]\u001b[A\n",
      " 39%|██████████████████████████████████████████████████████████████▊                                                                                                    | 1838/4770 [00:50<01:04, 45.51it/s]\u001b[A\n",
      " 39%|███████████████████████████████████████████████████████████████                                                                                                    | 1845/4770 [00:50<00:58, 49.68it/s]\u001b[A\n",
      " 39%|███████████████████████████████████████████████████████████████▎                                                                                                   | 1852/4770 [00:50<00:55, 52.70it/s]\u001b[A\n",
      " 39%|███████████████████████████████████████████████████████████████▍                                                                                                   | 1858/4770 [00:50<01:59, 24.43it/s]\u001b[A\n",
      " 39%|███████████████████████████████████████████████████████████████▋                                                                                                   | 1864/4770 [00:51<01:42, 28.42it/s]\u001b[A\n",
      " 39%|███████████████████████████████████████████████████████████████▊                                                                                                   | 1869/4770 [00:51<01:30, 31.93it/s]\u001b[A\n",
      " 39%|████████████████████████████████████████████████████████████████                                                                                                   | 1875/4770 [00:51<01:18, 36.78it/s]\u001b[A\n",
      " 39%|████████████████████████████████████████████████████████████████▎                                                                                                  | 1881/4770 [00:51<01:10, 40.92it/s]\u001b[A\n",
      " 40%|████████████████████████████████████████████████████████████████▍                                                                                                  | 1887/4770 [00:51<01:04, 44.64it/s]\u001b[A\n",
      " 40%|████████████████████████████████████████████████████████████████▋                                                                                                  | 1893/4770 [00:51<01:03, 45.13it/s]\u001b[A\n",
      " 40%|████████████████████████████████████████████████████████████████▉                                                                                                  | 1900/4770 [00:51<00:58, 49.34it/s]\u001b[A\n"
     ]
    },
    {
     "name": "stderr",
     "output_type": "stream",
     "text": [
      " 40%|█████████████████████████████████████████████████████████████████▏                                                                                                 | 1907/4770 [00:51<00:54, 52.76it/s]\u001b[A\n",
      " 40%|█████████████████████████████████████████████████████████████████▎                                                                                                 | 1913/4770 [00:52<01:57, 24.30it/s]\u001b[A\n",
      " 40%|█████████████████████████████████████████████████████████████████▌                                                                                                 | 1918/4770 [00:52<01:45, 27.04it/s]\u001b[A\n",
      " 40%|█████████████████████████████████████████████████████████████████▋                                                                                                 | 1924/4770 [00:52<01:28, 32.24it/s]\u001b[A\n",
      " 40%|█████████████████████████████████████████████████████████████████▉                                                                                                 | 1930/4770 [00:52<01:16, 37.13it/s]\u001b[A\n",
      " 41%|██████████████████████████████████████████████████████████████████▏                                                                                                | 1936/4770 [00:52<01:08, 41.16it/s]\u001b[A\n",
      " 41%|██████████████████████████████████████████████████████████████████▎                                                                                                | 1942/4770 [00:53<01:07, 41.95it/s]\u001b[A\n",
      " 41%|██████████████████████████████████████████████████████████████████▌                                                                                                | 1949/4770 [00:53<00:59, 47.18it/s]\u001b[A\n",
      " 41%|██████████████████████████████████████████████████████████████████▊                                                                                                | 1956/4770 [00:53<00:55, 50.88it/s]\u001b[A\n",
      " 41%|███████████████████████████████████████████████████████████████████                                                                                                | 1962/4770 [00:53<01:58, 23.76it/s]\u001b[A\n",
      " 41%|███████████████████████████████████████████████████████████████████▏                                                                                               | 1967/4770 [00:53<01:45, 26.66it/s]\u001b[A\n",
      " 41%|███████████████████████████████████████████████████████████████████▍                                                                                               | 1972/4770 [00:54<01:32, 30.18it/s]\u001b[A\n",
      " 41%|███████████████████████████████████████████████████████████████████▌                                                                                               | 1978/4770 [00:54<01:18, 35.40it/s]\u001b[A\n",
      " 42%|███████████████████████████████████████████████████████████████████▊                                                                                               | 1984/4770 [00:54<01:09, 40.12it/s]\u001b[A\n",
      " 42%|████████████████████████████████████████████████████████████████████                                                                                               | 1990/4770 [00:54<01:03, 43.70it/s]\u001b[A\n",
      " 42%|████████████████████████████████████████████████████████████████████▏                                                                                              | 1996/4770 [00:54<01:02, 44.13it/s]\u001b[A\n",
      " 42%|████████████████████████████████████████████████████████████████████▍                                                                                              | 2004/4770 [00:54<00:54, 50.86it/s]\u001b[A\n",
      " 42%|████████████████████████████████████████████████████████████████████▋                                                                                              | 2010/4770 [00:54<00:52, 52.69it/s]\u001b[A\n",
      " 42%|████████████████████████████████████████████████████████████████████▉                                                                                              | 2016/4770 [00:55<01:53, 24.27it/s]\u001b[A\n",
      " 42%|█████████████████████████████████████████████████████████████████████                                                                                              | 2021/4770 [00:55<01:38, 27.86it/s]\u001b[A\n",
      " 42%|█████████████████████████████████████████████████████████████████████▎                                                                                             | 2027/4770 [00:55<01:23, 33.02it/s]\u001b[A\n",
      " 43%|█████████████████████████████████████████████████████████████████████▍                                                                                             | 2033/4770 [00:55<01:12, 37.62it/s]\u001b[A\n",
      " 43%|█████████████████████████████████████████████████████████████████████▋                                                                                             | 2039/4770 [00:55<01:05, 41.74it/s]\u001b[A\n",
      " 43%|█████████████████████████████████████████████████████████████████████▉                                                                                             | 2045/4770 [00:55<01:00, 45.21it/s]\u001b[A\n",
      " 43%|██████████████████████████████████████████████████████████████████████                                                                                             | 2051/4770 [00:55<00:59, 45.46it/s]\u001b[A\n",
      " 43%|██████████████████████████████████████████████████████████████████████▎                                                                                            | 2058/4770 [00:56<00:54, 49.76it/s]\u001b[A\n",
      " 43%|██████████████████████████████████████████████████████████████████████▌                                                                                            | 2065/4770 [00:56<00:51, 52.89it/s]\u001b[A\n",
      " 43%|██████████████████████████████████████████████████████████████████████▊                                                                                            | 2071/4770 [00:56<01:51, 24.21it/s]\u001b[A\n",
      " 44%|██████████████████████████████████████████████████████████████████████▉                                                                                            | 2077/4770 [00:56<01:33, 28.90it/s]\u001b[A\n",
      " 44%|███████████████████████████████████████████████████████████████████████▏                                                                                           | 2083/4770 [00:57<01:19, 33.90it/s]\u001b[A\n",
      " 44%|███████████████████████████████████████████████████████████████████████▍                                                                                           | 2089/4770 [00:57<01:09, 38.52it/s]\u001b[A\n",
      " 44%|███████████████████████████████████████████████████████████████████████▌                                                                                           | 2095/4770 [00:57<01:03, 42.45it/s]\u001b[A\n",
      " 44%|███████████████████████████████████████████████████████████████████████▊                                                                                           | 2101/4770 [00:57<01:01, 43.19it/s]\u001b[A\n",
      " 44%|████████████████████████████████████████████████████████████████████████                                                                                           | 2108/4770 [00:57<00:55, 47.79it/s]\u001b[A\n",
      " 44%|████████████████████████████████████████████████████████████████████████▎                                                                                          | 2115/4770 [00:57<00:51, 51.40it/s]\u001b[A\n",
      " 44%|████████████████████████████████████████████████████████████████████████▍                                                                                          | 2121/4770 [00:58<01:47, 24.71it/s]\u001b[A\n",
      " 45%|████████████████████████████████████████████████████████████████████████▋                                                                                          | 2127/4770 [00:58<01:31, 29.02it/s]\u001b[A\n",
      " 45%|████████████████████████████████████████████████████████████████████████▉                                                                                          | 2133/4770 [00:58<01:17, 33.84it/s]\u001b[A\n",
      " 45%|█████████████████████████████████████████████████████████████████████████                                                                                          | 2139/4770 [00:58<01:08, 38.53it/s]\u001b[A\n"
     ]
    },
    {
     "name": "stderr",
     "output_type": "stream",
     "text": [
      " 45%|█████████████████████████████████████████████████████████████████████████▎                                                                                         | 2145/4770 [00:58<01:01, 42.53it/s]\u001b[A\n",
      " 45%|█████████████████████████████████████████████████████████████████████████▌                                                                                         | 2151/4770 [00:58<00:57, 45.81it/s]\u001b[A\n",
      " 45%|█████████████████████████████████████████████████████████████████████████▋                                                                                         | 2157/4770 [00:58<00:57, 45.61it/s]\u001b[A\n",
      " 45%|█████████████████████████████████████████████████████████████████████████▉                                                                                         | 2164/4770 [00:58<00:52, 49.88it/s]\u001b[A\n",
      " 46%|██████████████████████████████████████████████████████████████████████████▏                                                                                        | 2171/4770 [00:59<00:48, 53.14it/s]\u001b[A\n",
      " 46%|██████████████████████████████████████████████████████████████████████████▍                                                                                        | 2177/4770 [00:59<01:47, 24.21it/s]\u001b[A\n",
      " 46%|██████████████████████████████████████████████████████████████████████████▌                                                                                        | 2182/4770 [00:59<01:33, 27.57it/s]\u001b[A\n",
      " 46%|██████████████████████████████████████████████████████████████████████████▊                                                                                        | 2188/4770 [00:59<01:20, 32.25it/s]\u001b[A\n",
      " 46%|██████████████████████████████████████████████████████████████████████████▉                                                                                        | 2194/4770 [00:59<01:09, 37.27it/s]\u001b[A\n",
      " 46%|███████████████████████████████████████████████████████████████████████████▏                                                                                       | 2200/4770 [01:00<01:02, 41.35it/s]\u001b[A\n",
      " 46%|███████████████████████████████████████████████████████████████████████████▍                                                                                       | 2206/4770 [01:00<01:01, 41.64it/s]\u001b[A\n",
      " 46%|███████████████████████████████████████████████████████████████████████████▌                                                                                       | 2213/4770 [01:00<00:54, 46.81it/s]\u001b[A\n",
      " 47%|███████████████████████████████████████████████████████████████████████████▊                                                                                       | 2220/4770 [01:00<00:50, 50.78it/s]\u001b[A\n",
      " 47%|████████████████████████████████████████████████████████████████████████████                                                                                       | 2227/4770 [01:01<01:42, 24.74it/s]\u001b[A\n",
      " 47%|████████████████████████████████████████████████████████████████████████████▎                                                                                      | 2233/4770 [01:01<01:27, 28.96it/s]\u001b[A\n",
      " 47%|████████████████████████████████████████████████████████████████████████████▌                                                                                      | 2239/4770 [01:01<01:16, 33.23it/s]\u001b[A\n",
      " 47%|████████████████████████████████████████████████████████████████████████████▋                                                                                      | 2245/4770 [01:01<01:06, 37.79it/s]\u001b[A\n",
      " 47%|████████████████████████████████████████████████████████████████████████████▉                                                                                      | 2251/4770 [01:01<01:00, 41.82it/s]\u001b[A\n",
      " 47%|█████████████████████████████████████████████████████████████████████████████▏                                                                                     | 2257/4770 [01:01<00:55, 45.33it/s]\u001b[A\n",
      " 47%|█████████████████████████████████████████████████████████████████████████████▎                                                                                     | 2263/4770 [01:01<00:55, 45.33it/s]\u001b[A\n",
      " 48%|█████████████████████████████████████████████████████████████████████████████▌                                                                                     | 2270/4770 [01:01<00:50, 49.49it/s]\u001b[A\n",
      " 48%|█████████████████████████████████████████████████████████████████████████████▊                                                                                     | 2277/4770 [01:01<00:47, 52.58it/s]\u001b[A\n",
      " 48%|██████████████████████████████████████████████████████████████████████████████                                                                                     | 2283/4770 [01:02<01:40, 24.75it/s]\u001b[A\n",
      " 48%|██████████████████████████████████████████████████████████████████████████████▏                                                                                    | 2288/4770 [01:02<01:28, 28.18it/s]\u001b[A\n",
      " 48%|██████████████████████████████████████████████████████████████████████████████▍                                                                                    | 2294/4770 [01:02<01:14, 33.28it/s]\u001b[A\n",
      " 48%|██████████████████████████████████████████████████████████████████████████████▌                                                                                    | 2300/4770 [01:02<01:05, 37.97it/s]\u001b[A\n",
      " 48%|██████████████████████████████████████████████████████████████████████████████▊                                                                                    | 2306/4770 [01:02<00:58, 41.94it/s]\u001b[A\n",
      " 48%|███████████████████████████████████████████████████████████████████████████████                                                                                    | 2312/4770 [01:03<00:58, 42.05it/s]\u001b[A\n",
      " 49%|███████████████████████████████████████████████████████████████████████████████▏                                                                                   | 2319/4770 [01:03<00:51, 47.17it/s]\u001b[A\n",
      " 49%|███████████████████████████████████████████████████████████████████████████████▍                                                                                   | 2326/4770 [01:03<00:47, 50.98it/s]\u001b[A\n",
      " 49%|███████████████████████████████████████████████████████████████████████████████▋                                                                                   | 2333/4770 [01:03<01:40, 24.27it/s]\u001b[A\n",
      " 49%|███████████████████████████████████████████████████████████████████████████████▉                                                                                   | 2339/4770 [01:04<01:24, 28.89it/s]\u001b[A\n",
      " 49%|████████████████████████████████████████████████████████████████████████████████                                                                                   | 2344/4770 [01:04<01:15, 32.28it/s]\u001b[A\n",
      " 49%|████████████████████████████████████████████████████████████████████████████████▎                                                                                  | 2350/4770 [01:04<01:05, 37.23it/s]\u001b[A\n",
      " 49%|████████████████████████████████████████████████████████████████████████████████▌                                                                                  | 2356/4770 [01:04<00:58, 41.33it/s]\u001b[A\n",
      " 50%|████████████████████████████████████████████████████████████████████████████████▋                                                                                  | 2362/4770 [01:04<00:53, 44.78it/s]\u001b[A\n",
      " 50%|████████████████████████████████████████████████████████████████████████████████▉                                                                                  | 2368/4770 [01:04<00:53, 45.07it/s]\u001b[A\n",
      " 50%|█████████████████████████████████████████████████████████████████████████████████                                                                                  | 2374/4770 [01:04<00:49, 48.70it/s]\u001b[A\n",
      " 50%|█████████████████████████████████████████████████████████████████████████████████▎                                                                                 | 2381/4770 [01:04<00:45, 52.18it/s]\u001b[A\n"
     ]
    },
    {
     "name": "stderr",
     "output_type": "stream",
     "text": [
      " 50%|█████████████████████████████████████████████████████████████████████████████████▌                                                                                 | 2387/4770 [01:05<01:40, 23.73it/s]\u001b[A\n",
      " 50%|█████████████████████████████████████████████████████████████████████████████████▋                                                                                 | 2392/4770 [01:05<01:26, 27.35it/s]\u001b[A\n",
      " 50%|█████████████████████████████████████████████████████████████████████████████████▉                                                                                 | 2398/4770 [01:05<01:14, 32.05it/s]\u001b[A\n",
      " 50%|██████████████████████████████████████████████████████████████████████████████████▏                                                                                | 2404/4770 [01:05<01:04, 36.96it/s]\u001b[A\n",
      " 51%|██████████████████████████████████████████████████████████████████████████████████▎                                                                                | 2410/4770 [01:05<00:56, 41.52it/s]\u001b[A\n",
      " 51%|██████████████████████████████████████████████████████████████████████████████████▌                                                                                | 2416/4770 [01:05<00:52, 45.03it/s]\u001b[A\n",
      " 51%|██████████████████████████████████████████████████████████████████████████████████▊                                                                                | 2422/4770 [01:06<00:52, 45.01it/s]\u001b[A\n",
      " 51%|███████████████████████████████████████████████████████████████████████████████████                                                                                | 2429/4770 [01:06<00:47, 49.49it/s]\u001b[A\n",
      " 51%|███████████████████████████████████████████████████████████████████████████████████▏                                                                               | 2435/4770 [01:06<00:44, 52.12it/s]\u001b[A\n",
      " 51%|███████████████████████████████████████████████████████████████████████████████████▍                                                                               | 2441/4770 [01:06<01:35, 24.39it/s]\u001b[A\n",
      " 51%|███████████████████████████████████████████████████████████████████████████████████▌                                                                               | 2446/4770 [01:06<01:24, 27.39it/s]\u001b[A\n",
      " 51%|███████████████████████████████████████████████████████████████████████████████████▊                                                                               | 2452/4770 [01:07<01:11, 32.54it/s]\u001b[A\n",
      " 52%|███████████████████████████████████████████████████████████████████████████████████▉                                                                               | 2458/4770 [01:07<01:01, 37.39it/s]\u001b[A\n",
      " 52%|████████████████████████████████████████████████████████████████████████████████████▏                                                                              | 2464/4770 [01:07<00:55, 41.35it/s]\u001b[A\n",
      " 52%|████████████████████████████████████████████████████████████████████████████████████▍                                                                              | 2470/4770 [01:07<00:51, 44.82it/s]\u001b[A\n",
      " 52%|████████████████████████████████████████████████████████████████████████████████████▌                                                                              | 2476/4770 [01:07<00:51, 44.88it/s]\u001b[A\n",
      " 52%|████████████████████████████████████████████████████████████████████████████████████▊                                                                              | 2483/4770 [01:07<00:46, 49.19it/s]\u001b[A\n",
      " 52%|█████████████████████████████████████████████████████████████████████████████████████                                                                              | 2490/4770 [01:07<00:43, 52.54it/s]\u001b[A\n",
      " 52%|█████████████████████████████████████████████████████████████████████████████████████▎                                                                             | 2496/4770 [01:08<01:32, 24.62it/s]\u001b[A\n",
      " 52%|█████████████████████████████████████████████████████████████████████████████████████▍                                                                             | 2501/4770 [01:08<01:21, 27.78it/s]\u001b[A\n",
      " 53%|█████████████████████████████████████████████████████████████████████████████████████▋                                                                             | 2507/4770 [01:08<01:08, 32.93it/s]\u001b[A\n",
      " 53%|█████████████████████████████████████████████████████████████████████████████████████▊                                                                             | 2513/4770 [01:08<00:59, 37.72it/s]\u001b[A\n",
      " 53%|██████████████████████████████████████████████████████████████████████████████████████                                                                             | 2519/4770 [01:08<00:53, 41.75it/s]\u001b[A\n",
      " 53%|██████████████████████████████████████████████████████████████████████████████████████▎                                                                            | 2525/4770 [01:08<00:53, 42.32it/s]\u001b[A\n",
      " 53%|██████████████████████████████████████████████████████████████████████████████████████▌                                                                            | 2532/4770 [01:08<00:47, 47.20it/s]\u001b[A\n",
      " 53%|██████████████████████████████████████████████████████████████████████████████████████▊                                                                            | 2539/4770 [01:09<00:43, 51.03it/s]\u001b[A\n",
      " 53%|██████████████████████████████████████████████████████████████████████████████████████▉                                                                            | 2545/4770 [01:09<01:33, 23.89it/s]\u001b[A\n",
      " 53%|███████████████████████████████████████████████████████████████████████████████████████▏                                                                           | 2551/4770 [01:09<01:17, 28.65it/s]\u001b[A\n",
      " 54%|███████████████████████████████████████████████████████████████████████████████████████▎                                                                           | 2556/4770 [01:09<01:10, 31.47it/s]\u001b[A\n",
      " 54%|███████████████████████████████████████████████████████████████████████████████████████▌                                                                           | 2562/4770 [01:10<01:00, 36.65it/s]\u001b[A\n",
      " 54%|███████████████████████████████████████████████████████████████████████████████████████▊                                                                           | 2568/4770 [01:10<00:53, 40.96it/s]\u001b[A\n",
      " 54%|███████████████████████████████████████████████████████████████████████████████████████▉                                                                           | 2574/4770 [01:10<00:49, 44.67it/s]\u001b[A\n",
      " 54%|████████████████████████████████████████████████████████████████████████████████████████▏                                                                          | 2580/4770 [01:10<00:49, 44.57it/s]\u001b[A\n",
      " 54%|████████████████████████████████████████████████████████████████████████████████████████▎                                                                          | 2586/4770 [01:10<00:45, 48.17it/s]\u001b[A\n",
      " 54%|████████████████████████████████████████████████████████████████████████████████████████▌                                                                          | 2593/4770 [01:10<00:41, 51.92it/s]\u001b[A\n",
      " 54%|████████████████████████████████████████████████████████████████████████████████████████▊                                                                          | 2599/4770 [01:11<01:34, 23.02it/s]\u001b[A\n",
      " 55%|████████████████████████████████████████████████████████████████████████████████████████▉                                                                          | 2604/4770 [01:11<01:23, 26.06it/s]\u001b[A\n",
      " 55%|█████████████████████████████████████████████████████████████████████████████████████████▏                                                                         | 2609/4770 [01:11<01:13, 29.57it/s]\u001b[A\n",
      " 55%|█████████████████████████████████████████████████████████████████████████████████████████▎                                                                         | 2615/4770 [01:11<01:01, 34.98it/s]\u001b[A\n"
     ]
    },
    {
     "name": "stderr",
     "output_type": "stream",
     "text": [
      " 55%|█████████████████████████████████████████████████████████████████████████████████████████▌                                                                         | 2621/4770 [01:11<00:54, 39.57it/s]\u001b[A\n",
      " 55%|█████████████████████████████████████████████████████████████████████████████████████████▊                                                                         | 2627/4770 [01:11<00:49, 43.55it/s]\u001b[A\n",
      " 55%|█████████████████████████████████████████████████████████████████████████████████████████▉                                                                         | 2633/4770 [01:11<00:48, 43.84it/s]\u001b[A\n",
      " 55%|██████████████████████████████████████████████████████████████████████████████████████████▏                                                                        | 2640/4770 [01:11<00:44, 48.38it/s]\u001b[A\n",
      " 55%|██████████████████████████████████████████████████████████████████████████████████████████▍                                                                        | 2647/4770 [01:12<00:40, 51.83it/s]\u001b[A\n",
      " 56%|██████████████████████████████████████████████████████████████████████████████████████████▋                                                                        | 2653/4770 [01:12<01:28, 24.04it/s]\u001b[A\n",
      " 56%|██████████████████████████████████████████████████████████████████████████████████████████▊                                                                        | 2658/4770 [01:12<01:16, 27.57it/s]\u001b[A\n",
      " 56%|███████████████████████████████████████████████████████████████████████████████████████████                                                                        | 2664/4770 [01:12<01:04, 32.69it/s]\u001b[A\n",
      " 56%|███████████████████████████████████████████████████████████████████████████████████████████▏                                                                       | 2670/4770 [01:13<00:56, 37.50it/s]\u001b[A\n",
      " 56%|███████████████████████████████████████████████████████████████████████████████████████████▍                                                                       | 2676/4770 [01:13<00:50, 41.73it/s]\u001b[A\n",
      " 56%|███████████████████████████████████████████████████████████████████████████████████████████▋                                                                       | 2682/4770 [01:13<00:46, 44.91it/s]\u001b[A\n",
      " 56%|███████████████████████████████████████████████████████████████████████████████████████████▊                                                                       | 2688/4770 [01:13<00:47, 44.23it/s]\u001b[A\n",
      " 56%|████████████████████████████████████████████████████████████████████████████████████████████                                                                       | 2694/4770 [01:13<00:43, 47.82it/s]\u001b[A\n",
      " 57%|████████████████████████████████████████████████████████████████████████████████████████████▎                                                                      | 2701/4770 [01:13<00:40, 51.54it/s]\u001b[A\n",
      " 57%|████████████████████████████████████████████████████████████████████████████████████████████▌                                                                      | 2707/4770 [01:14<01:24, 24.37it/s]\u001b[A\n",
      " 57%|████████████████████████████████████████████████████████████████████████████████████████████▋                                                                      | 2712/4770 [01:14<01:13, 28.02it/s]\u001b[A\n",
      " 57%|████████████████████████████████████████████████████████████████████████████████████████████▉                                                                      | 2718/4770 [01:14<01:02, 32.75it/s]\u001b[A\n",
      " 57%|█████████████████████████████████████████████████████████████████████████████████████████████                                                                      | 2724/4770 [01:14<00:54, 37.62it/s]\u001b[A\n",
      " 57%|█████████████████████████████████████████████████████████████████████████████████████████████▎                                                                     | 2730/4770 [01:14<00:48, 41.92it/s]\u001b[A\n",
      " 57%|█████████████████████████████████████████████████████████████████████████████████████████████▍                                                                     | 2736/4770 [01:14<00:48, 42.20it/s]\u001b[A\n",
      " 58%|█████████████████████████████████████████████████████████████████████████████████████████████▋                                                                     | 2743/4770 [01:14<00:42, 47.21it/s]\u001b[A\n",
      " 58%|█████████████████████████████████████████████████████████████████████████████████████████████▉                                                                     | 2750/4770 [01:14<00:39, 50.99it/s]\u001b[A\n",
      " 58%|██████████████████████████████████████████████████████████████████████████████████████████████▏                                                                    | 2757/4770 [01:15<01:20, 24.89it/s]\u001b[A\n",
      " 58%|██████████████████████████████████████████████████████████████████████████████████████████████▍                                                                    | 2762/4770 [01:15<01:11, 28.18it/s]\u001b[A\n",
      " 58%|██████████████████████████████████████████████████████████████████████████████████████████████▌                                                                    | 2767/4770 [01:15<01:03, 31.33it/s]\u001b[A\n",
      " 58%|██████████████████████████████████████████████████████████████████████████████████████████████▊                                                                    | 2773/4770 [01:15<00:54, 36.49it/s]\u001b[A\n",
      " 58%|██████████████████████████████████████████████████████████████████████████████████████████████▉                                                                    | 2779/4770 [01:15<00:48, 40.92it/s]\u001b[A\n",
      " 58%|███████████████████████████████████████████████████████████████████████████████████████████████▏                                                                   | 2785/4770 [01:16<00:44, 44.41it/s]\u001b[A\n",
      " 59%|███████████████████████████████████████████████████████████████████████████████████████████████▎                                                                   | 2791/4770 [01:16<00:44, 44.53it/s]\u001b[A\n",
      " 59%|███████████████████████████████████████████████████████████████████████████████████████████████▌                                                                   | 2797/4770 [01:16<00:40, 48.23it/s]\u001b[A\n",
      " 59%|███████████████████████████████████████████████████████████████████████████████████████████████▊                                                                   | 2804/4770 [01:16<00:37, 51.92it/s]\u001b[A\n",
      " 59%|████████████████████████████████████████████████████████████████████████████████████████████████                                                                   | 2810/4770 [01:16<01:20, 24.22it/s]\u001b[A\n",
      " 59%|████████████████████████████████████████████████████████████████████████████████████████████████▏                                                                  | 2815/4770 [01:17<01:12, 27.13it/s]\u001b[A\n",
      " 59%|████████████████████████████████████████████████████████████████████████████████████████████████▍                                                                  | 2821/4770 [01:17<01:01, 31.93it/s]\u001b[A\n",
      " 59%|████████████████████████████████████████████████████████████████████████████████████████████████▌                                                                  | 2827/4770 [01:17<00:52, 36.89it/s]\u001b[A\n",
      " 59%|████████████████████████████████████████████████████████████████████████████████████████████████▊                                                                  | 2833/4770 [01:17<00:47, 41.13it/s]\u001b[A\n",
      " 60%|█████████████████████████████████████████████████████████████████████████████████████████████████                                                                  | 2839/4770 [01:17<00:43, 44.60it/s]\u001b[A\n",
      " 60%|█████████████████████████████████████████████████████████████████████████████████████████████████▏                                                                 | 2845/4770 [01:17<00:43, 44.64it/s]\u001b[A\n",
      " 60%|█████████████████████████████████████████████████████████████████████████████████████████████████▍                                                                 | 2851/4770 [01:17<00:39, 48.35it/s]\u001b[A\n"
     ]
    },
    {
     "name": "stderr",
     "output_type": "stream",
     "text": [
      " 60%|█████████████████████████████████████████████████████████████████████████████████████████████████▋                                                                 | 2858/4770 [01:17<00:36, 51.96it/s]\u001b[A\n",
      " 60%|█████████████████████████████████████████████████████████████████████████████████████████████████▊                                                                 | 2864/4770 [01:18<01:17, 24.48it/s]\u001b[A\n",
      " 60%|██████████████████████████████████████████████████████████████████████████████████████████████████                                                                 | 2870/4770 [01:18<01:05, 28.98it/s]\u001b[A\n",
      " 60%|██████████████████████████████████████████████████████████████████████████████████████████████████▎                                                                | 2876/4770 [01:18<00:55, 33.89it/s]\u001b[A\n",
      " 60%|██████████████████████████████████████████████████████████████████████████████████████████████████▍                                                                | 2882/4770 [01:18<00:48, 38.59it/s]\u001b[A\n",
      " 61%|██████████████████████████████████████████████████████████████████████████████████████████████████▋                                                                | 2888/4770 [01:18<00:44, 42.59it/s]\u001b[A\n",
      " 61%|██████████████████████████████████████████████████████████████████████████████████████████████████▉                                                                | 2894/4770 [01:18<00:40, 45.84it/s]\u001b[A\n",
      " 61%|███████████████████████████████████████████████████████████████████████████████████████████████████                                                                | 2900/4770 [01:19<00:41, 45.55it/s]\u001b[A\n",
      " 61%|███████████████████████████████████████████████████████████████████████████████████████████████████▎                                                               | 2907/4770 [01:19<00:37, 49.87it/s]\u001b[A\n",
      " 61%|███████████████████████████████████████████████████████████████████████████████████████████████████▌                                                               | 2914/4770 [01:19<00:34, 53.09it/s]\u001b[A\n",
      " 61%|███████████████████████████████████████████████████████████████████████████████████████████████████▊                                                               | 2920/4770 [01:19<01:18, 23.65it/s]\u001b[A\n",
      " 61%|███████████████████████████████████████████████████████████████████████████████████████████████████▉                                                               | 2925/4770 [01:20<01:07, 27.14it/s]\u001b[A\n",
      " 61%|████████████████████████████████████████████████████████████████████████████████████████████████████▏                                                              | 2931/4770 [01:20<00:56, 32.32it/s]\u001b[A\n",
      " 62%|████████████████████████████████████████████████████████████████████████████████████████████████████▎                                                              | 2937/4770 [01:20<00:49, 37.20it/s]\u001b[A\n",
      " 62%|████████████████████████████████████████████████████████████████████████████████████████████████████▌                                                              | 2943/4770 [01:20<00:44, 41.19it/s]\u001b[A\n",
      " 62%|████████████████████████████████████████████████████████████████████████████████████████████████████▊                                                              | 2949/4770 [01:20<00:43, 41.85it/s]\u001b[A\n",
      " 62%|█████████████████████████████████████████████████████████████████████████████████████████████████████                                                              | 2956/4770 [01:20<00:38, 47.03it/s]\u001b[A\n",
      " 62%|█████████████████████████████████████████████████████████████████████████████████████████████████████▎                                                             | 2963/4770 [01:20<00:35, 51.06it/s]\u001b[A\n",
      " 62%|█████████████████████████████████████████████████████████████████████████████████████████████████████▍                                                             | 2969/4770 [01:21<01:16, 23.69it/s]\u001b[A\n",
      " 62%|█████████████████████████████████████████████████████████████████████████████████████████████████████▋                                                             | 2975/4770 [01:21<01:04, 27.73it/s]\u001b[A\n",
      " 62%|█████████████████████████████████████████████████████████████████████████████████████████████████████▊                                                             | 2980/4770 [01:21<00:57, 31.07it/s]\u001b[A\n",
      " 63%|██████████████████████████████████████████████████████████████████████████████████████████████████████                                                             | 2986/4770 [01:21<00:49, 36.16it/s]\u001b[A\n",
      " 63%|██████████████████████████████████████████████████████████████████████████████████████████████████████▏                                                            | 2992/4770 [01:21<00:43, 40.54it/s]\u001b[A\n",
      " 63%|██████████████████████████████████████████████████████████████████████████████████████████████████████▍                                                            | 2998/4770 [01:21<00:40, 44.06it/s]\u001b[A\n",
      " 63%|██████████████████████████████████████████████████████████████████████████████████████████████████████▋                                                            | 3004/4770 [01:22<00:40, 43.89it/s]\u001b[A\n",
      " 63%|██████████████████████████████████████████████████████████████████████████████████████████████████████▉                                                            | 3011/4770 [01:22<00:36, 48.35it/s]\u001b[A\n",
      " 63%|███████████████████████████████████████████████████████████████████████████████████████████████████████                                                            | 3017/4770 [01:22<00:34, 51.20it/s]\u001b[A\n",
      " 63%|███████████████████████████████████████████████████████████████████████████████████████████████████████▎                                                           | 3023/4770 [01:22<01:14, 23.42it/s]\u001b[A\n",
      " 64%|███████████████████████████████████████████████████████████████████████████████████████████████████████▌                                                           | 3029/4770 [01:22<01:02, 27.94it/s]\u001b[A\n",
      " 64%|███████████████████████████████████████████████████████████████████████████████████████████████████████▋                                                           | 3035/4770 [01:23<00:53, 32.46it/s]\u001b[A\n",
      " 64%|███████████████████████████████████████████████████████████████████████████████████████████████████████▉                                                           | 3041/4770 [01:23<00:46, 37.22it/s]\u001b[A\n",
      " 64%|████████████████████████████████████████████████████████████████████████████████████████████████████████                                                           | 3047/4770 [01:23<00:41, 41.46it/s]\u001b[A\n",
      " 64%|████████████████████████████████████████████████████████████████████████████████████████████████████████▎                                                          | 3053/4770 [01:23<00:38, 44.87it/s]\u001b[A\n",
      " 64%|████████████████████████████████████████████████████████████████████████████████████████████████████████▌                                                          | 3059/4770 [01:23<00:38, 44.63it/s]\u001b[A\n",
      " 64%|████████████████████████████████████████████████████████████████████████████████████████████████████████▊                                                          | 3066/4770 [01:23<00:34, 49.00it/s]\u001b[A\n",
      " 64%|█████████████████████████████████████████████████████████████████████████████████████████████████████████                                                          | 3073/4770 [01:23<00:32, 52.27it/s]\u001b[A\n",
      " 65%|█████████████████████████████████████████████████████████████████████████████████████████████████████████▏                                                         | 3079/4770 [01:24<01:09, 24.21it/s]\u001b[A\n",
      " 65%|█████████████████████████████████████████████████████████████████████████████████████████████████████████▍                                                         | 3085/4770 [01:24<00:58, 28.58it/s]\u001b[A\n",
      " 65%|█████████████████████████████████████████████████████████████████████████████████████████████████████████▋                                                         | 3091/4770 [01:24<00:50, 33.54it/s]\u001b[A\n"
     ]
    },
    {
     "name": "stderr",
     "output_type": "stream",
     "text": [
      " 65%|█████████████████████████████████████████████████████████████████████████████████████████████████████████▊                                                         | 3097/4770 [01:24<00:43, 38.07it/s]\u001b[A\n",
      " 65%|██████████████████████████████████████████████████████████████████████████████████████████████████████████                                                         | 3103/4770 [01:24<00:39, 42.13it/s]\u001b[A\n",
      " 65%|██████████████████████████████████████████████████████████████████████████████████████████████████████████▏                                                        | 3109/4770 [01:24<00:38, 43.11it/s]\u001b[A\n",
      " 65%|██████████████████████████████████████████████████████████████████████████████████████████████████████████▍                                                        | 3116/4770 [01:25<00:34, 47.66it/s]\u001b[A\n",
      " 65%|██████████████████████████████████████████████████████████████████████████████████████████████████████████▋                                                        | 3123/4770 [01:25<00:32, 51.27it/s]\u001b[A\n",
      " 66%|██████████████████████████████████████████████████████████████████████████████████████████████████████████▉                                                        | 3129/4770 [01:25<01:10, 23.42it/s]\u001b[A\n",
      " 66%|███████████████████████████████████████████████████████████████████████████████████████████████████████████                                                        | 3134/4770 [01:25<01:01, 26.63it/s]\u001b[A\n",
      " 66%|███████████████████████████████████████████████████████████████████████████████████████████████████████████▎                                                       | 3140/4770 [01:25<00:52, 31.32it/s]\u001b[A\n",
      " 66%|███████████████████████████████████████████████████████████████████████████████████████████████████████████▌                                                       | 3146/4770 [01:26<00:44, 36.16it/s]\u001b[A\n",
      " 66%|███████████████████████████████████████████████████████████████████████████████████████████████████████████▋                                                       | 3152/4770 [01:26<00:39, 40.58it/s]\u001b[A\n",
      " 66%|███████████████████████████████████████████████████████████████████████████████████████████████████████████▉                                                       | 3158/4770 [01:26<00:36, 44.15it/s]\u001b[A\n",
      " 66%|████████████████████████████████████████████████████████████████████████████████████████████████████████████                                                       | 3164/4770 [01:26<00:36, 44.42it/s]\u001b[A\n",
      " 66%|████████████████████████████████████████████████████████████████████████████████████████████████████████████▎                                                      | 3170/4770 [01:26<00:33, 48.11it/s]\u001b[A\n",
      " 67%|████████████████████████████████████████████████████████████████████████████████████████████████████████████▌                                                      | 3177/4770 [01:26<00:30, 51.79it/s]\u001b[A\n",
      " 67%|████████████████████████████████████████████████████████████████████████████████████████████████████████████▊                                                      | 3183/4770 [01:27<01:05, 24.40it/s]\u001b[A\n",
      " 67%|████████████████████████████████████████████████████████████████████████████████████████████████████████████▉                                                      | 3189/4770 [01:27<00:54, 28.78it/s]\u001b[A\n",
      " 67%|█████████████████████████████████████████████████████████████████████████████████████████████████████████████▏                                                     | 3195/4770 [01:27<00:47, 33.39it/s]\u001b[A\n",
      " 67%|█████████████████████████████████████████████████████████████████████████████████████████████████████████████▍                                                     | 3201/4770 [01:27<00:41, 38.15it/s]\u001b[A\n",
      " 67%|█████████████████████████████████████████████████████████████████████████████████████████████████████████████▌                                                     | 3207/4770 [01:27<00:37, 42.20it/s]\u001b[A\n",
      " 67%|█████████████████████████████████████████████████████████████████████████████████████████████████████████████▊                                                     | 3213/4770 [01:27<00:36, 42.37it/s]\u001b[A\n",
      " 68%|██████████████████████████████████████████████████████████████████████████████████████████████████████████████                                                     | 3220/4770 [01:27<00:32, 47.51it/s]\u001b[A\n",
      " 68%|██████████████████████████████████████████████████████████████████████████████████████████████████████████████▎                                                    | 3227/4770 [01:27<00:30, 51.09it/s]\u001b[A\n",
      " 68%|██████████████████████████████████████████████████████████████████████████████████████████████████████████████▌                                                    | 3234/4770 [01:28<01:02, 24.53it/s]\u001b[A\n",
      " 68%|██████████████████████████████████████████████████████████████████████████████████████████████████████████████▋                                                    | 3240/4770 [01:28<00:52, 29.04it/s]\u001b[A\n",
      " 68%|██████████████████████████████████████████████████████████████████████████████████████████████████████████████▉                                                    | 3246/4770 [01:28<00:45, 33.16it/s]\u001b[A\n",
      " 68%|███████████████████████████████████████████████████████████████████████████████████████████████████████████████▏                                                   | 3252/4770 [01:28<00:40, 37.76it/s]\u001b[A\n",
      " 68%|███████████████████████████████████████████████████████████████████████████████████████████████████████████████▎                                                   | 3258/4770 [01:29<00:36, 41.69it/s]\u001b[A\n",
      " 68%|███████████████████████████████████████████████████████████████████████████████████████████████████████████████▌                                                   | 3264/4770 [01:29<00:33, 44.84it/s]\u001b[A\n",
      " 69%|███████████████████████████████████████████████████████████████████████████████████████████████████████████████▋                                                   | 3270/4770 [01:29<00:33, 44.63it/s]\u001b[A\n",
      " 69%|███████████████████████████████████████████████████████████████████████████████████████████████████████████████▉                                                   | 3277/4770 [01:29<00:30, 48.98it/s]\u001b[A\n",
      " 69%|████████████████████████████████████████████████████████████████████████████████████████████████████████████████▏                                                  | 3284/4770 [01:29<00:28, 52.16it/s]\u001b[A\n",
      " 69%|████████████████████████████████████████████████████████████████████████████████████████████████████████████████▍                                                  | 3290/4770 [01:30<01:02, 23.77it/s]\u001b[A\n",
      " 69%|████████████████████████████████████████████████████████████████████████████████████████████████████████████████▌                                                  | 3295/4770 [01:30<00:54, 27.12it/s]\u001b[A\n",
      " 69%|████████████████████████████████████████████████████████████████████████████████████████████████████████████████▊                                                  | 3301/4770 [01:30<00:45, 32.15it/s]\u001b[A\n",
      " 69%|█████████████████████████████████████████████████████████████████████████████████████████████████████████████████                                                  | 3307/4770 [01:30<00:39, 36.80it/s]\u001b[A\n",
      " 69%|█████████████████████████████████████████████████████████████████████████████████████████████████████████████████▏                                                 | 3313/4770 [01:30<00:35, 40.91it/s]\u001b[A\n",
      " 70%|█████████████████████████████████████████████████████████████████████████████████████████████████████████████████▍                                                 | 3319/4770 [01:30<00:34, 41.48it/s]\u001b[A\n",
      " 70%|█████████████████████████████████████████████████████████████████████████████████████████████████████████████████▋                                                 | 3326/4770 [01:30<00:30, 46.77it/s]\u001b[A\n",
      " 70%|█████████████████████████████████████████████████████████████████████████████████████████████████████████████████▉                                                 | 3333/4770 [01:30<00:28, 50.73it/s]\u001b[A\n"
     ]
    },
    {
     "name": "stderr",
     "output_type": "stream",
     "text": [
      " 70%|██████████████████████████████████████████████████████████████████████████████████████████████████████████████████▏                                                | 3340/4770 [01:31<00:57, 24.70it/s]\u001b[A\n",
      " 70%|██████████████████████████████████████████████████████████████████████████████████████████████████████████████████▎                                                | 3345/4770 [01:31<00:51, 27.92it/s]\u001b[A\n",
      " 70%|██████████████████████████████████████████████████████████████████████████████████████████████████████████████████▌                                                | 3351/4770 [01:31<00:44, 32.24it/s]\u001b[A\n",
      " 70%|██████████████████████████████████████████████████████████████████████████████████████████████████████████████████▋                                                | 3357/4770 [01:31<00:38, 37.10it/s]\u001b[A\n",
      " 71%|██████████████████████████████████████████████████████████████████████████████████████████████████████████████████▉                                                | 3363/4770 [01:31<00:34, 40.98it/s]\u001b[A\n",
      " 71%|███████████████████████████████████████████████████████████████████████████████████████████████████████████████████▏                                               | 3369/4770 [01:32<00:31, 44.41it/s]\u001b[A\n",
      " 71%|███████████████████████████████████████████████████████████████████████████████████████████████████████████████████▎                                               | 3375/4770 [01:32<00:31, 44.91it/s]\u001b[A\n",
      " 71%|███████████████████████████████████████████████████████████████████████████████████████████████████████████████████▌                                               | 3382/4770 [01:32<00:28, 49.13it/s]\u001b[A\n",
      " 71%|███████████████████████████████████████████████████████████████████████████████████████████████████████████████████▊                                               | 3389/4770 [01:32<00:26, 52.47it/s]\u001b[A\n",
      " 71%|████████████████████████████████████████████████████████████████████████████████████████████████████████████████████                                               | 3395/4770 [01:33<00:58, 23.58it/s]\u001b[A\n",
      " 71%|████████████████████████████████████████████████████████████████████████████████████████████████████████████████████▏                                              | 3401/4770 [01:33<00:48, 27.99it/s]\u001b[A\n",
      " 71%|████████████████████████████████████████████████████████████████████████████████████████████████████████████████████▍                                              | 3407/4770 [01:33<00:42, 32.37it/s]\u001b[A\n",
      " 72%|████████████████████████████████████████████████████████████████████████████████████████████████████████████████████▋                                              | 3413/4770 [01:33<00:36, 37.04it/s]\u001b[A\n",
      " 72%|████████████████████████████████████████████████████████████████████████████████████████████████████████████████████▊                                              | 3419/4770 [01:33<00:33, 40.89it/s]\u001b[A\n",
      " 72%|█████████████████████████████████████████████████████████████████████████████████████████████████████████████████████                                              | 3425/4770 [01:33<00:32, 41.38it/s]\u001b[A\n",
      " 72%|█████████████████████████████████████████████████████████████████████████████████████████████████████████████████████▎                                             | 3432/4770 [01:33<00:28, 46.56it/s]\u001b[A\n",
      " 72%|█████████████████████████████████████████████████████████████████████████████████████████████████████████████████████▌                                             | 3439/4770 [01:33<00:26, 50.55it/s]\u001b[A\n",
      " 72%|█████████████████████████████████████████████████████████████████████████████████████████████████████████████████████▊                                             | 3446/4770 [01:34<00:50, 26.43it/s]\u001b[A\n",
      " 72%|█████████████████████████████████████████████████████████████████████████████████████████████████████████████████████▉                                             | 3451/4770 [01:34<00:46, 28.19it/s]\u001b[A\n",
      " 72%|██████████████████████████████████████████████████████████████████████████████████████████████████████████████████████▏                                            | 3457/4770 [01:34<00:40, 32.66it/s]\u001b[A\n",
      " 73%|██████████████████████████████████████████████████████████████████████████████████████████████████████████████████████▎                                            | 3463/4770 [01:34<00:34, 37.47it/s]\u001b[A\n",
      " 73%|██████████████████████████████████████████████████████████████████████████████████████████████████████████████████████▌                                            | 3469/4770 [01:34<00:31, 41.60it/s]\u001b[A\n",
      " 73%|██████████████████████████████████████████████████████████████████████████████████████████████████████████████████████▋                                            | 3475/4770 [01:34<00:28, 45.01it/s]\u001b[A\n",
      " 73%|██████████████████████████████████████████████████████████████████████████████████████████████████████████████████████▉                                            | 3481/4770 [01:35<00:28, 44.83it/s]\u001b[A\n",
      " 73%|███████████████████████████████████████████████████████████████████████████████████████████████████████████████████████▏                                           | 3487/4770 [01:35<00:26, 48.44it/s]\u001b[A\n",
      " 73%|███████████████████████████████████████████████████████████████████████████████████████████████████████████████████████▍                                           | 3494/4770 [01:35<00:24, 51.97it/s]\u001b[A\n",
      " 73%|███████████████████████████████████████████████████████████████████████████████████████████████████████████████████████▌                                           | 3500/4770 [01:35<00:54, 23.30it/s]\u001b[A\n",
      " 73%|███████████████████████████████████████████████████████████████████████████████████████████████████████████████████████▊                                           | 3505/4770 [01:36<00:48, 26.27it/s]\u001b[A\n",
      " 74%|███████████████████████████████████████████████████████████████████████████████████████████████████████████████████████▉                                           | 3510/4770 [01:36<00:42, 29.92it/s]\u001b[A\n",
      " 74%|████████████████████████████████████████████████████████████████████████████████████████████████████████████████████████▏                                          | 3516/4770 [01:36<00:35, 35.34it/s]\u001b[A\n",
      " 74%|████████████████████████████████████████████████████████████████████████████████████████████████████████████████████████▎                                          | 3522/4770 [01:36<00:31, 39.96it/s]\u001b[A\n",
      " 74%|████████████████████████████████████████████████████████████████████████████████████████████████████████████████████████▌                                          | 3528/4770 [01:36<00:28, 43.76it/s]\u001b[A\n",
      " 74%|████████████████████████████████████████████████████████████████████████████████████████████████████████████████████████▊                                          | 3534/4770 [01:36<00:28, 44.14it/s]\u001b[A\n",
      " 74%|█████████████████████████████████████████████████████████████████████████████████████████████████████████████████████████                                          | 3541/4770 [01:36<00:25, 48.61it/s]\u001b[A\n",
      " 74%|█████████████████████████████████████████████████████████████████████████████████████████████████████████████████████████▏                                         | 3548/4770 [01:36<00:23, 51.94it/s]\u001b[A\n",
      " 75%|█████████████████████████████████████████████████████████████████████████████████████████████████████████████████████████▍                                         | 3554/4770 [01:37<00:50, 24.22it/s]\u001b[A\n",
      " 75%|█████████████████████████████████████████████████████████████████████████████████████████████████████████████████████████▋                                         | 3560/4770 [01:37<00:41, 29.01it/s]\u001b[A\n",
      " 75%|█████████████████████████████████████████████████████████████████████████████████████████████████████████████████████████▊                                         | 3566/4770 [01:37<00:35, 33.92it/s]\u001b[A\n",
      " 75%|██████████████████████████████████████████████████████████████████████████████████████████████████████████████████████████                                         | 3572/4770 [01:37<00:31, 38.59it/s]\u001b[A\n"
     ]
    },
    {
     "name": "stderr",
     "output_type": "stream",
     "text": [
      " 75%|██████████████████████████████████████████████████████████████████████████████████████████████████████████████████████████▎                                        | 3578/4770 [01:37<00:28, 42.45it/s]\u001b[A\n",
      " 75%|██████████████████████████████████████████████████████████████████████████████████████████████████████████████████████████▍                                        | 3584/4770 [01:37<00:27, 42.94it/s]\u001b[A\n",
      " 75%|██████████████████████████████████████████████████████████████████████████████████████████████████████████████████████████▋                                        | 3591/4770 [01:38<00:24, 47.69it/s]\u001b[A\n",
      " 75%|██████████████████████████████████████████████████████████████████████████████████████████████████████████████████████████▉                                        | 3598/4770 [01:38<00:22, 51.26it/s]\u001b[A\n",
      " 76%|███████████████████████████████████████████████████████████████████████████████████████████████████████████████████████████▏                                       | 3605/4770 [01:38<00:46, 25.28it/s]\u001b[A\n",
      " 76%|███████████████████████████████████████████████████████████████████████████████████████████████████████████████████████████▍                                       | 3611/4770 [01:38<00:39, 29.53it/s]\u001b[A\n",
      " 76%|███████████████████████████████████████████████████████████████████████████████████████████████████████████████████████████▌                                       | 3616/4770 [01:38<00:35, 32.17it/s]\u001b[A\n",
      " 76%|███████████████████████████████████████████████████████████████████████████████████████████████████████████████████████████▊                                       | 3622/4770 [01:39<00:31, 36.92it/s]\u001b[A\n",
      " 76%|███████████████████████████████████████████████████████████████████████████████████████████████████████████████████████████▉                                       | 3628/4770 [01:39<00:27, 41.01it/s]\u001b[A\n",
      " 76%|████████████████████████████████████████████████████████████████████████████████████████████████████████████████████████████▏                                      | 3634/4770 [01:39<00:25, 44.52it/s]\u001b[A\n",
      " 76%|████████████████████████████████████████████████████████████████████████████████████████████████████████████████████████████▍                                      | 3640/4770 [01:39<00:25, 44.65it/s]\u001b[A\n",
      " 76%|████████████████████████████████████████████████████████████████████████████████████████████████████████████████████████████▌                                      | 3647/4770 [01:39<00:22, 49.02it/s]\u001b[A\n",
      " 77%|████████████████████████████████████████████████████████████████████████████████████████████████████████████████████████████▊                                      | 3654/4770 [01:39<00:21, 52.34it/s]\u001b[A\n",
      " 77%|█████████████████████████████████████████████████████████████████████████████████████████████████████████████████████████████                                      | 3660/4770 [01:40<00:45, 24.37it/s]\u001b[A\n",
      " 77%|█████████████████████████████████████████████████████████████████████████████████████████████████████████████████████████████▎                                     | 3666/4770 [01:40<00:38, 28.73it/s]\u001b[A\n",
      " 77%|█████████████████████████████████████████████████████████████████████████████████████████████████████████████████████████████▍                                     | 3672/4770 [01:40<00:33, 33.01it/s]\u001b[A\n",
      " 77%|█████████████████████████████████████████████████████████████████████████████████████████████████████████████████████████████▋                                     | 3678/4770 [01:40<00:29, 37.55it/s]\u001b[A\n",
      " 77%|█████████████████████████████████████████████████████████████████████████████████████████████████████████████████████████████▉                                     | 3684/4770 [01:40<00:26, 41.39it/s]\u001b[A\n",
      " 77%|██████████████████████████████████████████████████████████████████████████████████████████████████████████████████████████████                                     | 3690/4770 [01:40<00:25, 41.66it/s]\u001b[A\n",
      " 78%|██████████████████████████████████████████████████████████████████████████████████████████████████████████████████████████████▎                                    | 3697/4770 [01:40<00:23, 46.62it/s]\u001b[A\n",
      " 78%|██████████████████████████████████████████████████████████████████████████████████████████████████████████████████████████████▌                                    | 3704/4770 [01:41<00:21, 50.37it/s]\u001b[A\n",
      " 78%|██████████████████████████████████████████████████████████████████████████████████████████████████████████████████████████████▊                                    | 3711/4770 [01:41<00:43, 24.56it/s]\u001b[A\n",
      " 78%|███████████████████████████████████████████████████████████████████████████████████████████████████████████████████████████████                                    | 3717/4770 [01:41<00:36, 29.24it/s]\u001b[A\n",
      " 78%|███████████████████████████████████████████████████████████████████████████████████████████████████████████████████████████████▏                                   | 3723/4770 [01:41<00:31, 33.54it/s]\u001b[A\n",
      " 78%|███████████████████████████████████████████████████████████████████████████████████████████████████████████████████████████████▍                                   | 3729/4770 [01:42<00:27, 38.18it/s]\u001b[A\n",
      " 78%|███████████████████████████████████████████████████████████████████████████████████████████████████████████████████████████████▋                                   | 3735/4770 [01:42<00:24, 41.86it/s]\u001b[A\n",
      " 78%|███████████████████████████████████████████████████████████████████████████████████████████████████████████████████████████████▊                                   | 3741/4770 [01:42<00:22, 45.17it/s]\u001b[A\n",
      " 79%|████████████████████████████████████████████████████████████████████████████████████████████████████████████████████████████████                                   | 3747/4770 [01:42<00:22, 45.38it/s]\u001b[A\n",
      " 79%|████████████████████████████████████████████████████████████████████████████████████████████████████████████████████████████████▏                                  | 3753/4770 [01:42<00:20, 48.89it/s]\u001b[A\n",
      " 79%|████████████████████████████████████████████████████████████████████████████████████████████████████████████████████████████████▍                                  | 3760/4770 [01:42<00:19, 52.17it/s]\u001b[A\n",
      " 79%|████████████████████████████████████████████████████████████████████████████████████████████████████████████████████████████████▋                                  | 3766/4770 [01:43<00:42, 23.59it/s]\u001b[A\n",
      " 79%|████████████████████████████████████████████████████████████████████████████████████████████████████████████████████████████████▉                                  | 3772/4770 [01:43<00:35, 27.83it/s]\u001b[A\n",
      " 79%|█████████████████████████████████████████████████████████████████████████████████████████████████████████████████████████████████                                  | 3778/4770 [01:43<00:30, 32.65it/s]\u001b[A\n",
      " 79%|█████████████████████████████████████████████████████████████████████████████████████████████████████████████████████████████████▎                                 | 3784/4770 [01:43<00:26, 37.21it/s]\u001b[A\n",
      " 79%|█████████████████████████████████████████████████████████████████████████████████████████████████████████████████████████████████▌                                 | 3790/4770 [01:43<00:23, 41.17it/s]\u001b[A\n",
      " 80%|█████████████████████████████████████████████████████████████████████████████████████████████████████████████████████████████████▋                                 | 3796/4770 [01:43<00:23, 41.67it/s]\u001b[A\n",
      " 80%|█████████████████████████████████████████████████████████████████████████████████████████████████████████████████████████████████▉                                 | 3803/4770 [01:43<00:20, 46.70it/s]\u001b[A\n",
      " 80%|██████████████████████████████████████████████████████████████████████████████████████████████████████████████████████████████████▏                                | 3810/4770 [01:43<00:18, 50.61it/s]\u001b[A\n",
      " 80%|██████████████████████████████████████████████████████████████████████████████████████████████████████████████████████████████████▍                                | 3817/4770 [01:44<00:39, 24.36it/s]\u001b[A\n"
     ]
    },
    {
     "name": "stderr",
     "output_type": "stream",
     "text": [
      " 80%|██████████████████████████████████████████████████████████████████████████████████████████████████████████████████████████████████▌                                | 3822/4770 [01:44<00:34, 27.66it/s]\u001b[A\n",
      " 80%|██████████████████████████████████████████████████████████████████████████████████████████████████████████████████████████████████▊                                | 3828/4770 [01:44<00:29, 32.17it/s]\u001b[A\n",
      " 80%|███████████████████████████████████████████████████████████████████████████████████████████████████████████████████████████████████                                | 3834/4770 [01:44<00:25, 36.75it/s]\u001b[A\n",
      " 81%|███████████████████████████████████████████████████████████████████████████████████████████████████████████████████████████████████▏                               | 3840/4770 [01:45<00:22, 40.76it/s]\u001b[A\n",
      " 81%|███████████████████████████████████████████████████████████████████████████████████████████████████████████████████████████████████▍                               | 3846/4770 [01:45<00:20, 44.27it/s]\u001b[A\n",
      " 81%|███████████████████████████████████████████████████████████████████████████████████████████████████████████████████████████████████▋                               | 3852/4770 [01:45<00:20, 44.00it/s]\u001b[A\n",
      " 81%|███████████████████████████████████████████████████████████████████████████████████████████████████████████████████████████████████▊                               | 3858/4770 [01:45<00:19, 47.78it/s]\u001b[A\n",
      " 81%|████████████████████████████████████████████████████████████████████████████████████████████████████████████████████████████████████                               | 3864/4770 [01:45<00:17, 50.72it/s]\u001b[A\n",
      " 81%|████████████████████████████████████████████████████████████████████████████████████████████████████████████████████████████████████▏                              | 3870/4770 [01:46<00:39, 22.78it/s]\u001b[A\n",
      " 81%|████████████████████████████████████████████████████████████████████████████████████████████████████████████████████████████████████▍                              | 3875/4770 [01:46<00:33, 26.55it/s]\u001b[A\n",
      " 81%|████████████████████████████████████████████████████████████████████████████████████████████████████████████████████████████████████▌                              | 3881/4770 [01:46<00:28, 31.40it/s]\u001b[A\n",
      " 81%|████████████████████████████████████████████████████████████████████████████████████████████████████████████████████████████████████▊                              | 3887/4770 [01:46<00:24, 36.43it/s]\u001b[A\n",
      " 82%|█████████████████████████████████████████████████████████████████████████████████████████████████████████████████████████████████████                              | 3893/4770 [01:46<00:21, 40.50it/s]\u001b[A\n",
      " 82%|█████████████████████████████████████████████████████████████████████████████████████████████████████████████████████████████████████▏                             | 3899/4770 [01:46<00:19, 43.88it/s]\u001b[A\n",
      " 82%|█████████████████████████████████████████████████████████████████████████████████████████████████████████████████████████████████████▍                             | 3905/4770 [01:46<00:19, 44.36it/s]\u001b[A\n",
      " 82%|█████████████████████████████████████████████████████████████████████████████████████████████████████████████████████████████████████▋                             | 3912/4770 [01:46<00:17, 48.59it/s]\u001b[A\n",
      " 82%|█████████████████████████████████████████████████████████████████████████████████████████████████████████████████████████████████████▉                             | 3919/4770 [01:46<00:16, 51.99it/s]\u001b[A\n",
      " 82%|██████████████████████████████████████████████████████████████████████████████████████████████████████████████████████████████████████                             | 3925/4770 [01:47<00:35, 23.76it/s]\u001b[A\n",
      " 82%|██████████████████████████████████████████████████████████████████████████████████████████████████████████████████████████████████████▎                            | 3930/4770 [01:47<00:31, 26.79it/s]\u001b[A\n",
      " 83%|██████████████████████████████████████████████████████████████████████████████████████████████████████████████████████████████████████▌                            | 3936/4770 [01:47<00:26, 31.45it/s]\u001b[A\n",
      " 83%|██████████████████████████████████████████████████████████████████████████████████████████████████████████████████████████████████████▋                            | 3942/4770 [01:47<00:22, 36.32it/s]\u001b[A\n",
      " 83%|██████████████████████████████████████████████████████████████████████████████████████████████████████████████████████████████████████▉                            | 3948/4770 [01:48<00:20, 40.67it/s]\u001b[A\n",
      " 83%|███████████████████████████████████████████████████████████████████████████████████████████████████████████████████████████████████████                            | 3954/4770 [01:48<00:18, 44.16it/s]\u001b[A\n",
      " 83%|███████████████████████████████████████████████████████████████████████████████████████████████████████████████████████████████████████▎                           | 3960/4770 [01:48<00:18, 44.12it/s]\u001b[A\n",
      " 83%|███████████████████████████████████████████████████████████████████████████████████████████████████████████████████████████████████████▌                           | 3966/4770 [01:48<00:16, 47.90it/s]\u001b[A\n",
      " 83%|███████████████████████████████████████████████████████████████████████████████████████████████████████████████████████████████████████▋                           | 3972/4770 [01:48<00:15, 50.88it/s]\u001b[A\n",
      " 83%|███████████████████████████████████████████████████████████████████████████████████████████████████████████████████████████████████████▉                           | 3978/4770 [01:49<00:33, 23.61it/s]\u001b[A\n",
      " 84%|████████████████████████████████████████████████████████████████████████████████████████████████████████████████████████████████████████                           | 3983/4770 [01:49<00:28, 27.33it/s]\u001b[A\n",
      " 84%|████████████████████████████████████████████████████████████████████████████████████████████████████████████████████████████████████████▎                          | 3988/4770 [01:49<00:25, 31.20it/s]\u001b[A\n",
      " 84%|████████████████████████████████████████████████████████████████████████████████████████████████████████████████████████████████████████▍                          | 3994/4770 [01:49<00:21, 36.51it/s]\u001b[A\n",
      " 84%|████████████████████████████████████████████████████████████████████████████████████████████████████████████████████████████████████████▋                          | 4000/4770 [01:49<00:18, 40.82it/s]\u001b[A\n",
      " 84%|████████████████████████████████████████████████████████████████████████████████████████████████████████████████████████████████████████▉                          | 4006/4770 [01:49<00:17, 44.52it/s]\u001b[A\n",
      " 84%|█████████████████████████████████████████████████████████████████████████████████████████████████████████████████████████████████████████                          | 4012/4770 [01:49<00:17, 44.14it/s]\u001b[A\n",
      " 84%|█████████████████████████████████████████████████████████████████████████████████████████████████████████████████████████████████████████▎                         | 4019/4770 [01:49<00:15, 48.70it/s]\u001b[A\n",
      " 84%|█████████████████████████████████████████████████████████████████████████████████████████████████████████████████████████████████████████▌                         | 4025/4770 [01:49<00:14, 51.25it/s]\u001b[A\n",
      " 85%|█████████████████████████████████████████████████████████████████████████████████████████████████████████████████████████████████████████▋                         | 4031/4770 [01:50<00:30, 24.28it/s]\u001b[A\n",
      " 85%|█████████████████████████████████████████████████████████████████████████████████████████████████████████████████████████████████████████▉                         | 4036/4770 [01:50<00:26, 27.57it/s]\u001b[A\n",
      " 85%|██████████████████████████████████████████████████████████████████████████████████████████████████████████████████████████████████████████                         | 4042/4770 [01:50<00:22, 32.20it/s]\u001b[A\n",
      " 85%|██████████████████████████████████████████████████████████████████████████████████████████████████████████████████████████████████████████▎                        | 4048/4770 [01:50<00:19, 37.35it/s]\u001b[A\n"
     ]
    },
    {
     "name": "stderr",
     "output_type": "stream",
     "text": [
      " 85%|██████████████████████████████████████████████████████████████████████████████████████████████████████████████████████████████████████████▌                        | 4054/4770 [01:50<00:17, 41.59it/s]\u001b[A\n",
      " 85%|██████████████████████████████████████████████████████████████████████████████████████████████████████████████████████████████████████████▋                        | 4060/4770 [01:51<00:15, 44.99it/s]\u001b[A\n",
      " 85%|██████████████████████████████████████████████████████████████████████████████████████████████████████████████████████████████████████████▉                        | 4066/4770 [01:51<00:15, 44.45it/s]\u001b[A\n",
      " 85%|███████████████████████████████████████████████████████████████████████████████████████████████████████████████████████████████████████████▏                       | 4073/4770 [01:51<00:14, 48.89it/s]\u001b[A\n",
      " 86%|███████████████████████████████████████████████████████████████████████████████████████████████████████████████████████████████████████████▍                       | 4080/4770 [01:51<00:13, 52.27it/s]\u001b[A\n",
      " 86%|███████████████████████████████████████████████████████████████████████████████████████████████████████████████████████████████████████████▋                       | 4086/4770 [01:52<00:29, 23.28it/s]\u001b[A\n",
      " 86%|███████████████████████████████████████████████████████████████████████████████████████████████████████████████████████████████████████████▊                       | 4091/4770 [01:52<00:25, 26.62it/s]\u001b[A\n",
      " 86%|████████████████████████████████████████████████████████████████████████████████████████████████████████████████████████████████████████████                       | 4097/4770 [01:52<00:21, 31.88it/s]\u001b[A\n",
      " 86%|████████████████████████████████████████████████████████████████████████████████████████████████████████████████████████████████████████████▏                      | 4103/4770 [01:52<00:18, 36.93it/s]\u001b[A\n",
      " 86%|████████████████████████████████████████████████████████████████████████████████████████████████████████████████████████████████████████████▍                      | 4109/4770 [01:52<00:16, 40.75it/s]\u001b[A\n",
      " 86%|████████████████████████████████████████████████████████████████████████████████████████████████████████████████████████████████████████████▌                      | 4115/4770 [01:52<00:15, 41.14it/s]\u001b[A\n",
      " 86%|████████████████████████████████████████████████████████████████████████████████████████████████████████████████████████████████████████████▊                      | 4122/4770 [01:52<00:13, 46.32it/s]\u001b[A\n",
      " 87%|█████████████████████████████████████████████████████████████████████████████████████████████████████████████████████████████████████████████                      | 4129/4770 [01:52<00:12, 50.21it/s]\u001b[A\n",
      " 87%|█████████████████████████████████████████████████████████████████████████████████████████████████████████████████████████████████████████████▎                     | 4135/4770 [01:53<00:26, 24.27it/s]\u001b[A\n",
      " 87%|█████████████████████████████████████████████████████████████████████████████████████████████████████████████████████████████████████████████▍                     | 4140/4770 [01:53<00:22, 27.64it/s]\u001b[A\n",
      " 87%|█████████████████████████████████████████████████████████████████████████████████████████████████████████████████████████████████████████████▋                     | 4146/4770 [01:53<00:19, 32.19it/s]\u001b[A\n",
      " 87%|█████████████████████████████████████████████████████████████████████████████████████████████████████████████████████████████████████████████▉                     | 4152/4770 [01:53<00:16, 37.02it/s]\u001b[A\n",
      " 87%|██████████████████████████████████████████████████████████████████████████████████████████████████████████████████████████████████████████████                     | 4158/4770 [01:53<00:14, 41.31it/s]\u001b[A\n",
      " 87%|██████████████████████████████████████████████████████████████████████████████████████████████████████████████████████████████████████████████▎                    | 4164/4770 [01:53<00:13, 44.69it/s]\u001b[A\n",
      " 87%|██████████████████████████████████████████████████████████████████████████████████████████████████████████████████████████████████████████████▍                    | 4170/4770 [01:54<00:13, 44.36it/s]\u001b[A\n",
      " 88%|██████████████████████████████████████████████████████████████████████████████████████████████████████████████████████████████████████████████▋                    | 4176/4770 [01:54<00:12, 48.11it/s]\u001b[A\n",
      " 88%|██████████████████████████████████████████████████████████████████████████████████████████████████████████████████████████████████████████████▉                    | 4182/4770 [01:54<00:11, 51.02it/s]\u001b[A\n",
      " 88%|███████████████████████████████████████████████████████████████████████████████████████████████████████████████████████████████████████████████                    | 4188/4770 [01:54<00:25, 23.13it/s]\u001b[A\n",
      " 88%|███████████████████████████████████████████████████████████████████████████████████████████████████████████████████████████████████████████████▎                   | 4194/4770 [01:54<00:20, 27.79it/s]\u001b[A\n",
      " 88%|███████████████████████████████████████████████████████████████████████████████████████████████████████████████████████████████████████████████▌                   | 4200/4770 [01:55<00:17, 32.32it/s]\u001b[A\n",
      " 88%|███████████████████████████████████████████████████████████████████████████████████████████████████████████████████████████████████████████████▋                   | 4206/4770 [01:55<00:15, 37.04it/s]\u001b[A\n",
      " 88%|███████████████████████████████████████████████████████████████████████████████████████████████████████████████████████████████████████████████▉                   | 4212/4770 [01:55<00:13, 41.13it/s]\u001b[A\n",
      " 88%|████████████████████████████████████████████████████████████████████████████████████████████████████████████████████████████████████████████████▏                  | 4218/4770 [01:55<00:12, 44.58it/s]\u001b[A\n",
      " 89%|████████████████████████████████████████████████████████████████████████████████████████████████████████████████████████████████████████████████▎                  | 4224/4770 [01:55<00:12, 44.41it/s]\u001b[A\n",
      " 89%|████████████████████████████████████████████████████████████████████████████████████████████████████████████████████████████████████████████████▌                  | 4231/4770 [01:55<00:11, 48.92it/s]\u001b[A\n",
      " 89%|████████████████████████████████████████████████████████████████████████████████████████████████████████████████████████████████████████████████▊                  | 4237/4770 [01:55<00:10, 51.32it/s]\u001b[A\n",
      " 89%|████████████████████████████████████████████████████████████████████████████████████████████████████████████████████████████████████████████████▉                  | 4243/4770 [01:56<00:22, 23.35it/s]\u001b[A\n",
      " 89%|█████████████████████████████████████████████████████████████████████████████████████████████████████████████████████████████████████████████████▏                 | 4248/4770 [01:56<00:19, 26.44it/s]\u001b[A\n",
      " 89%|█████████████████████████████████████████████████████████████████████████████████████████████████████████████████████████████████████████████████▎                 | 4254/4770 [01:56<00:16, 31.18it/s]\u001b[A\n",
      " 89%|█████████████████████████████████████████████████████████████████████████████████████████████████████████████████████████████████████████████████▌                 | 4260/4770 [01:56<00:14, 36.13it/s]\u001b[A\n",
      " 89%|█████████████████████████████████████████████████████████████████████████████████████████████████████████████████████████████████████████████████▊                 | 4266/4770 [01:56<00:12, 40.44it/s]\u001b[A\n",
      " 90%|█████████████████████████████████████████████████████████████████████████████████████████████████████████████████████████████████████████████████▉                 | 4272/4770 [01:56<00:11, 44.03it/s]\u001b[A\n",
      " 90%|██████████████████████████████████████████████████████████████████████████████████████████████████████████████████████████████████████████████████▏                | 4278/4770 [01:57<00:11, 44.04it/s]\u001b[A\n",
      " 90%|██████████████████████████████████████████████████████████████████████████████████████████████████████████████████████████████████████████████████▍                | 4284/4770 [01:57<00:10, 47.85it/s]\u001b[A\n"
     ]
    },
    {
     "name": "stderr",
     "output_type": "stream",
     "text": [
      " 90%|██████████████████████████████████████████████████████████████████████████████████████████████████████████████████████████████████████████████████▌                | 4290/4770 [01:57<00:09, 50.85it/s]\u001b[A\n",
      " 90%|██████████████████████████████████████████████████████████████████████████████████████████████████████████████████████████████████████████████████▊                | 4296/4770 [01:57<00:20, 22.70it/s]\u001b[A\n",
      " 90%|███████████████████████████████████████████████████████████████████████████████████████████████████████████████████████████████████████████████████                | 4302/4770 [01:57<00:17, 27.21it/s]\u001b[A\n",
      " 90%|███████████████████████████████████████████████████████████████████████████████████████████████████████████████████████████████████████████████████▏               | 4308/4770 [01:58<00:14, 31.96it/s]\u001b[A\n",
      " 90%|███████████████████████████████████████████████████████████████████████████████████████████████████████████████████████████████████████████████████▍               | 4314/4770 [01:58<00:12, 36.83it/s]\u001b[A\n",
      " 91%|███████████████████████████████████████████████████████████████████████████████████████████████████████████████████████████████████████████████████▌               | 4320/4770 [01:58<00:10, 40.92it/s]\u001b[A\n",
      " 91%|███████████████████████████████████████████████████████████████████████████████████████████████████████████████████████████████████████████████████▊               | 4326/4770 [01:58<00:10, 41.44it/s]\u001b[A\n",
      " 91%|████████████████████████████████████████████████████████████████████████████████████████████████████████████████████████████████████████████████████               | 4333/4770 [01:58<00:09, 46.41it/s]\u001b[A\n",
      " 91%|████████████████████████████████████████████████████████████████████████████████████████████████████████████████████████████████████████████████████▎              | 4340/4770 [01:58<00:08, 50.19it/s]\u001b[A\n",
      " 91%|████████████████████████████████████████████████████████████████████████████████████████████████████████████████████████████████████████████████████▌              | 4347/4770 [01:59<00:16, 26.14it/s]\u001b[A\n",
      " 91%|████████████████████████████████████████████████████████████████████████████████████████████████████████████████████████████████████████████████████▋              | 4352/4770 [01:59<00:17, 23.81it/s]\u001b[A\n",
      " 91%|████████████████████████████████████████████████████████████████████████████████████████████████████████████████████████████████████████████████████▊              | 4356/4770 [01:59<00:16, 24.83it/s]\u001b[A\n",
      " 91%|█████████████████████████████████████████████████████████████████████████████████████████████████████████████████████████████████████████████████████              | 4362/4770 [01:59<00:13, 30.30it/s]\u001b[A\n",
      " 92%|█████████████████████████████████████████████████████████████████████████████████████████████████████████████████████████████████████████████████████▎             | 4368/4770 [01:59<00:11, 35.38it/s]\u001b[A\n",
      " 92%|█████████████████████████████████████████████████████████████████████████████████████████████████████████████████████████████████████████████████████▍             | 4374/4770 [01:59<00:09, 39.65it/s]\u001b[A\n",
      " 92%|█████████████████████████████████████████████████████████████████████████████████████████████████████████████████████████████████████████████████████▋             | 4379/4770 [02:00<00:09, 39.66it/s]\u001b[A\n",
      " 92%|█████████████████████████████████████████████████████████████████████████████████████████████████████████████████████████████████████████████████████▉             | 4386/4770 [02:00<00:08, 45.08it/s]\u001b[A\n",
      " 92%|██████████████████████████████████████████████████████████████████████████████████████████████████████████████████████████████████████████████████████             | 4393/4770 [02:00<00:07, 49.35it/s]\u001b[A\n",
      " 92%|██████████████████████████████████████████████████████████████████████████████████████████████████████████████████████████████████████████████████████▎            | 4400/4770 [02:00<00:15, 23.95it/s]\u001b[A\n",
      " 92%|██████████████████████████████████████████████████████████████████████████████████████████████████████████████████████████████████████████████████████▌            | 4405/4770 [02:00<00:13, 27.47it/s]\u001b[A\n",
      " 92%|██████████████████████████████████████████████████████████████████████████████████████████████████████████████████████████████████████████████████████▋            | 4410/4770 [02:01<00:12, 29.70it/s]\u001b[A\n",
      " 93%|██████████████████████████████████████████████████████████████████████████████████████████████████████████████████████████████████████████████████████▉            | 4416/4770 [02:01<00:10, 34.90it/s]\u001b[A\n",
      " 93%|███████████████████████████████████████████████████████████████████████████████████████████████████████████████████████████████████████████████████████            | 4422/4770 [02:01<00:08, 39.48it/s]\u001b[A\n",
      " 93%|███████████████████████████████████████████████████████████████████████████████████████████████████████████████████████████████████████████████████████▎           | 4428/4770 [02:01<00:07, 43.25it/s]\u001b[A\n",
      " 93%|███████████████████████████████████████████████████████████████████████████████████████████████████████████████████████████████████████████████████████▌           | 4434/4770 [02:01<00:07, 43.54it/s]\u001b[A\n",
      " 93%|███████████████████████████████████████████████████████████████████████████████████████████████████████████████████████████████████████████████████████▊           | 4441/4770 [02:01<00:06, 48.04it/s]\u001b[A\n",
      " 93%|███████████████████████████████████████████████████████████████████████████████████████████████████████████████████████████████████████████████████████▉           | 4447/4770 [02:01<00:06, 50.87it/s]\u001b[A\n",
      " 93%|████████████████████████████████████████████████████████████████████████████████████████████████████████████████████████████████████████████████████████▏          | 4453/4770 [02:02<00:13, 23.94it/s]\u001b[A\n",
      " 93%|████████████████████████████████████████████████████████████████████████████████████████████████████████████████████████████████████████████████████████▎          | 4459/4770 [02:02<00:10, 28.97it/s]\u001b[A\n",
      " 94%|████████████████████████████████████████████████████████████████████████████████████████████████████████████████████████████████████████████████████████▌          | 4464/4770 [02:02<00:09, 31.94it/s]\u001b[A\n",
      " 94%|████████████████████████████████████████████████████████████████████████████████████████████████████████████████████████████████████████████████████████▋          | 4470/4770 [02:02<00:08, 37.00it/s]\u001b[A\n",
      " 94%|████████████████████████████████████████████████████████████████████████████████████████████████████████████████████████████████████████████████████████▉          | 4476/4770 [02:02<00:07, 41.29it/s]\u001b[A\n",
      " 94%|█████████████████████████████████████████████████████████████████████████████████████████████████████████████████████████████████████████████████████████▏         | 4482/4770 [02:02<00:06, 44.93it/s]\u001b[A\n",
      " 94%|█████████████████████████████████████████████████████████████████████████████████████████████████████████████████████████████████████████████████████████▎         | 4488/4770 [02:03<00:06, 44.64it/s]\u001b[A\n",
      " 94%|█████████████████████████████████████████████████████████████████████████████████████████████████████████████████████████████████████████████████████████▌         | 4495/4770 [02:03<00:05, 49.11it/s]\u001b[A\n",
      " 94%|█████████████████████████████████████████████████████████████████████████████████████████████████████████████████████████████████████████████████████████▊         | 4501/4770 [02:03<00:05, 51.48it/s]\u001b[A\n",
      " 94%|██████████████████████████████████████████████████████████████████████████████████████████████████████████████████████████████████████████████████████████         | 4507/4770 [02:03<00:11, 23.81it/s]\u001b[A\n",
      " 95%|██████████████████████████████████████████████████████████████████████████████████████████████████████████████████████████████████████████████████████████▏        | 4512/4770 [02:03<00:09, 27.49it/s]\u001b[A\n",
      " 95%|██████████████████████████████████████████████████████████████████████████████████████████████████████████████████████████████████████████████████████████▍        | 4518/4770 [02:04<00:07, 32.23it/s]\u001b[A\n"
     ]
    },
    {
     "name": "stderr",
     "output_type": "stream",
     "text": [
      " 95%|██████████████████████████████████████████████████████████████████████████████████████████████████████████████████████████████████████████████████████████▌        | 4524/4770 [02:04<00:06, 37.19it/s]\u001b[A\n",
      " 95%|██████████████████████████████████████████████████████████████████████████████████████████████████████████████████████████████████████████████████████████▊        | 4530/4770 [02:04<00:05, 41.44it/s]\u001b[A\n",
      " 95%|███████████████████████████████████████████████████████████████████████████████████████████████████████████████████████████████████████████████████████████        | 4536/4770 [02:04<00:05, 44.83it/s]\u001b[A\n",
      " 95%|███████████████████████████████████████████████████████████████████████████████████████████████████████████████████████████████████████████████████████████▏       | 4542/4770 [02:04<00:05, 45.06it/s]\u001b[A\n",
      " 95%|███████████████████████████████████████████████████████████████████████████████████████████████████████████████████████████████████████████████████████████▍       | 4548/4770 [02:04<00:04, 48.65it/s]\u001b[A\n",
      " 95%|███████████████████████████████████████████████████████████████████████████████████████████████████████████████████████████████████████████████████████████▌       | 4554/4770 [02:04<00:04, 51.57it/s]\u001b[A\n",
      " 96%|███████████████████████████████████████████████████████████████████████████████████████████████████████████████████████████████████████████████████████████▊       | 4560/4770 [02:05<00:09, 22.70it/s]\u001b[A\n",
      " 96%|███████████████████████████████████████████████████████████████████████████████████████████████████████████████████████████████████████████████████████████▉       | 4565/4770 [02:05<00:07, 26.46it/s]\u001b[A\n",
      " 96%|████████████████████████████████████████████████████████████████████████████████████████████████████████████████████████████████████████████████████████████▏      | 4570/4770 [02:05<00:06, 30.21it/s]\u001b[A\n",
      " 96%|████████████████████████████████████████████████████████████████████████████████████████████████████████████████████████████████████████████████████████████▎      | 4576/4770 [02:05<00:05, 35.56it/s]\u001b[A\n",
      " 96%|████████████████████████████████████████████████████████████████████████████████████████████████████████████████████████████████████████████████████████████▌      | 4582/4770 [02:05<00:04, 39.95it/s]\u001b[A\n",
      " 96%|████████████████████████████████████████████████████████████████████████████████████████████████████████████████████████████████████████████████████████████▊      | 4588/4770 [02:05<00:04, 43.65it/s]\u001b[A\n",
      " 96%|████████████████████████████████████████████████████████████████████████████████████████████████████████████████████████████████████████████████████████████▉      | 4594/4770 [02:05<00:04, 43.89it/s]\u001b[A\n",
      " 96%|█████████████████████████████████████████████████████████████████████████████████████████████████████████████████████████████████████████████████████████████▏     | 4601/4770 [02:06<00:03, 48.35it/s]\u001b[A\n",
      " 97%|█████████████████████████████████████████████████████████████████████████████████████████████████████████████████████████████████████████████████████████████▍     | 4608/4770 [02:06<00:03, 51.79it/s]\u001b[A\n",
      " 97%|█████████████████████████████████████████████████████████████████████████████████████████████████████████████████████████████████████████████████████████████▋     | 4614/4770 [02:06<00:06, 23.51it/s]\u001b[A\n",
      " 97%|█████████████████████████████████████████████████████████████████████████████████████████████████████████████████████████████████████████████████████████████▊     | 4620/4770 [02:06<00:05, 28.16it/s]\u001b[A\n",
      " 97%|██████████████████████████████████████████████████████████████████████████████████████████████████████████████████████████████████████████████████████████████     | 4626/4770 [02:07<00:04, 32.68it/s]\u001b[A\n",
      " 97%|██████████████████████████████████████████████████████████████████████████████████████████████████████████████████████████████████████████████████████████████▎    | 4632/4770 [02:07<00:03, 37.19it/s]\u001b[A\n",
      " 97%|██████████████████████████████████████████████████████████████████████████████████████████████████████████████████████████████████████████████████████████████▍    | 4638/4770 [02:07<00:03, 41.38it/s]\u001b[A\n",
      " 97%|██████████████████████████████████████████████████████████████████████████████████████████████████████████████████████████████████████████████████████████████▋    | 4644/4770 [02:07<00:03, 41.36it/s]\u001b[A\n",
      " 98%|██████████████████████████████████████████████████████████████████████████████████████████████████████████████████████████████████████████████████████████████▉    | 4651/4770 [02:07<00:02, 46.39it/s]\u001b[A\n",
      " 98%|███████████████████████████████████████████████████████████████████████████████████████████████████████████████████████████████████████████████████████████████▏   | 4658/4770 [02:07<00:02, 50.35it/s]\u001b[A\n",
      " 98%|███████████████████████████████████████████████████████████████████████████████████████████████████████████████████████████████████████████████████████████████▍   | 4665/4770 [02:08<00:04, 25.27it/s]\u001b[A\n",
      " 98%|███████████████████████████████████████████████████████████████████████████████████████████████████████████████████████████████████████████████████████████████▌   | 4670/4770 [02:08<00:03, 28.05it/s]\u001b[A\n",
      " 98%|███████████████████████████████████████████████████████████████████████████████████████████████████████████████████████████████████████████████████████████████▊   | 4676/4770 [02:08<00:02, 32.81it/s]\u001b[A\n",
      " 98%|███████████████████████████████████████████████████████████████████████████████████████████████████████████████████████████████████████████████████████████████▉   | 4682/4770 [02:08<00:02, 37.40it/s]\u001b[A\n",
      " 98%|████████████████████████████████████████████████████████████████████████████████████████████████████████████████████████████████████████████████████████████████▏  | 4688/4770 [02:08<00:01, 41.35it/s]\u001b[A\n",
      " 98%|████████████████████████████████████████████████████████████████████████████████████████████████████████████████████████████████████████████████████████████████▍  | 4694/4770 [02:08<00:01, 44.81it/s]\u001b[A\n",
      " 99%|████████████████████████████████████████████████████████████████████████████████████████████████████████████████████████████████████████████████████████████████▌  | 4700/4770 [02:08<00:01, 44.66it/s]\u001b[A\n",
      " 99%|████████████████████████████████████████████████████████████████████████████████████████████████████████████████████████████████████████████████████████████████▊  | 4706/4770 [02:08<00:01, 48.35it/s]\u001b[A\n",
      " 99%|█████████████████████████████████████████████████████████████████████████████████████████████████████████████████████████████████████████████████████████████████  | 4712/4770 [02:09<00:01, 51.33it/s]\u001b[A\n",
      " 99%|█████████████████████████████████████████████████████████████████████████████████████████████████████████████████████████████████████████████████████████████████▏ | 4718/4770 [02:09<00:02, 23.33it/s]\u001b[A\n",
      " 99%|█████████████████████████████████████████████████████████████████████████████████████████████████████████████████████████████████████████████████████████████████▍ | 4724/4770 [02:09<00:01, 28.31it/s]\u001b[A\n",
      " 99%|█████████████████████████████████████████████████████████████████████████████████████████████████████████████████████████████████████████████████████████████████▋ | 4730/4770 [02:09<00:01, 32.72it/s]\u001b[A\n",
      " 99%|█████████████████████████████████████████████████████████████████████████████████████████████████████████████████████████████████████████████████████████████████▊ | 4736/4770 [02:09<00:00, 37.68it/s]\u001b[A\n",
      " 99%|██████████████████████████████████████████████████████████████████████████████████████████████████████████████████████████████████████████████████████████████████ | 4742/4770 [02:10<00:00, 41.52it/s]\u001b[A\n",
      "100%|██████████████████████████████████████████████████████████████████████████████████████████████████████████████████████████████████████████████████████████████████▏| 4748/4770 [02:10<00:00, 44.83it/s]\u001b[A\n",
      "100%|██████████████████████████████████████████████████████████████████████████████████████████████████████████████████████████████████████████████████████████████████▍| 4754/4770 [02:10<00:00, 45.39it/s]\u001b[A\n"
     ]
    },
    {
     "name": "stderr",
     "output_type": "stream",
     "text": [
      "100%|██████████████████████████████████████████████████████████████████████████████████████████████████████████████████████████████████████████████████████████████████▋| 4761/4770 [02:10<00:00, 49.77it/s]\u001b[A\n",
      "100%|██████████████████████████████████████████████████████████████████████████████████████████████████████████████████████████████████████████████████████████████████▉| 4767/4770 [02:10<00:00, 51.12it/s]\u001b[A"
     ]
    }
   ],
   "source": [
    "EPOCHS = 90\n",
    "progress_bar = tqdm(range(EPOCHS * len(dataloader['train'])))\n",
    "for epoch in range(EPOCHS):\n",
    "    epoch_loss = 0\n",
    "    for center, context in dataloader['train']:\n",
    "        center, context = center.to(device), context.to(device)\n",
    "        optimizer.zero_grad()\n",
    "        logits = model(input_=context)\n",
    "        loss = loss_fn(logits, center)\n",
    "        epoch_loss += loss.item()\n",
    "        loss.backward()\n",
    "        optimizer.step()\n",
    "        progress_bar.update(1)\n",
    "    epoch_loss /= len(dataloader['train'])\n",
    "    running_loss.append(epoch_loss)"
   ]
  },
  {
   "cell_type": "code",
   "execution_count": 32,
   "id": "52fb3af2",
   "metadata": {},
   "outputs": [
    {
     "name": "stdout",
     "output_type": "stream",
     "text": [
      "good [(137, 'great', 0.20833959802579738), (578, 'everyon', 0.2197420906167269), (389, 'hope', 0.22526707064736995), (111, 'day', 0.22786498855112736), (64, 'today', 0.22813740149598838), (418, 'friend', 0.22911838681096075), (0, '@user', 0.2325512774096805), (187, 'morn', 0.24707507998632172), (188, 'one', 0.24736691575519343), (345, 'go', 0.24794624600810977)] \n",
      "\n",
      "father [(799, 'dad', 0.13724676669714753), (821, '#fathersday', 0.2312980559650395), (111, 'day', 0.2418103365692682), (822, 'wish', 0.28093457919913045), (112, 'happi', 0.28758843910042786), (14, 'love', 0.30236388911332357), (798, 'wonder', 0.3081727839458056), (757, 'world', 0.3223546668793964), (378, 'us', 0.33502965680230656), (389, 'hope', 0.3352010339240056)] \n",
      "\n",
      "school [(33, 'year', 0.32645289598564575), (590, 'meet', 0.3498776993646332), (344, 'week', 0.365671808239988), (111, 'day', 0.36626775747857554), (231, 'first', 0.37144252437102665), (371, 'back', 0.37788622081285494), (30, 'tomorrow', 0.3927732447651018), (814, 'home', 0.40054157975508986), (345, 'go', 0.40171086538065404), (64, 'today', 0.4090658907063187)] \n",
      "\n",
      "hate [(485, 'kill', 0.2866846564476898), (88, 'peopl', 0.3045420063308327), (781, 'would', 0.32797854056122433), (294, 'much', 0.3331628936218044), (121, 'say', 0.3384163306818807), (284, 'white', 0.3522624707635268), (10, 'dont', 0.3538694633908207), (419, 'still', 0.37210004297052046), (817, 'mani', 0.3794323672781683), (1701, 'hes', 0.38529191113289485)] \n",
      "\n"
     ]
    }
   ],
   "source": [
    "wordvecs_100_epochs = model.expand.weight.cpu().detach().numpy()\n",
    "dmat_100_epochs = get_distance_matrix(wordvecs_100_epochs, 'cosine')\n",
    "for word in tokens:\n",
    "    print(word, [t for t in get_k_similar_words(word, dmat_100_epochs)], \"\\n\")"
   ]
  },
  {
   "cell_type": "code",
   "execution_count": 31,
   "id": "6d77b8de",
   "metadata": {},
   "outputs": [
    {
     "data": {
      "text/plain": [
       "[<matplotlib.lines.Line2D at 0x7f626341bc70>]"
      ]
     },
     "execution_count": 31,
     "metadata": {},
     "output_type": "execute_result"
    },
    {
     "data": {
      "image/png": "[encoded data removed]",
      "text/plain": [
       "<Figure size 432x288 with 1 Axes>"
      ]
     },
     "metadata": {
      "needs_background": "light"
     },
     "output_type": "display_data"
    },
    {
     "name": "stderr",
     "output_type": "stream",
     "text": [
      "\n",
      "100%|███████████████████████████████████████████████████████████████████████████████████████████████████████████████████████████████████████████████████████████████████| 4770/4770 [02:23<00:00, 51.12it/s]\u001b[A"
     ]
    }
   ],
   "source": [
    "import matplotlib.pyplot as plt\n",
    "plt.plot(running_loss)"
   ]
  },
  {
   "cell_type": "code",
   "execution_count": null,
   "id": "e448b2e0",
   "metadata": {},
   "outputs": [],
   "source": []
  }
 ],
 "metadata": {
  "kernelspec": {
   "display_name": "Python 3",
   "language": "python",
   "name": "python3"
  },
  "language_info": {
   "codemirror_mode": {
    "name": "ipython",
    "version": 3
   },
   "file_extension": ".py",
   "mimetype": "text/x-python",
   "name": "python",
   "nbconvert_exporter": "python",
   "pygments_lexer": "ipython3",
   "version": "3.10.12"
  }
 },
 "nbformat": 4,
 "nbformat_minor": 5
}
