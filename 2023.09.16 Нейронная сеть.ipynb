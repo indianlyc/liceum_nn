{
 "cells": [
  {
   "cell_type": "markdown",
   "id": "95a873ed",
   "metadata": {
    "slideshow": {
     "slide_type": "slide"
    }
   },
   "source": [
    "![Нелинейная задача!](2023.09.16/00.jpg \"Нелинейная задача\")"
   ]
  },
  {
   "cell_type": "markdown",
   "id": "270d2f89",
   "metadata": {
    "slideshow": {
     "slide_type": "slide"
    }
   },
   "source": [
    "![Нелинейная задача!](2023.09.16/001.jpg \"Нелинейная задача\")"
   ]
  },
  {
   "cell_type": "markdown",
   "id": "0a5f3060",
   "metadata": {
    "slideshow": {
     "slide_type": "slide"
    }
   },
   "source": [
    "$w = min_{w} L(y_{train}, A(X_{train}, w))$  \n",
    "\n",
    "$w: \\frac{dL(y_{train}, A(X_{train}, w))}{dw} = 0$  \n",
    "\n",
    "$w: L^\\prime(y_{train}, A(X_{train}, w)) = 0$"
   ]
  },
  {
   "cell_type": "markdown",
   "id": "a56d6717",
   "metadata": {
    "slideshow": {
     "slide_type": "slide"
    }
   },
   "source": [
    "# Задача регрессии и классификации"
   ]
  },
  {
   "cell_type": "markdown",
   "id": "a0465cd3",
   "metadata": {
    "slideshow": {
     "slide_type": "slide"
    }
   },
   "source": [
    "![Нелинейная задача!](2023.09.16/0.png \"Нелинейная задача\")"
   ]
  },
  {
   "cell_type": "markdown",
   "id": "50320222",
   "metadata": {
    "slideshow": {
     "slide_type": "slide"
    }
   },
   "source": [
    "![Нелинейная задача!](2023.09.16/01.jpeg \"Нелинейная задача\")"
   ]
  },
  {
   "cell_type": "markdown",
   "id": "2b8f7cf3",
   "metadata": {
    "slideshow": {
     "slide_type": "slide"
    }
   },
   "source": [
    "### Пример данных для задачи классификации\n",
    "\n",
    "\n",
    "| Есть ли слово купи | Есть ли адрес в записной книжке | Длинна сообщения |  Спам |\n",
    "|----------|----------|----------|----------|\n",
    "| 1   | 0  | 50   |  1 |\n",
    "| 0    | 1   | 1500  | 0 |\n",
    "| 1    | 1 | 1   | 0 |"
   ]
  },
  {
   "cell_type": "markdown",
   "id": "35efaf2b",
   "metadata": {
    "slideshow": {
     "slide_type": "slide"
    }
   },
   "source": [
    "### Пример данных для задачи регрессии\n",
    "\n",
    "\n",
    "| Сколько комнат | Общее количество кв.м | Удаленность от метро м. | Новостройка |  Стоимость жилья |\n",
    "|----------|----------|----------|----------|----------|\n",
    "| 3  | 120  | 100   | 0 | 10000000 |\n",
    "| 2    | 60   | 1500  | 0 | 6000000 |\n",
    "| 1    | 40 | 500  | 1 | 6000000 |"
   ]
  },
  {
   "cell_type": "markdown",
   "id": "50a1315b",
   "metadata": {
    "slideshow": {
     "slide_type": "slide"
    }
   },
   "source": [
    "Функция для оценки качества для задачи классификации\n",
    "\n"
   ]
  },
  {
   "cell_type": "markdown",
   "id": "e45627ad",
   "metadata": {
    "slideshow": {
     "slide_type": "slide"
    }
   },
   "source": [
    "Функция для оценки качества для задачи регрессии:\n",
    "\n",
    "$L(y, y_{true}) = (y - y_{true})^2$"
   ]
  },
  {
   "cell_type": "markdown",
   "id": "03227660",
   "metadata": {
    "slideshow": {
     "slide_type": "slide"
    }
   },
   "source": [
    "# Основы нейронных сетей"
   ]
  },
  {
   "cell_type": "markdown",
   "id": "3521bd8e",
   "metadata": {
    "slideshow": {
     "slide_type": "slide"
    }
   },
   "source": [
    "Идея: взять дешевые и мощные методы из машинного обучения и объединить их"
   ]
  },
  {
   "cell_type": "markdown",
   "id": "d327e106",
   "metadata": {
    "slideshow": {
     "slide_type": "slide"
    }
   },
   "source": [
    "![Нелинейная задача!](2023.09.16/1.png \"Нелинейная задача\")"
   ]
  },
  {
   "cell_type": "markdown",
   "id": "2415a487",
   "metadata": {
    "slideshow": {
     "slide_type": "slide"
    }
   },
   "source": [
    "![Нелинейная задача!](2023.09.16/2.png \"Нелинейная задача\")"
   ]
  },
  {
   "cell_type": "markdown",
   "id": "6b626268",
   "metadata": {
    "slideshow": {
     "slide_type": "slide"
    }
   },
   "source": [
    "![Нелинейная задача!](2023.09.16/3.png \"Нелинейная задача\")"
   ]
  },
  {
   "cell_type": "markdown",
   "id": "955cc95b",
   "metadata": {
    "slideshow": {
     "slide_type": "slide"
    }
   },
   "source": [
    "![Нелинейная задача!](2023.09.16/4.png \"Нелинейная задача\")"
   ]
  },
  {
   "cell_type": "markdown",
   "id": "24622255",
   "metadata": {
    "slideshow": {
     "slide_type": "slide"
    }
   },
   "source": [
    "![Нелинейная задача!](2023.09.16/5.png \"Нелинейная задача\")"
   ]
  },
  {
   "cell_type": "markdown",
   "id": "eaf27b89",
   "metadata": {
    "slideshow": {
     "slide_type": "slide"
    }
   },
   "source": [
    "# Полносвязные нейронные сети"
   ]
  },
  {
   "cell_type": "markdown",
   "id": "9b33b31e",
   "metadata": {
    "slideshow": {
     "slide_type": "slide"
    }
   },
   "source": [
    "$\\vec{w} = (w_1, \\cdots, w_n)$  \n",
    "$\\vec{x} = (x_1, \\cdots, x_n)$"
   ]
  },
  {
   "cell_type": "markdown",
   "id": "8277f477",
   "metadata": {
    "slideshow": {
     "slide_type": "slide"
    }
   },
   "source": [
    "$y (w_1, \\cdots, w_n, x_1, \\cdots, x_n) = w_1 \\cdot x_1 + w_2 \\cdot x_2 + \\cdots + w_n \\cdot x_n$  \n",
    "$y (\\vec{w}, \\vec{x}) = w_1 \\cdot x_1 + w_2 \\cdot x_2 + \\cdots + w_n \\cdot x_n$"
   ]
  },
  {
   "cell_type": "markdown",
   "id": "9cbd1a0e",
   "metadata": {
    "slideshow": {
     "slide_type": "slide"
    }
   },
   "source": [
    "$y(\\vec{w}, \\vec{x}) = w_1 \\cdot x_1 + w_2 \\cdot x_2 + \\cdots + w_n \\cdot x_n =   \\langle \\vec{w} ,\\vec{x} \\rangle = \\sum_{i=1}^{n} w_ix_i = (w_1, \\cdots, w_n) \\begin{pmatrix} x_1 \\\\ \\vdots \\\\ x_n \\end{pmatrix}$"
   ]
  },
  {
   "cell_type": "markdown",
   "id": "98439f9e",
   "metadata": {
    "slideshow": {
     "slide_type": "slide"
    }
   },
   "source": [
    "$y(\\vec{w}, \\vec{x}) = w_1 \\cdot x_1 + w_2 \\cdot x_2 + \\cdots + w_n \\cdot x_n  = (w_1, \\cdots, w_n) \\begin{pmatrix} x_1 \\\\ \\vdots \\\\ x_n \\end{pmatrix}$"
   ]
  },
  {
   "cell_type": "markdown",
   "id": "b0cd88fa",
   "metadata": {
    "slideshow": {
     "slide_type": "slide"
    }
   },
   "source": [
    "\\begin{cases}\n",
    "   y_1(\\vec{w}, \\vec{x_1}) = w_1 \\cdot x_{11} + w_2 \\cdot x_{12} + \\cdots + w_n \\cdot x_{1n}\\\\\n",
    "   y_2(\\vec{w}, \\vec{x_2}) = w_1 \\cdot x_{21} + w_2 \\cdot x_{22} + \\cdots + w_n \\cdot x_{2n}\\\\\n",
    "   \\cdots\\\\\n",
    "   y_m(\\vec{w}, \\vec{x_m}) = w_1 \\cdot x_{m1} + w_2 \\cdot x_{m2} + \\cdots + w_n \\cdot x_{mn}\n",
    " \\end{cases}"
   ]
  },
  {
   "cell_type": "markdown",
   "id": "2873a478",
   "metadata": {
    "slideshow": {
     "slide_type": "slide"
    }
   },
   "source": [
    "$y(w, X) = \\begin{pmatrix}\n",
    "  w_{11} \\cdots w_{1n}\\\\\n",
    "  \\cdots\\\\\n",
    "  w_{m1} \\cdots w_{mn}\n",
    "\\end{pmatrix} \\begin{pmatrix} x_1 \\\\ \\vdots \\\\ x_n \\end{pmatrix} = \\begin{pmatrix} y_1 \\\\ \\vdots \\\\ y_n \\end{pmatrix}$"
   ]
  },
  {
   "cell_type": "markdown",
   "id": "8aaf0af7",
   "metadata": {
    "slideshow": {
     "slide_type": "slide"
    }
   },
   "source": [
    "![Нелинейная задача!](2023.09.16/6.png \"Нелинейная задача\")"
   ]
  },
  {
   "cell_type": "code",
   "execution_count": null,
   "id": "2fadf1f1",
   "metadata": {},
   "outputs": [],
   "source": []
  }
 ],
 "metadata": {
  "celltoolbar": "Slideshow",
  "kernelspec": {
   "display_name": "Python 3",
   "language": "python",
   "name": "python3"
  },
  "language_info": {
   "codemirror_mode": {
    "name": "ipython",
    "version": 3
   },
   "file_extension": ".py",
   "mimetype": "text/x-python",
   "name": "python",
   "nbconvert_exporter": "python",
   "pygments_lexer": "ipython3",
   "version": "3.10.12"
  }
 },
 "nbformat": 4,
 "nbformat_minor": 5
}
